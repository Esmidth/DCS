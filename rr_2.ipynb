{
 "metadata": {
  "language_info": {
   "codemirror_mode": {
    "name": "ipython",
    "version": 3
   },
   "file_extension": ".py",
   "mimetype": "text/x-python",
   "name": "python",
   "nbconvert_exporter": "python",
   "pygments_lexer": "ipython3",
   "version": "3.7.9"
  },
  "orig_nbformat": 2,
  "kernelspec": {
   "name": "python379jvsc74a57bd0906b79bf097d1f1d9673c7efb6a8c75b3b37c36b1c482a31cb0779974e6343ce",
   "display_name": "Python 3.7.9 64-bit ('ccs_ta': conda)"
  },
  "metadata": {
   "interpreter": {
    "hash": "906b79bf097d1f1d9673c7efb6a8c75b3b37c36b1c482a31cb0779974e6343ce"
   }
  }
 },
 "nbformat": 4,
 "nbformat_minor": 2,
 "cells": [
  {
   "cell_type": "code",
   "execution_count": 16,
   "metadata": {},
   "outputs": [],
   "source": [
    "# 1\n",
    "%matplotlib inline\n",
    "import numpy as np\n",
    "import pandas as pd\n",
    "import os,sys\n",
    "import utilities as utils\n",
    "import matplotlib.pyplot as plt\n",
    "from consts import sensor_idd as idd\n",
    "from consts import sensor_unix_column as unix_column\n",
    "from consts import sensor_a_temperature as a_temperature\n",
    "from consts import sensor_s_temperature as s_temperature\n",
    "epoch_length = 30\n",
    "import pickle\n",
    "import multiprocessing as mp\n",
    "from multiprocessing import Pool\n",
    "import time"
   ]
  },
  {
   "cell_type": "code",
   "execution_count": 2,
   "metadata": {},
   "outputs": [],
   "source": [
    "df_sub = pd.read_hdf('rr_data.h5','df_sub')"
   ]
  },
  {
   "cell_type": "code",
   "execution_count": 3,
   "metadata": {},
   "outputs": [
    {
     "output_type": "stream",
     "name": "stdout",
     "text": [
      "<class 'pandas.core.frame.DataFrame'>\nInt64Index: 21797635 entries, 0 to 347116\nData columns (total 12 columns):\n #   Column                    Dtype  \n---  ------                    -----  \n 0   Station ID                int64  \n 1   Year                      float64\n 2   Month                     float64\n 3   Day                       float64\n 4   Hour                      float64\n 5   Minute                    float64\n 6   Second                    float64\n 7   Time since the epoch [s]  float64\n 8   Sequence Number           float64\n 9   Ambient Temperature       float64\n 10  Surface Temperature       float64\n 11  Relative Humidity [%]     float64\ndtypes: float64(11), int64(1)\nmemory usage: 2.1 GB\n"
     ]
    }
   ],
   "source": [
    "df_sub.info(\"Deep\")"
   ]
  },
  {
   "cell_type": "code",
   "execution_count": 11,
   "metadata": {},
   "outputs": [],
   "source": [
    "with open('rr_id_array.pkl','rb') as f:\n",
    "    id_array = pickle.load(f)\n",
    "\n",
    "with open('rr_pairs.pkl','rb') as f:\n",
    "    pairs = pickle.load(f)\n",
    "\n",
    "with open('rr_id_records_dict.pkl','rb') as f:\n",
    "    id_records_dict = pickle.load(f)"
   ]
  },
  {
   "cell_type": "code",
   "execution_count": 8,
   "metadata": {},
   "outputs": [
    {
     "output_type": "execute_result",
     "data": {
      "text/plain": [
       "array([  7,   8,  11,  14,  17,  19,  23,  26,  27,  31,  33,  34,  35,\n",
       "        40,  46,  47,  49,  51,  55,  57,  59,  60,  61,  62,  63,  65,\n",
       "        69,  70,  71,  72,  73,  75,  76,  79,  80,  81,  82,  84,  87,\n",
       "        88,  89,  93,  96,  97,  98, 100, 103, 104, 109, 111, 121])"
      ]
     },
     "metadata": {},
     "execution_count": 8
    }
   ],
   "source": [
    "id_array"
   ]
  },
  {
   "cell_type": "code",
   "execution_count": 10,
   "metadata": {},
   "outputs": [
    {
     "output_type": "execute_result",
     "data": {
      "text/plain": [
       "[[10, array([63])],\n",
       " [14, array([ 3, 23, 42])],\n",
       " [15, array([ 5, 17])],\n",
       " [20, array([47])],\n",
       " [21, array([7])],\n",
       " [22, array([27])],\n",
       " [24, array([21, 26, 41])],\n",
       " [25, array([14, 30, 39, 56])],\n",
       " [26, array([  9,  15,  18,  24,  37,  44, 105, 121])],\n",
       " [27, array([12, 45, 46])],\n",
       " [28, array([ 8, 25, 36])],\n",
       " [32, array([111])],\n",
       " [33, array([64, 75, 99])],\n",
       " [34, array([57])],\n",
       " [35, array([59])],\n",
       " [36, array([13, 40])],\n",
       " [37, array([ 34,  43, 106])],\n",
       " [41, array([61])],\n",
       " [42, array([71])],\n",
       " [43, array([65])],\n",
       " [45, array([82])],\n",
       " [46, array([62])],\n",
       " [48, array([76])],\n",
       " [51, array([51])],\n",
       " [52, array([11])],\n",
       " [53, array([ 70, 122])],\n",
       " [54, array([49, 68])],\n",
       " [57, array([60])],\n",
       " [60, array([84])],\n",
       " [61, array([81])],\n",
       " [62, array([55])],\n",
       " [63, array([66, 72])],\n",
       " [64, array([54, 73])],\n",
       " [66, array([ 32,  35,  50,  94, 107])],\n",
       " [67, array([31])],\n",
       " [68, array([69])],\n",
       " [69, array([79, 95])],\n",
       " [70, array([103])],\n",
       " [71, array([80])],\n",
       " [72, array([96])],\n",
       " [75, array([92, 97])],\n",
       " [76, array([100])],\n",
       " [77, array([33, 53])],\n",
       " [78, array([10, 19])],\n",
       " [79, array([93])],\n",
       " [80, array([109])],\n",
       " [81, array([87])],\n",
       " [84, array([104])],\n",
       " [91, array([85, 89])],\n",
       " [92, array([88])],\n",
       " [94, array([98])]]"
      ]
     },
     "metadata": {},
     "execution_count": 10
    }
   ],
   "source": [
    "pairs"
   ]
  },
  {
   "cell_type": "code",
   "execution_count": 12,
   "metadata": {},
   "outputs": [
    {
     "output_type": "execute_result",
     "data": {
      "text/plain": [
       "{3: 463366,\n",
       " 5: 473401,\n",
       " 7: 131753,\n",
       " 8: 508506,\n",
       " 9: 419401,\n",
       " 10: 365048,\n",
       " 11: 474258,\n",
       " 12: 495806,\n",
       " 13: 446626,\n",
       " 14: 507791,\n",
       " 15: 507981,\n",
       " 17: 508058,\n",
       " 18: 510324,\n",
       " 19: 468463,\n",
       " 21: 516111,\n",
       " 23: 508496,\n",
       " 24: 515165,\n",
       " 25: 486527,\n",
       " 26: 523660,\n",
       " 27: 122838,\n",
       " 30: 459515,\n",
       " 31: 475734,\n",
       " 32: 486101,\n",
       " 33: 489204,\n",
       " 34: 515546,\n",
       " 35: 520571,\n",
       " 36: 484879,\n",
       " 37: 481248,\n",
       " 39: 498798,\n",
       " 40: 465524,\n",
       " 41: 492508,\n",
       " 42: 476141,\n",
       " 43: 474557,\n",
       " 44: 502059,\n",
       " 45: 496420,\n",
       " 46: 509826,\n",
       " 47: 132309,\n",
       " 49: 449340,\n",
       " 50: 452121,\n",
       " 51: 463746,\n",
       " 53: 481535,\n",
       " 54: 447130,\n",
       " 55: 466390,\n",
       " 56: 348901,\n",
       " 57: 409707,\n",
       " 59: 275774,\n",
       " 60: 462547,\n",
       " 61: 267775,\n",
       " 62: 325345,\n",
       " 63: 287042,\n",
       " 64: 307468,\n",
       " 65: 364818,\n",
       " 66: 448698,\n",
       " 68: 368898,\n",
       " 69: 494813,\n",
       " 70: 477651,\n",
       " 71: 255942,\n",
       " 72: 462363,\n",
       " 73: 457270,\n",
       " 75: 371510,\n",
       " 76: 427241,\n",
       " 79: 421204,\n",
       " 80: 435960,\n",
       " 81: 388750,\n",
       " 82: 194407,\n",
       " 84: 447777,\n",
       " 85: 446444,\n",
       " 87: 462860,\n",
       " 88: 384518,\n",
       " 89: 457590,\n",
       " 92: 441339,\n",
       " 93: 471416,\n",
       " 94: 258488,\n",
       " 95: 366746,\n",
       " 96: 474777,\n",
       " 97: 455939,\n",
       " 98: 347117,\n",
       " 99: 254211,\n",
       " 100: 481362,\n",
       " 103: 453399,\n",
       " 104: 455293,\n",
       " 105: 340836,\n",
       " 106: 358605,\n",
       " 107: 367659,\n",
       " 109: 240373,\n",
       " 111: 374388,\n",
       " 121: 1268694,\n",
       " 122: 378219}"
      ]
     },
     "metadata": {},
     "execution_count": 12
    }
   ],
   "source": [
    "id_records_dict"
   ]
  },
  {
   "cell_type": "code",
   "execution_count": 13,
   "metadata": {},
   "outputs": [
    {
     "output_type": "execute_result",
     "data": {
      "text/plain": [
       "        Station ID    Year  Month   Day  Hour  Minute  Second  \\\n",
       "0               63  2006.0   12.0  22.0  15.0    37.0    46.0   \n",
       "1               63  2006.0   12.0  22.0  15.0    38.0    15.0   \n",
       "2               63  2006.0   12.0  22.0  15.0    38.0    44.0   \n",
       "3               63  2006.0   12.0  22.0  15.0    39.0    13.0   \n",
       "4               63  2006.0   12.0  22.0  15.0    39.0    43.0   \n",
       "...            ...     ...    ...   ...   ...     ...     ...   \n",
       "347112          98  2007.0    5.0   9.0  23.0    50.0    57.0   \n",
       "347113          98  2007.0    5.0   9.0  23.0    51.0    26.0   \n",
       "347114          98  2007.0    5.0   9.0  23.0    52.0    25.0   \n",
       "347115          98  2007.0    5.0   9.0  23.0    55.0    50.0   \n",
       "347116          98  2007.0    5.0   9.0  23.0    57.0    17.0   \n",
       "\n",
       "        Time since the epoch [s]  Sequence Number  Ambient Temperature  \\\n",
       "0                   1.166798e+09            115.0                 1.74   \n",
       "1                   1.166798e+09            116.0                 1.74   \n",
       "2                   1.166798e+09            117.0                 1.81   \n",
       "3                   1.166798e+09            118.0                 1.78   \n",
       "4                   1.166798e+09            119.0                 1.83   \n",
       "...                          ...              ...                  ...   \n",
       "347112              1.178747e+09          15660.0                12.90   \n",
       "347113              1.178747e+09          15661.0                13.00   \n",
       "347114              1.178748e+09          15663.0                12.86   \n",
       "347115              1.178748e+09          15670.0                13.00   \n",
       "347116              1.178748e+09          15673.0                13.26   \n",
       "\n",
       "        Surface Temperature  Relative Humidity [%]  \n",
       "0                     0.163                 66.879  \n",
       "1                     0.100                 66.958  \n",
       "2                     0.163                 66.734  \n",
       "3                     0.163                 66.913  \n",
       "4                     0.287                 66.816  \n",
       "...                     ...                    ...  \n",
       "347112                9.475                 72.257  \n",
       "347113                9.350                 71.877  \n",
       "347114                9.412                 72.329  \n",
       "347115                9.475                 71.395  \n",
       "347116                9.537                 71.311  \n",
       "\n",
       "[21797635 rows x 12 columns]"
      ],
      "text/html": "<div>\n<style scoped>\n    .dataframe tbody tr th:only-of-type {\n        vertical-align: middle;\n    }\n\n    .dataframe tbody tr th {\n        vertical-align: top;\n    }\n\n    .dataframe thead th {\n        text-align: right;\n    }\n</style>\n<table border=\"1\" class=\"dataframe\">\n  <thead>\n    <tr style=\"text-align: right;\">\n      <th></th>\n      <th>Station ID</th>\n      <th>Year</th>\n      <th>Month</th>\n      <th>Day</th>\n      <th>Hour</th>\n      <th>Minute</th>\n      <th>Second</th>\n      <th>Time since the epoch [s]</th>\n      <th>Sequence Number</th>\n      <th>Ambient Temperature</th>\n      <th>Surface Temperature</th>\n      <th>Relative Humidity [%]</th>\n    </tr>\n  </thead>\n  <tbody>\n    <tr>\n      <th>0</th>\n      <td>63</td>\n      <td>2006.0</td>\n      <td>12.0</td>\n      <td>22.0</td>\n      <td>15.0</td>\n      <td>37.0</td>\n      <td>46.0</td>\n      <td>1.166798e+09</td>\n      <td>115.0</td>\n      <td>1.74</td>\n      <td>0.163</td>\n      <td>66.879</td>\n    </tr>\n    <tr>\n      <th>1</th>\n      <td>63</td>\n      <td>2006.0</td>\n      <td>12.0</td>\n      <td>22.0</td>\n      <td>15.0</td>\n      <td>38.0</td>\n      <td>15.0</td>\n      <td>1.166798e+09</td>\n      <td>116.0</td>\n      <td>1.74</td>\n      <td>0.100</td>\n      <td>66.958</td>\n    </tr>\n    <tr>\n      <th>2</th>\n      <td>63</td>\n      <td>2006.0</td>\n      <td>12.0</td>\n      <td>22.0</td>\n      <td>15.0</td>\n      <td>38.0</td>\n      <td>44.0</td>\n      <td>1.166798e+09</td>\n      <td>117.0</td>\n      <td>1.81</td>\n      <td>0.163</td>\n      <td>66.734</td>\n    </tr>\n    <tr>\n      <th>3</th>\n      <td>63</td>\n      <td>2006.0</td>\n      <td>12.0</td>\n      <td>22.0</td>\n      <td>15.0</td>\n      <td>39.0</td>\n      <td>13.0</td>\n      <td>1.166798e+09</td>\n      <td>118.0</td>\n      <td>1.78</td>\n      <td>0.163</td>\n      <td>66.913</td>\n    </tr>\n    <tr>\n      <th>4</th>\n      <td>63</td>\n      <td>2006.0</td>\n      <td>12.0</td>\n      <td>22.0</td>\n      <td>15.0</td>\n      <td>39.0</td>\n      <td>43.0</td>\n      <td>1.166798e+09</td>\n      <td>119.0</td>\n      <td>1.83</td>\n      <td>0.287</td>\n      <td>66.816</td>\n    </tr>\n    <tr>\n      <th>...</th>\n      <td>...</td>\n      <td>...</td>\n      <td>...</td>\n      <td>...</td>\n      <td>...</td>\n      <td>...</td>\n      <td>...</td>\n      <td>...</td>\n      <td>...</td>\n      <td>...</td>\n      <td>...</td>\n      <td>...</td>\n    </tr>\n    <tr>\n      <th>347112</th>\n      <td>98</td>\n      <td>2007.0</td>\n      <td>5.0</td>\n      <td>9.0</td>\n      <td>23.0</td>\n      <td>50.0</td>\n      <td>57.0</td>\n      <td>1.178747e+09</td>\n      <td>15660.0</td>\n      <td>12.90</td>\n      <td>9.475</td>\n      <td>72.257</td>\n    </tr>\n    <tr>\n      <th>347113</th>\n      <td>98</td>\n      <td>2007.0</td>\n      <td>5.0</td>\n      <td>9.0</td>\n      <td>23.0</td>\n      <td>51.0</td>\n      <td>26.0</td>\n      <td>1.178747e+09</td>\n      <td>15661.0</td>\n      <td>13.00</td>\n      <td>9.350</td>\n      <td>71.877</td>\n    </tr>\n    <tr>\n      <th>347114</th>\n      <td>98</td>\n      <td>2007.0</td>\n      <td>5.0</td>\n      <td>9.0</td>\n      <td>23.0</td>\n      <td>52.0</td>\n      <td>25.0</td>\n      <td>1.178748e+09</td>\n      <td>15663.0</td>\n      <td>12.86</td>\n      <td>9.412</td>\n      <td>72.329</td>\n    </tr>\n    <tr>\n      <th>347115</th>\n      <td>98</td>\n      <td>2007.0</td>\n      <td>5.0</td>\n      <td>9.0</td>\n      <td>23.0</td>\n      <td>55.0</td>\n      <td>50.0</td>\n      <td>1.178748e+09</td>\n      <td>15670.0</td>\n      <td>13.00</td>\n      <td>9.475</td>\n      <td>71.395</td>\n    </tr>\n    <tr>\n      <th>347116</th>\n      <td>98</td>\n      <td>2007.0</td>\n      <td>5.0</td>\n      <td>9.0</td>\n      <td>23.0</td>\n      <td>57.0</td>\n      <td>17.0</td>\n      <td>1.178748e+09</td>\n      <td>15673.0</td>\n      <td>13.26</td>\n      <td>9.537</td>\n      <td>71.311</td>\n    </tr>\n  </tbody>\n</table>\n<p>21797635 rows × 12 columns</p>\n</div>"
     },
     "metadata": {},
     "execution_count": 13
    }
   ],
   "source": [
    "df_sub"
   ]
  },
  {
   "cell_type": "code",
   "execution_count": 21,
   "metadata": {},
   "outputs": [
    {
     "output_type": "execute_result",
     "data": {
      "text/plain": [
       "1162393768.0"
      ]
     },
     "metadata": {},
     "execution_count": 21
    }
   ],
   "source": [
    "np.min(df_sub[unix_column])"
   ]
  },
  {
   "cell_type": "code",
   "execution_count": 29,
   "metadata": {},
   "outputs": [],
   "source": [
    "unix_start = 1162393768\n",
    "unix_end = 1178747998"
   ]
  },
  {
   "cell_type": "code",
   "execution_count": 30,
   "metadata": {},
   "outputs": [
    {
     "output_type": "execute_result",
     "data": {
      "text/plain": [
       "545141.0"
      ]
     },
     "metadata": {},
     "execution_count": 30
    }
   ],
   "source": [
    "(unix_end - unix_start)/epoch_length"
   ]
  },
  {
   "cell_type": "code",
   "execution_count": 47,
   "metadata": {},
   "outputs": [
    {
     "output_type": "stream",
     "name": "stdout",
     "text": [
      "545141\n"
     ]
    }
   ],
   "source": [
    "ts = np.arange(unix_start,unix_end,epoch_length)\n",
    "print(len(ts))"
   ]
  },
  {
   "cell_type": "code",
   "execution_count": 49,
   "metadata": {},
   "outputs": [],
   "source": [
    "ts_records_array = np.zeros_like(ts)\n",
    "for i,t in enumerate(ts):\n",
    "    print('Done:\\t{}'.format(i))\n",
    "    tmp_df = df_sub[(df_sub[unix_column] >= t) & (df_sub[unix_column] < (t+epoch_length))]\n",
    "    ts_records_array[i] = len(tmp_df)\n",
    "    "
   ]
  },
  {
   "cell_type": "code",
   "execution_count": 51,
   "metadata": {},
   "outputs": [
    {
     "output_type": "execute_result",
     "data": {
      "text/plain": [
       "[<matplotlib.lines.Line2D at 0x7f90230b7090>]"
      ]
     },
     "metadata": {},
     "execution_count": 51
    },
    {
     "output_type": "display_data",
     "data": {
      "text/plain": "<Figure size 432x288 with 1 Axes>",
      "image/svg+xml": "<?xml version=\"1.0\" encoding=\"utf-8\" standalone=\"no\"?>\n<!DOCTYPE svg PUBLIC \"-//W3C//DTD SVG 1.1//EN\"\n  \"http://www.w3.org/Graphics/SVG/1.1/DTD/svg11.dtd\">\n<svg height=\"248.518125pt\" version=\"1.1\" viewBox=\"0 0 368.925 248.518125\" width=\"368.925pt\" xmlns=\"http://www.w3.org/2000/svg\" xmlns:xlink=\"http://www.w3.org/1999/xlink\">\n <metadata>\n  <rdf:RDF xmlns:cc=\"http://creativecommons.org/ns#\" xmlns:dc=\"http://purl.org/dc/elements/1.1/\" xmlns:rdf=\"http://www.w3.org/1999/02/22-rdf-syntax-ns#\">\n   <cc:Work>\n    <dc:type rdf:resource=\"http://purl.org/dc/dcmitype/StillImage\"/>\n    <dc:date>2021-05-30T23:44:40.204878</dc:date>\n    <dc:format>image/svg+xml</dc:format>\n    <dc:creator>\n     <cc:Agent>\n      <dc:title>Matplotlib v3.4.2, https://matplotlib.org/</dc:title>\n     </cc:Agent>\n    </dc:creator>\n   </cc:Work>\n  </rdf:RDF>\n </metadata>\n <defs>\n  <style type=\"text/css\">*{stroke-linecap:butt;stroke-linejoin:round;}</style>\n </defs>\n <g id=\"figure_1\">\n  <g id=\"patch_1\">\n   <path d=\"M -0 248.518125 \nL 368.925 248.518125 \nL 368.925 0 \nL -0 0 \nz\n\" style=\"fill:none;\"/>\n  </g>\n  <g id=\"axes_1\">\n   <g id=\"patch_2\">\n    <path d=\"M 26.925 224.64 \nL 361.725 224.64 \nL 361.725 7.2 \nL 26.925 7.2 \nz\n\" style=\"fill:#ffffff;\"/>\n   </g>\n   <g id=\"matplotlib.axis_1\">\n    <g id=\"xtick_1\">\n     <g id=\"line2d_1\">\n      <defs>\n       <path d=\"M 0 0 \nL 0 3.5 \n\" id=\"m19b76be0c6\" style=\"stroke:#000000;stroke-width:0.8;\"/>\n      </defs>\n      <g>\n       <use style=\"stroke:#000000;stroke-width:0.8;\" x=\"42.143182\" xlink:href=\"#m19b76be0c6\" y=\"224.64\"/>\n      </g>\n     </g>\n     <g id=\"text_1\">\n      <!-- 0 -->\n      <g transform=\"translate(38.961932 239.238438)scale(0.1 -0.1)\">\n       <defs>\n        <path d=\"M 2034 4250 \nQ 1547 4250 1301 3770 \nQ 1056 3291 1056 2328 \nQ 1056 1369 1301 889 \nQ 1547 409 2034 409 \nQ 2525 409 2770 889 \nQ 3016 1369 3016 2328 \nQ 3016 3291 2770 3770 \nQ 2525 4250 2034 4250 \nz\nM 2034 4750 \nQ 2819 4750 3233 4129 \nQ 3647 3509 3647 2328 \nQ 3647 1150 3233 529 \nQ 2819 -91 2034 -91 \nQ 1250 -91 836 529 \nQ 422 1150 422 2328 \nQ 422 3509 836 4129 \nQ 1250 4750 2034 4750 \nz\n\" id=\"DejaVuSans-30\" transform=\"scale(0.015625)\"/>\n       </defs>\n       <use xlink:href=\"#DejaVuSans-30\"/>\n      </g>\n     </g>\n    </g>\n    <g id=\"xtick_2\">\n     <g id=\"line2d_2\">\n      <g>\n       <use style=\"stroke:#000000;stroke-width:0.8;\" x=\"97.975378\" xlink:href=\"#m19b76be0c6\" y=\"224.64\"/>\n      </g>\n     </g>\n     <g id=\"text_2\">\n      <!-- 100000 -->\n      <g transform=\"translate(78.887878 239.238438)scale(0.1 -0.1)\">\n       <defs>\n        <path d=\"M 794 531 \nL 1825 531 \nL 1825 4091 \nL 703 3866 \nL 703 4441 \nL 1819 4666 \nL 2450 4666 \nL 2450 531 \nL 3481 531 \nL 3481 0 \nL 794 0 \nL 794 531 \nz\n\" id=\"DejaVuSans-31\" transform=\"scale(0.015625)\"/>\n       </defs>\n       <use xlink:href=\"#DejaVuSans-31\"/>\n       <use x=\"63.623047\" xlink:href=\"#DejaVuSans-30\"/>\n       <use x=\"127.246094\" xlink:href=\"#DejaVuSans-30\"/>\n       <use x=\"190.869141\" xlink:href=\"#DejaVuSans-30\"/>\n       <use x=\"254.492188\" xlink:href=\"#DejaVuSans-30\"/>\n       <use x=\"318.115234\" xlink:href=\"#DejaVuSans-30\"/>\n      </g>\n     </g>\n    </g>\n    <g id=\"xtick_3\">\n     <g id=\"line2d_3\">\n      <g>\n       <use style=\"stroke:#000000;stroke-width:0.8;\" x=\"153.807575\" xlink:href=\"#m19b76be0c6\" y=\"224.64\"/>\n      </g>\n     </g>\n     <g id=\"text_3\">\n      <!-- 200000 -->\n      <g transform=\"translate(134.720075 239.238438)scale(0.1 -0.1)\">\n       <defs>\n        <path d=\"M 1228 531 \nL 3431 531 \nL 3431 0 \nL 469 0 \nL 469 531 \nQ 828 903 1448 1529 \nQ 2069 2156 2228 2338 \nQ 2531 2678 2651 2914 \nQ 2772 3150 2772 3378 \nQ 2772 3750 2511 3984 \nQ 2250 4219 1831 4219 \nQ 1534 4219 1204 4116 \nQ 875 4013 500 3803 \nL 500 4441 \nQ 881 4594 1212 4672 \nQ 1544 4750 1819 4750 \nQ 2544 4750 2975 4387 \nQ 3406 4025 3406 3419 \nQ 3406 3131 3298 2873 \nQ 3191 2616 2906 2266 \nQ 2828 2175 2409 1742 \nQ 1991 1309 1228 531 \nz\n\" id=\"DejaVuSans-32\" transform=\"scale(0.015625)\"/>\n       </defs>\n       <use xlink:href=\"#DejaVuSans-32\"/>\n       <use x=\"63.623047\" xlink:href=\"#DejaVuSans-30\"/>\n       <use x=\"127.246094\" xlink:href=\"#DejaVuSans-30\"/>\n       <use x=\"190.869141\" xlink:href=\"#DejaVuSans-30\"/>\n       <use x=\"254.492188\" xlink:href=\"#DejaVuSans-30\"/>\n       <use x=\"318.115234\" xlink:href=\"#DejaVuSans-30\"/>\n      </g>\n     </g>\n    </g>\n    <g id=\"xtick_4\">\n     <g id=\"line2d_4\">\n      <g>\n       <use style=\"stroke:#000000;stroke-width:0.8;\" x=\"209.639772\" xlink:href=\"#m19b76be0c6\" y=\"224.64\"/>\n      </g>\n     </g>\n     <g id=\"text_4\">\n      <!-- 300000 -->\n      <g transform=\"translate(190.552272 239.238438)scale(0.1 -0.1)\">\n       <defs>\n        <path d=\"M 2597 2516 \nQ 3050 2419 3304 2112 \nQ 3559 1806 3559 1356 \nQ 3559 666 3084 287 \nQ 2609 -91 1734 -91 \nQ 1441 -91 1130 -33 \nQ 819 25 488 141 \nL 488 750 \nQ 750 597 1062 519 \nQ 1375 441 1716 441 \nQ 2309 441 2620 675 \nQ 2931 909 2931 1356 \nQ 2931 1769 2642 2001 \nQ 2353 2234 1838 2234 \nL 1294 2234 \nL 1294 2753 \nL 1863 2753 \nQ 2328 2753 2575 2939 \nQ 2822 3125 2822 3475 \nQ 2822 3834 2567 4026 \nQ 2313 4219 1838 4219 \nQ 1578 4219 1281 4162 \nQ 984 4106 628 3988 \nL 628 4550 \nQ 988 4650 1302 4700 \nQ 1616 4750 1894 4750 \nQ 2613 4750 3031 4423 \nQ 3450 4097 3450 3541 \nQ 3450 3153 3228 2886 \nQ 3006 2619 2597 2516 \nz\n\" id=\"DejaVuSans-33\" transform=\"scale(0.015625)\"/>\n       </defs>\n       <use xlink:href=\"#DejaVuSans-33\"/>\n       <use x=\"63.623047\" xlink:href=\"#DejaVuSans-30\"/>\n       <use x=\"127.246094\" xlink:href=\"#DejaVuSans-30\"/>\n       <use x=\"190.869141\" xlink:href=\"#DejaVuSans-30\"/>\n       <use x=\"254.492188\" xlink:href=\"#DejaVuSans-30\"/>\n       <use x=\"318.115234\" xlink:href=\"#DejaVuSans-30\"/>\n      </g>\n     </g>\n    </g>\n    <g id=\"xtick_5\">\n     <g id=\"line2d_5\">\n      <g>\n       <use style=\"stroke:#000000;stroke-width:0.8;\" x=\"265.471968\" xlink:href=\"#m19b76be0c6\" y=\"224.64\"/>\n      </g>\n     </g>\n     <g id=\"text_5\">\n      <!-- 400000 -->\n      <g transform=\"translate(246.384468 239.238438)scale(0.1 -0.1)\">\n       <defs>\n        <path d=\"M 2419 4116 \nL 825 1625 \nL 2419 1625 \nL 2419 4116 \nz\nM 2253 4666 \nL 3047 4666 \nL 3047 1625 \nL 3713 1625 \nL 3713 1100 \nL 3047 1100 \nL 3047 0 \nL 2419 0 \nL 2419 1100 \nL 313 1100 \nL 313 1709 \nL 2253 4666 \nz\n\" id=\"DejaVuSans-34\" transform=\"scale(0.015625)\"/>\n       </defs>\n       <use xlink:href=\"#DejaVuSans-34\"/>\n       <use x=\"63.623047\" xlink:href=\"#DejaVuSans-30\"/>\n       <use x=\"127.246094\" xlink:href=\"#DejaVuSans-30\"/>\n       <use x=\"190.869141\" xlink:href=\"#DejaVuSans-30\"/>\n       <use x=\"254.492188\" xlink:href=\"#DejaVuSans-30\"/>\n       <use x=\"318.115234\" xlink:href=\"#DejaVuSans-30\"/>\n      </g>\n     </g>\n    </g>\n    <g id=\"xtick_6\">\n     <g id=\"line2d_6\">\n      <g>\n       <use style=\"stroke:#000000;stroke-width:0.8;\" x=\"321.304165\" xlink:href=\"#m19b76be0c6\" y=\"224.64\"/>\n      </g>\n     </g>\n     <g id=\"text_6\">\n      <!-- 500000 -->\n      <g transform=\"translate(302.216665 239.238438)scale(0.1 -0.1)\">\n       <defs>\n        <path d=\"M 691 4666 \nL 3169 4666 \nL 3169 4134 \nL 1269 4134 \nL 1269 2991 \nQ 1406 3038 1543 3061 \nQ 1681 3084 1819 3084 \nQ 2600 3084 3056 2656 \nQ 3513 2228 3513 1497 \nQ 3513 744 3044 326 \nQ 2575 -91 1722 -91 \nQ 1428 -91 1123 -41 \nQ 819 9 494 109 \nL 494 744 \nQ 775 591 1075 516 \nQ 1375 441 1709 441 \nQ 2250 441 2565 725 \nQ 2881 1009 2881 1497 \nQ 2881 1984 2565 2268 \nQ 2250 2553 1709 2553 \nQ 1456 2553 1204 2497 \nQ 953 2441 691 2322 \nL 691 4666 \nz\n\" id=\"DejaVuSans-35\" transform=\"scale(0.015625)\"/>\n       </defs>\n       <use xlink:href=\"#DejaVuSans-35\"/>\n       <use x=\"63.623047\" xlink:href=\"#DejaVuSans-30\"/>\n       <use x=\"127.246094\" xlink:href=\"#DejaVuSans-30\"/>\n       <use x=\"190.869141\" xlink:href=\"#DejaVuSans-30\"/>\n       <use x=\"254.492188\" xlink:href=\"#DejaVuSans-30\"/>\n       <use x=\"318.115234\" xlink:href=\"#DejaVuSans-30\"/>\n      </g>\n     </g>\n    </g>\n   </g>\n   <g id=\"matplotlib.axis_2\">\n    <g id=\"ytick_1\">\n     <g id=\"line2d_7\">\n      <defs>\n       <path d=\"M 0 0 \nL -3.5 0 \n\" id=\"m6578c306e3\" style=\"stroke:#000000;stroke-width:0.8;\"/>\n      </defs>\n      <g>\n       <use style=\"stroke:#000000;stroke-width:0.8;\" x=\"26.925\" xlink:href=\"#m6578c306e3\" y=\"214.756364\"/>\n      </g>\n     </g>\n     <g id=\"text_7\">\n      <!-- 0 -->\n      <g transform=\"translate(13.5625 218.555582)scale(0.1 -0.1)\">\n       <use xlink:href=\"#DejaVuSans-30\"/>\n      </g>\n     </g>\n    </g>\n    <g id=\"ytick_2\">\n     <g id=\"line2d_8\">\n      <g>\n       <use style=\"stroke:#000000;stroke-width:0.8;\" x=\"26.925\" xlink:href=\"#m6578c306e3\" y=\"175.221818\"/>\n      </g>\n     </g>\n     <g id=\"text_8\">\n      <!-- 2 -->\n      <g transform=\"translate(13.5625 179.021037)scale(0.1 -0.1)\">\n       <use xlink:href=\"#DejaVuSans-32\"/>\n      </g>\n     </g>\n    </g>\n    <g id=\"ytick_3\">\n     <g id=\"line2d_9\">\n      <g>\n       <use style=\"stroke:#000000;stroke-width:0.8;\" x=\"26.925\" xlink:href=\"#m6578c306e3\" y=\"135.687273\"/>\n      </g>\n     </g>\n     <g id=\"text_9\">\n      <!-- 4 -->\n      <g transform=\"translate(13.5625 139.486491)scale(0.1 -0.1)\">\n       <use xlink:href=\"#DejaVuSans-34\"/>\n      </g>\n     </g>\n    </g>\n    <g id=\"ytick_4\">\n     <g id=\"line2d_10\">\n      <g>\n       <use style=\"stroke:#000000;stroke-width:0.8;\" x=\"26.925\" xlink:href=\"#m6578c306e3\" y=\"96.152727\"/>\n      </g>\n     </g>\n     <g id=\"text_10\">\n      <!-- 6 -->\n      <g transform=\"translate(13.5625 99.951946)scale(0.1 -0.1)\">\n       <defs>\n        <path d=\"M 2113 2584 \nQ 1688 2584 1439 2293 \nQ 1191 2003 1191 1497 \nQ 1191 994 1439 701 \nQ 1688 409 2113 409 \nQ 2538 409 2786 701 \nQ 3034 994 3034 1497 \nQ 3034 2003 2786 2293 \nQ 2538 2584 2113 2584 \nz\nM 3366 4563 \nL 3366 3988 \nQ 3128 4100 2886 4159 \nQ 2644 4219 2406 4219 \nQ 1781 4219 1451 3797 \nQ 1122 3375 1075 2522 \nQ 1259 2794 1537 2939 \nQ 1816 3084 2150 3084 \nQ 2853 3084 3261 2657 \nQ 3669 2231 3669 1497 \nQ 3669 778 3244 343 \nQ 2819 -91 2113 -91 \nQ 1303 -91 875 529 \nQ 447 1150 447 2328 \nQ 447 3434 972 4092 \nQ 1497 4750 2381 4750 \nQ 2619 4750 2861 4703 \nQ 3103 4656 3366 4563 \nz\n\" id=\"DejaVuSans-36\" transform=\"scale(0.015625)\"/>\n       </defs>\n       <use xlink:href=\"#DejaVuSans-36\"/>\n      </g>\n     </g>\n    </g>\n    <g id=\"ytick_5\">\n     <g id=\"line2d_11\">\n      <g>\n       <use style=\"stroke:#000000;stroke-width:0.8;\" x=\"26.925\" xlink:href=\"#m6578c306e3\" y=\"56.618182\"/>\n      </g>\n     </g>\n     <g id=\"text_11\">\n      <!-- 8 -->\n      <g transform=\"translate(13.5625 60.417401)scale(0.1 -0.1)\">\n       <defs>\n        <path d=\"M 2034 2216 \nQ 1584 2216 1326 1975 \nQ 1069 1734 1069 1313 \nQ 1069 891 1326 650 \nQ 1584 409 2034 409 \nQ 2484 409 2743 651 \nQ 3003 894 3003 1313 \nQ 3003 1734 2745 1975 \nQ 2488 2216 2034 2216 \nz\nM 1403 2484 \nQ 997 2584 770 2862 \nQ 544 3141 544 3541 \nQ 544 4100 942 4425 \nQ 1341 4750 2034 4750 \nQ 2731 4750 3128 4425 \nQ 3525 4100 3525 3541 \nQ 3525 3141 3298 2862 \nQ 3072 2584 2669 2484 \nQ 3125 2378 3379 2068 \nQ 3634 1759 3634 1313 \nQ 3634 634 3220 271 \nQ 2806 -91 2034 -91 \nQ 1263 -91 848 271 \nQ 434 634 434 1313 \nQ 434 1759 690 2068 \nQ 947 2378 1403 2484 \nz\nM 1172 3481 \nQ 1172 3119 1398 2916 \nQ 1625 2713 2034 2713 \nQ 2441 2713 2670 2916 \nQ 2900 3119 2900 3481 \nQ 2900 3844 2670 4047 \nQ 2441 4250 2034 4250 \nQ 1625 4250 1398 4047 \nQ 1172 3844 1172 3481 \nz\n\" id=\"DejaVuSans-38\" transform=\"scale(0.015625)\"/>\n       </defs>\n       <use xlink:href=\"#DejaVuSans-38\"/>\n      </g>\n     </g>\n    </g>\n    <g id=\"ytick_6\">\n     <g id=\"line2d_12\">\n      <g>\n       <use style=\"stroke:#000000;stroke-width:0.8;\" x=\"26.925\" xlink:href=\"#m6578c306e3\" y=\"17.083636\"/>\n      </g>\n     </g>\n     <g id=\"text_12\">\n      <!-- 10 -->\n      <g transform=\"translate(7.2 20.882855)scale(0.1 -0.1)\">\n       <use xlink:href=\"#DejaVuSans-31\"/>\n       <use x=\"63.623047\" xlink:href=\"#DejaVuSans-30\"/>\n      </g>\n     </g>\n    </g>\n   </g>\n   <g id=\"line2d_13\">\n    <path clip-path=\"url(#p3826982050)\" d=\"M 42.143182 36.850909 \nL 42.144298 17.083636 \nL 42.259313 214.756364 \nL 346.506818 214.756364 \nL 346.506818 214.756364 \n\" style=\"fill:none;stroke:#1f77b4;stroke-linecap:square;stroke-width:1.5;\"/>\n   </g>\n   <g id=\"patch_3\">\n    <path d=\"M 26.925 224.64 \nL 26.925 7.2 \n\" style=\"fill:none;stroke:#000000;stroke-linecap:square;stroke-linejoin:miter;stroke-width:0.8;\"/>\n   </g>\n   <g id=\"patch_4\">\n    <path d=\"M 361.725 224.64 \nL 361.725 7.2 \n\" style=\"fill:none;stroke:#000000;stroke-linecap:square;stroke-linejoin:miter;stroke-width:0.8;\"/>\n   </g>\n   <g id=\"patch_5\">\n    <path d=\"M 26.925 224.64 \nL 361.725 224.64 \n\" style=\"fill:none;stroke:#000000;stroke-linecap:square;stroke-linejoin:miter;stroke-width:0.8;\"/>\n   </g>\n   <g id=\"patch_6\">\n    <path d=\"M 26.925 7.2 \nL 361.725 7.2 \n\" style=\"fill:none;stroke:#000000;stroke-linecap:square;stroke-linejoin:miter;stroke-width:0.8;\"/>\n   </g>\n  </g>\n </g>\n <defs>\n  <clipPath id=\"p3826982050\">\n   <rect height=\"217.44\" width=\"334.8\" x=\"26.925\" y=\"7.2\"/>\n  </clipPath>\n </defs>\n</svg>\n",
      "image/png": "[encoded data removed]"
     },
     "metadata": {
      "needs_background": "light"
     }
    }
   ],
   "source": [
    "plt.plot(ts_records_array)"
   ]
  },
  {
   "cell_type": "code",
   "execution_count": 18,
   "metadata": {},
   "outputs": [],
   "source": [
    "day_second = 86400\n",
    "start_list = np.arange(1162393768,1178747998+day_second,day_second)\n"
   ]
  },
  {
   "cell_type": "code",
   "execution_count": 28,
   "metadata": {},
   "outputs": [
    {
     "output_type": "stream",
     "name": "stdout",
     "text": [
      "548022\n"
     ]
    }
   ],
   "source": [
    "tmp_ts = np.arange(1162393768,1178747998+day_second+epoch_length,epoch_length)\n",
    "print(len(tmp_ts))"
   ]
  },
  {
   "cell_type": "code",
   "execution_count": 26,
   "metadata": {},
   "outputs": [
    {
     "output_type": "stream",
     "name": "stdout",
     "text": [
      "550271\n"
     ]
    }
   ],
   "source": [
    "ts_sum = []\n",
    "for start_point in start_list:\n",
    "    ts = np.arange(start_point,start_point+day_second+epoch_length,epoch_length)\n",
    "    ts_sum.extend(ts)\n",
    "print(len(ts_sum))"
   ]
  }
 ]
}