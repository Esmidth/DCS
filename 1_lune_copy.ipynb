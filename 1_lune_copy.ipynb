{
 "cells": [
  {
   "cell_type": "markdown",
   "metadata": {},
   "source": [
    "## import 库"
   ]
  },
  {
   "cell_type": "code",
   "execution_count": 1,
   "metadata": {},
   "outputs": [],
   "source": [
    "%matplotlib inline\n",
    "import numpy as np\n",
    "import pandas as pd\n",
    "import os,sys\n",
    "import utilities as utils\n",
    "import matplotlib.pyplot as plt"
   ]
  },
  {
   "cell_type": "markdown",
   "metadata": {},
   "source": [
    "## 从csv读取DataFrame"
   ]
  },
  {
   "cell_type": "code",
   "execution_count": 2,
   "metadata": {},
   "outputs": [],
   "source": [
    "ori_path = '/home/esmidth/github/DCS/Sensorscope/luce_stations/'\n",
    "sub_prefix = 'sensorscope-meteo-'\n",
    "sub_suffix = '.txt'\n",
    "file_list = os.listdir(ori_path)\n",
    "name = [\n",
    "'Station ID',\n",
    "'Year',\n",
    "'Month',\n",
    "'Day',\n",
    "'Hour',\n",
    "'Minute',\n",
    "'Second',\n",
    "'Time since the epoch [s]',\n",
    "'Sequence Number',\n",
    "'Ambient Temperature',\n",
    "'Surface Temperature',\n",
    "'Solar Radiation',\n",
    "'Relative Humidity [%]',\n",
    "'Soil Moisture [%]',\n",
    "'Watermark [kPa]',\n",
    "'Rain Meter [mm]',\n",
    "'Wind Speed [m/s]',\n",
    "'Wind Direction [°]',\n",
    "]"
   ]
  },
  {
   "cell_type": "code",
   "execution_count": 5,
   "metadata": {},
   "outputs": [
    {
     "name": "stdout",
     "output_type": "stream",
     "text": [
      "sensorscope-meteo-12.txt Done\n",
      "sensorscope-meteo-3.txt Done\n",
      "sensorscope-meteo-106.txt Done\n",
      "sensorscope-meteo-96.txt Done\n",
      "sensorscope-meteo-14.txt Done\n",
      "sensorscope-meteo-121.txt Done\n",
      "sensorscope-meteo-24.txt Done\n",
      "sensorscope-meteo-92.txt Done\n",
      "sensorscope-meteo-17.txt Done\n",
      "sensorscope-meteo-7.txt Done\n",
      "sensorscope-meteo-36.txt Done\n",
      "sensorscope-meteo-85.txt Done\n",
      "sensorscope-meteo-23.txt Done\n",
      "sensorscope-meteo-31.txt Done\n",
      "sensorscope-meteo-59.txt Done\n",
      "sensorscope-meteo-8.txt Done\n",
      "sensorscope-meteo-88.txt Done\n",
      "sensorscope-meteo-94.txt Done\n",
      "sensorscope-meteo-15.txt Done\n",
      "sensorscope-meteo-55.txt Done\n",
      "sensorscope-meteo-35.txt Done\n",
      "sensorscope-meteo-103.txt Done\n",
      "sensorscope-meteo-44.txt Done\n",
      "sensorscope-meteo-37.txt Done\n",
      "sensorscope-meteo-79.txt Done\n",
      "sensorscope-meteo-122.txt Done\n",
      "sensorscope-meteo-62.txt Done\n",
      "sensorscope-meteo-9.txt Done\n",
      "sensorscope-meteo-26.txt Done\n",
      "sensorscope-meteo-84.txt Done\n",
      "sensorscope-meteo-51.txt Done\n",
      "sensorscope-meteo-45.txt Done\n",
      "sensorscope-meteo-50.txt Done\n",
      "sensorscope-meteo-97.txt Done\n",
      "sensorscope-meteo-63.txt Done\n",
      "sensorscope-meteo-57.txt Done\n",
      "sensorscope-meteo-89.txt Done\n",
      "sensorscope-meteo-46.txt Done\n",
      "sensorscope-meteo-5.txt Done\n",
      "sensorscope-meteo-87.txt Done\n",
      "sensorscope-meteo-30.txt Done\n",
      "sensorscope-meteo-65.txt Done\n",
      "sensorscope-meteo-41.txt Done\n",
      "sensorscope-meteo-107.txt Done\n",
      "sensorscope-meteo-76.txt Done\n",
      "sensorscope-meteo-56.txt Done\n",
      "sensorscope-meteo-66.txt Done\n",
      "sensorscope-meteo-25.txt Done\n",
      "sensorscope-meteo-80.txt Done\n",
      "sensorscope-meteo-10.txt Done\n",
      "sensorscope-meteo-61.txt Done\n",
      "sensorscope-meteo-43.txt Done\n",
      "sensorscope-meteo-39.txt Done\n",
      "sensorscope-meteo-109.txt Done\n",
      "sensorscope-meteo-13.txt Done\n",
      "sensorscope-meteo-19.txt Done\n",
      "sensorscope-meteo-105.txt Done\n",
      "sensorscope-meteo-104.txt Done\n",
      "sensorscope-meteo-54.txt Done\n",
      "sensorscope-meteo-49.txt Done\n",
      "sensorscope-meteo-95.txt Done\n",
      "sensorscope-meteo-42.txt Done\n",
      "sensorscope-meteo-47.txt Done\n",
      "sensorscope-meteo-93.txt Done\n",
      "sensorscope-meteo-40.txt Done\n",
      "sensorscope-meteo-18.txt Done\n",
      "sensorscope-meteo-75.txt Done\n",
      "sensorscope-meteo-32.txt Done\n",
      "sensorscope-meteo-72.txt Done\n",
      "sensorscope-meteo-100.txt Done\n",
      "sensorscope-meteo-27.txt Done\n",
      "sensorscope-meteo-64.txt Done\n",
      "sensorscope-meteo-81.txt Done\n",
      "sensorscope-meteo-82.txt Done\n",
      "sensorscope-meteo-33.txt Done\n",
      "sensorscope-meteo-73.txt Done\n",
      "sensorscope-meteo-11.txt Done\n",
      "sensorscope-meteo-98.txt Done\n",
      "sensorscope-meteo-53.txt Done\n",
      "sensorscope-meteo-21.txt Done\n",
      "sensorscope-meteo-60.txt Done\n",
      "sensorscope-meteo-99.txt Done\n",
      "sensorscope-meteo-68.txt Done\n",
      "sensorscope-meteo-69.txt Done\n",
      "sensorscope-meteo-34.txt Done\n",
      "sensorscope-meteo-111.txt Done\n",
      "sensorscope-meteo-70.txt Done\n",
      "sensorscope-meteo-71.txt Done\n"
     ]
    }
   ],
   "source": [
    "df_sum = pd.DataFrame()\n",
    "sum = 0\n",
    "for file in file_list:\n",
    "    if '.txt'in file:\n",
    "        df = pd.read_csv(ori_path+file,sep=' ',names=name)\n",
    "        df_sum = pd.concat([df_sum,df],axis=0)\n",
    "        sum += len(df)\n",
    "        print(file,'Done')"
   ]
  },
  {
   "cell_type": "code",
   "execution_count": 6,
   "metadata": {},
   "outputs": [
    {
     "name": "stdout",
     "output_type": "stream",
     "text": [
      "(37916915, 18)\n",
      "<class 'pandas.core.frame.DataFrame'>\n",
      "Int64Index: 37916915 entries, 0 to 255941\n",
      "Data columns (total 18 columns):\n",
      " #   Column                    Dtype  \n",
      "---  ------                    -----  \n",
      " 0   Station ID                int64  \n",
      " 1   Year                      float64\n",
      " 2   Month                     float64\n",
      " 3   Day                       float64\n",
      " 4   Hour                      float64\n",
      " 5   Minute                    float64\n",
      " 6   Second                    float64\n",
      " 7   Time since the epoch [s]  float64\n",
      " 8   Sequence Number           float64\n",
      " 9   Ambient Temperature       float64\n",
      " 10  Surface Temperature       float64\n",
      " 11  Solar Radiation           float64\n",
      " 12  Relative Humidity [%]     float64\n",
      " 13  Soil Moisture [%]         float64\n",
      " 14  Watermark [kPa]           float64\n",
      " 15  Rain Meter [mm]           float64\n",
      " 16  Wind Speed [m/s]          float64\n",
      " 17  Wind Direction [°]        float64\n",
      "dtypes: float64(17), int64(1)\n",
      "memory usage: 5.4 GB\n",
      "None\n"
     ]
    }
   ],
   "source": [
    "# print(sum,len(df_sum))\n",
    "# print(df_sum['Station ID'])\n",
    "print(df_sum.shape)\n",
    "print(df_sum.info(memory_usage='deep'))"
   ]
  },
  {
   "cell_type": "code",
   "execution_count": null,
   "metadata": {},
   "outputs": [],
   "source": [
    "df_sum.to_csv('lune.csv',index=False)"
   ]
  },
  {
   "cell_type": "code",
   "execution_count": 7,
   "metadata": {},
   "outputs": [],
   "source": [
    "df_sum.to_hdf('data.h5',key='df',mode='w')"
   ]
  },
  {
   "cell_type": "markdown",
   "metadata": {},
   "source": [
    "## 绘制有效数据点"
   ]
  },
  {
   "cell_type": "code",
   "execution_count": 8,
   "metadata": {},
   "outputs": [],
   "source": [
    "lat = (46.51788,46.52227)\n",
    "log = (6.56517,6.5693)"
   ]
  },
  {
   "cell_type": "code",
   "execution_count": 9,
   "metadata": {},
   "outputs": [],
   "source": [
    "loc_file = '/home/esmidth/github/DCS/Sensorscope/EPFL_sensor_loc_simple2.xlsx'\n",
    "df = pd.read_excel(loc_file)"
   ]
  },
  {
   "cell_type": "code",
   "execution_count": 10,
   "metadata": {},
   "outputs": [
    {
     "name": "stdout",
     "output_type": "stream",
     "text": [
      "Index(['ID', 'Est', 'Nord', 'Altitude', 'Latitude', 'Longitude'], dtype='object')\n"
     ]
    }
   ],
   "source": [
    "print(df.columns)"
   ]
  },
  {
   "cell_type": "code",
   "execution_count": 11,
   "metadata": {},
   "outputs": [
    {
     "name": "stdout",
     "output_type": "stream",
     "text": [
      "[46.51788  46.518319 46.518758 46.519197 46.519636 46.520075 46.520514\n",
      " 46.520953 46.521392 46.521831 46.52227 ]\n",
      "[6.56517  6.565583 6.565996 6.566409 6.566822 6.567235 6.567648 6.568061\n",
      " 6.568474 6.568887 6.5693  ]\n"
     ]
    }
   ],
   "source": [
    "lat_range = np.linspace(lat[0],lat[1],11)\n",
    "log_range = np.linspace(log[0],log[1],11)\n",
    "print(lat_range)\n",
    "print(log_range)"
   ]
  },
  {
   "cell_type": "code",
   "execution_count": 10,
   "metadata": {},
   "outputs": [
    {
     "name": "stdout",
     "output_type": "stream",
     "text": [
      "[[0. 0. 0. 0. 0. 0. 0. 0. 0. 0.]\n",
      " [0. 0. 0. 0. 0. 0. 0. 0. 0. 0.]\n",
      " [0. 0. 0. 0. 0. 0. 0. 0. 0. 0.]\n",
      " [0. 0. 0. 0. 0. 0. 0. 0. 0. 0.]\n",
      " [0. 0. 0. 0. 0. 0. 0. 0. 0. 0.]\n",
      " [0. 0. 0. 0. 0. 0. 0. 0. 0. 0.]\n",
      " [0. 0. 0. 0. 0. 0. 0. 0. 0. 0.]\n",
      " [0. 0. 0. 0. 0. 0. 0. 0. 0. 0.]\n",
      " [0. 0. 0. 0. 0. 0. 0. 0. 0. 0.]\n",
      " [0. 0. 0. 0. 0. 0. 0. 0. 0. 0.]]\n"
     ]
    }
   ],
   "source": [
    "pic = np.zeros((10,10))\n",
    "print(pic)"
   ]
  },
  {
   "cell_type": "markdown",
   "metadata": {},
   "source": [
    "## 尝试找到重复点的ID对"
   ]
  },
  {
   "cell_type": "code",
   "execution_count": 12,
   "metadata": {},
   "outputs": [],
   "source": [
    "def draw_lune_heatmap(df,res,lat=lat,log=log):\n",
    "    lat_range = np.linspace(lat[1],lat[0],res+1)\n",
    "    log_range = np.linspace(log[0],log[1],res+1)\n",
    "    pic = np.zeros((res,res))\n",
    "    pic2 = np.zeros((res,res))\n",
    "    pairs = []\n",
    "    for i in range(res):\n",
    "        # print(i,lat_range[i],lat_range[i+1])\n",
    "        for j in range(res):\n",
    "            sub_df = df[(df['Latitude'] < lat_range[i]) & (df['Latitude'] > lat_range[i+1]) & (df['Longitude'] > log_range[j]) & (df['Longitude'] < log_range[j+1])]\n",
    "            pic[i][j] = len(sub_df)\n",
    "            if len(sub_df) > 0:\n",
    "                pic2[i][j]=1\n",
    "            # pic[i][j] = i*res+j\n",
    "            if len(sub_df) > 1:\n",
    "                pairs.append([i*res+j,sub_df['ID'].values])\n",
    "            max_value = 0\n",
    "            max_id = 0\n",
    "            for value in sub_df['ID'].values:\n",
    "                # print(value)\n",
    "                if len(sub_df[sub_df['ID'] == value]) > max_value:\n",
    "                    max_id =value\n",
    "            pic[i][j] = max_id\n",
    "    return pic,pairs,pic2\n",
    "# 输出的pic有颜色明暗，pic2为黑白两色"
   ]
  },
  {
   "cell_type": "code",
   "execution_count": 13,
   "metadata": {},
   "outputs": [
    {
     "data": {
      "text/plain": [
       "array([  3,   5,   7,   8,   9,  10,  11,  12,  13,  14,  15,  17,  18,\n",
       "        19,  21,  23,  24,  25,  26,  27,  30,  31,  32,  33,  34,  35,\n",
       "        36,  37,  39,  40,  41,  42,  43,  44,  45,  46,  47,  49,  50,\n",
       "        51,  53,  54,  55,  56,  57,  59,  60,  61,  62,  63,  64,  65,\n",
       "        66,  68,  69,  70,  71,  72,  73,  75,  76,  79,  80,  81,  82,\n",
       "        84,  85,  87,  88,  89,  92,  93,  94,  95,  96,  97,  98,  99,\n",
       "       100, 103, 104, 105, 106, 107, 109, 111, 121, 122])"
      ]
     },
     "execution_count": 13,
     "metadata": {},
     "output_type": "execute_result"
    }
   ],
   "source": [
    "df['ID'].values"
   ]
  },
  {
   "cell_type": "code",
   "execution_count": 14,
   "metadata": {},
   "outputs": [
    {
     "name": "stdout",
     "output_type": "stream",
     "text": [
      "[[14, array([ 3, 23, 42])], [15, array([ 5, 17])], [24, array([21, 26, 41])], [25, array([14, 30, 39, 56])], [26, array([  9,  15,  18,  24,  37,  44, 105, 121])], [27, array([12, 45, 46])], [28, array([ 8, 25, 36])], [33, array([64, 75, 99])], [36, array([13, 40])], [37, array([ 34,  43, 106])], [53, array([ 70, 122])], [54, array([49, 68])], [63, array([66, 72])], [64, array([54, 73])], [66, array([ 32,  35,  50,  94, 107])], [69, array([79, 95])], [75, array([92, 97])], [77, array([33, 53])], [78, array([10, 19])], [91, array([85, 89])]]\n",
      "[[  0.   0.   0.   0.   0.   0.   0.   0.   0.   0.]\n",
      " [ 63.   0.   0.   0.  42.  17.   0.   0.   0.   0.]\n",
      " [ 47.   7.  27.   0.  41.  56. 121.  46.  36.   0.]\n",
      " [  0.   0. 111.  99.  57.  59.  40. 106.   0.   0.]\n",
      " [  0.  61.  71.  65.   0.  82.  62.   0.  76.   0.]\n",
      " [  0.  51.  11. 122.  68.   0.   0.  60.   0.   0.]\n",
      " [ 84.  81.  55.  72.  73.   0. 107.  31.  69.  95.]\n",
      " [103.  80.  96.   0.   0.  97. 100.  53.  19.  93.]\n",
      " [109.  87.   0.   0. 104.   0.   0.   0.   0.   0.]\n",
      " [  0.  89.  88.   0.  98.   0.   0.   0.   0.   0.]]\n"
     ]
    },
    {
     "data": {
      "image/png": "[encoded data removed]",
      "text/plain": [
       "<Figure size 432x288 with 1 Axes>"
      ]
     },
     "metadata": {
      "needs_background": "light"
     },
     "output_type": "display_data"
    }
   ],
   "source": [
    "res = 10\n",
    "pic,pairs,pic2 = draw_lune_heatmap(df,res,lat,log)\n",
    "plt.title('res='+str(res)+' pairs:'+str(len(pairs)))\n",
    "plt.grid(b=False)\n",
    "plt.imshow(pic2)\n",
    "print(pairs)\n",
    "print(pic)"
   ]
  },
  {
   "cell_type": "markdown",
   "metadata": {},
   "source": [
    "## 重复的点处理（当前方式，采用数据最多的点），较为粗略的处理方式"
   ]
  },
  {
   "cell_type": "code",
   "execution_count": 15,
   "metadata": {},
   "outputs": [
    {
     "data": {
      "text/plain": [
       "<matplotlib.image.AxesImage at 0x7fa930881e50>"
      ]
     },
     "execution_count": 15,
     "metadata": {},
     "output_type": "execute_result"
    },
    {
     "data": {
      "image/png": "[encoded data removed]",
      "text/plain": [
       "<Figure size 432x288 with 1 Axes>"
      ]
     },
     "metadata": {
      "needs_background": "light"
     },
     "output_type": "display_data"
    },
    {
     "data": {
      "image/png": "[encoded data removed]",
      "text/plain": [
       "<Figure size 432x288 with 1 Axes>"
      ]
     },
     "metadata": {
      "needs_background": "light"
     },
     "output_type": "display_data"
    }
   ],
   "source": [
    "plt.imshow(pic)\n",
    "plt.figure()\n",
    "plt.imshow(pic2)"
   ]
  },
  {
   "cell_type": "code",
   "execution_count": 16,
   "metadata": {},
   "outputs": [
    {
     "name": "stdout",
     "output_type": "stream",
     "text": [
      "14 [ 3 23 42]\n",
      "15 [ 5 17]\n",
      "24 [21 26 41]\n",
      "25 [14 30 39 56]\n",
      "26 [  9  15  18  24  37  44 105 121]\n",
      "27 [12 45 46]\n",
      "28 [ 8 25 36]\n",
      "33 [64 75 99]\n",
      "36 [13 40]\n",
      "37 [ 34  43 106]\n",
      "53 [ 70 122]\n",
      "54 [49 68]\n",
      "63 [66 72]\n",
      "64 [54 73]\n",
      "66 [ 32  35  50  94 107]\n",
      "69 [79 95]\n",
      "75 [92 97]\n",
      "77 [33 53]\n",
      "78 [10 19]\n",
      "91 [85 89]\n"
     ]
    }
   ],
   "source": [
    "for pair in pairs:\n",
    "    print(pair[0],pair[1])"
   ]
  },
  {
   "cell_type": "code",
   "execution_count": 17,
   "metadata": {},
   "outputs": [],
   "source": [
    "sub_prefix = 'sensorscope-meteo-'\n",
    "sub_suffix = '.txt'\n",
    "def concat_dataframe(num_list):\n",
    "    # df_sum = pd.DataFrame()\n",
    "    max_length = 0\n",
    "    max_df = None\n",
    "    max_num = 0\n",
    "    for i,num in enumerate(num_list):\n",
    "        file = ori_path+sub_prefix+str(num)+sub_suffix\n",
    "        df = pd.read_csv(file,sep=' ',names=name)\n",
    "        print(file,len(df))\n",
    "        if len(df) > max_length:\n",
    "            max_length = len(df)\n",
    "            max_df = df\n",
    "            max_num = i\n",
    "    return max_df,max_num"
   ]
  },
  {
   "cell_type": "code",
   "execution_count": 30,
   "metadata": {},
   "outputs": [
    {
     "name": "stdout",
     "output_type": "stream",
     "text": [
      "/home/esmidth/github/DCS/Sensorscope/luce_stations/sensorscope-meteo-5.txt 473401\n",
      "/home/esmidth/github/DCS/Sensorscope/luce_stations/sensorscope-meteo-17.txt 508058\n"
     ]
    }
   ],
   "source": [
    "df,num = concat_dataframe(pairs[1][1])"
   ]
  },
  {
   "cell_type": "code",
   "execution_count": 19,
   "metadata": {},
   "outputs": [
    {
     "name": "stdout",
     "output_type": "stream",
     "text": [
      "[ 3 23 42]\n",
      "/home/esmidth/github/DCS/Sensorscope/luce_stations/sensorscope-meteo-3.txt 463366\n",
      "/home/esmidth/github/DCS/Sensorscope/luce_stations/sensorscope-meteo-23.txt 508496\n",
      "/home/esmidth/github/DCS/Sensorscope/luce_stations/sensorscope-meteo-42.txt 476141\n",
      "[ 5 17]\n",
      "/home/esmidth/github/DCS/Sensorscope/luce_stations/sensorscope-meteo-5.txt 473401\n",
      "/home/esmidth/github/DCS/Sensorscope/luce_stations/sensorscope-meteo-17.txt 508058\n",
      "[21 26 41]\n",
      "/home/esmidth/github/DCS/Sensorscope/luce_stations/sensorscope-meteo-21.txt 516111\n",
      "/home/esmidth/github/DCS/Sensorscope/luce_stations/sensorscope-meteo-26.txt 523660\n",
      "/home/esmidth/github/DCS/Sensorscope/luce_stations/sensorscope-meteo-41.txt 492508\n",
      "[14 30 39 56]\n",
      "/home/esmidth/github/DCS/Sensorscope/luce_stations/sensorscope-meteo-14.txt 507791\n",
      "/home/esmidth/github/DCS/Sensorscope/luce_stations/sensorscope-meteo-30.txt 459515\n",
      "/home/esmidth/github/DCS/Sensorscope/luce_stations/sensorscope-meteo-39.txt 498798\n",
      "/home/esmidth/github/DCS/Sensorscope/luce_stations/sensorscope-meteo-56.txt 348901\n",
      "[  9  15  18  24  37  44 105 121]\n",
      "/home/esmidth/github/DCS/Sensorscope/luce_stations/sensorscope-meteo-9.txt 419401\n",
      "/home/esmidth/github/DCS/Sensorscope/luce_stations/sensorscope-meteo-15.txt 507981\n",
      "/home/esmidth/github/DCS/Sensorscope/luce_stations/sensorscope-meteo-18.txt 510324\n",
      "/home/esmidth/github/DCS/Sensorscope/luce_stations/sensorscope-meteo-24.txt 515165\n",
      "/home/esmidth/github/DCS/Sensorscope/luce_stations/sensorscope-meteo-37.txt 481248\n",
      "/home/esmidth/github/DCS/Sensorscope/luce_stations/sensorscope-meteo-44.txt 502059\n",
      "/home/esmidth/github/DCS/Sensorscope/luce_stations/sensorscope-meteo-105.txt 340836\n",
      "/home/esmidth/github/DCS/Sensorscope/luce_stations/sensorscope-meteo-121.txt 1268694\n",
      "[12 45 46]\n",
      "/home/esmidth/github/DCS/Sensorscope/luce_stations/sensorscope-meteo-12.txt 495806\n",
      "/home/esmidth/github/DCS/Sensorscope/luce_stations/sensorscope-meteo-45.txt 496420\n",
      "/home/esmidth/github/DCS/Sensorscope/luce_stations/sensorscope-meteo-46.txt 509826\n",
      "[ 8 25 36]\n",
      "/home/esmidth/github/DCS/Sensorscope/luce_stations/sensorscope-meteo-8.txt 508506\n",
      "/home/esmidth/github/DCS/Sensorscope/luce_stations/sensorscope-meteo-25.txt 486527\n",
      "/home/esmidth/github/DCS/Sensorscope/luce_stations/sensorscope-meteo-36.txt 484879\n",
      "[64 75 99]\n",
      "/home/esmidth/github/DCS/Sensorscope/luce_stations/sensorscope-meteo-64.txt 307468\n",
      "/home/esmidth/github/DCS/Sensorscope/luce_stations/sensorscope-meteo-75.txt 371510\n",
      "/home/esmidth/github/DCS/Sensorscope/luce_stations/sensorscope-meteo-99.txt 254211\n",
      "[13 40]\n",
      "/home/esmidth/github/DCS/Sensorscope/luce_stations/sensorscope-meteo-13.txt 446626\n",
      "/home/esmidth/github/DCS/Sensorscope/luce_stations/sensorscope-meteo-40.txt 465524\n",
      "[ 34  43 106]\n",
      "/home/esmidth/github/DCS/Sensorscope/luce_stations/sensorscope-meteo-34.txt 515546\n",
      "/home/esmidth/github/DCS/Sensorscope/luce_stations/sensorscope-meteo-43.txt 474557\n",
      "/home/esmidth/github/DCS/Sensorscope/luce_stations/sensorscope-meteo-106.txt 358605\n",
      "[ 70 122]\n",
      "/home/esmidth/github/DCS/Sensorscope/luce_stations/sensorscope-meteo-70.txt 477651\n",
      "/home/esmidth/github/DCS/Sensorscope/luce_stations/sensorscope-meteo-122.txt 378219\n",
      "[49 68]\n",
      "/home/esmidth/github/DCS/Sensorscope/luce_stations/sensorscope-meteo-49.txt 449340\n",
      "/home/esmidth/github/DCS/Sensorscope/luce_stations/sensorscope-meteo-68.txt 368898\n",
      "[66 72]\n",
      "/home/esmidth/github/DCS/Sensorscope/luce_stations/sensorscope-meteo-66.txt 448698\n",
      "/home/esmidth/github/DCS/Sensorscope/luce_stations/sensorscope-meteo-72.txt 462363\n",
      "[54 73]\n",
      "/home/esmidth/github/DCS/Sensorscope/luce_stations/sensorscope-meteo-54.txt 447130\n",
      "/home/esmidth/github/DCS/Sensorscope/luce_stations/sensorscope-meteo-73.txt 457270\n",
      "[ 32  35  50  94 107]\n",
      "/home/esmidth/github/DCS/Sensorscope/luce_stations/sensorscope-meteo-32.txt 486101\n",
      "/home/esmidth/github/DCS/Sensorscope/luce_stations/sensorscope-meteo-35.txt 520571\n",
      "/home/esmidth/github/DCS/Sensorscope/luce_stations/sensorscope-meteo-50.txt 452121\n",
      "/home/esmidth/github/DCS/Sensorscope/luce_stations/sensorscope-meteo-94.txt 258488\n",
      "/home/esmidth/github/DCS/Sensorscope/luce_stations/sensorscope-meteo-107.txt 367659\n",
      "[79 95]\n",
      "/home/esmidth/github/DCS/Sensorscope/luce_stations/sensorscope-meteo-79.txt 421204\n",
      "/home/esmidth/github/DCS/Sensorscope/luce_stations/sensorscope-meteo-95.txt 366746\n",
      "[92 97]\n",
      "/home/esmidth/github/DCS/Sensorscope/luce_stations/sensorscope-meteo-92.txt 441339\n",
      "/home/esmidth/github/DCS/Sensorscope/luce_stations/sensorscope-meteo-97.txt 455939\n",
      "[33 53]\n",
      "/home/esmidth/github/DCS/Sensorscope/luce_stations/sensorscope-meteo-33.txt 489204\n",
      "/home/esmidth/github/DCS/Sensorscope/luce_stations/sensorscope-meteo-53.txt 481535\n",
      "[10 19]\n",
      "/home/esmidth/github/DCS/Sensorscope/luce_stations/sensorscope-meteo-10.txt 365048\n",
      "/home/esmidth/github/DCS/Sensorscope/luce_stations/sensorscope-meteo-19.txt 468463\n",
      "[85 89]\n",
      "/home/esmidth/github/DCS/Sensorscope/luce_stations/sensorscope-meteo-85.txt 446444\n",
      "/home/esmidth/github/DCS/Sensorscope/luce_stations/sensorscope-meteo-89.txt 457590\n"
     ]
    }
   ],
   "source": [
    "num_list = []\n",
    "for pair in pairs:\n",
    "    print(pair[1])\n",
    "    df,num = concat_dataframe(pair[1])\n",
    "    num_list.append(np.delete(pair[1],num))"
   ]
  },
  {
   "cell_type": "code",
   "execution_count": 21,
   "metadata": {},
   "outputs": [
    {
     "name": "stdout",
     "output_type": "stream",
     "text": [
      "[array([ 3, 42]), array([5]), array([21, 41]), array([30, 39, 56]), array([  9,  15,  18,  24,  37,  44, 105]), array([12, 45]), array([25, 36]), array([64, 99]), array([13]), array([ 43, 106]), array([122]), array([68]), array([66]), array([54]), array([ 32,  50,  94, 107]), array([95]), array([92]), array([53]), array([10]), array([85])]\n"
     ]
    }
   ],
   "source": [
    "print(num_list)"
   ]
  },
  {
   "cell_type": "code",
   "execution_count": 22,
   "metadata": {},
   "outputs": [],
   "source": [
    "num_list = np.array(num_list)\n",
    "new_list = num_list.squeeze()"
   ]
  },
  {
   "cell_type": "code",
   "execution_count": 23,
   "metadata": {},
   "outputs": [
    {
     "name": "stdout",
     "output_type": "stream",
     "text": [
      "(20,)\n",
      "(20,)\n"
     ]
    }
   ],
   "source": [
    "print(num_list.shape)\n",
    "print(new_list.shape)"
   ]
  },
  {
   "cell_type": "code",
   "execution_count": 24,
   "metadata": {},
   "outputs": [
    {
     "data": {
      "text/plain": [
       "array([array([ 3, 42]), array([5]), array([21, 41]), array([30, 39, 56]),\n",
       "       array([  9,  15,  18,  24,  37,  44, 105]), array([12, 45]),\n",
       "       array([25, 36]), array([64, 99]), array([13]), array([ 43, 106]),\n",
       "       array([122]), array([68]), array([66]), array([54]),\n",
       "       array([ 32,  50,  94, 107]), array([95]), array([92]), array([53]),\n",
       "       array([10]), array([85])], dtype=object)"
      ]
     },
     "execution_count": 24,
     "metadata": {},
     "output_type": "execute_result"
    }
   ],
   "source": [
    "new_list"
   ]
  },
  {
   "cell_type": "code",
   "execution_count": 25,
   "metadata": {},
   "outputs": [],
   "source": [
    "ab = []\n",
    "for a in new_list:\n",
    "    for b in a:\n",
    "        ab.append(b)"
   ]
  },
  {
   "cell_type": "code",
   "execution_count": 26,
   "metadata": {},
   "outputs": [
    {
     "name": "stdout",
     "output_type": "stream",
     "text": [
      "[3, 5, 9, 10, 12, 13, 15, 18, 21, 24, 25, 30, 32, 36, 37, 39, 41, 42, 43, 44, 45, 50, 53, 54, 56, 64, 66, 68, 85, 92, 94, 95, 99, 105, 106, 107, 122] 37\n"
     ]
    }
   ],
   "source": [
    "print(sorted(ab),len(ab))"
   ]
  },
  {
   "cell_type": "code",
   "execution_count": null,
   "metadata": {},
   "outputs": [],
   "source": [
    "print(pairs)"
   ]
  },
  {
   "cell_type": "code",
   "execution_count": 33,
   "metadata": {},
   "outputs": [
    {
     "name": "stdout",
     "output_type": "stream",
     "text": [
      "[  7   8  11  14  17  19  23  26  27  31  33  34  35  40  46  47  49  51\n",
      "  55  57  59  60  61  62  63  65  69  70  71  72  73  75  76  79  80  81\n",
      "  82  84  87  88  89  93  96  97  98 100 103 104 109 111 121] 51\n"
     ]
    }
   ],
   "source": [
    "total=df_sum['Station ID'].values\n",
    "diff = np.setdiff1d(total,ab)\n",
    "print(diff,len(diff))"
   ]
  },
  {
   "cell_type": "code",
   "execution_count": 35,
   "metadata": {},
   "outputs": [
    {
     "data": {
      "text/plain": [
       "array([  3,   5,   7,   8,   9,  10,  11,  12,  13,  14,  15,  17,  18,\n",
       "        19,  21,  23,  24,  25,  26,  27,  30,  31,  32,  33,  34,  35,\n",
       "        36,  37,  39,  40,  41,  42,  43,  44,  45,  46,  47,  49,  50,\n",
       "        51,  53,  54,  55,  56,  57,  59,  60,  61,  62,  63,  64,  65,\n",
       "        66,  68,  69,  70,  71,  72,  73,  75,  76,  79,  80,  81,  82,\n",
       "        84,  85,  87,  88,  89,  92,  93,  94,  95,  96,  97,  98,  99,\n",
       "       100, 103, 104, 105, 106, 107, 109, 111, 121, 122])"
      ]
     },
     "execution_count": 35,
     "metadata": {},
     "output_type": "execute_result"
    }
   ],
   "source": [
    "np.unique(total)"
   ]
  },
  {
   "cell_type": "code",
   "execution_count": 37,
   "metadata": {},
   "outputs": [
    {
     "data": {
      "text/plain": [
       "88"
      ]
     },
     "execution_count": 37,
     "metadata": {},
     "output_type": "execute_result"
    }
   ],
   "source": [
    "len(np.unique(total))"
   ]
  },
  {
   "cell_type": "code",
   "execution_count": 38,
   "metadata": {},
   "outputs": [
    {
     "data": {
      "text/html": [
       "<div>\n",
       "<style scoped>\n",
       "    .dataframe tbody tr th:only-of-type {\n",
       "        vertical-align: middle;\n",
       "    }\n",
       "\n",
       "    .dataframe tbody tr th {\n",
       "        vertical-align: top;\n",
       "    }\n",
       "\n",
       "    .dataframe thead th {\n",
       "        text-align: right;\n",
       "    }\n",
       "</style>\n",
       "<table border=\"1\" class=\"dataframe\">\n",
       "  <thead>\n",
       "    <tr style=\"text-align: right;\">\n",
       "      <th></th>\n",
       "      <th>Station ID</th>\n",
       "      <th>Year</th>\n",
       "      <th>Month</th>\n",
       "      <th>Day</th>\n",
       "      <th>Hour</th>\n",
       "      <th>Minute</th>\n",
       "      <th>Second</th>\n",
       "      <th>Time since the epoch [s]</th>\n",
       "      <th>Sequence Number</th>\n",
       "      <th>Ambient Temperature</th>\n",
       "      <th>Surface Temperature</th>\n",
       "      <th>Solar Radiation</th>\n",
       "      <th>Relative Humidity [%]</th>\n",
       "      <th>Soil Moisture [%]</th>\n",
       "      <th>Watermark [kPa]</th>\n",
       "      <th>Rain Meter [mm]</th>\n",
       "      <th>Wind Speed [m/s]</th>\n",
       "      <th>Wind Direction [°]</th>\n",
       "    </tr>\n",
       "  </thead>\n",
       "  <tbody>\n",
       "    <tr>\n",
       "      <th>0</th>\n",
       "      <td>12</td>\n",
       "      <td>2006.0</td>\n",
       "      <td>11.0</td>\n",
       "      <td>1.0</td>\n",
       "      <td>16.0</td>\n",
       "      <td>9.0</td>\n",
       "      <td>47.0</td>\n",
       "      <td>1.162394e+09</td>\n",
       "      <td>44958.0</td>\n",
       "      <td>10.26</td>\n",
       "      <td>10.037</td>\n",
       "      <td>NaN</td>\n",
       "      <td>48.657</td>\n",
       "      <td>NaN</td>\n",
       "      <td>NaN</td>\n",
       "      <td>NaN</td>\n",
       "      <td>NaN</td>\n",
       "      <td>NaN</td>\n",
       "    </tr>\n",
       "    <tr>\n",
       "      <th>1</th>\n",
       "      <td>12</td>\n",
       "      <td>2006.0</td>\n",
       "      <td>11.0</td>\n",
       "      <td>1.0</td>\n",
       "      <td>16.0</td>\n",
       "      <td>10.0</td>\n",
       "      <td>16.0</td>\n",
       "      <td>1.162394e+09</td>\n",
       "      <td>44959.0</td>\n",
       "      <td>10.27</td>\n",
       "      <td>9.975</td>\n",
       "      <td>NaN</td>\n",
       "      <td>48.721</td>\n",
       "      <td>NaN</td>\n",
       "      <td>NaN</td>\n",
       "      <td>NaN</td>\n",
       "      <td>NaN</td>\n",
       "      <td>NaN</td>\n",
       "    </tr>\n",
       "    <tr>\n",
       "      <th>2</th>\n",
       "      <td>12</td>\n",
       "      <td>2006.0</td>\n",
       "      <td>11.0</td>\n",
       "      <td>1.0</td>\n",
       "      <td>16.0</td>\n",
       "      <td>10.0</td>\n",
       "      <td>45.0</td>\n",
       "      <td>1.162394e+09</td>\n",
       "      <td>44960.0</td>\n",
       "      <td>10.25</td>\n",
       "      <td>9.975</td>\n",
       "      <td>NaN</td>\n",
       "      <td>48.502</td>\n",
       "      <td>NaN</td>\n",
       "      <td>NaN</td>\n",
       "      <td>NaN</td>\n",
       "      <td>NaN</td>\n",
       "      <td>NaN</td>\n",
       "    </tr>\n",
       "    <tr>\n",
       "      <th>3</th>\n",
       "      <td>12</td>\n",
       "      <td>2006.0</td>\n",
       "      <td>11.0</td>\n",
       "      <td>1.0</td>\n",
       "      <td>16.0</td>\n",
       "      <td>11.0</td>\n",
       "      <td>15.0</td>\n",
       "      <td>1.162394e+09</td>\n",
       "      <td>44961.0</td>\n",
       "      <td>10.26</td>\n",
       "      <td>9.975</td>\n",
       "      <td>NaN</td>\n",
       "      <td>48.627</td>\n",
       "      <td>NaN</td>\n",
       "      <td>NaN</td>\n",
       "      <td>NaN</td>\n",
       "      <td>NaN</td>\n",
       "      <td>NaN</td>\n",
       "    </tr>\n",
       "    <tr>\n",
       "      <th>4</th>\n",
       "      <td>12</td>\n",
       "      <td>2006.0</td>\n",
       "      <td>11.0</td>\n",
       "      <td>1.0</td>\n",
       "      <td>16.0</td>\n",
       "      <td>11.0</td>\n",
       "      <td>44.0</td>\n",
       "      <td>1.162394e+09</td>\n",
       "      <td>44962.0</td>\n",
       "      <td>10.24</td>\n",
       "      <td>9.975</td>\n",
       "      <td>NaN</td>\n",
       "      <td>48.964</td>\n",
       "      <td>NaN</td>\n",
       "      <td>NaN</td>\n",
       "      <td>NaN</td>\n",
       "      <td>NaN</td>\n",
       "      <td>NaN</td>\n",
       "    </tr>\n",
       "    <tr>\n",
       "      <th>...</th>\n",
       "      <td>...</td>\n",
       "      <td>...</td>\n",
       "      <td>...</td>\n",
       "      <td>...</td>\n",
       "      <td>...</td>\n",
       "      <td>...</td>\n",
       "      <td>...</td>\n",
       "      <td>...</td>\n",
       "      <td>...</td>\n",
       "      <td>...</td>\n",
       "      <td>...</td>\n",
       "      <td>...</td>\n",
       "      <td>...</td>\n",
       "      <td>...</td>\n",
       "      <td>...</td>\n",
       "      <td>...</td>\n",
       "      <td>...</td>\n",
       "      <td>...</td>\n",
       "    </tr>\n",
       "    <tr>\n",
       "      <th>255937</th>\n",
       "      <td>71</td>\n",
       "      <td>2007.0</td>\n",
       "      <td>5.0</td>\n",
       "      <td>9.0</td>\n",
       "      <td>23.0</td>\n",
       "      <td>57.0</td>\n",
       "      <td>52.0</td>\n",
       "      <td>1.178748e+09</td>\n",
       "      <td>15783.0</td>\n",
       "      <td>13.14</td>\n",
       "      <td>9.162</td>\n",
       "      <td>NaN</td>\n",
       "      <td>73.917</td>\n",
       "      <td>NaN</td>\n",
       "      <td>NaN</td>\n",
       "      <td>NaN</td>\n",
       "      <td>NaN</td>\n",
       "      <td>NaN</td>\n",
       "    </tr>\n",
       "    <tr>\n",
       "      <th>255938</th>\n",
       "      <td>71</td>\n",
       "      <td>2007.0</td>\n",
       "      <td>5.0</td>\n",
       "      <td>9.0</td>\n",
       "      <td>23.0</td>\n",
       "      <td>58.0</td>\n",
       "      <td>21.0</td>\n",
       "      <td>1.178748e+09</td>\n",
       "      <td>15784.0</td>\n",
       "      <td>13.10</td>\n",
       "      <td>9.412</td>\n",
       "      <td>NaN</td>\n",
       "      <td>73.698</td>\n",
       "      <td>NaN</td>\n",
       "      <td>NaN</td>\n",
       "      <td>NaN</td>\n",
       "      <td>NaN</td>\n",
       "      <td>NaN</td>\n",
       "    </tr>\n",
       "    <tr>\n",
       "      <th>255939</th>\n",
       "      <td>71</td>\n",
       "      <td>2007.0</td>\n",
       "      <td>5.0</td>\n",
       "      <td>9.0</td>\n",
       "      <td>23.0</td>\n",
       "      <td>58.0</td>\n",
       "      <td>51.0</td>\n",
       "      <td>1.178748e+09</td>\n",
       "      <td>15785.0</td>\n",
       "      <td>13.10</td>\n",
       "      <td>9.162</td>\n",
       "      <td>NaN</td>\n",
       "      <td>73.777</td>\n",
       "      <td>NaN</td>\n",
       "      <td>NaN</td>\n",
       "      <td>NaN</td>\n",
       "      <td>NaN</td>\n",
       "      <td>NaN</td>\n",
       "    </tr>\n",
       "    <tr>\n",
       "      <th>255940</th>\n",
       "      <td>71</td>\n",
       "      <td>2007.0</td>\n",
       "      <td>5.0</td>\n",
       "      <td>9.0</td>\n",
       "      <td>23.0</td>\n",
       "      <td>59.0</td>\n",
       "      <td>20.0</td>\n",
       "      <td>1.178748e+09</td>\n",
       "      <td>15786.0</td>\n",
       "      <td>13.08</td>\n",
       "      <td>9.100</td>\n",
       "      <td>NaN</td>\n",
       "      <td>73.852</td>\n",
       "      <td>NaN</td>\n",
       "      <td>NaN</td>\n",
       "      <td>NaN</td>\n",
       "      <td>NaN</td>\n",
       "      <td>NaN</td>\n",
       "    </tr>\n",
       "    <tr>\n",
       "      <th>255941</th>\n",
       "      <td>71</td>\n",
       "      <td>2007.0</td>\n",
       "      <td>5.0</td>\n",
       "      <td>9.0</td>\n",
       "      <td>23.0</td>\n",
       "      <td>59.0</td>\n",
       "      <td>49.0</td>\n",
       "      <td>1.178748e+09</td>\n",
       "      <td>15787.0</td>\n",
       "      <td>13.06</td>\n",
       "      <td>9.037</td>\n",
       "      <td>NaN</td>\n",
       "      <td>74.111</td>\n",
       "      <td>NaN</td>\n",
       "      <td>NaN</td>\n",
       "      <td>NaN</td>\n",
       "      <td>NaN</td>\n",
       "      <td>NaN</td>\n",
       "    </tr>\n",
       "  </tbody>\n",
       "</table>\n",
       "<p>37916915 rows × 18 columns</p>\n",
       "</div>"
      ],
      "text/plain": [
       "        Station ID    Year  Month  Day  Hour  Minute  Second  \\\n",
       "0               12  2006.0   11.0  1.0  16.0     9.0    47.0   \n",
       "1               12  2006.0   11.0  1.0  16.0    10.0    16.0   \n",
       "2               12  2006.0   11.0  1.0  16.0    10.0    45.0   \n",
       "3               12  2006.0   11.0  1.0  16.0    11.0    15.0   \n",
       "4               12  2006.0   11.0  1.0  16.0    11.0    44.0   \n",
       "...            ...     ...    ...  ...   ...     ...     ...   \n",
       "255937          71  2007.0    5.0  9.0  23.0    57.0    52.0   \n",
       "255938          71  2007.0    5.0  9.0  23.0    58.0    21.0   \n",
       "255939          71  2007.0    5.0  9.0  23.0    58.0    51.0   \n",
       "255940          71  2007.0    5.0  9.0  23.0    59.0    20.0   \n",
       "255941          71  2007.0    5.0  9.0  23.0    59.0    49.0   \n",
       "\n",
       "        Time since the epoch [s]  Sequence Number  Ambient Temperature  \\\n",
       "0                   1.162394e+09          44958.0                10.26   \n",
       "1                   1.162394e+09          44959.0                10.27   \n",
       "2                   1.162394e+09          44960.0                10.25   \n",
       "3                   1.162394e+09          44961.0                10.26   \n",
       "4                   1.162394e+09          44962.0                10.24   \n",
       "...                          ...              ...                  ...   \n",
       "255937              1.178748e+09          15783.0                13.14   \n",
       "255938              1.178748e+09          15784.0                13.10   \n",
       "255939              1.178748e+09          15785.0                13.10   \n",
       "255940              1.178748e+09          15786.0                13.08   \n",
       "255941              1.178748e+09          15787.0                13.06   \n",
       "\n",
       "        Surface Temperature  Solar Radiation  Relative Humidity [%]  \\\n",
       "0                    10.037              NaN                 48.657   \n",
       "1                     9.975              NaN                 48.721   \n",
       "2                     9.975              NaN                 48.502   \n",
       "3                     9.975              NaN                 48.627   \n",
       "4                     9.975              NaN                 48.964   \n",
       "...                     ...              ...                    ...   \n",
       "255937                9.162              NaN                 73.917   \n",
       "255938                9.412              NaN                 73.698   \n",
       "255939                9.162              NaN                 73.777   \n",
       "255940                9.100              NaN                 73.852   \n",
       "255941                9.037              NaN                 74.111   \n",
       "\n",
       "        Soil Moisture [%]  Watermark [kPa]  Rain Meter [mm]  Wind Speed [m/s]  \\\n",
       "0                     NaN              NaN              NaN               NaN   \n",
       "1                     NaN              NaN              NaN               NaN   \n",
       "2                     NaN              NaN              NaN               NaN   \n",
       "3                     NaN              NaN              NaN               NaN   \n",
       "4                     NaN              NaN              NaN               NaN   \n",
       "...                   ...              ...              ...               ...   \n",
       "255937                NaN              NaN              NaN               NaN   \n",
       "255938                NaN              NaN              NaN               NaN   \n",
       "255939                NaN              NaN              NaN               NaN   \n",
       "255940                NaN              NaN              NaN               NaN   \n",
       "255941                NaN              NaN              NaN               NaN   \n",
       "\n",
       "        Wind Direction [°]  \n",
       "0                      NaN  \n",
       "1                      NaN  \n",
       "2                      NaN  \n",
       "3                      NaN  \n",
       "4                      NaN  \n",
       "...                    ...  \n",
       "255937                 NaN  \n",
       "255938                 NaN  \n",
       "255939                 NaN  \n",
       "255940                 NaN  \n",
       "255941                 NaN  \n",
       "\n",
       "[37916915 rows x 18 columns]"
      ]
     },
     "execution_count": 38,
     "metadata": {},
     "output_type": "execute_result"
    }
   ],
   "source": [
    "df_sum"
   ]
  },
  {
   "cell_type": "code",
   "execution_count": 39,
   "metadata": {},
   "outputs": [
    {
     "data": {
      "text/plain": [
       "array([  7,   8,  11,  14,  17,  19,  23,  26,  27,  31,  33,  34,  35,\n",
       "        40,  46,  47,  49,  51,  55,  57,  59,  60,  61,  62,  63,  65,\n",
       "        69,  70,  71,  72,  73,  75,  76,  79,  80,  81,  82,  84,  87,\n",
       "        88,  89,  93,  96,  97,  98, 100, 103, 104, 109, 111, 121])"
      ]
     },
     "execution_count": 39,
     "metadata": {},
     "output_type": "execute_result"
    }
   ],
   "source": [
    "diff"
   ]
  },
  {
   "cell_type": "code",
   "execution_count": 40,
   "metadata": {},
   "outputs": [
    {
     "name": "stdout",
     "output_type": "stream",
     "text": [
      "/home/esmidth/github/DCS/Sensorscope/luce_stations/sensorscope-meteo-7.txt Done 131753 131753\n",
      "/home/esmidth/github/DCS/Sensorscope/luce_stations/sensorscope-meteo-8.txt Done 508506 640259\n",
      "/home/esmidth/github/DCS/Sensorscope/luce_stations/sensorscope-meteo-11.txt Done 474258 1114517\n",
      "/home/esmidth/github/DCS/Sensorscope/luce_stations/sensorscope-meteo-14.txt Done 507791 1622308\n",
      "/home/esmidth/github/DCS/Sensorscope/luce_stations/sensorscope-meteo-17.txt Done 508058 2130366\n",
      "/home/esmidth/github/DCS/Sensorscope/luce_stations/sensorscope-meteo-19.txt Done 468463 2598829\n",
      "/home/esmidth/github/DCS/Sensorscope/luce_stations/sensorscope-meteo-23.txt Done 508496 3107325\n",
      "/home/esmidth/github/DCS/Sensorscope/luce_stations/sensorscope-meteo-26.txt Done 523660 3630985\n",
      "/home/esmidth/github/DCS/Sensorscope/luce_stations/sensorscope-meteo-27.txt Done 122838 3753823\n",
      "/home/esmidth/github/DCS/Sensorscope/luce_stations/sensorscope-meteo-31.txt Done 475734 4229557\n",
      "/home/esmidth/github/DCS/Sensorscope/luce_stations/sensorscope-meteo-33.txt Done 489204 4718761\n",
      "/home/esmidth/github/DCS/Sensorscope/luce_stations/sensorscope-meteo-34.txt Done 515546 5234307\n",
      "/home/esmidth/github/DCS/Sensorscope/luce_stations/sensorscope-meteo-35.txt Done 520571 5754878\n",
      "/home/esmidth/github/DCS/Sensorscope/luce_stations/sensorscope-meteo-40.txt Done 465524 6220402\n",
      "/home/esmidth/github/DCS/Sensorscope/luce_stations/sensorscope-meteo-46.txt Done 509826 6730228\n",
      "/home/esmidth/github/DCS/Sensorscope/luce_stations/sensorscope-meteo-47.txt Done 132309 6862537\n",
      "/home/esmidth/github/DCS/Sensorscope/luce_stations/sensorscope-meteo-49.txt Done 449340 7311877\n",
      "/home/esmidth/github/DCS/Sensorscope/luce_stations/sensorscope-meteo-51.txt Done 463746 7775623\n",
      "/home/esmidth/github/DCS/Sensorscope/luce_stations/sensorscope-meteo-55.txt Done 466390 8242013\n",
      "/home/esmidth/github/DCS/Sensorscope/luce_stations/sensorscope-meteo-57.txt Done 409707 8651720\n",
      "/home/esmidth/github/DCS/Sensorscope/luce_stations/sensorscope-meteo-59.txt Done 275774 8927494\n",
      "/home/esmidth/github/DCS/Sensorscope/luce_stations/sensorscope-meteo-60.txt Done 462547 9390041\n",
      "/home/esmidth/github/DCS/Sensorscope/luce_stations/sensorscope-meteo-61.txt Done 267775 9657816\n",
      "/home/esmidth/github/DCS/Sensorscope/luce_stations/sensorscope-meteo-62.txt Done 325345 9983161\n",
      "/home/esmidth/github/DCS/Sensorscope/luce_stations/sensorscope-meteo-63.txt Done 287042 10270203\n",
      "/home/esmidth/github/DCS/Sensorscope/luce_stations/sensorscope-meteo-65.txt Done 364818 10635021\n",
      "/home/esmidth/github/DCS/Sensorscope/luce_stations/sensorscope-meteo-69.txt Done 494813 11129834\n",
      "/home/esmidth/github/DCS/Sensorscope/luce_stations/sensorscope-meteo-70.txt Done 477651 11607485\n",
      "/home/esmidth/github/DCS/Sensorscope/luce_stations/sensorscope-meteo-71.txt Done 255942 11863427\n",
      "/home/esmidth/github/DCS/Sensorscope/luce_stations/sensorscope-meteo-72.txt Done 462363 12325790\n",
      "/home/esmidth/github/DCS/Sensorscope/luce_stations/sensorscope-meteo-73.txt Done 457270 12783060\n",
      "/home/esmidth/github/DCS/Sensorscope/luce_stations/sensorscope-meteo-75.txt Done 371510 13154570\n",
      "/home/esmidth/github/DCS/Sensorscope/luce_stations/sensorscope-meteo-76.txt Done 427241 13581811\n",
      "/home/esmidth/github/DCS/Sensorscope/luce_stations/sensorscope-meteo-79.txt Done 421204 14003015\n",
      "/home/esmidth/github/DCS/Sensorscope/luce_stations/sensorscope-meteo-80.txt Done 435960 14438975\n",
      "/home/esmidth/github/DCS/Sensorscope/luce_stations/sensorscope-meteo-81.txt Done 388750 14827725\n",
      "/home/esmidth/github/DCS/Sensorscope/luce_stations/sensorscope-meteo-82.txt Done 194407 15022132\n",
      "/home/esmidth/github/DCS/Sensorscope/luce_stations/sensorscope-meteo-84.txt Done 447777 15469909\n",
      "/home/esmidth/github/DCS/Sensorscope/luce_stations/sensorscope-meteo-87.txt Done 462860 15932769\n",
      "/home/esmidth/github/DCS/Sensorscope/luce_stations/sensorscope-meteo-88.txt Done 384518 16317287\n",
      "/home/esmidth/github/DCS/Sensorscope/luce_stations/sensorscope-meteo-89.txt Done 457590 16774877\n",
      "/home/esmidth/github/DCS/Sensorscope/luce_stations/sensorscope-meteo-93.txt Done 471416 17246293\n",
      "/home/esmidth/github/DCS/Sensorscope/luce_stations/sensorscope-meteo-96.txt Done 474777 17721070\n",
      "/home/esmidth/github/DCS/Sensorscope/luce_stations/sensorscope-meteo-97.txt Done 455939 18177009\n",
      "/home/esmidth/github/DCS/Sensorscope/luce_stations/sensorscope-meteo-98.txt Done 347117 18524126\n",
      "/home/esmidth/github/DCS/Sensorscope/luce_stations/sensorscope-meteo-100.txt Done 481362 19005488\n",
      "/home/esmidth/github/DCS/Sensorscope/luce_stations/sensorscope-meteo-103.txt Done 453399 19458887\n",
      "/home/esmidth/github/DCS/Sensorscope/luce_stations/sensorscope-meteo-104.txt Done 455293 19914180\n",
      "/home/esmidth/github/DCS/Sensorscope/luce_stations/sensorscope-meteo-109.txt Done 240373 20154553\n",
      "/home/esmidth/github/DCS/Sensorscope/luce_stations/sensorscope-meteo-111.txt Done 374388 20528941\n",
      "/home/esmidth/github/DCS/Sensorscope/luce_stations/sensorscope-meteo-121.txt Done 1268694 21797635\n"
     ]
    }
   ],
   "source": [
    "dfs = pd.DataFrame()\n",
    "for dif in diff:\n",
    "    file = ori_path+sub_prefix+str(dif)+sub_suffix\n",
    "    df_tmp = pd.read_csv(file,sep=' ',names=name)\n",
    "    dfs = pd.concat([dfs,df_tmp],axis=0)\n",
    "    print(file,'Done',len(df_tmp),len(dfs))"
   ]
  },
  {
   "cell_type": "code",
   "execution_count": 41,
   "metadata": {},
   "outputs": [
    {
     "name": "stdout",
     "output_type": "stream",
     "text": [
      "<class 'pandas.core.frame.DataFrame'>\n",
      "Int64Index: 21797635 entries, 0 to 1268693\n",
      "Data columns (total 18 columns):\n",
      " #   Column                    Dtype  \n",
      "---  ------                    -----  \n",
      " 0   Station ID                int64  \n",
      " 1   Year                      int64  \n",
      " 2   Month                     int64  \n",
      " 3   Day                       int64  \n",
      " 4   Hour                      int64  \n",
      " 5   Minute                    int64  \n",
      " 6   Second                    int64  \n",
      " 7   Time since the epoch [s]  int64  \n",
      " 8   Sequence Number           int64  \n",
      " 9   Ambient Temperature       float64\n",
      " 10  Surface Temperature       float64\n",
      " 11  Solar Radiation           float64\n",
      " 12  Relative Humidity [%]     float64\n",
      " 13  Soil Moisture [%]         float64\n",
      " 14  Watermark [kPa]           float64\n",
      " 15  Rain Meter [mm]           float64\n",
      " 16  Wind Speed [m/s]          float64\n",
      " 17  Wind Direction [°]        float64\n",
      "dtypes: float64(9), int64(9)\n",
      "memory usage: 3.1 GB\n",
      "None\n"
     ]
    }
   ],
   "source": [
    "print(dfs.info(memory_usage='Deep'))"
   ]
  },
  {
   "cell_type": "code",
   "execution_count": 42,
   "metadata": {},
   "outputs": [],
   "source": [
    "dfs.to_hdf('data.h5',key='dfs',mode='w')\n",
    "# df_tst.to_hdf('data.h5',key='dff',mode='w')"
   ]
  },
  {
   "cell_type": "markdown",
   "metadata": {},
   "source": [
    "## 从hdf读取dataframe"
   ]
  },
  {
   "cell_type": "code",
   "execution_count": 40,
   "metadata": {},
   "outputs": [
    {
     "name": "stdout",
     "output_type": "stream",
     "text": [
      "<class 'pandas.core.frame.DataFrame'>\n",
      "Int64Index: 457590 entries, 0 to 457589\n",
      "Data columns (total 18 columns):\n",
      " #   Column                    Non-Null Count   Dtype  \n",
      "---  ------                    --------------   -----  \n",
      " 0   Station ID                457590 non-null  int64  \n",
      " 1   Year                      457590 non-null  int64  \n",
      " 2   Month                     457590 non-null  int64  \n",
      " 3   Day                       457590 non-null  int64  \n",
      " 4   Hour                      457590 non-null  int64  \n",
      " 5   Minute                    457590 non-null  int64  \n",
      " 6   Second                    457590 non-null  int64  \n",
      " 7   Time since the epoch [s]  457590 non-null  int64  \n",
      " 8   Sequence Number           457590 non-null  int64  \n",
      " 9   Ambient Temperature       457313 non-null  float64\n",
      " 10  Surface Temperature       421659 non-null  float64\n",
      " 11  Solar Radiation           0 non-null       float64\n",
      " 12  Relative Humidity [%]     457314 non-null  float64\n",
      " 13  Soil Moisture [%]         0 non-null       float64\n",
      " 14  Watermark [kPa]           0 non-null       float64\n",
      " 15  Rain Meter [mm]           0 non-null       float64\n",
      " 16  Wind Speed [m/s]          0 non-null       float64\n",
      " 17  Wind Direction [°]        0 non-null       float64\n",
      "dtypes: float64(9), int64(9)\n",
      "memory usage: 66.3 MB\n",
      "None\n"
     ]
    }
   ],
   "source": [
    "dfs = pd.read_hdf('data.h5','dfs')\n",
    "print(dfs.info(memory_usage='deep'))"
   ]
  },
  {
   "cell_type": "code",
   "execution_count": null,
   "metadata": {},
   "outputs": [],
   "source": [
    "print(dfs['Wind Direction [°]'].describe())"
   ]
  },
  {
   "cell_type": "code",
   "execution_count": null,
   "metadata": {},
   "outputs": [],
   "source": [
    "print(dfs['Wind Speed [m/s]'].shape[0])\n",
    "print(dfs['Wind Speed [m/s]'].isna().sum())"
   ]
  },
  {
   "cell_type": "code",
   "execution_count": 41,
   "metadata": {},
   "outputs": [
    {
     "name": "stdout",
     "output_type": "stream",
     "text": [
      "na_percent:\t valid_nums \t column_name\n",
      "0.000%: \t 457590 \t Station ID\n",
      "0.000%: \t 457590 \t Year\n",
      "0.000%: \t 457590 \t Month\n",
      "0.000%: \t 457590 \t Day\n",
      "0.000%: \t 457590 \t Hour\n",
      "0.000%: \t 457590 \t Minute\n",
      "0.000%: \t 457590 \t Second\n",
      "0.000%: \t 457590 \t Time since the epoch [s]\n",
      "0.000%: \t 457590 \t Sequence Number\n",
      "0.061%: \t 457313 \t Ambient Temperature\n",
      "7.852%: \t 421659 \t Surface Temperature\n",
      "100.000%: \t 0 \t Solar Radiation\n",
      "0.060%: \t 457314 \t Relative Humidity [%]\n",
      "100.000%: \t 0 \t Soil Moisture [%]\n",
      "100.000%: \t 0 \t Watermark [kPa]\n",
      "100.000%: \t 0 \t Rain Meter [mm]\n",
      "100.000%: \t 0 \t Wind Speed [m/s]\n",
      "100.000%: \t 0 \t Wind Direction [°]\n"
     ]
    }
   ],
   "source": [
    "# 统计 每一列 Nan的个数,百分比\n",
    "print(\"na_percent:\\t valid_nums \\t column_name\")\n",
    "for column in dfs.columns:\n",
    "    # print(column,dfs[column].isna().sum())\n",
    "    na_num = dfs[column].isna().sum()\n",
    "    total_num = dfs[column].shape[0]\n",
    "    print(\"{1:.3f}%: \\t {2} \\t {0}\".format(column,na_num*100/total_num,total_num-na_num))"
   ]
  },
  {
   "cell_type": "code",
   "execution_count": 43,
   "metadata": {},
   "outputs": [],
   "source": [
    "df_sub = dfs.drop(['Solar Radiation','Soil Moisture [%]','Watermark [kPa]','Rain Meter [mm]','Wind Speed [m/s]','Wind Direction [°]'],axis=1)"
   ]
  },
  {
   "cell_type": "code",
   "execution_count": 44,
   "metadata": {},
   "outputs": [
    {
     "name": "stdout",
     "output_type": "stream",
     "text": [
      "<class 'pandas.core.frame.DataFrame'>\n",
      "Int64Index: 21797635 entries, 0 to 1268693\n",
      "Data columns (total 12 columns):\n",
      " #   Column                    Dtype  \n",
      "---  ------                    -----  \n",
      " 0   Station ID                int64  \n",
      " 1   Year                      int64  \n",
      " 2   Month                     int64  \n",
      " 3   Day                       int64  \n",
      " 4   Hour                      int64  \n",
      " 5   Minute                    int64  \n",
      " 6   Second                    int64  \n",
      " 7   Time since the epoch [s]  int64  \n",
      " 8   Sequence Number           int64  \n",
      " 9   Ambient Temperature       float64\n",
      " 10  Surface Temperature       float64\n",
      " 11  Relative Humidity [%]     float64\n",
      "dtypes: float64(3), int64(9)\n",
      "memory usage: 2.1 GB\n"
     ]
    }
   ],
   "source": [
    "df_sub.info(memory_usage='deep')"
   ]
  },
  {
   "cell_type": "code",
   "execution_count": 45,
   "metadata": {},
   "outputs": [
    {
     "name": "stdout",
     "output_type": "stream",
     "text": [
      "(21797635, 12)\n",
      "(21797635, 18)\n"
     ]
    }
   ],
   "source": [
    "print(df_sub.shape)\n",
    "print(dfs.shape)"
   ]
  },
  {
   "cell_type": "code",
   "execution_count": null,
   "metadata": {},
   "outputs": [],
   "source": [
    "dfs.to_hdf('data_ori.h5',key='dfs',mode='w')"
   ]
  },
  {
   "cell_type": "code",
   "execution_count": 46,
   "metadata": {},
   "outputs": [],
   "source": [
    "df_sub.to_hdf('data.h5',key='df_sub',mode='w')"
   ]
  },
  {
   "cell_type": "code",
   "execution_count": null,
   "metadata": {},
   "outputs": [],
   "source": [
    "dfs.drop(['Wind Direction [°]'],axis=1)"
   ]
  }
 ],
 "metadata": {
  "file_extension": ".py",
  "kernelspec": {
   "display_name": "Python 3.7.6 64-bit ('ccs_ta': conda)",
   "language": "python",
   "name": "python37664bitccstaconda3a2139a6822448159c7afc22ea6ab768"
  },
  "language_info": {
   "codemirror_mode": {
    "name": "ipython",
    "version": 3
   },
   "file_extension": ".py",
   "mimetype": "text/x-python",
   "name": "python",
   "nbconvert_exporter": "python",
   "pygments_lexer": "ipython3",
   "version": "3.7.6"
  },
  "mimetype": "text/x-python",
  "name": "python",
  "npconvert_exporter": "python",
  "pycharm": {
   "stem_cell": {
    "cell_type": "raw",
    "metadata": {
     "collapsed": false
    },
    "source": []
   }
  },
  "pygments_lexer": "ipython3",
  "version": 3
 },
 "nbformat": 4,
 "nbformat_minor": 2
}
