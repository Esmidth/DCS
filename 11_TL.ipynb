{
 "cells": [
  {
   "cell_type": "code",
   "execution_count": 1,
   "metadata": {},
   "outputs": [],
   "source": [
    "%matplotlib inline\n",
    "import numpy as np\n",
    "import pandas as pd\n",
    "import os,sys\n",
    "import utilities as utils\n",
    "import matplotlib.pyplot as plt\n",
    "\n",
    "unix_time = 'Time since the epoch [s]'\n",
    "from rich.progress import track\n",
    "import time"
   ]
  },
  {
   "cell_type": "code",
   "execution_count": 2,
   "metadata": {},
   "outputs": [],
   "source": [
    "df_sum = pd.read_hdf('r_data_files/data_ori_na.h5','df')\n",
    "df_sum_sa = pd.read_hdf('r_data_files/data_sa_na.h5','df')\n"
   ]
  },
  {
   "cell_type": "code",
   "execution_count": 9,
   "metadata": {},
   "outputs": [],
   "source": [
    "idd = [121,  35,  14,  46,   8,  26,  23,  34,  17,  72,  33,  97,  73,\n",
    "        75,  70,  40,  19,  49,  79]"
   ]
  },
  {
   "cell_type": "code",
   "execution_count": 3,
   "metadata": {},
   "outputs": [
    {
     "name": "stdout",
     "output_type": "stream",
     "text": [
      "[  3   5   7   8   9  10  11  12  13  14  15  17  18  19  21  23  24  25\n",
      "  26  27  30  31  32  33  34  35  36  37  39  40  41  42  43  44  45  46\n",
      "  47  49  50  51  53  54  55  56  57  59  60  61  62  63  64  65  66  68\n",
      "  69  70  71  72  73  75  76  79  80  81  82  84  85  87  88  89  92  93\n",
      "  94  95  96  97  98  99 100 103 104 105 106 107 109 111 121 122]\n",
      "{3: 427534, 5: 453133, 7: 128827, 8: 505421, 9: 405943, 10: 335083, 11: 472048, 12: 487106, 13: 373397, 14: 478876, 15: 479069, 17: 482219, 18: 506179, 19: 453966, 21: 447188, 23: 503635, 24: 514036, 25: 484446, 26: 520877, 27: 87038, 30: 453700, 31: 465717, 32: 477273, 33: 428389, 34: 515512, 35: 454316, 36: 484798, 37: 481184, 39: 465934, 40: 426519, 41: 492456, 42: 475780, 43: 287071, 44: 292511, 45: 496065, 46: 501266, 47: 132198, 49: 446618, 50: 405691, 51: 455363, 53: 474741, 54: 441307, 55: 156833, 56: 346042, 57: 257244, 59: 273292, 60: 462032, 61: 265435, 62: 322947, 63: 253729, 64: 272898, 65: 362265, 66: 446345, 68: 340388, 69: 264172, 70: 474867, 71: 252737, 72: 459969, 73: 455119, 75: 369027, 76: 426899, 79: 419798, 80: 435758, 81: 388595, 82: 194276, 84: 447767, 85: 126958, 87: 461762, 88: 365499, 89: 421637, 92: 441173, 93: 471177, 94: 258446, 95: 238157, 96: 473786, 97: 455899, 98: 336712, 99: 250240, 100: 481359, 103: 453364, 104: 455286, 105: 338359, 106: 356475, 107: 365140, 109: 240136, 111: 371313, 121: 1257313, 122: 375158}\n"
     ]
    }
   ],
   "source": [
    "#\n",
    "total_id_uniq = df_sum['Station ID'].values\n",
    "total_id_uniq = np.unique(total_id_uniq)\n",
    "print(total_id_uniq)\n",
    "#5\n",
    "id_record_dict = {}\n",
    "for id in total_id_uniq:\n",
    "    id_record_dict[id] = len(df_sum[df_sum['Station ID'] == id])\n",
    "print(id_record_dict)"
   ]
  },
  {
   "cell_type": "code",
   "execution_count": 4,
   "metadata": {},
   "outputs": [
    {
     "name": "stdout",
     "output_type": "stream",
     "text": [
      "{3: 0, 5: 0, 7: 128827, 8: 1474665, 9: 0, 10: 0, 11: 472048, 12: 0, 13: 0, 14: 1744552, 15: 0, 17: 935352, 18: 0, 19: 789049, 21: 0, 23: 1406949, 24: 0, 25: 0, 26: 1460521, 27: 87038, 30: 0, 31: 465717, 32: 0, 33: 903130, 34: 1159058, 35: 1960866, 36: 0, 37: 0, 39: 0, 40: 799916, 41: 0, 42: 0, 43: 0, 44: 0, 45: 0, 46: 1484437, 47: 132198, 49: 787006, 50: 0, 51: 455363, 53: 0, 54: 0, 55: 156833, 56: 0, 57: 257244, 59: 273292, 60: 462032, 61: 265435, 62: 322947, 63: 253729, 64: 0, 65: 362265, 66: 0, 68: 0, 69: 264172, 70: 850025, 71: 252737, 72: 906314, 73: 896426, 75: 892165, 76: 426899, 79: 657955, 80: 435758, 81: 388595, 82: 194276, 84: 447767, 85: 0, 87: 461762, 88: 365499, 89: 548595, 92: 0, 93: 471177, 94: 0, 95: 0, 96: 473786, 97: 897072, 98: 336712, 99: 0, 100: 481359, 103: 453364, 104: 455286, 105: 0, 106: 0, 107: 0, 109: 240136, 111: 371313, 121: 4274594, 122: 0}\n"
     ]
    }
   ],
   "source": [
    "total_id_uniq_new = np.unique(df_sum_sa['Station ID'].values)\n",
    "id_record_dict_new = {}\n",
    "for item in total_id_uniq:\n",
    "    id_record_dict_new[item] = 0\n",
    "\n",
    "for item in total_id_uniq_new:\n",
    "    id_record_dict_new[item] = len(df_sum_sa[df_sum_sa['Station ID'] == item])\n",
    "print(id_record_dict_new)"
   ]
  },
  {
   "cell_type": "code",
   "execution_count": 32,
   "metadata": {},
   "outputs": [],
   "source": [
    "time_range_new = df_sum_sa[unix_time].values\n",
    "time_min_new = np.min(time_range_new)\n",
    "time_max_new = np.max(time_range_new)"
   ]
  },
  {
   "cell_type": "code",
   "execution_count": 5,
   "metadata": {},
   "outputs": [],
   "source": [
    "# load time_indices_map\n",
    "import pickle\n",
    "with open('r_data_files/time_indices_map.pkl','rb') as f:\n",
    "    time_indices_map = pickle.load(f)\n",
    "\n",
    "with open('r_data_files/time_indices_map_new.pkl','rb') as f:\n",
    "    time_indices_map_new = pickle.load(f)"
   ]
  },
  {
   "cell_type": "code",
   "execution_count": 51,
   "metadata": {},
   "outputs": [],
   "source": [
    "time_indices_sum = np.zeros_like(time_indices_map[3])\n",
    "time_indices_sum_new = np.zeros_like(time_indices_sum)"
   ]
  },
  {
   "cell_type": "code",
   "execution_count": 41,
   "metadata": {},
   "outputs": [
    {
     "data": {
      "text/plain": [
       "546121"
      ]
     },
     "execution_count": 41,
     "metadata": {},
     "output_type": "execute_result"
    }
   ],
   "source": [
    "len(time_indices_sum)"
   ]
  },
  {
   "cell_type": "code",
   "execution_count": 42,
   "metadata": {},
   "outputs": [
    {
     "data": {
      "text/plain": [
       "545141.1"
      ]
     },
     "execution_count": 42,
     "metadata": {},
     "output_type": "execute_result"
    }
   ],
   "source": [
    "(time_max_new-time_min_new)/30"
   ]
  },
  {
   "cell_type": "code",
   "execution_count": 52,
   "metadata": {},
   "outputs": [],
   "source": [
    "for id in idd:\n",
    "    time_indices_sum_new += time_indices_map_new[id]\n",
    "    time_indices_sum += time_indices_map[id]"
   ]
  },
  {
   "cell_type": "code",
   "execution_count": 53,
   "metadata": {},
   "outputs": [],
   "source": [
    "time_indices_sum_new = time_indices_sum_new/19\n",
    "time_indices_sum_new = time_indices_sum_new.astype(int)"
   ]
  },
  {
   "cell_type": "code",
   "execution_count": 24,
   "metadata": {},
   "outputs": [],
   "source": [
    "time_indices_sum_new[time_indices_sum_new < 19] = 0"
   ]
  },
  {
   "cell_type": "code",
   "execution_count": 18,
   "metadata": {},
   "outputs": [],
   "source": [
    "time_indices_sum_new = np.ones_like(time_indices_sum)\n",
    "for id in idd:\n",
    "    time_indices_sum_new *= time_indices_map_new[id]"
   ]
  },
  {
   "cell_type": "code",
   "execution_count": 12,
   "metadata": {},
   "outputs": [
    {
     "data": {
      "text/plain": [
       "19"
      ]
     },
     "execution_count": 12,
     "metadata": {},
     "output_type": "execute_result"
    }
   ],
   "source": [
    "len(idd)"
   ]
  },
  {
   "cell_type": "code",
   "execution_count": 25,
   "metadata": {},
   "outputs": [
    {
     "data": {
      "text/plain": [
       "311612.0"
      ]
     },
     "execution_count": 25,
     "metadata": {},
     "output_type": "execute_result"
    }
   ],
   "source": [
    "np.sum(time_indices_sum_new)/19"
   ]
  },
  {
   "cell_type": "code",
   "execution_count": 26,
   "metadata": {},
   "outputs": [],
   "source": [
    "time_indices_sum_new = time_indices_sum_new/19"
   ]
  },
  {
   "cell_type": "code",
   "execution_count": 27,
   "metadata": {},
   "outputs": [
    {
     "data": {
      "text/plain": [
       "[<matplotlib.lines.Line2D at 0x7f8ca46d4cd0>]"
      ]
     },
     "execution_count": 27,
     "metadata": {},
     "output_type": "execute_result"
    },
    {
     "data": {
      "image/png": "[encoded data removed]",
      "text/plain": [
       "<Figure size 432x288 with 1 Axes>"
      ]
     },
     "metadata": {
      "needs_background": "light"
     },
     "output_type": "display_data"
    }
   ],
   "source": [
    "plt.plot(time_indices_sum_new)"
   ]
  },
  {
   "cell_type": "code",
   "execution_count": 29,
   "metadata": {},
   "outputs": [
    {
     "name": "stdout",
     "output_type": "stream",
     "text": [
      "5 288853\n",
      "6 284965\n",
      "7 281402\n",
      "8 278071\n",
      "9 274929\n",
      "10 271958\n",
      "11 269215\n",
      "12 266569\n",
      "13 264034\n",
      "14 261582\n",
      "15 259222\n",
      "16 256949\n",
      "17 254743\n",
      "18 252605\n",
      "19 250526\n"
     ]
    }
   ],
   "source": [
    "windows = np.arange(5,20,1)\n",
    "df_indies_map = {}\n",
    "\n",
    "for window in windows:\n",
    "    j = 0\n",
    "\n",
    "    df_indies = []\n",
    "\n",
    "    for i,item in enumerate(time_indices_sum_new):\n",
    "        if 0 in time_indices_sum_new[i:i+window]:\n",
    "            j += 1\n",
    "        else:\n",
    "            df_indies.append(i)\n",
    "\n",
    "    df_indies_map[window] = df_indies\n",
    "    print(window,len(df_indies))\n"
   ]
  },
  {
   "cell_type": "code",
   "execution_count": 30,
   "metadata": {},
   "outputs": [
    {
     "data": {
      "text/plain": [
       "[144091,\n",
       " 144092,\n",
       " 144093,\n",
       " 144094,\n",
       " 144095,\n",
       " 144096,\n",
       " 144097,\n",
       " 144098,\n",
       " 144099,\n",
       " 144100,\n",
       " 144101,\n",
       " 144102,\n",
       " 144103,\n",
       " 144104,\n",
       " 144105,\n",
       " 144106,\n",
       " 144107,\n",
       " 144108,\n",
       " 144109,\n",
       " 144110,\n",
       " 144111,\n",
       " 144112,\n",
       " 144113,\n",
       " 144114,\n",
       " 144120,\n",
       " 144121,\n",
       " 144122,\n",
       " 144123,\n",
       " 144124,\n",
       " 144125,\n",
       " 144126,\n",
       " 144127,\n",
       " 144128,\n",
       " 144129,\n",
       " 144130,\n",
       " 144131,\n",
       " 144132,\n",
       " 144133,\n",
       " 144134,\n",
       " 144135,\n",
       " 144136,\n",
       " 144137,\n",
       " 144138,\n",
       " 144139,\n",
       " 144140,\n",
       " 144141,\n",
       " 144142,\n",
       " 144143,\n",
       " 144144,\n",
       " 144145,\n",
       " 144151,\n",
       " 144152,\n",
       " 144153,\n",
       " 144154,\n",
       " 144155,\n",
       " 144156,\n",
       " 144157,\n",
       " 144158,\n",
       " 144159,\n",
       " 144160,\n",
       " 144161,\n",
       " 144162,\n",
       " 144163,\n",
       " 144164,\n",
       " 144165,\n",
       " 144166,\n",
       " 144167,\n",
       " 144168,\n",
       " 144169,\n",
       " 144170,\n",
       " 144171,\n",
       " 144172,\n",
       " 144173,\n",
       " 144174,\n",
       " 144175,\n",
       " 144176,\n",
       " 144182,\n",
       " 144183,\n",
       " 144184,\n",
       " 144185,\n",
       " 144186,\n",
       " 144187,\n",
       " 144188,\n",
       " 144189,\n",
       " 144190,\n",
       " 144191,\n",
       " 144192,\n",
       " 144193,\n",
       " 144194,\n",
       " 144195,\n",
       " 144196,\n",
       " 144197,\n",
       " 144198,\n",
       " 144199,\n",
       " 144200,\n",
       " 144201,\n",
       " 144202,\n",
       " 144203,\n",
       " 144204,\n",
       " 144205,\n",
       " 144206,\n",
       " 144207,\n",
       " 144208,\n",
       " 144209,\n",
       " 144210,\n",
       " 144211,\n",
       " 144212,\n",
       " 144213,\n",
       " 144214,\n",
       " 144215,\n",
       " 144216,\n",
       " 144217,\n",
       " 144218,\n",
       " 144228,\n",
       " 144229,\n",
       " 144230,\n",
       " 144231,\n",
       " 144232,\n",
       " 144233,\n",
       " 144234,\n",
       " 144235,\n",
       " 144236,\n",
       " 144237,\n",
       " 144238,\n",
       " 144239,\n",
       " 144240,\n",
       " 144241,\n",
       " 144242,\n",
       " 144243,\n",
       " 144244,\n",
       " 144245,\n",
       " 144246,\n",
       " 144247,\n",
       " 144248,\n",
       " 144249,\n",
       " 144250,\n",
       " 144251,\n",
       " 144252,\n",
       " 144253,\n",
       " 144254,\n",
       " 144255,\n",
       " 144256,\n",
       " 144257,\n",
       " 144258,\n",
       " 144259,\n",
       " 144260,\n",
       " 144261,\n",
       " 144262,\n",
       " 144263,\n",
       " 144264,\n",
       " 144265,\n",
       " 144266,\n",
       " 144267,\n",
       " 144268,\n",
       " 144269,\n",
       " 144270,\n",
       " 144271,\n",
       " 144272,\n",
       " 144273,\n",
       " 144274,\n",
       " 144275,\n",
       " 144276,\n",
       " 144277,\n",
       " 144278,\n",
       " 144279,\n",
       " 144280,\n",
       " 144281,\n",
       " 144282,\n",
       " 144283,\n",
       " 144284,\n",
       " 144285,\n",
       " 144286,\n",
       " 144287,\n",
       " 144288,\n",
       " 144289,\n",
       " 144290,\n",
       " 144291,\n",
       " 144292,\n",
       " 144293,\n",
       " 144294,\n",
       " 144295,\n",
       " 144296,\n",
       " 144297,\n",
       " 144298,\n",
       " 144299,\n",
       " 144300,\n",
       " 144301,\n",
       " 144302,\n",
       " 144303,\n",
       " 144304,\n",
       " 144305,\n",
       " 144306,\n",
       " 144307,\n",
       " 144308,\n",
       " 144309,\n",
       " 144310,\n",
       " 144311,\n",
       " 144312,\n",
       " 144313,\n",
       " 144314,\n",
       " 144315,\n",
       " 144316,\n",
       " 144317,\n",
       " 144328,\n",
       " 144329,\n",
       " 144330,\n",
       " 144331,\n",
       " 144332,\n",
       " 144333,\n",
       " 144334,\n",
       " 144335,\n",
       " 144336,\n",
       " 144337,\n",
       " 144338,\n",
       " 144339,\n",
       " 144350,\n",
       " 144351,\n",
       " 144352,\n",
       " 144353,\n",
       " 144354,\n",
       " 144355,\n",
       " 144356,\n",
       " 144357,\n",
       " 144358,\n",
       " 144359,\n",
       " 144360,\n",
       " 144361,\n",
       " 144362,\n",
       " 144363,\n",
       " 144364,\n",
       " 144365,\n",
       " 144366,\n",
       " 144367,\n",
       " 144368,\n",
       " 144369,\n",
       " 144370,\n",
       " 144371,\n",
       " 144372,\n",
       " 144373,\n",
       " 144374,\n",
       " 144375,\n",
       " 144376,\n",
       " 144377,\n",
       " 144378,\n",
       " 144379,\n",
       " 144380,\n",
       " 144381,\n",
       " 144382,\n",
       " 144383,\n",
       " 144384,\n",
       " 144385,\n",
       " 144386,\n",
       " 144387,\n",
       " 144388,\n",
       " 144389,\n",
       " 144390,\n",
       " 144391,\n",
       " 144392,\n",
       " 144393,\n",
       " 144394,\n",
       " 144395,\n",
       " 144396,\n",
       " 144397,\n",
       " 144398,\n",
       " 144399,\n",
       " 144400,\n",
       " 144401,\n",
       " 144402,\n",
       " 144403,\n",
       " 144404,\n",
       " 144405,\n",
       " 144406,\n",
       " 144407,\n",
       " 144408,\n",
       " 144409,\n",
       " 144410,\n",
       " 144411,\n",
       " 144412,\n",
       " 144413,\n",
       " 144414,\n",
       " 144415,\n",
       " 144416,\n",
       " 144417,\n",
       " 144418,\n",
       " 144419,\n",
       " 144420,\n",
       " 144421,\n",
       " 144422,\n",
       " 144423,\n",
       " 144424,\n",
       " 144425,\n",
       " 144426,\n",
       " 144427,\n",
       " 144428,\n",
       " 144429,\n",
       " 144430,\n",
       " 144431,\n",
       " 144432,\n",
       " 144433,\n",
       " 144434,\n",
       " 144435,\n",
       " 144436,\n",
       " 144437,\n",
       " 144438,\n",
       " 144439,\n",
       " 144440,\n",
       " 144441,\n",
       " 144442,\n",
       " 144443,\n",
       " 144444,\n",
       " 144445,\n",
       " 144446,\n",
       " 144447,\n",
       " 144448,\n",
       " 144449,\n",
       " 144450,\n",
       " 144451,\n",
       " 144452,\n",
       " 144453,\n",
       " 144454,\n",
       " 144455,\n",
       " 144456,\n",
       " 144457,\n",
       " 144458,\n",
       " 144459,\n",
       " 144460,\n",
       " 144461,\n",
       " 144462,\n",
       " 144463,\n",
       " 144464,\n",
       " 144465,\n",
       " 144466,\n",
       " 144467,\n",
       " 144468,\n",
       " 144469,\n",
       " 144470,\n",
       " 144471,\n",
       " 144472,\n",
       " 144473,\n",
       " 144474,\n",
       " 144475,\n",
       " 144476,\n",
       " 144477,\n",
       " 144478,\n",
       " 144479,\n",
       " 144480,\n",
       " 144481,\n",
       " 144482,\n",
       " 144483,\n",
       " 144484,\n",
       " 144485,\n",
       " 144486,\n",
       " 144487,\n",
       " 144488,\n",
       " 144489,\n",
       " 144490,\n",
       " 144491,\n",
       " 144492,\n",
       " 144493,\n",
       " 144494,\n",
       " 144495,\n",
       " 144496,\n",
       " 144497,\n",
       " 144498,\n",
       " 144499,\n",
       " 144500,\n",
       " 144501,\n",
       " 144502,\n",
       " 144503,\n",
       " 144504,\n",
       " 144505,\n",
       " 144506,\n",
       " 144507,\n",
       " 144508,\n",
       " 144509,\n",
       " 144510,\n",
       " 144511,\n",
       " 144512,\n",
       " 144513,\n",
       " 144514,\n",
       " 144515,\n",
       " 144516,\n",
       " 144517,\n",
       " 144518,\n",
       " 144519,\n",
       " 144520,\n",
       " 144521,\n",
       " 144522,\n",
       " 144523,\n",
       " 144524,\n",
       " 144525,\n",
       " 144526,\n",
       " 144527,\n",
       " 144528,\n",
       " 144529,\n",
       " 144530,\n",
       " 144531,\n",
       " 144532,\n",
       " 144533,\n",
       " 144534,\n",
       " 144535,\n",
       " 144536,\n",
       " 144537,\n",
       " 144538,\n",
       " 144539,\n",
       " 144540,\n",
       " 144541,\n",
       " 144542,\n",
       " 144543,\n",
       " 144544,\n",
       " 144545,\n",
       " 144546,\n",
       " 144547,\n",
       " 144548,\n",
       " 144549,\n",
       " 144550,\n",
       " 144551,\n",
       " 144552,\n",
       " 144553,\n",
       " 144554,\n",
       " 144555,\n",
       " 144556,\n",
       " 144557,\n",
       " 144558,\n",
       " 144559,\n",
       " 144560,\n",
       " 144561,\n",
       " 144562,\n",
       " 144563,\n",
       " 144564,\n",
       " 144565,\n",
       " 144566,\n",
       " 144567,\n",
       " 144568,\n",
       " 144569,\n",
       " 144570,\n",
       " 144571,\n",
       " 144572,\n",
       " 144573,\n",
       " 144574,\n",
       " 144575,\n",
       " 144576,\n",
       " 144577,\n",
       " 144578,\n",
       " 144579,\n",
       " 144580,\n",
       " 144581,\n",
       " 144582,\n",
       " 144583,\n",
       " 144584,\n",
       " 144585,\n",
       " 144586,\n",
       " 144587,\n",
       " 144588,\n",
       " 144589,\n",
       " 144590,\n",
       " 144591,\n",
       " 144592,\n",
       " 144593,\n",
       " 144594,\n",
       " 144595,\n",
       " 144596,\n",
       " 144597,\n",
       " 144598,\n",
       " 144599,\n",
       " 144600,\n",
       " 144601,\n",
       " 144602,\n",
       " 144603,\n",
       " 144604,\n",
       " 144605,\n",
       " 144606,\n",
       " 144607,\n",
       " 144608,\n",
       " 144609,\n",
       " 144610,\n",
       " 144611,\n",
       " 144612,\n",
       " 144613,\n",
       " 144614,\n",
       " 144615,\n",
       " 144616,\n",
       " 144617,\n",
       " 144618,\n",
       " 144619,\n",
       " 144620,\n",
       " 144621,\n",
       " 144622,\n",
       " 144623,\n",
       " 144624,\n",
       " 144625,\n",
       " 144626,\n",
       " 144627,\n",
       " 144628,\n",
       " 144629,\n",
       " 144630,\n",
       " 144631,\n",
       " 144632,\n",
       " 144633,\n",
       " 144634,\n",
       " 144635,\n",
       " 144636,\n",
       " 144637,\n",
       " 144638,\n",
       " 144639,\n",
       " 144640,\n",
       " 144641,\n",
       " 144642,\n",
       " 144643,\n",
       " 144644,\n",
       " 144645,\n",
       " 144646,\n",
       " 144647,\n",
       " 144648,\n",
       " 144649,\n",
       " 144650,\n",
       " 144651,\n",
       " 144652,\n",
       " 144653,\n",
       " 144654,\n",
       " 144655,\n",
       " 144656,\n",
       " 144657,\n",
       " 144658,\n",
       " 144659,\n",
       " 144660,\n",
       " 144661,\n",
       " 144662,\n",
       " 144663,\n",
       " 144664,\n",
       " 144665,\n",
       " 144666,\n",
       " 144667,\n",
       " 144668,\n",
       " 144669,\n",
       " 144670,\n",
       " 144671,\n",
       " 144672,\n",
       " 144673,\n",
       " 144674,\n",
       " 144675,\n",
       " 144676,\n",
       " 144677,\n",
       " 144678,\n",
       " 144679,\n",
       " 144680,\n",
       " 144681,\n",
       " 144682,\n",
       " 144683,\n",
       " 144684,\n",
       " 144685,\n",
       " 144686,\n",
       " 144687,\n",
       " 144688,\n",
       " 144689,\n",
       " 144690,\n",
       " 144691,\n",
       " 144692,\n",
       " 144693,\n",
       " 144694,\n",
       " 144695,\n",
       " 144696,\n",
       " 144697,\n",
       " 144698,\n",
       " 144699,\n",
       " 144700,\n",
       " 144701,\n",
       " 144702,\n",
       " 144703,\n",
       " 144704,\n",
       " 144705,\n",
       " 144706,\n",
       " 144707,\n",
       " 144708,\n",
       " 144709,\n",
       " 144710,\n",
       " 144711,\n",
       " 144712,\n",
       " 144713,\n",
       " 144714,\n",
       " 144715,\n",
       " 144716,\n",
       " 144717,\n",
       " 144718,\n",
       " 144719,\n",
       " 144720,\n",
       " 144721,\n",
       " 144722,\n",
       " 144723,\n",
       " 144724,\n",
       " 144725,\n",
       " 144726,\n",
       " 144727,\n",
       " 144728,\n",
       " 144729,\n",
       " 144730,\n",
       " 144731,\n",
       " 144732,\n",
       " 144733,\n",
       " 144734,\n",
       " 144735,\n",
       " 144736,\n",
       " 144737,\n",
       " 144738,\n",
       " 144739,\n",
       " 144740,\n",
       " 144741,\n",
       " 144742,\n",
       " 144743,\n",
       " 144744,\n",
       " 144745,\n",
       " 144746,\n",
       " 144747,\n",
       " 144748,\n",
       " 144749,\n",
       " 144750,\n",
       " 144751,\n",
       " 144752,\n",
       " 144753,\n",
       " 144754,\n",
       " 144755,\n",
       " 144756,\n",
       " 144757,\n",
       " 144758,\n",
       " 144759,\n",
       " 144760,\n",
       " 144761,\n",
       " 144762,\n",
       " 144763,\n",
       " 144764,\n",
       " 144765,\n",
       " 144766,\n",
       " 144767,\n",
       " 144768,\n",
       " 144769,\n",
       " 144770,\n",
       " 144771,\n",
       " 144772,\n",
       " 144773,\n",
       " 144774,\n",
       " 144775,\n",
       " 144776,\n",
       " 144777,\n",
       " 144778,\n",
       " 144779,\n",
       " 144780,\n",
       " 144781,\n",
       " 144782,\n",
       " 144783,\n",
       " 144784,\n",
       " 144785,\n",
       " 144786,\n",
       " 144787,\n",
       " 144788,\n",
       " 144789,\n",
       " 144790,\n",
       " 144791,\n",
       " 144792,\n",
       " 144793,\n",
       " 144794,\n",
       " 144795,\n",
       " 144796,\n",
       " 144797,\n",
       " 144798,\n",
       " 144799,\n",
       " 144800,\n",
       " 144801,\n",
       " 144802,\n",
       " 144803,\n",
       " 144804,\n",
       " 144805,\n",
       " 144806,\n",
       " 144807,\n",
       " 144808,\n",
       " 144809,\n",
       " 144810,\n",
       " 144811,\n",
       " 144812,\n",
       " 144813,\n",
       " 144814,\n",
       " 144815,\n",
       " 144816,\n",
       " 144817,\n",
       " 144818,\n",
       " 144819,\n",
       " 144820,\n",
       " 144821,\n",
       " 144822,\n",
       " 144823,\n",
       " 144824,\n",
       " 144825,\n",
       " 144826,\n",
       " 144827,\n",
       " 144828,\n",
       " 144829,\n",
       " 144830,\n",
       " 144831,\n",
       " 144832,\n",
       " 144833,\n",
       " 144834,\n",
       " 144835,\n",
       " 144836,\n",
       " 144837,\n",
       " 144838,\n",
       " 144839,\n",
       " 144840,\n",
       " 144841,\n",
       " 144842,\n",
       " 144843,\n",
       " 144844,\n",
       " 144845,\n",
       " 144846,\n",
       " 144847,\n",
       " 144848,\n",
       " 144849,\n",
       " 144850,\n",
       " 144851,\n",
       " 144852,\n",
       " 144853,\n",
       " 144854,\n",
       " 144855,\n",
       " 144856,\n",
       " 144857,\n",
       " 144858,\n",
       " 144859,\n",
       " 144860,\n",
       " 144861,\n",
       " 144862,\n",
       " 144863,\n",
       " 144864,\n",
       " 144865,\n",
       " 144866,\n",
       " 144867,\n",
       " 144868,\n",
       " 144869,\n",
       " 144870,\n",
       " 144871,\n",
       " 144872,\n",
       " 144873,\n",
       " 144874,\n",
       " 144875,\n",
       " 144876,\n",
       " 144877,\n",
       " 144878,\n",
       " 144879,\n",
       " 144880,\n",
       " 144881,\n",
       " 144882,\n",
       " 144883,\n",
       " 144884,\n",
       " 144885,\n",
       " 144886,\n",
       " 144887,\n",
       " 144888,\n",
       " 144889,\n",
       " 144890,\n",
       " 144891,\n",
       " 144892,\n",
       " 144893,\n",
       " 144894,\n",
       " 144895,\n",
       " 144896,\n",
       " 144897,\n",
       " 144898,\n",
       " 144899,\n",
       " 144900,\n",
       " 144901,\n",
       " 144902,\n",
       " 144903,\n",
       " 144904,\n",
       " 144905,\n",
       " 144906,\n",
       " 144907,\n",
       " 144908,\n",
       " 144909,\n",
       " 144910,\n",
       " 144911,\n",
       " 144912,\n",
       " 144913,\n",
       " 144914,\n",
       " 144915,\n",
       " 144916,\n",
       " 144917,\n",
       " 144918,\n",
       " 144919,\n",
       " 144920,\n",
       " 144921,\n",
       " 144922,\n",
       " 144923,\n",
       " 144924,\n",
       " 144925,\n",
       " 144926,\n",
       " 144927,\n",
       " 144928,\n",
       " 144929,\n",
       " 144930,\n",
       " 144931,\n",
       " 144932,\n",
       " 144933,\n",
       " 144934,\n",
       " 144935,\n",
       " 144936,\n",
       " 144937,\n",
       " 144938,\n",
       " 144939,\n",
       " 144940,\n",
       " 144941,\n",
       " 144942,\n",
       " 144943,\n",
       " 144944,\n",
       " 144945,\n",
       " 144946,\n",
       " 144947,\n",
       " 144948,\n",
       " 144949,\n",
       " 144950,\n",
       " 144951,\n",
       " 144952,\n",
       " 144953,\n",
       " 144954,\n",
       " 144955,\n",
       " 144956,\n",
       " 144957,\n",
       " 144958,\n",
       " 144959,\n",
       " 144960,\n",
       " 144961,\n",
       " 144962,\n",
       " 144963,\n",
       " 144964,\n",
       " 144965,\n",
       " 144966,\n",
       " 144967,\n",
       " 144968,\n",
       " 144974,\n",
       " 144975,\n",
       " 144976,\n",
       " 144977,\n",
       " 144978,\n",
       " 144979,\n",
       " 144980,\n",
       " 144981,\n",
       " 144982,\n",
       " 144983,\n",
       " 144984,\n",
       " 144985,\n",
       " 144986,\n",
       " 144987,\n",
       " 144988,\n",
       " 144989,\n",
       " 144990,\n",
       " 144991,\n",
       " 144992,\n",
       " 144993,\n",
       " 144994,\n",
       " 144995,\n",
       " 144996,\n",
       " 144997,\n",
       " 144998,\n",
       " 144999,\n",
       " 145000,\n",
       " 145001,\n",
       " 145002,\n",
       " 145003,\n",
       " 145004,\n",
       " 145005,\n",
       " 145006,\n",
       " 145007,\n",
       " 145008,\n",
       " 145009,\n",
       " 145010,\n",
       " 145011,\n",
       " 145012,\n",
       " 145013,\n",
       " 145014,\n",
       " 145015,\n",
       " 145016,\n",
       " 145017,\n",
       " 145018,\n",
       " 145019,\n",
       " 145030,\n",
       " 145031,\n",
       " 145032,\n",
       " 145033,\n",
       " 145034,\n",
       " 145035,\n",
       " 145036,\n",
       " 145037,\n",
       " 145038,\n",
       " 145039,\n",
       " 145040,\n",
       " 145041,\n",
       " 145042,\n",
       " 145043,\n",
       " 145044,\n",
       " 145045,\n",
       " 145046,\n",
       " 145047,\n",
       " 145048,\n",
       " 145049,\n",
       " 145050,\n",
       " 145051,\n",
       " 145052,\n",
       " 145053,\n",
       " 145054,\n",
       " 145055,\n",
       " 145056,\n",
       " 145057,\n",
       " 145058,\n",
       " 145059,\n",
       " 145071,\n",
       " 145072,\n",
       " 145073,\n",
       " 145074,\n",
       " 145075,\n",
       " 145076,\n",
       " 145077,\n",
       " 145078,\n",
       " 145079,\n",
       " 145080,\n",
       " 145081,\n",
       " 145082,\n",
       " 145083,\n",
       " 145084,\n",
       " 145085,\n",
       " 145086,\n",
       " 145087,\n",
       " 145088,\n",
       " 145089,\n",
       " 145090,\n",
       " 145091,\n",
       " 145092,\n",
       " 145093,\n",
       " 145094,\n",
       " 145095,\n",
       " 145096,\n",
       " 145097,\n",
       " 145098,\n",
       " 145099,\n",
       " 145100,\n",
       " 145101,\n",
       " 145102,\n",
       " 145103,\n",
       " 145104,\n",
       " 145105,\n",
       " 145106,\n",
       " 145107,\n",
       " 145108,\n",
       " 145109,\n",
       " 145110,\n",
       " 145111,\n",
       " 145112,\n",
       " 145113,\n",
       " 145114,\n",
       " 145115,\n",
       " 145116,\n",
       " 145117,\n",
       " 145118,\n",
       " 145119,\n",
       " 145120,\n",
       " 145121,\n",
       " 145122,\n",
       " 145123,\n",
       " 145124,\n",
       " 145125,\n",
       " 145126,\n",
       " 145127,\n",
       " 145128,\n",
       " 145129,\n",
       " 145130,\n",
       " 145131,\n",
       " 145132,\n",
       " 145133,\n",
       " 145134,\n",
       " 145135,\n",
       " 145136,\n",
       " 145137,\n",
       " 145138,\n",
       " 145139,\n",
       " 145140,\n",
       " 145141,\n",
       " 145142,\n",
       " 145143,\n",
       " 145144,\n",
       " 145145,\n",
       " 145146,\n",
       " 145147,\n",
       " 145148,\n",
       " 145149,\n",
       " 145150,\n",
       " 145151,\n",
       " 145157,\n",
       " 145158,\n",
       " 145159,\n",
       " 145160,\n",
       " 145161,\n",
       " 145162,\n",
       " 145163,\n",
       " 145164,\n",
       " 145165,\n",
       " ...]"
      ]
     },
     "execution_count": 30,
     "metadata": {},
     "output_type": "execute_result"
    }
   ],
   "source": [
    "df_indies_map[5]"
   ]
  },
  {
   "cell_type": "code",
   "execution_count": 40,
   "metadata": {},
   "outputs": [
    {
     "data": {
      "text/plain": [
       "array([1., 1., 1., ..., 1., 1., 1.])"
      ]
     },
     "execution_count": 40,
     "metadata": {},
     "output_type": "execute_result"
    }
   ],
   "source": [
    "time_indices_sum_new[df_indies_map[5]]"
   ]
  },
  {
   "cell_type": "code",
   "execution_count": 58,
   "metadata": {},
   "outputs": [
    {
     "name": "stdout",
     "output_type": "stream",
     "text": [
      "[  8  11  14  17  19  23  26  31  33  34  35  40  46  49  51  59  60  62\n",
      "  70  71  72  73  75  76  79  80  81  82  87  88  89  93  96  97  98 100\n",
      " 103 104 109 111 121]\n"
     ]
    }
   ],
   "source": [
    "test_id_list = np.unique(df_sum_sa[(df_sum_sa[unix_time] > 144091*30+time_min_new)&(df_sum_sa[unix_time] <= 144091*30+30+time_min_new)]['Station ID'].values)\n",
    "print(test_id_list)"
   ]
  },
  {
   "cell_type": "code",
   "execution_count": 60,
   "metadata": {},
   "outputs": [],
   "source": [
    "for id in idd:\n",
    "    if id not in test_id_list:\n",
    "        print(id)"
   ]
  },
  {
   "cell_type": "code",
   "execution_count": 64,
   "metadata": {},
   "outputs": [
    {
     "data": {
      "text/plain": [
       "False"
      ]
     },
     "execution_count": 64,
     "metadata": {},
     "output_type": "execute_result"
    }
   ],
   "source": [
    "(idd == np.intersect1d(idd,test_id_list)).all()"
   ]
  },
  {
   "cell_type": "code",
   "execution_count": 65,
   "metadata": {},
   "outputs": [
    {
     "data": {
      "text/plain": [
       "array([  8,  14,  17,  19,  23,  26,  33,  34,  35,  40,  46,  49,  70,\n",
       "        72,  73,  75,  79,  97, 121])"
      ]
     },
     "execution_count": 65,
     "metadata": {},
     "output_type": "execute_result"
    }
   ],
   "source": [
    "np.intersect1d(idd,test_id_list)"
   ]
  },
  {
   "cell_type": "code",
   "execution_count": 70,
   "metadata": {},
   "outputs": [
    {
     "data": {
      "text/plain": [
       "True"
      ]
     },
     "execution_count": 70,
     "metadata": {},
     "output_type": "execute_result"
    }
   ],
   "source": [
    "(np.unique(idd) == np.intersect1d(idd,test_id_list)).all()"
   ]
  },
  {
   "cell_type": "code",
   "execution_count": 74,
   "metadata": {},
   "outputs": [
    {
     "data": {
      "text/html": [
       "<pre style=\"white-space:pre;overflow-x:auto;line-height:normal;font-family:Menlo,'DejaVu Sans Mono',consolas,'Courier New',monospace\">Working... <span style=\"color: #3a3a3a; text-decoration-color: #3a3a3a\">━━━━━━━━━━━━━━━━━━━━━━━━━━━━━━━━━━━━━━━━</span> <span style=\"color: #800080; text-decoration-color: #800080\">  0%</span> <span style=\"color: #008080; text-decoration-color: #008080\">4:00:56</span>\n",
       "</pre>\n"
      ],
      "text/plain": [
       "Working... \u001b[38;5;237m━━━━━━━━━━━━━━━━━━━━━━━━━━━━━━━━━━━━━━━━\u001b[0m \u001b[35m  0%\u001b[0m \u001b[36m4:00:56\u001b[0m\n"
      ]
     },
     "metadata": {},
     "output_type": "display_data"
    },
    {
     "data": {
      "text/html": [
       "<pre style=\"white-space:pre;overflow-x:auto;line-height:normal;font-family:Menlo,'DejaVu Sans Mono',consolas,'Courier New',monospace\">81\n",
       "</pre>\n"
      ],
      "text/plain": [
       "81\n"
      ]
     },
     "metadata": {},
     "output_type": "display_data"
    },
    {
     "data": {
      "text/html": [
       "<pre style=\"white-space:pre;overflow-x:auto;line-height:normal;font-family:Menlo,'DejaVu Sans Mono',consolas,'Courier New',monospace\">82\n",
       "</pre>\n"
      ],
      "text/plain": [
       "82\n"
      ]
     },
     "metadata": {},
     "output_type": "display_data"
    },
    {
     "data": {
      "text/html": [
       "<pre style=\"white-space:pre;overflow-x:auto;line-height:normal;font-family:Menlo,'DejaVu Sans Mono',consolas,'Courier New',monospace\">83\n",
       "</pre>\n"
      ],
      "text/plain": [
       "83\n"
      ]
     },
     "metadata": {},
     "output_type": "display_data"
    },
    {
     "data": {
      "text/html": [
       "<pre style=\"white-space:pre;overflow-x:auto;line-height:normal;font-family:Menlo,'DejaVu Sans Mono',consolas,'Courier New',monospace\">84\n",
       "</pre>\n"
      ],
      "text/plain": [
       "84\n"
      ]
     },
     "metadata": {},
     "output_type": "display_data"
    },
    {
     "data": {
      "text/html": [
       "<pre style=\"white-space:pre;overflow-x:auto;line-height:normal;font-family:Menlo,'DejaVu Sans Mono',consolas,'Courier New',monospace\">85\n",
       "</pre>\n"
      ],
      "text/plain": [
       "85\n"
      ]
     },
     "metadata": {},
     "output_type": "display_data"
    },
    {
     "data": {
      "text/html": [
       "<pre style=\"white-space:pre;overflow-x:auto;line-height:normal;font-family:Menlo,'DejaVu Sans Mono',consolas,'Courier New',monospace\">86\n",
       "</pre>\n"
      ],
      "text/plain": [
       "86\n"
      ]
     },
     "metadata": {},
     "output_type": "display_data"
    },
    {
     "data": {
      "text/html": [
       "<pre style=\"white-space:pre;overflow-x:auto;line-height:normal;font-family:Menlo,'DejaVu Sans Mono',consolas,'Courier New',monospace\">87\n",
       "</pre>\n"
      ],
      "text/plain": [
       "87\n"
      ]
     },
     "metadata": {},
     "output_type": "display_data"
    },
    {
     "data": {
      "text/html": [
       "<pre style=\"white-space:pre;overflow-x:auto;line-height:normal;font-family:Menlo,'DejaVu Sans Mono',consolas,'Courier New',monospace\">88\n",
       "</pre>\n"
      ],
      "text/plain": [
       "88\n"
      ]
     },
     "metadata": {},
     "output_type": "display_data"
    },
    {
     "data": {
      "text/html": [
       "<pre style=\"white-space:pre;overflow-x:auto;line-height:normal;font-family:Menlo,'DejaVu Sans Mono',consolas,'Courier New',monospace\">89\n",
       "</pre>\n"
      ],
      "text/plain": [
       "89\n"
      ]
     },
     "metadata": {},
     "output_type": "display_data"
    },
    {
     "data": {
      "text/html": [
       "<pre style=\"white-space:pre;overflow-x:auto;line-height:normal;font-family:Menlo,'DejaVu Sans Mono',consolas,'Courier New',monospace\">90\n",
       "</pre>\n"
      ],
      "text/plain": [
       "90\n"
      ]
     },
     "metadata": {},
     "output_type": "display_data"
    },
    {
     "data": {
      "text/html": [
       "<pre style=\"white-space:pre;overflow-x:auto;line-height:normal;font-family:Menlo,'DejaVu Sans Mono',consolas,'Courier New',monospace\">91\n",
       "</pre>\n"
      ],
      "text/plain": [
       "91\n"
      ]
     },
     "metadata": {},
     "output_type": "display_data"
    },
    {
     "data": {
      "text/html": [
       "<pre style=\"white-space:pre;overflow-x:auto;line-height:normal;font-family:Menlo,'DejaVu Sans Mono',consolas,'Courier New',monospace\">92\n",
       "</pre>\n"
      ],
      "text/plain": [
       "92\n"
      ]
     },
     "metadata": {},
     "output_type": "display_data"
    },
    {
     "data": {
      "text/html": [
       "<pre style=\"white-space:pre;overflow-x:auto;line-height:normal;font-family:Menlo,'DejaVu Sans Mono',consolas,'Courier New',monospace\">93\n",
       "</pre>\n"
      ],
      "text/plain": [
       "93\n"
      ]
     },
     "metadata": {},
     "output_type": "display_data"
    },
    {
     "data": {
      "text/html": [
       "<pre style=\"white-space:pre;overflow-x:auto;line-height:normal;font-family:Menlo,'DejaVu Sans Mono',consolas,'Courier New',monospace\">94\n",
       "</pre>\n"
      ],
      "text/plain": [
       "94\n"
      ]
     },
     "metadata": {},
     "output_type": "display_data"
    },
    {
     "data": {
      "text/html": [
       "<pre style=\"white-space:pre;overflow-x:auto;line-height:normal;font-family:Menlo,'DejaVu Sans Mono',consolas,'Courier New',monospace\">95\n",
       "</pre>\n"
      ],
      "text/plain": [
       "95\n"
      ]
     },
     "metadata": {},
     "output_type": "display_data"
    },
    {
     "data": {
      "text/html": [
       "<pre style=\"white-space:pre;overflow-x:auto;line-height:normal;font-family:Menlo,'DejaVu Sans Mono',consolas,'Courier New',monospace\">96\n",
       "</pre>\n"
      ],
      "text/plain": [
       "96\n"
      ]
     },
     "metadata": {},
     "output_type": "display_data"
    },
    {
     "data": {
      "text/html": [
       "<pre style=\"white-space:pre;overflow-x:auto;line-height:normal;font-family:Menlo,'DejaVu Sans Mono',consolas,'Courier New',monospace\">97\n",
       "</pre>\n"
      ],
      "text/plain": [
       "97\n"
      ]
     },
     "metadata": {},
     "output_type": "display_data"
    },
    {
     "data": {
      "text/html": [
       "<pre style=\"white-space:pre;overflow-x:auto;line-height:normal;font-family:Menlo,'DejaVu Sans Mono',consolas,'Courier New',monospace\">98\n",
       "</pre>\n"
      ],
      "text/plain": [
       "98\n"
      ]
     },
     "metadata": {},
     "output_type": "display_data"
    },
    {
     "data": {
      "text/html": [
       "<pre style=\"white-space:pre;overflow-x:auto;line-height:normal;font-family:Menlo,'DejaVu Sans Mono',consolas,'Courier New',monospace\">99\n",
       "</pre>\n"
      ],
      "text/plain": [
       "99\n"
      ]
     },
     "metadata": {},
     "output_type": "display_data"
    },
    {
     "data": {
      "text/html": [
       "<pre style=\"white-space:pre;overflow-x:auto;line-height:normal;font-family:Menlo,'DejaVu Sans Mono',consolas,'Courier New',monospace\">100\n",
       "</pre>\n"
      ],
      "text/plain": [
       "100\n"
      ]
     },
     "metadata": {},
     "output_type": "display_data"
    },
    {
     "data": {
      "text/html": [
       "<pre style=\"white-space:pre;overflow-x:auto;line-height:normal;font-family:Menlo,'DejaVu Sans Mono',consolas,'Courier New',monospace\">101\n",
       "</pre>\n"
      ],
      "text/plain": [
       "101\n"
      ]
     },
     "metadata": {},
     "output_type": "display_data"
    },
    {
     "data": {
      "text/html": [
       "<pre style=\"white-space:pre;overflow-x:auto;line-height:normal;font-family:Menlo,'DejaVu Sans Mono',consolas,'Courier New',monospace\">102\n",
       "</pre>\n"
      ],
      "text/plain": [
       "102\n"
      ]
     },
     "metadata": {},
     "output_type": "display_data"
    },
    {
     "data": {
      "text/html": [
       "<pre style=\"white-space:pre;overflow-x:auto;line-height:normal;font-family:Menlo,'DejaVu Sans Mono',consolas,'Courier New',monospace\">103\n",
       "</pre>\n"
      ],
      "text/plain": [
       "103\n"
      ]
     },
     "metadata": {},
     "output_type": "display_data"
    },
    {
     "data": {
      "text/html": [
       "<pre style=\"white-space:pre;overflow-x:auto;line-height:normal;font-family:Menlo,'DejaVu Sans Mono',consolas,'Courier New',monospace\">104\n",
       "</pre>\n"
      ],
      "text/plain": [
       "104\n"
      ]
     },
     "metadata": {},
     "output_type": "display_data"
    },
    {
     "data": {
      "text/html": [
       "<pre style=\"white-space:pre;overflow-x:auto;line-height:normal;font-family:Menlo,'DejaVu Sans Mono',consolas,'Courier New',monospace\">105\n",
       "</pre>\n"
      ],
      "text/plain": [
       "105\n"
      ]
     },
     "metadata": {},
     "output_type": "display_data"
    },
    {
     "data": {
      "text/html": [
       "<pre style=\"white-space:pre;overflow-x:auto;line-height:normal;font-family:Menlo,'DejaVu Sans Mono',consolas,'Courier New',monospace\">106\n",
       "</pre>\n"
      ],
      "text/plain": [
       "106\n"
      ]
     },
     "metadata": {},
     "output_type": "display_data"
    },
    {
     "data": {
      "text/html": [
       "<pre style=\"white-space:pre;overflow-x:auto;line-height:normal;font-family:Menlo,'DejaVu Sans Mono',consolas,'Courier New',monospace\">107\n",
       "</pre>\n"
      ],
      "text/plain": [
       "107\n"
      ]
     },
     "metadata": {},
     "output_type": "display_data"
    },
    {
     "data": {
      "text/html": [
       "<pre style=\"white-space:pre;overflow-x:auto;line-height:normal;font-family:Menlo,'DejaVu Sans Mono',consolas,'Courier New',monospace\">108\n",
       "</pre>\n"
      ],
      "text/plain": [
       "108\n"
      ]
     },
     "metadata": {},
     "output_type": "display_data"
    },
    {
     "data": {
      "text/html": [
       "<pre style=\"white-space:pre;overflow-x:auto;line-height:normal;font-family:Menlo,'DejaVu Sans Mono',consolas,'Courier New',monospace\">109\n",
       "</pre>\n"
      ],
      "text/plain": [
       "109\n"
      ]
     },
     "metadata": {},
     "output_type": "display_data"
    },
    {
     "data": {
      "text/html": [
       "<pre style=\"white-space:pre;overflow-x:auto;line-height:normal;font-family:Menlo,'DejaVu Sans Mono',consolas,'Courier New',monospace\">110\n",
       "</pre>\n"
      ],
      "text/plain": [
       "110\n"
      ]
     },
     "metadata": {},
     "output_type": "display_data"
    },
    {
     "data": {
      "text/html": [
       "<pre style=\"white-space:pre;overflow-x:auto;line-height:normal;font-family:Menlo,'DejaVu Sans Mono',consolas,'Courier New',monospace\">111\n",
       "</pre>\n"
      ],
      "text/plain": [
       "111\n"
      ]
     },
     "metadata": {},
     "output_type": "display_data"
    },
    {
     "data": {
      "text/html": [
       "<pre style=\"white-space:pre;overflow-x:auto;line-height:normal;font-family:Menlo,'DejaVu Sans Mono',consolas,'Courier New',monospace\">112\n",
       "</pre>\n"
      ],
      "text/plain": [
       "112\n"
      ]
     },
     "metadata": {},
     "output_type": "display_data"
    },
    {
     "data": {
      "text/html": [
       "<pre style=\"white-space:pre;overflow-x:auto;line-height:normal;font-family:Menlo,'DejaVu Sans Mono',consolas,'Courier New',monospace\">113\n",
       "</pre>\n"
      ],
      "text/plain": [
       "113\n"
      ]
     },
     "metadata": {},
     "output_type": "display_data"
    },
    {
     "data": {
      "text/html": [
       "<pre style=\"white-space:pre;overflow-x:auto;line-height:normal;font-family:Menlo,'DejaVu Sans Mono',consolas,'Courier New',monospace\">114\n",
       "</pre>\n"
      ],
      "text/plain": [
       "114\n"
      ]
     },
     "metadata": {},
     "output_type": "display_data"
    },
    {
     "data": {
      "text/html": [
       "<pre style=\"white-space:pre;overflow-x:auto;line-height:normal;font-family:Menlo,'DejaVu Sans Mono',consolas,'Courier New',monospace\">115\n",
       "</pre>\n"
      ],
      "text/plain": [
       "115\n"
      ]
     },
     "metadata": {},
     "output_type": "display_data"
    },
    {
     "data": {
      "text/html": [
       "<pre style=\"white-space:pre;overflow-x:auto;line-height:normal;font-family:Menlo,'DejaVu Sans Mono',consolas,'Courier New',monospace\">116\n",
       "</pre>\n"
      ],
      "text/plain": [
       "116\n"
      ]
     },
     "metadata": {},
     "output_type": "display_data"
    },
    {
     "data": {
      "text/html": [
       "<pre style=\"white-space:pre;overflow-x:auto;line-height:normal;font-family:Menlo,'DejaVu Sans Mono',consolas,'Courier New',monospace\">117\n",
       "</pre>\n"
      ],
      "text/plain": [
       "117\n"
      ]
     },
     "metadata": {},
     "output_type": "display_data"
    },
    {
     "data": {
      "text/html": [
       "<pre style=\"white-space:pre;overflow-x:auto;line-height:normal;font-family:Menlo,'DejaVu Sans Mono',consolas,'Courier New',monospace\">118\n",
       "</pre>\n"
      ],
      "text/plain": [
       "118\n"
      ]
     },
     "metadata": {},
     "output_type": "display_data"
    },
    {
     "data": {
      "text/html": [
       "<pre style=\"white-space:pre;overflow-x:auto;line-height:normal;font-family:Menlo,'DejaVu Sans Mono',consolas,'Courier New',monospace\">119\n",
       "</pre>\n"
      ],
      "text/plain": [
       "119\n"
      ]
     },
     "metadata": {},
     "output_type": "display_data"
    },
    {
     "data": {
      "text/html": [
       "<pre style=\"white-space:pre;overflow-x:auto;line-height:normal;font-family:Menlo,'DejaVu Sans Mono',consolas,'Courier New',monospace\">120\n",
       "</pre>\n"
      ],
      "text/plain": [
       "120\n"
      ]
     },
     "metadata": {},
     "output_type": "display_data"
    },
    {
     "data": {
      "text/html": [
       "<pre style=\"white-space:pre;overflow-x:auto;line-height:normal;font-family:Menlo,'DejaVu Sans Mono',consolas,'Courier New',monospace\">121\n",
       "</pre>\n"
      ],
      "text/plain": [
       "121\n"
      ]
     },
     "metadata": {},
     "output_type": "display_data"
    },
    {
     "data": {
      "text/html": [
       "<pre style=\"white-space:pre;overflow-x:auto;line-height:normal;font-family:Menlo,'DejaVu Sans Mono',consolas,'Courier New',monospace\">122\n",
       "</pre>\n"
      ],
      "text/plain": [
       "122\n"
      ]
     },
     "metadata": {},
     "output_type": "display_data"
    },
    {
     "data": {
      "text/html": [
       "<pre style=\"white-space:pre;overflow-x:auto;line-height:normal;font-family:Menlo,'DejaVu Sans Mono',consolas,'Courier New',monospace\">123\n",
       "</pre>\n"
      ],
      "text/plain": [
       "123\n"
      ]
     },
     "metadata": {},
     "output_type": "display_data"
    },
    {
     "data": {
      "text/html": [
       "<pre style=\"white-space:pre;overflow-x:auto;line-height:normal;font-family:Menlo,'DejaVu Sans Mono',consolas,'Courier New',monospace\">124\n",
       "</pre>\n"
      ],
      "text/plain": [
       "124\n"
      ]
     },
     "metadata": {},
     "output_type": "display_data"
    },
    {
     "data": {
      "text/html": [
       "<pre style=\"white-space:pre;overflow-x:auto;line-height:normal;font-family:Menlo,'DejaVu Sans Mono',consolas,'Courier New',monospace\">125\n",
       "</pre>\n"
      ],
      "text/plain": [
       "125\n"
      ]
     },
     "metadata": {},
     "output_type": "display_data"
    },
    {
     "data": {
      "text/html": [
       "<pre style=\"white-space:pre;overflow-x:auto;line-height:normal;font-family:Menlo,'DejaVu Sans Mono',consolas,'Courier New',monospace\">126\n",
       "</pre>\n"
      ],
      "text/plain": [
       "126\n"
      ]
     },
     "metadata": {},
     "output_type": "display_data"
    },
    {
     "data": {
      "text/html": [
       "<pre style=\"white-space:pre;overflow-x:auto;line-height:normal;font-family:Menlo,'DejaVu Sans Mono',consolas,'Courier New',monospace\">127\n",
       "</pre>\n"
      ],
      "text/plain": [
       "127\n"
      ]
     },
     "metadata": {},
     "output_type": "display_data"
    },
    {
     "data": {
      "text/html": [
       "<pre style=\"white-space:pre;overflow-x:auto;line-height:normal;font-family:Menlo,'DejaVu Sans Mono',consolas,'Courier New',monospace\">128\n",
       "</pre>\n"
      ],
      "text/plain": [
       "128\n"
      ]
     },
     "metadata": {},
     "output_type": "display_data"
    },
    {
     "data": {
      "text/html": [
       "<pre style=\"white-space:pre;overflow-x:auto;line-height:normal;font-family:Menlo,'DejaVu Sans Mono',consolas,'Courier New',monospace\">129\n",
       "</pre>\n"
      ],
      "text/plain": [
       "129\n"
      ]
     },
     "metadata": {},
     "output_type": "display_data"
    },
    {
     "data": {
      "text/html": [
       "<pre style=\"white-space:pre;overflow-x:auto;line-height:normal;font-family:Menlo,'DejaVu Sans Mono',consolas,'Courier New',monospace\">130\n",
       "</pre>\n"
      ],
      "text/plain": [
       "130\n"
      ]
     },
     "metadata": {},
     "output_type": "display_data"
    },
    {
     "data": {
      "text/html": [
       "<pre style=\"white-space:pre;overflow-x:auto;line-height:normal;font-family:Menlo,'DejaVu Sans Mono',consolas,'Courier New',monospace\">131\n",
       "</pre>\n"
      ],
      "text/plain": [
       "131\n"
      ]
     },
     "metadata": {},
     "output_type": "display_data"
    },
    {
     "data": {
      "text/html": [
       "<pre style=\"white-space:pre;overflow-x:auto;line-height:normal;font-family:Menlo,'DejaVu Sans Mono',consolas,'Courier New',monospace\">132\n",
       "</pre>\n"
      ],
      "text/plain": [
       "132\n"
      ]
     },
     "metadata": {},
     "output_type": "display_data"
    },
    {
     "data": {
      "text/html": [
       "<pre style=\"white-space:pre;overflow-x:auto;line-height:normal;font-family:Menlo,'DejaVu Sans Mono',consolas,'Courier New',monospace\">133\n",
       "</pre>\n"
      ],
      "text/plain": [
       "133\n"
      ]
     },
     "metadata": {},
     "output_type": "display_data"
    },
    {
     "data": {
      "text/html": [
       "<pre style=\"white-space:pre;overflow-x:auto;line-height:normal;font-family:Menlo,'DejaVu Sans Mono',consolas,'Courier New',monospace\">134\n",
       "</pre>\n"
      ],
      "text/plain": [
       "134\n"
      ]
     },
     "metadata": {},
     "output_type": "display_data"
    },
    {
     "data": {
      "text/html": [
       "<pre style=\"white-space:pre;overflow-x:auto;line-height:normal;font-family:Menlo,'DejaVu Sans Mono',consolas,'Courier New',monospace\">135\n",
       "</pre>\n"
      ],
      "text/plain": [
       "135\n"
      ]
     },
     "metadata": {},
     "output_type": "display_data"
    },
    {
     "data": {
      "text/html": [
       "<pre style=\"white-space:pre;overflow-x:auto;line-height:normal;font-family:Menlo,'DejaVu Sans Mono',consolas,'Courier New',monospace\">136\n",
       "</pre>\n"
      ],
      "text/plain": [
       "136\n"
      ]
     },
     "metadata": {},
     "output_type": "display_data"
    },
    {
     "data": {
      "text/html": [
       "<pre style=\"white-space:pre;overflow-x:auto;line-height:normal;font-family:Menlo,'DejaVu Sans Mono',consolas,'Courier New',monospace\">137\n",
       "</pre>\n"
      ],
      "text/plain": [
       "137\n"
      ]
     },
     "metadata": {},
     "output_type": "display_data"
    },
    {
     "data": {
      "text/html": [
       "<pre style=\"white-space:pre;overflow-x:auto;line-height:normal;font-family:Menlo,'DejaVu Sans Mono',consolas,'Courier New',monospace\">138\n",
       "</pre>\n"
      ],
      "text/plain": [
       "138\n"
      ]
     },
     "metadata": {},
     "output_type": "display_data"
    },
    {
     "data": {
      "text/html": [
       "<pre style=\"white-space:pre;overflow-x:auto;line-height:normal;font-family:Menlo,'DejaVu Sans Mono',consolas,'Courier New',monospace\">139\n",
       "</pre>\n"
      ],
      "text/plain": [
       "139\n"
      ]
     },
     "metadata": {},
     "output_type": "display_data"
    },
    {
     "data": {
      "text/html": [
       "<pre style=\"white-space:pre;overflow-x:auto;line-height:normal;font-family:Menlo,'DejaVu Sans Mono',consolas,'Courier New',monospace\">140\n",
       "</pre>\n"
      ],
      "text/plain": [
       "140\n"
      ]
     },
     "metadata": {},
     "output_type": "display_data"
    },
    {
     "data": {
      "text/html": [
       "<pre style=\"white-space:pre;overflow-x:auto;line-height:normal;font-family:Menlo,'DejaVu Sans Mono',consolas,'Courier New',monospace\">141\n",
       "</pre>\n"
      ],
      "text/plain": [
       "141\n"
      ]
     },
     "metadata": {},
     "output_type": "display_data"
    },
    {
     "data": {
      "text/html": [
       "<pre style=\"white-space:pre;overflow-x:auto;line-height:normal;font-family:Menlo,'DejaVu Sans Mono',consolas,'Courier New',monospace\">142\n",
       "</pre>\n"
      ],
      "text/plain": [
       "142\n"
      ]
     },
     "metadata": {},
     "output_type": "display_data"
    },
    {
     "data": {
      "text/html": [
       "<pre style=\"white-space:pre;overflow-x:auto;line-height:normal;font-family:Menlo,'DejaVu Sans Mono',consolas,'Courier New',monospace\">143\n",
       "</pre>\n"
      ],
      "text/plain": [
       "143\n"
      ]
     },
     "metadata": {},
     "output_type": "display_data"
    },
    {
     "data": {
      "text/html": [
       "<pre style=\"white-space:pre;overflow-x:auto;line-height:normal;font-family:Menlo,'DejaVu Sans Mono',consolas,'Courier New',monospace\">144\n",
       "</pre>\n"
      ],
      "text/plain": [
       "144\n"
      ]
     },
     "metadata": {},
     "output_type": "display_data"
    },
    {
     "data": {
      "text/html": [
       "<pre style=\"white-space:pre;overflow-x:auto;line-height:normal;font-family:Menlo,'DejaVu Sans Mono',consolas,'Courier New',monospace\">145\n",
       "</pre>\n"
      ],
      "text/plain": [
       "145\n"
      ]
     },
     "metadata": {},
     "output_type": "display_data"
    },
    {
     "data": {
      "text/html": [
       "<pre style=\"white-space:pre;overflow-x:auto;line-height:normal;font-family:Menlo,'DejaVu Sans Mono',consolas,'Courier New',monospace\">146\n",
       "</pre>\n"
      ],
      "text/plain": [
       "146\n"
      ]
     },
     "metadata": {},
     "output_type": "display_data"
    },
    {
     "data": {
      "text/html": [
       "<pre style=\"white-space:pre;overflow-x:auto;line-height:normal;font-family:Menlo,'DejaVu Sans Mono',consolas,'Courier New',monospace\">147\n",
       "</pre>\n"
      ],
      "text/plain": [
       "147\n"
      ]
     },
     "metadata": {},
     "output_type": "display_data"
    },
    {
     "data": {
      "text/html": [
       "<pre style=\"white-space:pre;overflow-x:auto;line-height:normal;font-family:Menlo,'DejaVu Sans Mono',consolas,'Courier New',monospace\">148\n",
       "</pre>\n"
      ],
      "text/plain": [
       "148\n"
      ]
     },
     "metadata": {},
     "output_type": "display_data"
    },
    {
     "data": {
      "text/html": [
       "<pre style=\"white-space:pre;overflow-x:auto;line-height:normal;font-family:Menlo,'DejaVu Sans Mono',consolas,'Courier New',monospace\">149\n",
       "</pre>\n"
      ],
      "text/plain": [
       "149\n"
      ]
     },
     "metadata": {},
     "output_type": "display_data"
    },
    {
     "data": {
      "text/html": [
       "<pre style=\"white-space:pre;overflow-x:auto;line-height:normal;font-family:Menlo,'DejaVu Sans Mono',consolas,'Courier New',monospace\">150\n",
       "</pre>\n"
      ],
      "text/plain": [
       "150\n"
      ]
     },
     "metadata": {},
     "output_type": "display_data"
    },
    {
     "data": {
      "text/html": [
       "<pre style=\"white-space:pre;overflow-x:auto;line-height:normal;font-family:Menlo,'DejaVu Sans Mono',consolas,'Courier New',monospace\">151\n",
       "</pre>\n"
      ],
      "text/plain": [
       "151\n"
      ]
     },
     "metadata": {},
     "output_type": "display_data"
    },
    {
     "data": {
      "text/html": [
       "<pre style=\"white-space:pre;overflow-x:auto;line-height:normal;font-family:Menlo,'DejaVu Sans Mono',consolas,'Courier New',monospace\">152\n",
       "</pre>\n"
      ],
      "text/plain": [
       "152\n"
      ]
     },
     "metadata": {},
     "output_type": "display_data"
    },
    {
     "data": {
      "text/html": [
       "<pre style=\"white-space:pre;overflow-x:auto;line-height:normal;font-family:Menlo,'DejaVu Sans Mono',consolas,'Courier New',monospace\">153\n",
       "</pre>\n"
      ],
      "text/plain": [
       "153\n"
      ]
     },
     "metadata": {},
     "output_type": "display_data"
    },
    {
     "data": {
      "text/html": [
       "<pre style=\"white-space:pre;overflow-x:auto;line-height:normal;font-family:Menlo,'DejaVu Sans Mono',consolas,'Courier New',monospace\">154\n",
       "</pre>\n"
      ],
      "text/plain": [
       "154\n"
      ]
     },
     "metadata": {},
     "output_type": "display_data"
    },
    {
     "data": {
      "text/html": [
       "<pre style=\"white-space:pre;overflow-x:auto;line-height:normal;font-family:Menlo,'DejaVu Sans Mono',consolas,'Courier New',monospace\">155\n",
       "</pre>\n"
      ],
      "text/plain": [
       "155\n"
      ]
     },
     "metadata": {},
     "output_type": "display_data"
    },
    {
     "data": {
      "text/html": [
       "<pre style=\"white-space:pre;overflow-x:auto;line-height:normal;font-family:Menlo,'DejaVu Sans Mono',consolas,'Courier New',monospace\">156\n",
       "</pre>\n"
      ],
      "text/plain": [
       "156\n"
      ]
     },
     "metadata": {},
     "output_type": "display_data"
    },
    {
     "data": {
      "text/html": [
       "<pre style=\"white-space:pre;overflow-x:auto;line-height:normal;font-family:Menlo,'DejaVu Sans Mono',consolas,'Courier New',monospace\">157\n",
       "</pre>\n"
      ],
      "text/plain": [
       "157\n"
      ]
     },
     "metadata": {},
     "output_type": "display_data"
    },
    {
     "data": {
      "text/html": [
       "<pre style=\"white-space:pre;overflow-x:auto;line-height:normal;font-family:Menlo,'DejaVu Sans Mono',consolas,'Courier New',monospace\">158\n",
       "</pre>\n"
      ],
      "text/plain": [
       "158\n"
      ]
     },
     "metadata": {},
     "output_type": "display_data"
    },
    {
     "data": {
      "text/html": [
       "<pre style=\"white-space:pre;overflow-x:auto;line-height:normal;font-family:Menlo,'DejaVu Sans Mono',consolas,'Courier New',monospace\">159\n",
       "</pre>\n"
      ],
      "text/plain": [
       "159\n"
      ]
     },
     "metadata": {},
     "output_type": "display_data"
    },
    {
     "data": {
      "text/html": [
       "<pre style=\"white-space:pre;overflow-x:auto;line-height:normal;font-family:Menlo,'DejaVu Sans Mono',consolas,'Courier New',monospace\">160\n",
       "</pre>\n"
      ],
      "text/plain": [
       "160\n"
      ]
     },
     "metadata": {},
     "output_type": "display_data"
    },
    {
     "data": {
      "text/html": [
       "<pre style=\"white-space:pre;overflow-x:auto;line-height:normal;font-family:Menlo,'DejaVu Sans Mono',consolas,'Courier New',monospace\">161\n",
       "</pre>\n"
      ],
      "text/plain": [
       "161\n"
      ]
     },
     "metadata": {},
     "output_type": "display_data"
    },
    {
     "data": {
      "text/html": [
       "<pre style=\"white-space:pre;overflow-x:auto;line-height:normal;font-family:Menlo,'DejaVu Sans Mono',consolas,'Courier New',monospace\"></pre>\n"
      ],
      "text/plain": []
     },
     "metadata": {},
     "output_type": "display_data"
    },
    {
     "data": {
      "text/html": [
       "<pre style=\"white-space:pre;overflow-x:auto;line-height:normal;font-family:Menlo,'DejaVu Sans Mono',consolas,'Courier New',monospace\">\n",
       "</pre>\n"
      ],
      "text/plain": [
       "\n"
      ]
     },
     "metadata": {},
     "output_type": "display_data"
    },
    {
     "ename": "KeyboardInterrupt",
     "evalue": "",
     "output_type": "error",
     "traceback": [
      "\u001b[0;31m---------------------------------------------------------------------------\u001b[0m",
      "\u001b[0;31mKeyboardInterrupt\u001b[0m                         Traceback (most recent call last)",
      "\u001b[0;32m<ipython-input-74-372612a813c9>\u001b[0m in \u001b[0;36m<module>\u001b[0;34m\u001b[0m\n\u001b[1;32m      4\u001b[0m \u001b[0mdf_indies_tmp\u001b[0m \u001b[0;34m=\u001b[0m \u001b[0mdf_indies_map\u001b[0m\u001b[0;34m[\u001b[0m\u001b[0mwindow\u001b[0m\u001b[0;34m]\u001b[0m\u001b[0;34m\u001b[0m\u001b[0;34m\u001b[0m\u001b[0m\n\u001b[1;32m      5\u001b[0m \u001b[0;32mfor\u001b[0m \u001b[0mtime_stamp\u001b[0m \u001b[0;32min\u001b[0m \u001b[0mtrack\u001b[0m\u001b[0;34m(\u001b[0m\u001b[0mdf_indies_tmp\u001b[0m\u001b[0;34m)\u001b[0m\u001b[0;34m:\u001b[0m\u001b[0;34m\u001b[0m\u001b[0;34m\u001b[0m\u001b[0m\n\u001b[0;32m----> 6\u001b[0;31m     \u001b[0mtest_id_list\u001b[0m \u001b[0;34m=\u001b[0m \u001b[0mnp\u001b[0m\u001b[0;34m.\u001b[0m\u001b[0munique\u001b[0m\u001b[0;34m(\u001b[0m\u001b[0mdf_sum_sa\u001b[0m\u001b[0;34m[\u001b[0m\u001b[0;34m(\u001b[0m\u001b[0mdf_sum_sa\u001b[0m\u001b[0;34m[\u001b[0m\u001b[0munix_time\u001b[0m\u001b[0;34m]\u001b[0m \u001b[0;34m>\u001b[0m \u001b[0mtime_stamp\u001b[0m\u001b[0;34m*\u001b[0m\u001b[0;36m30\u001b[0m\u001b[0;34m+\u001b[0m\u001b[0mtime_min_new\u001b[0m\u001b[0;34m)\u001b[0m\u001b[0;34m&\u001b[0m\u001b[0;34m(\u001b[0m\u001b[0mdf_sum_sa\u001b[0m\u001b[0;34m[\u001b[0m\u001b[0munix_time\u001b[0m\u001b[0;34m]\u001b[0m \u001b[0;34m<=\u001b[0m \u001b[0mtime_stamp\u001b[0m\u001b[0;34m*\u001b[0m\u001b[0;36m30\u001b[0m\u001b[0;34m+\u001b[0m\u001b[0;36m30\u001b[0m\u001b[0;34m+\u001b[0m\u001b[0mtime_min_new\u001b[0m\u001b[0;34m)\u001b[0m\u001b[0;34m]\u001b[0m\u001b[0;34m[\u001b[0m\u001b[0;34m'Station ID'\u001b[0m\u001b[0;34m]\u001b[0m\u001b[0;34m.\u001b[0m\u001b[0mvalues\u001b[0m\u001b[0;34m)\u001b[0m\u001b[0;34m\u001b[0m\u001b[0;34m\u001b[0m\u001b[0m\n\u001b[0m\u001b[1;32m      7\u001b[0m     \u001b[0;32mif\u001b[0m \u001b[0;34m(\u001b[0m\u001b[0mnp\u001b[0m\u001b[0;34m.\u001b[0m\u001b[0munique\u001b[0m\u001b[0;34m(\u001b[0m\u001b[0midd\u001b[0m\u001b[0;34m)\u001b[0m \u001b[0;34m==\u001b[0m \u001b[0mnp\u001b[0m\u001b[0;34m.\u001b[0m\u001b[0mintersect1d\u001b[0m\u001b[0;34m(\u001b[0m\u001b[0midd\u001b[0m\u001b[0;34m,\u001b[0m\u001b[0mtest_id_list\u001b[0m\u001b[0;34m)\u001b[0m\u001b[0;34m)\u001b[0m\u001b[0;34m.\u001b[0m\u001b[0mall\u001b[0m\u001b[0;34m(\u001b[0m\u001b[0;34m)\u001b[0m \u001b[0;34m==\u001b[0m \u001b[0;32mFalse\u001b[0m\u001b[0;34m:\u001b[0m\u001b[0;34m\u001b[0m\u001b[0;34m\u001b[0m\u001b[0m\n\u001b[1;32m      8\u001b[0m         \u001b[0merror_count\u001b[0m \u001b[0;34m+=\u001b[0m \u001b[0;36m1\u001b[0m\u001b[0;34m\u001b[0m\u001b[0;34m\u001b[0m\u001b[0m\n",
      "\u001b[0;32m~/.pyenv/versions/anaconda3-2020.02/envs/ccs_ta/lib/python3.7/site-packages/pandas/core/ops/common.py\u001b[0m in \u001b[0;36mnew_method\u001b[0;34m(self, other)\u001b[0m\n\u001b[1;32m     62\u001b[0m         \u001b[0mother\u001b[0m \u001b[0;34m=\u001b[0m \u001b[0mitem_from_zerodim\u001b[0m\u001b[0;34m(\u001b[0m\u001b[0mother\u001b[0m\u001b[0;34m)\u001b[0m\u001b[0;34m\u001b[0m\u001b[0;34m\u001b[0m\u001b[0m\n\u001b[1;32m     63\u001b[0m \u001b[0;34m\u001b[0m\u001b[0m\n\u001b[0;32m---> 64\u001b[0;31m         \u001b[0;32mreturn\u001b[0m \u001b[0mmethod\u001b[0m\u001b[0;34m(\u001b[0m\u001b[0mself\u001b[0m\u001b[0;34m,\u001b[0m \u001b[0mother\u001b[0m\u001b[0;34m)\u001b[0m\u001b[0;34m\u001b[0m\u001b[0;34m\u001b[0m\u001b[0m\n\u001b[0m\u001b[1;32m     65\u001b[0m \u001b[0;34m\u001b[0m\u001b[0m\n\u001b[1;32m     66\u001b[0m     \u001b[0;32mreturn\u001b[0m \u001b[0mnew_method\u001b[0m\u001b[0;34m\u001b[0m\u001b[0;34m\u001b[0m\u001b[0m\n",
      "\u001b[0;32m~/.pyenv/versions/anaconda3-2020.02/envs/ccs_ta/lib/python3.7/site-packages/pandas/core/ops/__init__.py\u001b[0m in \u001b[0;36mwrapper\u001b[0;34m(self, other)\u001b[0m\n\u001b[1;32m    547\u001b[0m         \u001b[0mrvalues\u001b[0m \u001b[0;34m=\u001b[0m \u001b[0mextract_array\u001b[0m\u001b[0;34m(\u001b[0m\u001b[0mother\u001b[0m\u001b[0;34m,\u001b[0m \u001b[0mextract_numpy\u001b[0m\u001b[0;34m=\u001b[0m\u001b[0;32mTrue\u001b[0m\u001b[0;34m)\u001b[0m\u001b[0;34m\u001b[0m\u001b[0;34m\u001b[0m\u001b[0m\n\u001b[1;32m    548\u001b[0m \u001b[0;34m\u001b[0m\u001b[0m\n\u001b[0;32m--> 549\u001b[0;31m         \u001b[0mres_values\u001b[0m \u001b[0;34m=\u001b[0m \u001b[0mlogical_op\u001b[0m\u001b[0;34m(\u001b[0m\u001b[0mlvalues\u001b[0m\u001b[0;34m,\u001b[0m \u001b[0mrvalues\u001b[0m\u001b[0;34m,\u001b[0m \u001b[0mop\u001b[0m\u001b[0;34m)\u001b[0m\u001b[0;34m\u001b[0m\u001b[0;34m\u001b[0m\u001b[0m\n\u001b[0m\u001b[1;32m    550\u001b[0m         \u001b[0;32mreturn\u001b[0m \u001b[0m_construct_result\u001b[0m\u001b[0;34m(\u001b[0m\u001b[0mself\u001b[0m\u001b[0;34m,\u001b[0m \u001b[0mres_values\u001b[0m\u001b[0;34m,\u001b[0m \u001b[0mindex\u001b[0m\u001b[0;34m=\u001b[0m\u001b[0mself\u001b[0m\u001b[0;34m.\u001b[0m\u001b[0mindex\u001b[0m\u001b[0;34m,\u001b[0m \u001b[0mname\u001b[0m\u001b[0;34m=\u001b[0m\u001b[0mres_name\u001b[0m\u001b[0;34m)\u001b[0m\u001b[0;34m\u001b[0m\u001b[0;34m\u001b[0m\u001b[0m\n\u001b[1;32m    551\u001b[0m \u001b[0;34m\u001b[0m\u001b[0m\n",
      "\u001b[0;32m~/.pyenv/versions/anaconda3-2020.02/envs/ccs_ta/lib/python3.7/site-packages/pandas/core/ops/array_ops.py\u001b[0m in \u001b[0;36mlogical_op\u001b[0;34m(left, right, op)\u001b[0m\n\u001b[1;32m    364\u001b[0m         \u001b[0mfiller\u001b[0m \u001b[0;34m=\u001b[0m \u001b[0mfill_int\u001b[0m \u001b[0;32mif\u001b[0m \u001b[0mis_self_int_dtype\u001b[0m \u001b[0;32mand\u001b[0m \u001b[0mis_other_int_dtype\u001b[0m \u001b[0;32melse\u001b[0m \u001b[0mfill_bool\u001b[0m\u001b[0;34m\u001b[0m\u001b[0;34m\u001b[0m\u001b[0m\n\u001b[1;32m    365\u001b[0m \u001b[0;34m\u001b[0m\u001b[0m\n\u001b[0;32m--> 366\u001b[0;31m         \u001b[0mres_values\u001b[0m \u001b[0;34m=\u001b[0m \u001b[0mna_logical_op\u001b[0m\u001b[0;34m(\u001b[0m\u001b[0mlvalues\u001b[0m\u001b[0;34m,\u001b[0m \u001b[0mrvalues\u001b[0m\u001b[0;34m,\u001b[0m \u001b[0mop\u001b[0m\u001b[0;34m)\u001b[0m\u001b[0;34m\u001b[0m\u001b[0;34m\u001b[0m\u001b[0m\n\u001b[0m\u001b[1;32m    367\u001b[0m         \u001b[0mres_values\u001b[0m \u001b[0;34m=\u001b[0m \u001b[0mfiller\u001b[0m\u001b[0;34m(\u001b[0m\u001b[0mres_values\u001b[0m\u001b[0;34m)\u001b[0m  \u001b[0;31m# type: ignore\u001b[0m\u001b[0;34m\u001b[0m\u001b[0;34m\u001b[0m\u001b[0m\n\u001b[1;32m    368\u001b[0m \u001b[0;34m\u001b[0m\u001b[0m\n",
      "\u001b[0;32m~/.pyenv/versions/anaconda3-2020.02/envs/ccs_ta/lib/python3.7/site-packages/pandas/core/ops/array_ops.py\u001b[0m in \u001b[0;36mna_logical_op\u001b[0;34m(x, y, op)\u001b[0m\n\u001b[1;32m    272\u001b[0m         \u001b[0;31m# Then Cases where this goes through without raising include:\u001b[0m\u001b[0;34m\u001b[0m\u001b[0;34m\u001b[0m\u001b[0;34m\u001b[0m\u001b[0m\n\u001b[1;32m    273\u001b[0m         \u001b[0;31m#  (xint or xbool) and (yint or bool)\u001b[0m\u001b[0;34m\u001b[0m\u001b[0;34m\u001b[0m\u001b[0;34m\u001b[0m\u001b[0m\n\u001b[0;32m--> 274\u001b[0;31m         \u001b[0mresult\u001b[0m \u001b[0;34m=\u001b[0m \u001b[0mop\u001b[0m\u001b[0;34m(\u001b[0m\u001b[0mx\u001b[0m\u001b[0;34m,\u001b[0m \u001b[0my\u001b[0m\u001b[0;34m)\u001b[0m\u001b[0;34m\u001b[0m\u001b[0;34m\u001b[0m\u001b[0m\n\u001b[0m\u001b[1;32m    275\u001b[0m     \u001b[0;32mexcept\u001b[0m \u001b[0mTypeError\u001b[0m\u001b[0;34m:\u001b[0m\u001b[0;34m\u001b[0m\u001b[0;34m\u001b[0m\u001b[0m\n\u001b[1;32m    276\u001b[0m         \u001b[0;32mif\u001b[0m \u001b[0misinstance\u001b[0m\u001b[0;34m(\u001b[0m\u001b[0my\u001b[0m\u001b[0;34m,\u001b[0m \u001b[0mnp\u001b[0m\u001b[0;34m.\u001b[0m\u001b[0mndarray\u001b[0m\u001b[0;34m)\u001b[0m\u001b[0;34m:\u001b[0m\u001b[0;34m\u001b[0m\u001b[0;34m\u001b[0m\u001b[0m\n",
      "\u001b[0;31mKeyboardInterrupt\u001b[0m: "
     ]
    }
   ],
   "source": [
    "window = 5\n",
    "error_count = 0\n",
    "count = 0\n",
    "df_indies_tmp = df_indies_map[window]\n",
    "for time_stamp in track(df_indies_tmp):\n",
    "    test_id_list = np.unique(df_sum_sa[(df_sum_sa[unix_time] > time_stamp*30+time_min_new)&(df_sum_sa[unix_time] <= time_stamp*30+30+time_min_new)]['Station ID'].values)\n",
    "    if (np.unique(idd) == np.intersect1d(idd,test_id_list)).all() == False:\n",
    "        error_count += 1\n",
    "    count += 1\n",
    "    print(count)\n",
    "    "
   ]
  },
  {
   "cell_type": "code",
   "execution_count": 75,
   "metadata": {},
   "outputs": [
    {
     "data": {
      "text/html": [
       "<pre style=\"white-space:pre;overflow-x:auto;line-height:normal;font-family:Menlo,'DejaVu Sans Mono',consolas,'Courier New',monospace\">Working... <span style=\"color: #3a3a3a; text-decoration-color: #3a3a3a\">━━━━━━━━━━━━━━━━━━━━━━━━━━━━━━━━━━━━━━━━</span> <span style=\"color: #800080; text-decoration-color: #800080\">  1%</span> <span style=\"color: #008080; text-decoration-color: #008080\">3:57:39</span>\n",
       "</pre>\n"
      ],
      "text/plain": [
       "Working... \u001b[38;5;237m━━━━━━━━━━━━━━━━━━━━━━━━━━━━━━━━━━━━━━━━\u001b[0m \u001b[35m  1%\u001b[0m \u001b[36m3:57:39\u001b[0m\n"
      ]
     },
     "metadata": {},
     "output_type": "display_data"
    },
    {
     "data": {
      "text/html": [
       "<pre style=\"white-space:pre;overflow-x:auto;line-height:normal;font-family:Menlo,'DejaVu Sans Mono',consolas,'Courier New',monospace\">2644\n",
       "</pre>\n"
      ],
      "text/plain": [
       "2644\n"
      ]
     },
     "metadata": {},
     "output_type": "display_data"
    },
    {
     "data": {
      "text/html": [
       "<pre style=\"white-space:pre;overflow-x:auto;line-height:normal;font-family:Menlo,'DejaVu Sans Mono',consolas,'Courier New',monospace\">2645\n",
       "</pre>\n"
      ],
      "text/plain": [
       "2645\n"
      ]
     },
     "metadata": {},
     "output_type": "display_data"
    },
    {
     "data": {
      "text/html": [
       "<pre style=\"white-space:pre;overflow-x:auto;line-height:normal;font-family:Menlo,'DejaVu Sans Mono',consolas,'Courier New',monospace\">2646\n",
       "</pre>\n"
      ],
      "text/plain": [
       "2646\n"
      ]
     },
     "metadata": {},
     "output_type": "display_data"
    },
    {
     "data": {
      "text/html": [
       "<pre style=\"white-space:pre;overflow-x:auto;line-height:normal;font-family:Menlo,'DejaVu Sans Mono',consolas,'Courier New',monospace\">2647\n",
       "</pre>\n"
      ],
      "text/plain": [
       "2647\n"
      ]
     },
     "metadata": {},
     "output_type": "display_data"
    },
    {
     "data": {
      "text/html": [
       "<pre style=\"white-space:pre;overflow-x:auto;line-height:normal;font-family:Menlo,'DejaVu Sans Mono',consolas,'Courier New',monospace\">2648\n",
       "</pre>\n"
      ],
      "text/plain": [
       "2648\n"
      ]
     },
     "metadata": {},
     "output_type": "display_data"
    },
    {
     "data": {
      "text/html": [
       "<pre style=\"white-space:pre;overflow-x:auto;line-height:normal;font-family:Menlo,'DejaVu Sans Mono',consolas,'Courier New',monospace\">2649\n",
       "</pre>\n"
      ],
      "text/plain": [
       "2649\n"
      ]
     },
     "metadata": {},
     "output_type": "display_data"
    },
    {
     "data": {
      "text/html": [
       "<pre style=\"white-space:pre;overflow-x:auto;line-height:normal;font-family:Menlo,'DejaVu Sans Mono',consolas,'Courier New',monospace\">2650\n",
       "</pre>\n"
      ],
      "text/plain": [
       "2650\n"
      ]
     },
     "metadata": {},
     "output_type": "display_data"
    },
    {
     "data": {
      "text/html": [
       "<pre style=\"white-space:pre;overflow-x:auto;line-height:normal;font-family:Menlo,'DejaVu Sans Mono',consolas,'Courier New',monospace\">2651\n",
       "</pre>\n"
      ],
      "text/plain": [
       "2651\n"
      ]
     },
     "metadata": {},
     "output_type": "display_data"
    },
    {
     "data": {
      "text/html": [
       "<pre style=\"white-space:pre;overflow-x:auto;line-height:normal;font-family:Menlo,'DejaVu Sans Mono',consolas,'Courier New',monospace\">2652\n",
       "</pre>\n"
      ],
      "text/plain": [
       "2652\n"
      ]
     },
     "metadata": {},
     "output_type": "display_data"
    },
    {
     "data": {
      "text/html": [
       "<pre style=\"white-space:pre;overflow-x:auto;line-height:normal;font-family:Menlo,'DejaVu Sans Mono',consolas,'Courier New',monospace\">2653\n",
       "</pre>\n"
      ],
      "text/plain": [
       "2653\n"
      ]
     },
     "metadata": {},
     "output_type": "display_data"
    },
    {
     "data": {
      "text/html": [
       "<pre style=\"white-space:pre;overflow-x:auto;line-height:normal;font-family:Menlo,'DejaVu Sans Mono',consolas,'Courier New',monospace\">2654\n",
       "</pre>\n"
      ],
      "text/plain": [
       "2654\n"
      ]
     },
     "metadata": {},
     "output_type": "display_data"
    },
    {
     "data": {
      "text/html": [
       "<pre style=\"white-space:pre;overflow-x:auto;line-height:normal;font-family:Menlo,'DejaVu Sans Mono',consolas,'Courier New',monospace\">2655\n",
       "</pre>\n"
      ],
      "text/plain": [
       "2655\n"
      ]
     },
     "metadata": {},
     "output_type": "display_data"
    },
    {
     "data": {
      "text/html": [
       "<pre style=\"white-space:pre;overflow-x:auto;line-height:normal;font-family:Menlo,'DejaVu Sans Mono',consolas,'Courier New',monospace\">2656\n",
       "</pre>\n"
      ],
      "text/plain": [
       "2656\n"
      ]
     },
     "metadata": {},
     "output_type": "display_data"
    },
    {
     "data": {
      "text/html": [
       "<pre style=\"white-space:pre;overflow-x:auto;line-height:normal;font-family:Menlo,'DejaVu Sans Mono',consolas,'Courier New',monospace\">2657\n",
       "</pre>\n"
      ],
      "text/plain": [
       "2657\n"
      ]
     },
     "metadata": {},
     "output_type": "display_data"
    },
    {
     "data": {
      "text/html": [
       "<pre style=\"white-space:pre;overflow-x:auto;line-height:normal;font-family:Menlo,'DejaVu Sans Mono',consolas,'Courier New',monospace\">2659\n",
       "</pre>\n"
      ],
      "text/plain": [
       "2659\n"
      ]
     },
     "metadata": {},
     "output_type": "display_data"
    },
    {
     "data": {
      "text/html": [
       "<pre style=\"white-space:pre;overflow-x:auto;line-height:normal;font-family:Menlo,'DejaVu Sans Mono',consolas,'Courier New',monospace\">2660\n",
       "</pre>\n"
      ],
      "text/plain": [
       "2660\n"
      ]
     },
     "metadata": {},
     "output_type": "display_data"
    },
    {
     "data": {
      "text/html": [
       "<pre style=\"white-space:pre;overflow-x:auto;line-height:normal;font-family:Menlo,'DejaVu Sans Mono',consolas,'Courier New',monospace\">2661\n",
       "</pre>\n"
      ],
      "text/plain": [
       "2661\n"
      ]
     },
     "metadata": {},
     "output_type": "display_data"
    },
    {
     "data": {
      "text/html": [
       "<pre style=\"white-space:pre;overflow-x:auto;line-height:normal;font-family:Menlo,'DejaVu Sans Mono',consolas,'Courier New',monospace\">2662\n",
       "</pre>\n"
      ],
      "text/plain": [
       "2662\n"
      ]
     },
     "metadata": {},
     "output_type": "display_data"
    },
    {
     "data": {
      "text/html": [
       "<pre style=\"white-space:pre;overflow-x:auto;line-height:normal;font-family:Menlo,'DejaVu Sans Mono',consolas,'Courier New',monospace\">2663\n",
       "</pre>\n"
      ],
      "text/plain": [
       "2663\n"
      ]
     },
     "metadata": {},
     "output_type": "display_data"
    },
    {
     "data": {
      "text/html": [
       "<pre style=\"white-space:pre;overflow-x:auto;line-height:normal;font-family:Menlo,'DejaVu Sans Mono',consolas,'Courier New',monospace\">2664\n",
       "</pre>\n"
      ],
      "text/plain": [
       "2664\n"
      ]
     },
     "metadata": {},
     "output_type": "display_data"
    },
    {
     "data": {
      "text/html": [
       "<pre style=\"white-space:pre;overflow-x:auto;line-height:normal;font-family:Menlo,'DejaVu Sans Mono',consolas,'Courier New',monospace\">2665\n",
       "</pre>\n"
      ],
      "text/plain": [
       "2665\n"
      ]
     },
     "metadata": {},
     "output_type": "display_data"
    },
    {
     "data": {
      "text/html": [
       "<pre style=\"white-space:pre;overflow-x:auto;line-height:normal;font-family:Menlo,'DejaVu Sans Mono',consolas,'Courier New',monospace\">2666\n",
       "</pre>\n"
      ],
      "text/plain": [
       "2666\n"
      ]
     },
     "metadata": {},
     "output_type": "display_data"
    },
    {
     "data": {
      "text/html": [
       "<pre style=\"white-space:pre;overflow-x:auto;line-height:normal;font-family:Menlo,'DejaVu Sans Mono',consolas,'Courier New',monospace\">2667\n",
       "</pre>\n"
      ],
      "text/plain": [
       "2667\n"
      ]
     },
     "metadata": {},
     "output_type": "display_data"
    },
    {
     "data": {
      "text/html": [
       "<pre style=\"white-space:pre;overflow-x:auto;line-height:normal;font-family:Menlo,'DejaVu Sans Mono',consolas,'Courier New',monospace\">2668\n",
       "</pre>\n"
      ],
      "text/plain": [
       "2668\n"
      ]
     },
     "metadata": {},
     "output_type": "display_data"
    },
    {
     "data": {
      "text/html": [
       "<pre style=\"white-space:pre;overflow-x:auto;line-height:normal;font-family:Menlo,'DejaVu Sans Mono',consolas,'Courier New',monospace\">2669\n",
       "</pre>\n"
      ],
      "text/plain": [
       "2669\n"
      ]
     },
     "metadata": {},
     "output_type": "display_data"
    },
    {
     "data": {
      "text/html": [
       "<pre style=\"white-space:pre;overflow-x:auto;line-height:normal;font-family:Menlo,'DejaVu Sans Mono',consolas,'Courier New',monospace\">2670\n",
       "</pre>\n"
      ],
      "text/plain": [
       "2670\n"
      ]
     },
     "metadata": {},
     "output_type": "display_data"
    },
    {
     "data": {
      "text/html": [
       "<pre style=\"white-space:pre;overflow-x:auto;line-height:normal;font-family:Menlo,'DejaVu Sans Mono',consolas,'Courier New',monospace\">2671\n",
       "</pre>\n"
      ],
      "text/plain": [
       "2671\n"
      ]
     },
     "metadata": {},
     "output_type": "display_data"
    },
    {
     "data": {
      "text/html": [
       "<pre style=\"white-space:pre;overflow-x:auto;line-height:normal;font-family:Menlo,'DejaVu Sans Mono',consolas,'Courier New',monospace\">2672\n",
       "</pre>\n"
      ],
      "text/plain": [
       "2672\n"
      ]
     },
     "metadata": {},
     "output_type": "display_data"
    },
    {
     "data": {
      "text/html": [
       "<pre style=\"white-space:pre;overflow-x:auto;line-height:normal;font-family:Menlo,'DejaVu Sans Mono',consolas,'Courier New',monospace\">2673\n",
       "</pre>\n"
      ],
      "text/plain": [
       "2673\n"
      ]
     },
     "metadata": {},
     "output_type": "display_data"
    },
    {
     "data": {
      "text/html": [
       "<pre style=\"white-space:pre;overflow-x:auto;line-height:normal;font-family:Menlo,'DejaVu Sans Mono',consolas,'Courier New',monospace\">2674\n",
       "</pre>\n"
      ],
      "text/plain": [
       "2674\n"
      ]
     },
     "metadata": {},
     "output_type": "display_data"
    },
    {
     "data": {
      "text/html": [
       "<pre style=\"white-space:pre;overflow-x:auto;line-height:normal;font-family:Menlo,'DejaVu Sans Mono',consolas,'Courier New',monospace\">2675\n",
       "</pre>\n"
      ],
      "text/plain": [
       "2675\n"
      ]
     },
     "metadata": {},
     "output_type": "display_data"
    },
    {
     "data": {
      "text/html": [
       "<pre style=\"white-space:pre;overflow-x:auto;line-height:normal;font-family:Menlo,'DejaVu Sans Mono',consolas,'Courier New',monospace\">2676\n",
       "</pre>\n"
      ],
      "text/plain": [
       "2676\n"
      ]
     },
     "metadata": {},
     "output_type": "display_data"
    },
    {
     "data": {
      "text/html": [
       "<pre style=\"white-space:pre;overflow-x:auto;line-height:normal;font-family:Menlo,'DejaVu Sans Mono',consolas,'Courier New',monospace\">2677\n",
       "</pre>\n"
      ],
      "text/plain": [
       "2677\n"
      ]
     },
     "metadata": {},
     "output_type": "display_data"
    },
    {
     "data": {
      "text/html": [
       "<pre style=\"white-space:pre;overflow-x:auto;line-height:normal;font-family:Menlo,'DejaVu Sans Mono',consolas,'Courier New',monospace\">2678\n",
       "</pre>\n"
      ],
      "text/plain": [
       "2678\n"
      ]
     },
     "metadata": {},
     "output_type": "display_data"
    },
    {
     "data": {
      "text/html": [
       "<pre style=\"white-space:pre;overflow-x:auto;line-height:normal;font-family:Menlo,'DejaVu Sans Mono',consolas,'Courier New',monospace\">2679\n",
       "</pre>\n"
      ],
      "text/plain": [
       "2679\n"
      ]
     },
     "metadata": {},
     "output_type": "display_data"
    },
    {
     "data": {
      "text/html": [
       "<pre style=\"white-space:pre;overflow-x:auto;line-height:normal;font-family:Menlo,'DejaVu Sans Mono',consolas,'Courier New',monospace\">2680\n",
       "</pre>\n"
      ],
      "text/plain": [
       "2680\n"
      ]
     },
     "metadata": {},
     "output_type": "display_data"
    },
    {
     "data": {
      "text/html": [
       "<pre style=\"white-space:pre;overflow-x:auto;line-height:normal;font-family:Menlo,'DejaVu Sans Mono',consolas,'Courier New',monospace\">2681\n",
       "</pre>\n"
      ],
      "text/plain": [
       "2681\n"
      ]
     },
     "metadata": {},
     "output_type": "display_data"
    },
    {
     "data": {
      "text/html": [
       "<pre style=\"white-space:pre;overflow-x:auto;line-height:normal;font-family:Menlo,'DejaVu Sans Mono',consolas,'Courier New',monospace\">2682\n",
       "</pre>\n"
      ],
      "text/plain": [
       "2682\n"
      ]
     },
     "metadata": {},
     "output_type": "display_data"
    },
    {
     "data": {
      "text/html": [
       "<pre style=\"white-space:pre;overflow-x:auto;line-height:normal;font-family:Menlo,'DejaVu Sans Mono',consolas,'Courier New',monospace\">2683\n",
       "</pre>\n"
      ],
      "text/plain": [
       "2683\n"
      ]
     },
     "metadata": {},
     "output_type": "display_data"
    },
    {
     "data": {
      "text/html": [
       "<pre style=\"white-space:pre;overflow-x:auto;line-height:normal;font-family:Menlo,'DejaVu Sans Mono',consolas,'Courier New',monospace\">2684\n",
       "</pre>\n"
      ],
      "text/plain": [
       "2684\n"
      ]
     },
     "metadata": {},
     "output_type": "display_data"
    },
    {
     "data": {
      "text/html": [
       "<pre style=\"white-space:pre;overflow-x:auto;line-height:normal;font-family:Menlo,'DejaVu Sans Mono',consolas,'Courier New',monospace\">2685\n",
       "</pre>\n"
      ],
      "text/plain": [
       "2685\n"
      ]
     },
     "metadata": {},
     "output_type": "display_data"
    },
    {
     "data": {
      "text/html": [
       "<pre style=\"white-space:pre;overflow-x:auto;line-height:normal;font-family:Menlo,'DejaVu Sans Mono',consolas,'Courier New',monospace\">2686\n",
       "</pre>\n"
      ],
      "text/plain": [
       "2686\n"
      ]
     },
     "metadata": {},
     "output_type": "display_data"
    },
    {
     "data": {
      "text/html": [
       "<pre style=\"white-space:pre;overflow-x:auto;line-height:normal;font-family:Menlo,'DejaVu Sans Mono',consolas,'Courier New',monospace\">2687\n",
       "</pre>\n"
      ],
      "text/plain": [
       "2687\n"
      ]
     },
     "metadata": {},
     "output_type": "display_data"
    },
    {
     "data": {
      "text/html": [
       "<pre style=\"white-space:pre;overflow-x:auto;line-height:normal;font-family:Menlo,'DejaVu Sans Mono',consolas,'Courier New',monospace\">2688\n",
       "</pre>\n"
      ],
      "text/plain": [
       "2688\n"
      ]
     },
     "metadata": {},
     "output_type": "display_data"
    },
    {
     "data": {
      "text/html": [
       "<pre style=\"white-space:pre;overflow-x:auto;line-height:normal;font-family:Menlo,'DejaVu Sans Mono',consolas,'Courier New',monospace\">2689\n",
       "</pre>\n"
      ],
      "text/plain": [
       "2689\n"
      ]
     },
     "metadata": {},
     "output_type": "display_data"
    },
    {
     "data": {
      "text/html": [
       "<pre style=\"white-space:pre;overflow-x:auto;line-height:normal;font-family:Menlo,'DejaVu Sans Mono',consolas,'Courier New',monospace\">2690\n",
       "</pre>\n"
      ],
      "text/plain": [
       "2690\n"
      ]
     },
     "metadata": {},
     "output_type": "display_data"
    },
    {
     "data": {
      "text/html": [
       "<pre style=\"white-space:pre;overflow-x:auto;line-height:normal;font-family:Menlo,'DejaVu Sans Mono',consolas,'Courier New',monospace\">2691\n",
       "</pre>\n"
      ],
      "text/plain": [
       "2691\n"
      ]
     },
     "metadata": {},
     "output_type": "display_data"
    },
    {
     "data": {
      "text/html": [
       "<pre style=\"white-space:pre;overflow-x:auto;line-height:normal;font-family:Menlo,'DejaVu Sans Mono',consolas,'Courier New',monospace\">2692\n",
       "</pre>\n"
      ],
      "text/plain": [
       "2692\n"
      ]
     },
     "metadata": {},
     "output_type": "display_data"
    },
    {
     "data": {
      "text/html": [
       "<pre style=\"white-space:pre;overflow-x:auto;line-height:normal;font-family:Menlo,'DejaVu Sans Mono',consolas,'Courier New',monospace\">2693\n",
       "</pre>\n"
      ],
      "text/plain": [
       "2693\n"
      ]
     },
     "metadata": {},
     "output_type": "display_data"
    },
    {
     "data": {
      "text/html": [
       "<pre style=\"white-space:pre;overflow-x:auto;line-height:normal;font-family:Menlo,'DejaVu Sans Mono',consolas,'Courier New',monospace\">2694\n",
       "</pre>\n"
      ],
      "text/plain": [
       "2694\n"
      ]
     },
     "metadata": {},
     "output_type": "display_data"
    },
    {
     "data": {
      "text/html": [
       "<pre style=\"white-space:pre;overflow-x:auto;line-height:normal;font-family:Menlo,'DejaVu Sans Mono',consolas,'Courier New',monospace\">2695\n",
       "</pre>\n"
      ],
      "text/plain": [
       "2695\n"
      ]
     },
     "metadata": {},
     "output_type": "display_data"
    },
    {
     "data": {
      "text/html": [
       "<pre style=\"white-space:pre;overflow-x:auto;line-height:normal;font-family:Menlo,'DejaVu Sans Mono',consolas,'Courier New',monospace\">2696\n",
       "</pre>\n"
      ],
      "text/plain": [
       "2696\n"
      ]
     },
     "metadata": {},
     "output_type": "display_data"
    },
    {
     "data": {
      "text/html": [
       "<pre style=\"white-space:pre;overflow-x:auto;line-height:normal;font-family:Menlo,'DejaVu Sans Mono',consolas,'Courier New',monospace\">2697\n",
       "</pre>\n"
      ],
      "text/plain": [
       "2697\n"
      ]
     },
     "metadata": {},
     "output_type": "display_data"
    },
    {
     "data": {
      "text/html": [
       "<pre style=\"white-space:pre;overflow-x:auto;line-height:normal;font-family:Menlo,'DejaVu Sans Mono',consolas,'Courier New',monospace\">2698\n",
       "</pre>\n"
      ],
      "text/plain": [
       "2698\n"
      ]
     },
     "metadata": {},
     "output_type": "display_data"
    },
    {
     "data": {
      "text/html": [
       "<pre style=\"white-space:pre;overflow-x:auto;line-height:normal;font-family:Menlo,'DejaVu Sans Mono',consolas,'Courier New',monospace\">2700\n",
       "</pre>\n"
      ],
      "text/plain": [
       "2700\n"
      ]
     },
     "metadata": {},
     "output_type": "display_data"
    },
    {
     "data": {
      "text/html": [
       "<pre style=\"white-space:pre;overflow-x:auto;line-height:normal;font-family:Menlo,'DejaVu Sans Mono',consolas,'Courier New',monospace\">2701\n",
       "</pre>\n"
      ],
      "text/plain": [
       "2701\n"
      ]
     },
     "metadata": {},
     "output_type": "display_data"
    },
    {
     "data": {
      "text/html": [
       "<pre style=\"white-space:pre;overflow-x:auto;line-height:normal;font-family:Menlo,'DejaVu Sans Mono',consolas,'Courier New',monospace\">2702\n",
       "</pre>\n"
      ],
      "text/plain": [
       "2702\n"
      ]
     },
     "metadata": {},
     "output_type": "display_data"
    },
    {
     "data": {
      "text/html": [
       "<pre style=\"white-space:pre;overflow-x:auto;line-height:normal;font-family:Menlo,'DejaVu Sans Mono',consolas,'Courier New',monospace\">2703\n",
       "</pre>\n"
      ],
      "text/plain": [
       "2703\n"
      ]
     },
     "metadata": {},
     "output_type": "display_data"
    },
    {
     "data": {
      "text/html": [
       "<pre style=\"white-space:pre;overflow-x:auto;line-height:normal;font-family:Menlo,'DejaVu Sans Mono',consolas,'Courier New',monospace\">2704\n",
       "</pre>\n"
      ],
      "text/plain": [
       "2704\n"
      ]
     },
     "metadata": {},
     "output_type": "display_data"
    },
    {
     "data": {
      "text/html": [
       "<pre style=\"white-space:pre;overflow-x:auto;line-height:normal;font-family:Menlo,'DejaVu Sans Mono',consolas,'Courier New',monospace\">2705\n",
       "</pre>\n"
      ],
      "text/plain": [
       "2705\n"
      ]
     },
     "metadata": {},
     "output_type": "display_data"
    },
    {
     "data": {
      "text/html": [
       "<pre style=\"white-space:pre;overflow-x:auto;line-height:normal;font-family:Menlo,'DejaVu Sans Mono',consolas,'Courier New',monospace\">2706\n",
       "</pre>\n"
      ],
      "text/plain": [
       "2706\n"
      ]
     },
     "metadata": {},
     "output_type": "display_data"
    },
    {
     "data": {
      "text/html": [
       "<pre style=\"white-space:pre;overflow-x:auto;line-height:normal;font-family:Menlo,'DejaVu Sans Mono',consolas,'Courier New',monospace\">2707\n",
       "</pre>\n"
      ],
      "text/plain": [
       "2707\n"
      ]
     },
     "metadata": {},
     "output_type": "display_data"
    },
    {
     "data": {
      "text/html": [
       "<pre style=\"white-space:pre;overflow-x:auto;line-height:normal;font-family:Menlo,'DejaVu Sans Mono',consolas,'Courier New',monospace\">2708\n",
       "</pre>\n"
      ],
      "text/plain": [
       "2708\n"
      ]
     },
     "metadata": {},
     "output_type": "display_data"
    },
    {
     "data": {
      "text/html": [
       "<pre style=\"white-space:pre;overflow-x:auto;line-height:normal;font-family:Menlo,'DejaVu Sans Mono',consolas,'Courier New',monospace\">2709\n",
       "</pre>\n"
      ],
      "text/plain": [
       "2709\n"
      ]
     },
     "metadata": {},
     "output_type": "display_data"
    },
    {
     "data": {
      "text/html": [
       "<pre style=\"white-space:pre;overflow-x:auto;line-height:normal;font-family:Menlo,'DejaVu Sans Mono',consolas,'Courier New',monospace\">2710\n",
       "</pre>\n"
      ],
      "text/plain": [
       "2710\n"
      ]
     },
     "metadata": {},
     "output_type": "display_data"
    },
    {
     "data": {
      "text/html": [
       "<pre style=\"white-space:pre;overflow-x:auto;line-height:normal;font-family:Menlo,'DejaVu Sans Mono',consolas,'Courier New',monospace\">2711\n",
       "</pre>\n"
      ],
      "text/plain": [
       "2711\n"
      ]
     },
     "metadata": {},
     "output_type": "display_data"
    },
    {
     "data": {
      "text/html": [
       "<pre style=\"white-space:pre;overflow-x:auto;line-height:normal;font-family:Menlo,'DejaVu Sans Mono',consolas,'Courier New',monospace\">2712\n",
       "</pre>\n"
      ],
      "text/plain": [
       "2712\n"
      ]
     },
     "metadata": {},
     "output_type": "display_data"
    },
    {
     "data": {
      "text/html": [
       "<pre style=\"white-space:pre;overflow-x:auto;line-height:normal;font-family:Menlo,'DejaVu Sans Mono',consolas,'Courier New',monospace\">2713\n",
       "</pre>\n"
      ],
      "text/plain": [
       "2713\n"
      ]
     },
     "metadata": {},
     "output_type": "display_data"
    },
    {
     "data": {
      "text/html": [
       "<pre style=\"white-space:pre;overflow-x:auto;line-height:normal;font-family:Menlo,'DejaVu Sans Mono',consolas,'Courier New',monospace\">2714\n",
       "</pre>\n"
      ],
      "text/plain": [
       "2714\n"
      ]
     },
     "metadata": {},
     "output_type": "display_data"
    },
    {
     "data": {
      "text/html": [
       "<pre style=\"white-space:pre;overflow-x:auto;line-height:normal;font-family:Menlo,'DejaVu Sans Mono',consolas,'Courier New',monospace\">2715\n",
       "</pre>\n"
      ],
      "text/plain": [
       "2715\n"
      ]
     },
     "metadata": {},
     "output_type": "display_data"
    },
    {
     "data": {
      "text/html": [
       "<pre style=\"white-space:pre;overflow-x:auto;line-height:normal;font-family:Menlo,'DejaVu Sans Mono',consolas,'Courier New',monospace\">2716\n",
       "</pre>\n"
      ],
      "text/plain": [
       "2716\n"
      ]
     },
     "metadata": {},
     "output_type": "display_data"
    },
    {
     "data": {
      "text/html": [
       "<pre style=\"white-space:pre;overflow-x:auto;line-height:normal;font-family:Menlo,'DejaVu Sans Mono',consolas,'Courier New',monospace\">2717\n",
       "</pre>\n"
      ],
      "text/plain": [
       "2717\n"
      ]
     },
     "metadata": {},
     "output_type": "display_data"
    },
    {
     "data": {
      "text/html": [
       "<pre style=\"white-space:pre;overflow-x:auto;line-height:normal;font-family:Menlo,'DejaVu Sans Mono',consolas,'Courier New',monospace\">2718\n",
       "</pre>\n"
      ],
      "text/plain": [
       "2718\n"
      ]
     },
     "metadata": {},
     "output_type": "display_data"
    },
    {
     "data": {
      "text/html": [
       "<pre style=\"white-space:pre;overflow-x:auto;line-height:normal;font-family:Menlo,'DejaVu Sans Mono',consolas,'Courier New',monospace\">2719\n",
       "</pre>\n"
      ],
      "text/plain": [
       "2719\n"
      ]
     },
     "metadata": {},
     "output_type": "display_data"
    },
    {
     "data": {
      "text/html": [
       "<pre style=\"white-space:pre;overflow-x:auto;line-height:normal;font-family:Menlo,'DejaVu Sans Mono',consolas,'Courier New',monospace\">2720\n",
       "</pre>\n"
      ],
      "text/plain": [
       "2720\n"
      ]
     },
     "metadata": {},
     "output_type": "display_data"
    },
    {
     "data": {
      "text/html": [
       "<pre style=\"white-space:pre;overflow-x:auto;line-height:normal;font-family:Menlo,'DejaVu Sans Mono',consolas,'Courier New',monospace\">2721\n",
       "</pre>\n"
      ],
      "text/plain": [
       "2721\n"
      ]
     },
     "metadata": {},
     "output_type": "display_data"
    },
    {
     "data": {
      "text/html": [
       "<pre style=\"white-space:pre;overflow-x:auto;line-height:normal;font-family:Menlo,'DejaVu Sans Mono',consolas,'Courier New',monospace\">2722\n",
       "</pre>\n"
      ],
      "text/plain": [
       "2722\n"
      ]
     },
     "metadata": {},
     "output_type": "display_data"
    },
    {
     "data": {
      "text/html": [
       "<pre style=\"white-space:pre;overflow-x:auto;line-height:normal;font-family:Menlo,'DejaVu Sans Mono',consolas,'Courier New',monospace\">2723\n",
       "</pre>\n"
      ],
      "text/plain": [
       "2723\n"
      ]
     },
     "metadata": {},
     "output_type": "display_data"
    },
    {
     "data": {
      "text/html": [
       "<pre style=\"white-space:pre;overflow-x:auto;line-height:normal;font-family:Menlo,'DejaVu Sans Mono',consolas,'Courier New',monospace\">2724\n",
       "</pre>\n"
      ],
      "text/plain": [
       "2724\n"
      ]
     },
     "metadata": {},
     "output_type": "display_data"
    },
    {
     "data": {
      "text/html": [
       "<pre style=\"white-space:pre;overflow-x:auto;line-height:normal;font-family:Menlo,'DejaVu Sans Mono',consolas,'Courier New',monospace\">2725\n",
       "</pre>\n"
      ],
      "text/plain": [
       "2725\n"
      ]
     },
     "metadata": {},
     "output_type": "display_data"
    }
   ],
   "source": [
    "window = 5\n",
    "error_count = 0\n",
    "count = 0\n",
    "df_indies_tmp = df_indies_map[window]\n",
    "for time_stamp in track(df_indies_tmp):\n",
    "    test_id_list = np.unique(df_sum_sa[(df_sum_sa[unix_time] > time_stamp*30+time_min_new)&(df_sum_sa[unix_time] <= time_stamp*30+30+time_min_new)]['Station ID'].values)\n",
    "    if (np.unique(idd) == np.intersect1d(idd,test_id_list)).all() == False:\n",
    "        error_count += 1\n",
    "    count += 1\n",
    "    print(count)"
   ]
  }
 ],
 "metadata": {
  "interpreter": {
   "hash": "31fe6650c13fc7a10e7b96cf2b84ba6fc987afe9ea0364dd074b2d8269b14d26"
  },
  "kernelspec": {
   "display_name": "Python 3.7.6 64-bit ('ccs_ta': conda)",
   "language": "python",
   "name": "python3"
  },
  "language_info": {
   "codemirror_mode": {
    "name": "ipython",
    "version": 3
   },
   "file_extension": ".py",
   "mimetype": "text/x-python",
   "name": "python",
   "nbconvert_exporter": "python",
   "pygments_lexer": "ipython3",
   "version": "3.7.6"
  },
  "orig_nbformat": 4
 },
 "nbformat": 4,
 "nbformat_minor": 2
}
