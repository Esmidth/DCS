{
 "metadata": {
  "language_info": {
   "codemirror_mode": {
    "name": "ipython",
    "version": 3
   },
   "file_extension": ".py",
   "mimetype": "text/x-python",
   "name": "python",
   "nbconvert_exporter": "python",
   "pygments_lexer": "ipython3",
   "version": "3.7.9-final"
  },
  "orig_nbformat": 2,
  "kernelspec": {
   "name": "python379jvsc74a57bd0906b79bf097d1f1d9673c7efb6a8c75b3b37c36b1c482a31cb0779974e6343ce",
   "display_name": "Python 3.7.9 64-bit"
  },
  "metadata": {
   "interpreter": {
    "hash": "906b79bf097d1f1d9673c7efb6a8c75b3b37c36b1c482a31cb0779974e6343ce"
   }
  }
 },
 "nbformat": 4,
 "nbformat_minor": 2,
 "cells": [
  {
   "cell_type": "code",
   "execution_count": 1,
   "metadata": {},
   "outputs": [],
   "source": [
    "# 1\n",
    "%matplotlib inline\n",
    "import numpy as np\n",
    "import pandas as pd\n",
    "import os,sys\n",
    "import utilities as utils\n",
    "import matplotlib.pyplot as plt"
   ]
  },
  {
   "cell_type": "code",
   "execution_count": 2,
   "metadata": {},
   "outputs": [],
   "source": [
    "# 2\n",
    "ori_path = '/home/esmidth/code/DCS_COPY/DCS/Original_Data/Sensorscope/luce_stations/'\n",
    "sub_prefix = 'sensorscope-meteo-'\n",
    "sub_suffix = '.txt'\n",
    "file_list = os.listdir(ori_path)\n",
    "name = [\n",
    "'Station ID',\n",
    "'Year',\n",
    "'Month',\n",
    "'Day',\n",
    "'Hour',\n",
    "'Minute',\n",
    "'Second',\n",
    "'Time since the epoch [s]',\n",
    "'Sequence Number',\n",
    "'Ambient Temperature',\n",
    "'Surface Temperature',\n",
    "'Solar Radiation',\n",
    "'Relative Humidity [%]',\n",
    "'Soil Moisture [%]',\n",
    "'Watermark [kPa]',\n",
    "'Rain Meter [mm]',\n",
    "'Wind Speed [m/s]',\n",
    "'Wind Direction [°]',\n",
    "]"
   ]
  },
  {
   "cell_type": "code",
   "execution_count": 3,
   "metadata": {},
   "outputs": [
    {
     "output_type": "stream",
     "name": "stdout",
     "text": [
      "sensorscope-meteo-99.txt Done\n",
      "sensorscope-meteo-87.txt Done\n",
      "sensorscope-meteo-17.txt Done\n",
      "sensorscope-meteo-53.txt Done\n",
      "sensorscope-meteo-68.txt Done\n",
      "sensorscope-meteo-24.txt Done\n",
      "sensorscope-meteo-39.txt Done\n",
      "sensorscope-meteo-85.txt Done\n",
      "sensorscope-meteo-34.txt Done\n",
      "sensorscope-meteo-49.txt Done\n",
      "sensorscope-meteo-42.txt Done\n",
      "sensorscope-meteo-104.txt Done\n",
      "sensorscope-meteo-95.txt Done\n",
      "sensorscope-meteo-96.txt Done\n",
      "sensorscope-meteo-32.txt Done\n",
      "sensorscope-meteo-40.txt Done\n",
      "sensorscope-meteo-23.txt Done\n",
      "sensorscope-meteo-18.txt Done\n",
      "sensorscope-meteo-60.txt Done\n",
      "sensorscope-meteo-25.txt Done\n",
      "sensorscope-meteo-37.txt Done\n",
      "sensorscope-meteo-122.txt Done\n",
      "sensorscope-meteo-79.txt Done\n",
      "sensorscope-meteo-56.txt Done\n",
      "sensorscope-meteo-31.txt Done\n",
      "sensorscope-meteo-100.txt Done\n",
      "sensorscope-meteo-10.txt Done\n",
      "sensorscope-meteo-97.txt Done\n",
      "sensorscope-meteo-94.txt Done\n",
      "sensorscope-meteo-11.txt Done\n",
      "sensorscope-meteo-70.txt Done\n",
      "sensorscope-meteo-59.txt Done\n",
      "sensorscope-meteo-82.txt Done\n",
      "sensorscope-meteo-8.txt Done\n",
      "sensorscope-meteo-27.txt Done\n",
      "sensorscope-meteo-62.txt Done\n",
      "sensorscope-meteo-19.txt Done\n",
      "sensorscope-meteo-9.txt Done\n",
      "sensorscope-meteo-63.txt Done\n",
      "sensorscope-meteo-12.txt Done\n",
      "sensorscope-meteo-92.txt Done\n",
      "sensorscope-meteo-65.txt Done\n",
      "sensorscope-meteo-21.txt Done\n",
      "sensorscope-meteo-72.txt Done\n",
      "sensorscope-meteo-69.txt Done\n",
      "sensorscope-meteo-35.txt Done\n",
      "sensorscope-meteo-43.txt Done\n",
      "sensorscope-meteo-46.txt Done\n",
      "sensorscope-meteo-93.txt Done\n",
      "sensorscope-meteo-15.txt Done\n",
      "sensorscope-meteo-51.txt Done\n",
      "sensorscope-meteo-41.txt Done\n",
      "sensorscope-meteo-98.txt Done\n",
      "sensorscope-meteo-109.txt Done\n",
      "sensorscope-meteo-5.txt Done\n",
      "sensorscope-meteo-45.txt Done\n",
      "sensorscope-meteo-103.txt Done\n",
      "sensorscope-meteo-111.txt Done\n",
      "sensorscope-meteo-64.txt Done\n",
      "sensorscope-meteo-30.txt Done\n",
      "sensorscope-meteo-107.txt Done\n",
      "sensorscope-meteo-81.txt Done\n",
      "sensorscope-meteo-105.txt Done\n",
      "sensorscope-meteo-47.txt Done\n",
      "sensorscope-meteo-61.txt Done\n",
      "sensorscope-meteo-55.txt Done\n",
      "sensorscope-meteo-89.txt Done\n",
      "sensorscope-meteo-71.txt Done\n",
      "sensorscope-meteo-54.txt Done\n",
      "sensorscope-meteo-14.txt Done\n",
      "sensorscope-meteo-26.txt Done\n",
      "sensorscope-meteo-75.txt Done\n",
      "sensorscope-meteo-57.txt Done\n",
      "sensorscope-meteo-73.txt Done\n",
      "sensorscope-meteo-33.txt Done\n",
      "sensorscope-meteo-66.txt Done\n",
      "sensorscope-meteo-76.txt Done\n",
      "sensorscope-meteo-36.txt Done\n",
      "sensorscope-meteo-44.txt Done\n",
      "sensorscope-meteo-3.txt Done\n",
      "sensorscope-meteo-106.txt Done\n",
      "sensorscope-meteo-13.txt Done\n",
      "sensorscope-meteo-88.txt Done\n",
      "sensorscope-meteo-50.txt Done\n",
      "sensorscope-meteo-84.txt Done\n",
      "sensorscope-meteo-121.txt Done\n",
      "sensorscope-meteo-80.txt Done\n",
      "sensorscope-meteo-7.txt Done\n"
     ]
    }
   ],
   "source": [
    "# 3\n",
    "df_sum = pd.DataFrame()\n",
    "sum = 0\n",
    "for file in file_list:\n",
    "    if '.txt'in file:\n",
    "        df = pd.read_csv(ori_path+file,sep=' ',names=name)\n",
    "        df_sum = pd.concat([df_sum,df],axis=0)\n",
    "        sum += len(df)\n",
    "        print(file,'Done')"
   ]
  },
  {
   "cell_type": "code",
   "execution_count": 4,
   "metadata": {},
   "outputs": [],
   "source": [
    "df_sum.to_hdf('r_data_files/data_ori.h5',key='df',mode='w')"
   ]
  },
  {
   "cell_type": "code",
   "execution_count": 5,
   "metadata": {},
   "outputs": [],
   "source": [
    "# 4\n",
    "lat = (46.51788,46.52227)\n",
    "log = (6.56517,6.5693)\n",
    "\n",
    "loc_file = '/home/esmidth/code/DCS_COPY/DCS/Original_Data/Sensorscope/EPFL_sensor_loc_simple2.xlsx'\n",
    "df = pd.read_excel(loc_file)\n",
    "\n",
    "lat_range = np.linspace(lat[0],lat[1],11)\n",
    "log_range = np.linspace(log[0],log[1],11)\n",
    "# print(lat_range)\n",
    "# print(log_range)"
   ]
  },
  {
   "cell_type": "code",
   "execution_count": 24,
   "metadata": {},
   "outputs": [],
   "source": [
    "# 5\n",
    "def draw_lune_heatmap(df,res,lat=lat,log=log):\n",
    "    lat_range = np.linspace(lat[1],lat[0],res+1)\n",
    "    log_range = np.linspace(log[0],log[1],res+1)\n",
    "    pic = np.zeros((res,res))\n",
    "    pic2 = np.zeros((res,res))\n",
    "    pairs = []\n",
    "    for i in range(res):\n",
    "        # print(i,lat_range[i],lat_range[i+1])\n",
    "        for j in range(res):\n",
    "            sub_df = df[(df['Latitude'] < lat_range[i]) & (df['Latitude'] > lat_range[i+1]) & (df['Longitude'] > log_range[j]) & (df['Longitude'] < log_range[j+1])]\n",
    "            pic[i][j] = len(sub_df)\n",
    "            if len(sub_df) > 0:\n",
    "                pic2[i][j]=1\n",
    "            # pic[i][j] = i*res+j\n",
    "            if len(sub_df) >= 1:\n",
    "                pairs.append([i*res+j,sub_df['ID'].values])\n",
    "            max_value = 0\n",
    "            max_id = 0\n",
    "            for value in sub_df['ID'].values:\n",
    "                # print(value)\n",
    "                if len(sub_df[sub_df['ID'] == value]) > max_value:\n",
    "                    max_id =value\n",
    "            pic[i][j] = max_id\n",
    "    return pic,pairs,pic2\n",
    "# 输出的pic有颜色明暗，pic2为黑白两色"
   ]
  },
  {
   "cell_type": "code",
   "execution_count": 25,
   "metadata": {},
   "outputs": [
    {
     "output_type": "stream",
     "name": "stdout",
     "text": [
      "[[10, array([63])], [14, array([ 3, 23, 42])], [15, array([ 5, 17])], [20, array([47])], [21, array([7])], [22, array([27])], [24, array([21, 26, 41])], [25, array([14, 30, 39, 56])], [26, array([  9,  15,  18,  24,  37,  44, 105, 121])], [27, array([12, 45, 46])], [28, array([ 8, 25, 36])], [32, array([111])], [33, array([64, 75, 99])], [34, array([57])], [35, array([59])], [36, array([13, 40])], [37, array([ 34,  43, 106])], [41, array([61])], [42, array([71])], [43, array([65])], [45, array([82])], [46, array([62])], [48, array([76])], [51, array([51])], [52, array([11])], [53, array([ 70, 122])], [54, array([49, 68])], [57, array([60])], [60, array([84])], [61, array([81])], [62, array([55])], [63, array([66, 72])], [64, array([54, 73])], [66, array([ 32,  35,  50,  94, 107])], [67, array([31])], [68, array([69])], [69, array([79, 95])], [70, array([103])], [71, array([80])], [72, array([96])], [75, array([92, 97])], [76, array([100])], [77, array([33, 53])], [78, array([10, 19])], [79, array([93])], [80, array([109])], [81, array([87])], [84, array([104])], [91, array([85, 89])], [92, array([88])], [94, array([98])]]\n[[  0.   0.   0.   0.   0.   0.   0.   0.   0.   0.]\n [ 63.   0.   0.   0.  42.  17.   0.   0.   0.   0.]\n [ 47.   7.  27.   0.  41.  56. 121.  46.  36.   0.]\n [  0.   0. 111.  99.  57.  59.  40. 106.   0.   0.]\n [  0.  61.  71.  65.   0.  82.  62.   0.  76.   0.]\n [  0.  51.  11. 122.  68.   0.   0.  60.   0.   0.]\n [ 84.  81.  55.  72.  73.   0. 107.  31.  69.  95.]\n [103.  80.  96.   0.   0.  97. 100.  53.  19.  93.]\n [109.  87.   0.   0. 104.   0.   0.   0.   0.   0.]\n [  0.  89.  88.   0.  98.   0.   0.   0.   0.   0.]]\n"
     ]
    },
    {
     "output_type": "display_data",
     "data": {
      "text/plain": "<Figure size 640x480 with 1 Axes>",
      "image/svg+xml": "<?xml version=\"1.0\" encoding=\"utf-8\" standalone=\"no\"?>\n<!DOCTYPE svg PUBLIC \"-//W3C//DTD SVG 1.1//EN\"\n  \"http://www.w3.org/Graphics/SVG/1.1/DTD/svg11.dtd\">\n<!-- Created with matplotlib (https://matplotlib.org/) -->\n<svg height=\"312.30825pt\" version=\"1.1\" viewBox=\"0 0 293.8745 312.30825\" width=\"293.8745pt\" xmlns=\"http://www.w3.org/2000/svg\" xmlns:xlink=\"http://www.w3.org/1999/xlink\">\n <metadata>\n  <rdf:RDF xmlns:cc=\"http://creativecommons.org/ns#\" xmlns:dc=\"http://purl.org/dc/elements/1.1/\" xmlns:rdf=\"http://www.w3.org/1999/02/22-rdf-syntax-ns#\">\n   <cc:Work>\n    <dc:type rdf:resource=\"http://purl.org/dc/dcmitype/StillImage\"/>\n    <dc:date>2021-05-04T11:19:26.990199</dc:date>\n    <dc:format>image/svg+xml</dc:format>\n    <dc:creator>\n     <cc:Agent>\n      <dc:title>Matplotlib v3.3.2, https://matplotlib.org/</dc:title>\n     </cc:Agent>\n    </dc:creator>\n   </cc:Work>\n  </rdf:RDF>\n </metadata>\n <defs>\n  <style type=\"text/css\">*{stroke-linecap:butt;stroke-linejoin:round;}</style>\n </defs>\n <g id=\"figure_1\">\n  <g id=\"patch_1\">\n   <path d=\"M 0 312.30825 \nL 293.8745 312.30825 \nL 293.8745 0 \nL 0 0 \nz\n\" style=\"fill:#ffffff;\"/>\n  </g>\n  <g id=\"axes_1\">\n   <g id=\"patch_2\">\n    <path d=\"M 20.5625 288.430125 \nL 286.6745 288.430125 \nL 286.6745 22.318125 \nL 20.5625 22.318125 \nz\n\" style=\"fill:#ffffff;\"/>\n   </g>\n   <g clip-path=\"url(#pdd4ec010b3)\">\n    <image height=\"266.4\" id=\"imagec2a2895494\" transform=\"scale(1 -1)translate(0 -266.4)\" width=\"266.4\" x=\"20.5625\" xlink:href=\"data:image/png;base64,\niVBORw0KGgoAAAANSUhEUgAAAXIAAAFyCAYAAADoJFEJAAAF40lEQVR4nO3WXW3jUBRG0fEoKPwcAAYRyQRK1iyMwkFRpQDSh6rT6Hp31kLwyT9bZ7pNb48/J7Md++gJCeu8jJ7w5Izv7ozPCX7S39EDAPg3Qg4QJ+QAcUIOECfkAHFCDhAn5ABxQg4QJ+QAcUIOECfkAHFCDhAn5ABxQg4QJ+QAcUIOECfkAHFCDhAn5ABxQg4QJ+QAcUIOECfkAHFCDhAn5ABxQg4QJ+QAcUIOECfkAHFCDhAn5ABxQg4QJ+QAcUIOECfkAHFCDhB32Y599IaEdV5GTwD4lIscIE7IAeKEHCBOyAHihBwgTsgB4oQcIE7IAeKEHCBOyAHihBwgTsgB4oQcIE7IAeKEHCBOyAHihBwgTsgB4oQcIE7IAeKEHCBOyAHihBwgTsgB4oQcIE7IAeKEHCBOyAHihBwgTsgB4oQcIE7IAeKEHCBOyAHihBwgTsgB4qb3+/UxegTfs87L6AkJ27GPngAv5SIHiBNygDghB4gTcoA4IQeIE3KAOCEHiBNygDghB4gTcoA4IQeIE3KAOCEHiBNygDghB4gTcoA4IQeIE3KAOCEHiBNygDghB4gTcoA4IQeIE3KAOCEHiBNygDghB4gTcoA4IQeIE3KAOCEHiBNygDghB4gTcoA4IQeIE3KAuOn9fn2MHgGvtM7L6AlPtmMfPYFfxEUOECfkAHFCDhAn5ABxQg4QJ+QAcUIOECfkAHFCDhAn5ABxQg4QJ+QAcUIOECfkAHFCDhAn5ABxQg4QJ+QAcUIOECfkAHFCDhAn5ABxQg4QJ+QAcUIOECfkAHFCDhAn5ABxQg4QJ+QAcUIOECfkAHFCDhAn5ABxQg4QJ+QAcZd1XkZveLId++gJ8FL+u68543M6Ixc5QJyQA8QJOUCckAPECTlAnJADxAk5QJyQA8QJOUCckAPECTlAnJADxAk5QJyQA8QJOUCckAPECTlAnJADxAk5QJyQA8QJOUCckAPECTlAnJADxAk5QJyQA8QJOUCckAPECTlAnJADxAk5QJyQA8QJOUCckAPECTlAnJADxF1GD+B3Wedl9IQn27GPnpDg3X3NGZ+TixwgTsgB4oQcIE7IAeKEHCBOyAHihBwgTsgB4oQcIE7IAeKEHCBOyAHihBwgTsgB4oQcIE7IAeKEHCBOyAHihBwgTsgB4oQcIE7IAeKEHCBOyAHihBwgTsgB4oQcIE7IAeKEHCBOyAHihBwgTsgB4oQcIE7IAeKEHCBOyAHiptv09hg9omA79tET4L+zzsvoCQkucoA4IQeIE3KAOCEHiBNygDghB4gTcoA4IQeIE3KAOCEHiBNygDghB4gTcoA4IQeIE3KAOCEHiBNygDghB4gTcoA4IQeIE3KAOCEHiBNygDghB4gTcoA4IQeIE3KAOCEHiBNygDghB4gTcoA4IQeIE3KAOCEHiBNygDghB4ib3u/Xx+gRfM86L6MnPNmOffQEeKkz/ncucoA4IQeIE3KAOCEHiBNygDghB4gTcoA4IQeIE3KAOCEHiBNygDghB4gTcoA4IQeIE3KAOCEHiBNygDghB4gTcoA4IQeIE3KAOCEHiBNygDghB4gTcoA4IQeIE3KAOCEHiBNygDghB4gTcoA4IQeIE3KAOCEHiBNygDghB4i7jB7wmXVeRk+Al/KN85Nc5ABxQg4QJ+QAcUIOECfkAHFCDhAn5ABxQg4QJ+QAcUIOECfkAHFCDhAn5ABxQg4QJ+QAcUIOECfkAHFCDhAn5ABxQg4QJ+QAcUIOECfkAHFCDhAn5ABxQg4QJ+QAcUIOECfkAHFCDhAn5ABxQg4QJ+QAcUIOECfkAHFCDhA33aa3x+gRAHyfixwgTsgB4oQcIE7IAeKEHCBOyAHihBwgTsgB4oQcIE7IAeKEHCBOyAHihBwgTsgB4oQcIE7IAeKEHCBOyAHihBwgTsgB4oQcIE7IAeKEHCBOyAHihBwgTsgB4oQcIE7IAeKEHCBOyAHihBwgTsgB4oQcIE7IAeKEHCBOyAHiPgBITDSZUOnRBgAAAABJRU5ErkJggg==\" y=\"-22.030125\"/>\n   </g>\n   <g id=\"matplotlib.axis_1\">\n    <g id=\"xtick_1\">\n     <g id=\"line2d_1\">\n      <defs>\n       <path d=\"M 0 0 \nL 0 3.5 \n\" id=\"md6036cb569\" style=\"stroke:#000000;stroke-width:0.8;\"/>\n      </defs>\n      <g>\n       <use style=\"stroke:#000000;stroke-width:0.8;\" x=\"33.8681\" xlink:href=\"#md6036cb569\" y=\"288.430125\"/>\n      </g>\n     </g>\n     <g id=\"text_1\">\n      <!-- 0 -->\n      <g transform=\"translate(30.68685 303.028562)scale(0.1 -0.1)\">\n       <defs>\n        <path d=\"M 31.78125 66.40625 \nQ 24.171875 66.40625 20.328125 58.90625 \nQ 16.5 51.421875 16.5 36.375 \nQ 16.5 21.390625 20.328125 13.890625 \nQ 24.171875 6.390625 31.78125 6.390625 \nQ 39.453125 6.390625 43.28125 13.890625 \nQ 47.125 21.390625 47.125 36.375 \nQ 47.125 51.421875 43.28125 58.90625 \nQ 39.453125 66.40625 31.78125 66.40625 \nz\nM 31.78125 74.21875 \nQ 44.046875 74.21875 50.515625 64.515625 \nQ 56.984375 54.828125 56.984375 36.375 \nQ 56.984375 17.96875 50.515625 8.265625 \nQ 44.046875 -1.421875 31.78125 -1.421875 \nQ 19.53125 -1.421875 13.0625 8.265625 \nQ 6.59375 17.96875 6.59375 36.375 \nQ 6.59375 54.828125 13.0625 64.515625 \nQ 19.53125 74.21875 31.78125 74.21875 \nz\n\" id=\"DejaVuSans-48\"/>\n       </defs>\n       <use xlink:href=\"#DejaVuSans-48\"/>\n      </g>\n     </g>\n    </g>\n    <g id=\"xtick_2\">\n     <g id=\"line2d_2\">\n      <g>\n       <use style=\"stroke:#000000;stroke-width:0.8;\" x=\"87.0905\" xlink:href=\"#md6036cb569\" y=\"288.430125\"/>\n      </g>\n     </g>\n     <g id=\"text_2\">\n      <!-- 2 -->\n      <g transform=\"translate(83.90925 303.028562)scale(0.1 -0.1)\">\n       <defs>\n        <path d=\"M 19.1875 8.296875 \nL 53.609375 8.296875 \nL 53.609375 0 \nL 7.328125 0 \nL 7.328125 8.296875 \nQ 12.9375 14.109375 22.625 23.890625 \nQ 32.328125 33.6875 34.8125 36.53125 \nQ 39.546875 41.84375 41.421875 45.53125 \nQ 43.3125 49.21875 43.3125 52.78125 \nQ 43.3125 58.59375 39.234375 62.25 \nQ 35.15625 65.921875 28.609375 65.921875 \nQ 23.96875 65.921875 18.8125 64.3125 \nQ 13.671875 62.703125 7.8125 59.421875 \nL 7.8125 69.390625 \nQ 13.765625 71.78125 18.9375 73 \nQ 24.125 74.21875 28.421875 74.21875 \nQ 39.75 74.21875 46.484375 68.546875 \nQ 53.21875 62.890625 53.21875 53.421875 \nQ 53.21875 48.921875 51.53125 44.890625 \nQ 49.859375 40.875 45.40625 35.40625 \nQ 44.1875 33.984375 37.640625 27.21875 \nQ 31.109375 20.453125 19.1875 8.296875 \nz\n\" id=\"DejaVuSans-50\"/>\n       </defs>\n       <use xlink:href=\"#DejaVuSans-50\"/>\n      </g>\n     </g>\n    </g>\n    <g id=\"xtick_3\">\n     <g id=\"line2d_3\">\n      <g>\n       <use style=\"stroke:#000000;stroke-width:0.8;\" x=\"140.3129\" xlink:href=\"#md6036cb569\" y=\"288.430125\"/>\n      </g>\n     </g>\n     <g id=\"text_3\">\n      <!-- 4 -->\n      <g transform=\"translate(137.13165 303.028562)scale(0.1 -0.1)\">\n       <defs>\n        <path d=\"M 37.796875 64.3125 \nL 12.890625 25.390625 \nL 37.796875 25.390625 \nz\nM 35.203125 72.90625 \nL 47.609375 72.90625 \nL 47.609375 25.390625 \nL 58.015625 25.390625 \nL 58.015625 17.1875 \nL 47.609375 17.1875 \nL 47.609375 0 \nL 37.796875 0 \nL 37.796875 17.1875 \nL 4.890625 17.1875 \nL 4.890625 26.703125 \nz\n\" id=\"DejaVuSans-52\"/>\n       </defs>\n       <use xlink:href=\"#DejaVuSans-52\"/>\n      </g>\n     </g>\n    </g>\n    <g id=\"xtick_4\">\n     <g id=\"line2d_4\">\n      <g>\n       <use style=\"stroke:#000000;stroke-width:0.8;\" x=\"193.5353\" xlink:href=\"#md6036cb569\" y=\"288.430125\"/>\n      </g>\n     </g>\n     <g id=\"text_4\">\n      <!-- 6 -->\n      <g transform=\"translate(190.35405 303.028562)scale(0.1 -0.1)\">\n       <defs>\n        <path d=\"M 33.015625 40.375 \nQ 26.375 40.375 22.484375 35.828125 \nQ 18.609375 31.296875 18.609375 23.390625 \nQ 18.609375 15.53125 22.484375 10.953125 \nQ 26.375 6.390625 33.015625 6.390625 \nQ 39.65625 6.390625 43.53125 10.953125 \nQ 47.40625 15.53125 47.40625 23.390625 \nQ 47.40625 31.296875 43.53125 35.828125 \nQ 39.65625 40.375 33.015625 40.375 \nz\nM 52.59375 71.296875 \nL 52.59375 62.3125 \nQ 48.875 64.0625 45.09375 64.984375 \nQ 41.3125 65.921875 37.59375 65.921875 \nQ 27.828125 65.921875 22.671875 59.328125 \nQ 17.53125 52.734375 16.796875 39.40625 \nQ 19.671875 43.65625 24.015625 45.921875 \nQ 28.375 48.1875 33.59375 48.1875 \nQ 44.578125 48.1875 50.953125 41.515625 \nQ 57.328125 34.859375 57.328125 23.390625 \nQ 57.328125 12.15625 50.6875 5.359375 \nQ 44.046875 -1.421875 33.015625 -1.421875 \nQ 20.359375 -1.421875 13.671875 8.265625 \nQ 6.984375 17.96875 6.984375 36.375 \nQ 6.984375 53.65625 15.1875 63.9375 \nQ 23.390625 74.21875 37.203125 74.21875 \nQ 40.921875 74.21875 44.703125 73.484375 \nQ 48.484375 72.75 52.59375 71.296875 \nz\n\" id=\"DejaVuSans-54\"/>\n       </defs>\n       <use xlink:href=\"#DejaVuSans-54\"/>\n      </g>\n     </g>\n    </g>\n    <g id=\"xtick_5\">\n     <g id=\"line2d_5\">\n      <g>\n       <use style=\"stroke:#000000;stroke-width:0.8;\" x=\"246.7577\" xlink:href=\"#md6036cb569\" y=\"288.430125\"/>\n      </g>\n     </g>\n     <g id=\"text_5\">\n      <!-- 8 -->\n      <g transform=\"translate(243.57645 303.028562)scale(0.1 -0.1)\">\n       <defs>\n        <path d=\"M 31.78125 34.625 \nQ 24.75 34.625 20.71875 30.859375 \nQ 16.703125 27.09375 16.703125 20.515625 \nQ 16.703125 13.921875 20.71875 10.15625 \nQ 24.75 6.390625 31.78125 6.390625 \nQ 38.8125 6.390625 42.859375 10.171875 \nQ 46.921875 13.96875 46.921875 20.515625 \nQ 46.921875 27.09375 42.890625 30.859375 \nQ 38.875 34.625 31.78125 34.625 \nz\nM 21.921875 38.8125 \nQ 15.578125 40.375 12.03125 44.71875 \nQ 8.5 49.078125 8.5 55.328125 \nQ 8.5 64.0625 14.71875 69.140625 \nQ 20.953125 74.21875 31.78125 74.21875 \nQ 42.671875 74.21875 48.875 69.140625 \nQ 55.078125 64.0625 55.078125 55.328125 \nQ 55.078125 49.078125 51.53125 44.71875 \nQ 48 40.375 41.703125 38.8125 \nQ 48.828125 37.15625 52.796875 32.3125 \nQ 56.78125 27.484375 56.78125 20.515625 \nQ 56.78125 9.90625 50.3125 4.234375 \nQ 43.84375 -1.421875 31.78125 -1.421875 \nQ 19.734375 -1.421875 13.25 4.234375 \nQ 6.78125 9.90625 6.78125 20.515625 \nQ 6.78125 27.484375 10.78125 32.3125 \nQ 14.796875 37.15625 21.921875 38.8125 \nz\nM 18.3125 54.390625 \nQ 18.3125 48.734375 21.84375 45.5625 \nQ 25.390625 42.390625 31.78125 42.390625 \nQ 38.140625 42.390625 41.71875 45.5625 \nQ 45.3125 48.734375 45.3125 54.390625 \nQ 45.3125 60.0625 41.71875 63.234375 \nQ 38.140625 66.40625 31.78125 66.40625 \nQ 25.390625 66.40625 21.84375 63.234375 \nQ 18.3125 60.0625 18.3125 54.390625 \nz\n\" id=\"DejaVuSans-56\"/>\n       </defs>\n       <use xlink:href=\"#DejaVuSans-56\"/>\n      </g>\n     </g>\n    </g>\n   </g>\n   <g id=\"matplotlib.axis_2\">\n    <g id=\"ytick_1\">\n     <g id=\"line2d_6\">\n      <defs>\n       <path d=\"M 0 0 \nL -3.5 0 \n\" id=\"md58510eb92\" style=\"stroke:#000000;stroke-width:0.8;\"/>\n      </defs>\n      <g>\n       <use style=\"stroke:#000000;stroke-width:0.8;\" x=\"20.5625\" xlink:href=\"#md58510eb92\" y=\"35.623725\"/>\n      </g>\n     </g>\n     <g id=\"text_6\">\n      <!-- 0 -->\n      <g transform=\"translate(7.2 39.422944)scale(0.1 -0.1)\">\n       <use xlink:href=\"#DejaVuSans-48\"/>\n      </g>\n     </g>\n    </g>\n    <g id=\"ytick_2\">\n     <g id=\"line2d_7\">\n      <g>\n       <use style=\"stroke:#000000;stroke-width:0.8;\" x=\"20.5625\" xlink:href=\"#md58510eb92\" y=\"88.846125\"/>\n      </g>\n     </g>\n     <g id=\"text_7\">\n      <!-- 2 -->\n      <g transform=\"translate(7.2 92.645344)scale(0.1 -0.1)\">\n       <use xlink:href=\"#DejaVuSans-50\"/>\n      </g>\n     </g>\n    </g>\n    <g id=\"ytick_3\">\n     <g id=\"line2d_8\">\n      <g>\n       <use style=\"stroke:#000000;stroke-width:0.8;\" x=\"20.5625\" xlink:href=\"#md58510eb92\" y=\"142.068525\"/>\n      </g>\n     </g>\n     <g id=\"text_8\">\n      <!-- 4 -->\n      <g transform=\"translate(7.2 145.867744)scale(0.1 -0.1)\">\n       <use xlink:href=\"#DejaVuSans-52\"/>\n      </g>\n     </g>\n    </g>\n    <g id=\"ytick_4\">\n     <g id=\"line2d_9\">\n      <g>\n       <use style=\"stroke:#000000;stroke-width:0.8;\" x=\"20.5625\" xlink:href=\"#md58510eb92\" y=\"195.290925\"/>\n      </g>\n     </g>\n     <g id=\"text_9\">\n      <!-- 6 -->\n      <g transform=\"translate(7.2 199.090144)scale(0.1 -0.1)\">\n       <use xlink:href=\"#DejaVuSans-54\"/>\n      </g>\n     </g>\n    </g>\n    <g id=\"ytick_5\">\n     <g id=\"line2d_10\">\n      <g>\n       <use style=\"stroke:#000000;stroke-width:0.8;\" x=\"20.5625\" xlink:href=\"#md58510eb92\" y=\"248.513325\"/>\n      </g>\n     </g>\n     <g id=\"text_10\">\n      <!-- 8 -->\n      <g transform=\"translate(7.2 252.312544)scale(0.1 -0.1)\">\n       <use xlink:href=\"#DejaVuSans-56\"/>\n      </g>\n     </g>\n    </g>\n   </g>\n   <g id=\"patch_3\">\n    <path d=\"M 20.5625 288.430125 \nL 20.5625 22.318125 \n\" style=\"fill:none;stroke:#000000;stroke-linecap:square;stroke-linejoin:miter;stroke-width:0.8;\"/>\n   </g>\n   <g id=\"patch_4\">\n    <path d=\"M 286.6745 288.430125 \nL 286.6745 22.318125 \n\" style=\"fill:none;stroke:#000000;stroke-linecap:square;stroke-linejoin:miter;stroke-width:0.8;\"/>\n   </g>\n   <g id=\"patch_5\">\n    <path d=\"M 20.5625 288.430125 \nL 286.6745 288.430125 \n\" style=\"fill:none;stroke:#000000;stroke-linecap:square;stroke-linejoin:miter;stroke-width:0.8;\"/>\n   </g>\n   <g id=\"patch_6\">\n    <path d=\"M 20.5625 22.318125 \nL 286.6745 22.318125 \n\" style=\"fill:none;stroke:#000000;stroke-linecap:square;stroke-linejoin:miter;stroke-width:0.8;\"/>\n   </g>\n   <g id=\"text_11\">\n    <!-- res=10 pairs:51 -->\n    <g transform=\"translate(105.4985 16.318125)scale(0.12 -0.12)\">\n     <defs>\n      <path d=\"M 41.109375 46.296875 \nQ 39.59375 47.171875 37.8125 47.578125 \nQ 36.03125 48 33.890625 48 \nQ 26.265625 48 22.1875 43.046875 \nQ 18.109375 38.09375 18.109375 28.8125 \nL 18.109375 0 \nL 9.078125 0 \nL 9.078125 54.6875 \nL 18.109375 54.6875 \nL 18.109375 46.1875 \nQ 20.953125 51.171875 25.484375 53.578125 \nQ 30.03125 56 36.53125 56 \nQ 37.453125 56 38.578125 55.875 \nQ 39.703125 55.765625 41.0625 55.515625 \nz\n\" id=\"DejaVuSans-114\"/>\n      <path d=\"M 56.203125 29.59375 \nL 56.203125 25.203125 \nL 14.890625 25.203125 \nQ 15.484375 15.921875 20.484375 11.0625 \nQ 25.484375 6.203125 34.421875 6.203125 \nQ 39.59375 6.203125 44.453125 7.46875 \nQ 49.3125 8.734375 54.109375 11.28125 \nL 54.109375 2.78125 \nQ 49.265625 0.734375 44.1875 -0.34375 \nQ 39.109375 -1.421875 33.890625 -1.421875 \nQ 20.796875 -1.421875 13.15625 6.1875 \nQ 5.515625 13.8125 5.515625 26.8125 \nQ 5.515625 40.234375 12.765625 48.109375 \nQ 20.015625 56 32.328125 56 \nQ 43.359375 56 49.78125 48.890625 \nQ 56.203125 41.796875 56.203125 29.59375 \nz\nM 47.21875 32.234375 \nQ 47.125 39.59375 43.09375 43.984375 \nQ 39.0625 48.390625 32.421875 48.390625 \nQ 24.90625 48.390625 20.390625 44.140625 \nQ 15.875 39.890625 15.1875 32.171875 \nz\n\" id=\"DejaVuSans-101\"/>\n      <path d=\"M 44.28125 53.078125 \nL 44.28125 44.578125 \nQ 40.484375 46.53125 36.375 47.5 \nQ 32.28125 48.484375 27.875 48.484375 \nQ 21.1875 48.484375 17.84375 46.4375 \nQ 14.5 44.390625 14.5 40.28125 \nQ 14.5 37.15625 16.890625 35.375 \nQ 19.28125 33.59375 26.515625 31.984375 \nL 29.59375 31.296875 \nQ 39.15625 29.25 43.1875 25.515625 \nQ 47.21875 21.78125 47.21875 15.09375 \nQ 47.21875 7.46875 41.1875 3.015625 \nQ 35.15625 -1.421875 24.609375 -1.421875 \nQ 20.21875 -1.421875 15.453125 -0.5625 \nQ 10.6875 0.296875 5.421875 2 \nL 5.421875 11.28125 \nQ 10.40625 8.6875 15.234375 7.390625 \nQ 20.0625 6.109375 24.8125 6.109375 \nQ 31.15625 6.109375 34.5625 8.28125 \nQ 37.984375 10.453125 37.984375 14.40625 \nQ 37.984375 18.0625 35.515625 20.015625 \nQ 33.0625 21.96875 24.703125 23.78125 \nL 21.578125 24.515625 \nQ 13.234375 26.265625 9.515625 29.90625 \nQ 5.8125 33.546875 5.8125 39.890625 \nQ 5.8125 47.609375 11.28125 51.796875 \nQ 16.75 56 26.8125 56 \nQ 31.78125 56 36.171875 55.265625 \nQ 40.578125 54.546875 44.28125 53.078125 \nz\n\" id=\"DejaVuSans-115\"/>\n      <path d=\"M 10.59375 45.40625 \nL 73.1875 45.40625 \nL 73.1875 37.203125 \nL 10.59375 37.203125 \nz\nM 10.59375 25.484375 \nL 73.1875 25.484375 \nL 73.1875 17.1875 \nL 10.59375 17.1875 \nz\n\" id=\"DejaVuSans-61\"/>\n      <path d=\"M 12.40625 8.296875 \nL 28.515625 8.296875 \nL 28.515625 63.921875 \nL 10.984375 60.40625 \nL 10.984375 69.390625 \nL 28.421875 72.90625 \nL 38.28125 72.90625 \nL 38.28125 8.296875 \nL 54.390625 8.296875 \nL 54.390625 0 \nL 12.40625 0 \nz\n\" id=\"DejaVuSans-49\"/>\n      <path id=\"DejaVuSans-32\"/>\n      <path d=\"M 18.109375 8.203125 \nL 18.109375 -20.796875 \nL 9.078125 -20.796875 \nL 9.078125 54.6875 \nL 18.109375 54.6875 \nL 18.109375 46.390625 \nQ 20.953125 51.265625 25.265625 53.625 \nQ 29.59375 56 35.59375 56 \nQ 45.5625 56 51.78125 48.09375 \nQ 58.015625 40.1875 58.015625 27.296875 \nQ 58.015625 14.40625 51.78125 6.484375 \nQ 45.5625 -1.421875 35.59375 -1.421875 \nQ 29.59375 -1.421875 25.265625 0.953125 \nQ 20.953125 3.328125 18.109375 8.203125 \nz\nM 48.6875 27.296875 \nQ 48.6875 37.203125 44.609375 42.84375 \nQ 40.53125 48.484375 33.40625 48.484375 \nQ 26.265625 48.484375 22.1875 42.84375 \nQ 18.109375 37.203125 18.109375 27.296875 \nQ 18.109375 17.390625 22.1875 11.75 \nQ 26.265625 6.109375 33.40625 6.109375 \nQ 40.53125 6.109375 44.609375 11.75 \nQ 48.6875 17.390625 48.6875 27.296875 \nz\n\" id=\"DejaVuSans-112\"/>\n      <path d=\"M 34.28125 27.484375 \nQ 23.390625 27.484375 19.1875 25 \nQ 14.984375 22.515625 14.984375 16.5 \nQ 14.984375 11.71875 18.140625 8.90625 \nQ 21.296875 6.109375 26.703125 6.109375 \nQ 34.1875 6.109375 38.703125 11.40625 \nQ 43.21875 16.703125 43.21875 25.484375 \nL 43.21875 27.484375 \nz\nM 52.203125 31.203125 \nL 52.203125 0 \nL 43.21875 0 \nL 43.21875 8.296875 \nQ 40.140625 3.328125 35.546875 0.953125 \nQ 30.953125 -1.421875 24.3125 -1.421875 \nQ 15.921875 -1.421875 10.953125 3.296875 \nQ 6 8.015625 6 15.921875 \nQ 6 25.140625 12.171875 29.828125 \nQ 18.359375 34.515625 30.609375 34.515625 \nL 43.21875 34.515625 \nL 43.21875 35.40625 \nQ 43.21875 41.609375 39.140625 45 \nQ 35.0625 48.390625 27.6875 48.390625 \nQ 23 48.390625 18.546875 47.265625 \nQ 14.109375 46.140625 10.015625 43.890625 \nL 10.015625 52.203125 \nQ 14.9375 54.109375 19.578125 55.046875 \nQ 24.21875 56 28.609375 56 \nQ 40.484375 56 46.34375 49.84375 \nQ 52.203125 43.703125 52.203125 31.203125 \nz\n\" id=\"DejaVuSans-97\"/>\n      <path d=\"M 9.421875 54.6875 \nL 18.40625 54.6875 \nL 18.40625 0 \nL 9.421875 0 \nz\nM 9.421875 75.984375 \nL 18.40625 75.984375 \nL 18.40625 64.59375 \nL 9.421875 64.59375 \nz\n\" id=\"DejaVuSans-105\"/>\n      <path d=\"M 11.71875 12.40625 \nL 22.015625 12.40625 \nL 22.015625 0 \nL 11.71875 0 \nz\nM 11.71875 51.703125 \nL 22.015625 51.703125 \nL 22.015625 39.3125 \nL 11.71875 39.3125 \nz\n\" id=\"DejaVuSans-58\"/>\n      <path d=\"M 10.796875 72.90625 \nL 49.515625 72.90625 \nL 49.515625 64.59375 \nL 19.828125 64.59375 \nL 19.828125 46.734375 \nQ 21.96875 47.46875 24.109375 47.828125 \nQ 26.265625 48.1875 28.421875 48.1875 \nQ 40.625 48.1875 47.75 41.5 \nQ 54.890625 34.8125 54.890625 23.390625 \nQ 54.890625 11.625 47.5625 5.09375 \nQ 40.234375 -1.421875 26.90625 -1.421875 \nQ 22.3125 -1.421875 17.546875 -0.640625 \nQ 12.796875 0.140625 7.71875 1.703125 \nL 7.71875 11.625 \nQ 12.109375 9.234375 16.796875 8.0625 \nQ 21.484375 6.890625 26.703125 6.890625 \nQ 35.15625 6.890625 40.078125 11.328125 \nQ 45.015625 15.765625 45.015625 23.390625 \nQ 45.015625 31 40.078125 35.4375 \nQ 35.15625 39.890625 26.703125 39.890625 \nQ 22.75 39.890625 18.8125 39.015625 \nQ 14.890625 38.140625 10.796875 36.28125 \nz\n\" id=\"DejaVuSans-53\"/>\n     </defs>\n     <use xlink:href=\"#DejaVuSans-114\"/>\n     <use x=\"38.863281\" xlink:href=\"#DejaVuSans-101\"/>\n     <use x=\"100.386719\" xlink:href=\"#DejaVuSans-115\"/>\n     <use x=\"152.486328\" xlink:href=\"#DejaVuSans-61\"/>\n     <use x=\"236.275391\" xlink:href=\"#DejaVuSans-49\"/>\n     <use x=\"299.898438\" xlink:href=\"#DejaVuSans-48\"/>\n     <use x=\"363.521484\" xlink:href=\"#DejaVuSans-32\"/>\n     <use x=\"395.308594\" xlink:href=\"#DejaVuSans-112\"/>\n     <use x=\"458.785156\" xlink:href=\"#DejaVuSans-97\"/>\n     <use x=\"520.064453\" xlink:href=\"#DejaVuSans-105\"/>\n     <use x=\"547.847656\" xlink:href=\"#DejaVuSans-114\"/>\n     <use x=\"588.960938\" xlink:href=\"#DejaVuSans-115\"/>\n     <use x=\"641.060547\" xlink:href=\"#DejaVuSans-58\"/>\n     <use x=\"674.751953\" xlink:href=\"#DejaVuSans-53\"/>\n     <use x=\"738.375\" xlink:href=\"#DejaVuSans-49\"/>\n    </g>\n   </g>\n  </g>\n </g>\n <defs>\n  <clipPath id=\"pdd4ec010b3\">\n   <rect height=\"266.112\" width=\"266.112\" x=\"20.5625\" y=\"22.318125\"/>\n  </clipPath>\n </defs>\n</svg>\n",
      "image/png": "[encoded data removed]"
     },
     "metadata": {}
    }
   ],
   "source": [
    "# 6\n",
    "res = 10\n",
    "pic,pairs,pic2 = draw_lune_heatmap(df,res,lat,log)\n",
    "plt.title('res='+str(res)+' pairs:'+str(len(pairs)))\n",
    "plt.grid(b=False)\n",
    "plt.imshow(pic2)\n",
    "print(pairs)\n",
    "print(pic)"
   ]
  },
  {
   "cell_type": "code",
   "execution_count": 26,
   "metadata": {},
   "outputs": [
    {
     "output_type": "execute_result",
     "data": {
      "text/plain": [
       "[[10, array([63])],\n",
       " [14, array([ 3, 23, 42])],\n",
       " [15, array([ 5, 17])],\n",
       " [20, array([47])],\n",
       " [21, array([7])],\n",
       " [22, array([27])],\n",
       " [24, array([21, 26, 41])],\n",
       " [25, array([14, 30, 39, 56])],\n",
       " [26, array([  9,  15,  18,  24,  37,  44, 105, 121])],\n",
       " [27, array([12, 45, 46])],\n",
       " [28, array([ 8, 25, 36])],\n",
       " [32, array([111])],\n",
       " [33, array([64, 75, 99])],\n",
       " [34, array([57])],\n",
       " [35, array([59])],\n",
       " [36, array([13, 40])],\n",
       " [37, array([ 34,  43, 106])],\n",
       " [41, array([61])],\n",
       " [42, array([71])],\n",
       " [43, array([65])],\n",
       " [45, array([82])],\n",
       " [46, array([62])],\n",
       " [48, array([76])],\n",
       " [51, array([51])],\n",
       " [52, array([11])],\n",
       " [53, array([ 70, 122])],\n",
       " [54, array([49, 68])],\n",
       " [57, array([60])],\n",
       " [60, array([84])],\n",
       " [61, array([81])],\n",
       " [62, array([55])],\n",
       " [63, array([66, 72])],\n",
       " [64, array([54, 73])],\n",
       " [66, array([ 32,  35,  50,  94, 107])],\n",
       " [67, array([31])],\n",
       " [68, array([69])],\n",
       " [69, array([79, 95])],\n",
       " [70, array([103])],\n",
       " [71, array([80])],\n",
       " [72, array([96])],\n",
       " [75, array([92, 97])],\n",
       " [76, array([100])],\n",
       " [77, array([33, 53])],\n",
       " [78, array([10, 19])],\n",
       " [79, array([93])],\n",
       " [80, array([109])],\n",
       " [81, array([87])],\n",
       " [84, array([104])],\n",
       " [91, array([85, 89])],\n",
       " [92, array([88])],\n",
       " [94, array([98])]]"
      ]
     },
     "metadata": {},
     "execution_count": 26
    }
   ],
   "source": [
    "pairs"
   ]
  },
  {
   "cell_type": "code",
   "execution_count": 40,
   "metadata": {
    "tags": []
   },
   "outputs": [],
   "source": [
    "id_list = []\n",
    "for pair in pairs:\n",
    "    # print(pair[1])\n",
    "    max_length = 0\n",
    "    max_id = 0\n",
    "    for i, id in enumerate(pair[1]):\n",
    "        tmp_df = df_sum[df_sum['Station ID'] == id]\n",
    "        if(len(tmp_df) > max_length):\n",
    "            max_length = len(tmp_df)\n",
    "            max_id = id\n",
    "        # print(id,len(tmp_df))\n",
    "    id_list.append(max_id)\n",
    "    # print(\"------\")\n",
    "    # print(max_id,max_length)\n",
    "    # print(\"______\")\n",
    "id_array = np.array(id_list)"
   ]
  },
  {
   "cell_type": "code",
   "execution_count": 41,
   "metadata": {},
   "outputs": [
    {
     "output_type": "stream",
     "name": "stdout",
     "text": [
      "[  3   5   7   8   9  10  11  12  13  14  15  17  18  19  21  23  24  25\n  26  27  30  31  32  33  34  35  36  37  39  40  41  42  43  44  45  46\n  47  49  50  51  53  54  55  56  57  59  60  61  62  63  64  65  66  68\n  69  70  71  72  73  75  76  79  80  81  82  84  85  87  88  89  92  93\n  94  95  96  97  98  99 100 103 104 105 106 107 109 111 121 122] 88\n"
     ]
    }
   ],
   "source": [
    "total_id = df_sum['Station ID'].values\n",
    "total_uniq = np.unique(total_id)\n",
    "print(total_uniq,len(total_uniq))"
   ]
  },
  {
   "cell_type": "code",
   "execution_count": 42,
   "metadata": {},
   "outputs": [
    {
     "output_type": "execute_result",
     "data": {
      "text/plain": [
       "array([  7,   8,  11,  14,  17,  19,  23,  26,  27,  31,  33,  34,  35,\n",
       "        40,  46,  47,  49,  51,  55,  57,  59,  60,  61,  62,  63,  65,\n",
       "        69,  70,  71,  72,  73,  75,  76,  79,  80,  81,  82,  84,  87,\n",
       "        88,  89,  93,  96,  97,  98, 100, 103, 104, 109, 111, 121])"
      ]
     },
     "metadata": {},
     "execution_count": 42
    }
   ],
   "source": [
    "np.sort(id_array)"
   ]
  },
  {
   "cell_type": "code",
   "execution_count": 43,
   "metadata": {},
   "outputs": [
    {
     "output_type": "execute_result",
     "data": {
      "text/plain": [
       "51"
      ]
     },
     "metadata": {},
     "execution_count": 43
    }
   ],
   "source": [
    "len(id_array)"
   ]
  },
  {
   "cell_type": "code",
   "execution_count": 44,
   "metadata": {},
   "outputs": [],
   "source": [
    "dfs = pd.DataFrame()\n",
    "for id in id_array:\n",
    "    df_tmp = df_sum[df_sum['Station ID'] == id]\n",
    "    dfs = pd.concat([dfs,df_tmp],axis=0)"
   ]
  },
  {
   "cell_type": "code",
   "execution_count": 45,
   "metadata": {},
   "outputs": [
    {
     "output_type": "execute_result",
     "data": {
      "text/plain": [
       "21797635"
      ]
     },
     "metadata": {},
     "execution_count": 45
    }
   ],
   "source": [
    "len(dfs)"
   ]
  },
  {
   "cell_type": "code",
   "execution_count": 46,
   "metadata": {},
   "outputs": [],
   "source": [
    "df_sub = dfs.drop(['Solar Radiation','Soil Moisture [%]','Watermark [kPa]','Rain Meter [mm]','Wind Speed [m/s]','Wind Direction [°]'],axis=1)"
   ]
  },
  {
   "cell_type": "code",
   "execution_count": 47,
   "metadata": {},
   "outputs": [],
   "source": [
    "df_sub.to_hdf('r_data_files/df_sub.h5',key='df_sub',mode='w')"
   ]
  }
 ]
}