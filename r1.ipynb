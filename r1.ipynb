{
 "cells": [
  {
   "cell_type": "code",
   "execution_count": 1,
   "metadata": {},
   "outputs": [],
   "source": [
    "# 1\n",
    "%matplotlib inline\n",
    "import numpy as np\n",
    "import pandas as pd\n",
    "import os,sys\n",
    "import utilities as utils\n",
    "import matplotlib.pyplot as plt"
   ]
  },
  {
   "cell_type": "code",
   "execution_count": 2,
   "metadata": {},
   "outputs": [],
   "source": [
    "# 2\n",
    "ori_path = '/home/esmidth/github/DCS/Sensorscope/luce_stations/'\n",
    "sub_prefix = 'sensorscope-meteo-'\n",
    "sub_suffix = '.txt'\n",
    "file_list = os.listdir(ori_path)\n",
    "name = [\n",
    "'Station ID',\n",
    "'Year',\n",
    "'Month',\n",
    "'Day',\n",
    "'Hour',\n",
    "'Minute',\n",
    "'Second',\n",
    "'Time since the epoch [s]',\n",
    "'Sequence Number',\n",
    "'Ambient Temperature',\n",
    "'Surface Temperature',\n",
    "'Solar Radiation',\n",
    "'Relative Humidity [%]',\n",
    "'Soil Moisture [%]',\n",
    "'Watermark [kPa]',\n",
    "'Rain Meter [mm]',\n",
    "'Wind Speed [m/s]',\n",
    "'Wind Direction [°]',\n",
    "]"
   ]
  },
  {
   "cell_type": "code",
   "execution_count": 3,
   "metadata": {},
   "outputs": [
    {
     "name": "stdout",
     "output_type": "stream",
     "text": [
      "sensorscope-meteo-12.txt Done\n",
      "sensorscope-meteo-3.txt Done\n",
      "sensorscope-meteo-106.txt Done\n",
      "sensorscope-meteo-96.txt Done\n",
      "sensorscope-meteo-14.txt Done\n",
      "sensorscope-meteo-121.txt Done\n",
      "sensorscope-meteo-24.txt Done\n",
      "sensorscope-meteo-92.txt Done\n",
      "sensorscope-meteo-17.txt Done\n",
      "sensorscope-meteo-7.txt Done\n",
      "sensorscope-meteo-36.txt Done\n",
      "sensorscope-meteo-85.txt Done\n",
      "sensorscope-meteo-23.txt Done\n",
      "sensorscope-meteo-31.txt Done\n",
      "sensorscope-meteo-59.txt Done\n",
      "sensorscope-meteo-8.txt Done\n",
      "sensorscope-meteo-88.txt Done\n",
      "sensorscope-meteo-94.txt Done\n",
      "sensorscope-meteo-15.txt Done\n",
      "sensorscope-meteo-55.txt Done\n",
      "sensorscope-meteo-35.txt Done\n",
      "sensorscope-meteo-103.txt Done\n",
      "sensorscope-meteo-44.txt Done\n",
      "sensorscope-meteo-37.txt Done\n",
      "sensorscope-meteo-79.txt Done\n",
      "sensorscope-meteo-122.txt Done\n",
      "sensorscope-meteo-62.txt Done\n",
      "sensorscope-meteo-9.txt Done\n",
      "sensorscope-meteo-26.txt Done\n",
      "sensorscope-meteo-84.txt Done\n",
      "sensorscope-meteo-51.txt Done\n",
      "sensorscope-meteo-45.txt Done\n",
      "sensorscope-meteo-50.txt Done\n",
      "sensorscope-meteo-97.txt Done\n",
      "sensorscope-meteo-63.txt Done\n",
      "sensorscope-meteo-57.txt Done\n",
      "sensorscope-meteo-89.txt Done\n",
      "sensorscope-meteo-46.txt Done\n",
      "sensorscope-meteo-5.txt Done\n",
      "sensorscope-meteo-87.txt Done\n",
      "sensorscope-meteo-30.txt Done\n",
      "sensorscope-meteo-65.txt Done\n",
      "sensorscope-meteo-41.txt Done\n",
      "sensorscope-meteo-107.txt Done\n",
      "sensorscope-meteo-76.txt Done\n",
      "sensorscope-meteo-56.txt Done\n",
      "sensorscope-meteo-66.txt Done\n",
      "sensorscope-meteo-25.txt Done\n",
      "sensorscope-meteo-80.txt Done\n",
      "sensorscope-meteo-10.txt Done\n",
      "sensorscope-meteo-61.txt Done\n",
      "sensorscope-meteo-43.txt Done\n",
      "sensorscope-meteo-39.txt Done\n",
      "sensorscope-meteo-109.txt Done\n",
      "sensorscope-meteo-13.txt Done\n",
      "sensorscope-meteo-19.txt Done\n",
      "sensorscope-meteo-105.txt Done\n",
      "sensorscope-meteo-104.txt Done\n",
      "sensorscope-meteo-54.txt Done\n",
      "sensorscope-meteo-49.txt Done\n",
      "sensorscope-meteo-95.txt Done\n",
      "sensorscope-meteo-42.txt Done\n",
      "sensorscope-meteo-47.txt Done\n",
      "sensorscope-meteo-93.txt Done\n",
      "sensorscope-meteo-40.txt Done\n",
      "sensorscope-meteo-18.txt Done\n",
      "sensorscope-meteo-75.txt Done\n",
      "sensorscope-meteo-32.txt Done\n",
      "sensorscope-meteo-72.txt Done\n",
      "sensorscope-meteo-100.txt Done\n",
      "sensorscope-meteo-27.txt Done\n",
      "sensorscope-meteo-64.txt Done\n",
      "sensorscope-meteo-81.txt Done\n",
      "sensorscope-meteo-82.txt Done\n",
      "sensorscope-meteo-33.txt Done\n",
      "sensorscope-meteo-73.txt Done\n",
      "sensorscope-meteo-11.txt Done\n",
      "sensorscope-meteo-98.txt Done\n",
      "sensorscope-meteo-53.txt Done\n",
      "sensorscope-meteo-21.txt Done\n",
      "sensorscope-meteo-60.txt Done\n",
      "sensorscope-meteo-99.txt Done\n",
      "sensorscope-meteo-68.txt Done\n",
      "sensorscope-meteo-69.txt Done\n",
      "sensorscope-meteo-34.txt Done\n",
      "sensorscope-meteo-111.txt Done\n",
      "sensorscope-meteo-70.txt Done\n",
      "sensorscope-meteo-71.txt Done\n"
     ]
    }
   ],
   "source": [
    "# 3\n",
    "df_sum = pd.DataFrame()\n",
    "sum = 0\n",
    "for file in file_list:\n",
    "    if '.txt'in file:\n",
    "        df = pd.read_csv(ori_path+file,sep=' ',names=name)\n",
    "        df_sum = pd.concat([df_sum,df],axis=0)\n",
    "        sum += len(df)\n",
    "        print(file,'Done')"
   ]
  },
  {
   "cell_type": "code",
   "execution_count": 5,
   "metadata": {},
   "outputs": [],
   "source": [
    "df_sum.to_hdf('r_data_files/data_ori.h5',key='df',mode='w')"
   ]
  },
  {
   "cell_type": "code",
   "execution_count": 6,
   "metadata": {},
   "outputs": [],
   "source": [
    "# 4\n",
    "lat = (46.51788,46.52227)\n",
    "log = (6.56517,6.5693)\n",
    "\n",
    "loc_file = '/home/esmidth/github/DCS/Sensorscope/EPFL_sensor_loc_simple2.xlsx'\n",
    "df = pd.read_excel(loc_file)\n",
    "\n",
    "lat_range = np.linspace(lat[0],lat[1],11)\n",
    "log_range = np.linspace(log[0],log[1],11)\n",
    "# print(lat_range)\n",
    "# print(log_range)"
   ]
  },
  {
   "cell_type": "code",
   "execution_count": 7,
   "metadata": {},
   "outputs": [],
   "source": [
    "# 5\n",
    "def draw_lune_heatmap(df,res,lat=lat,log=log):\n",
    "    lat_range = np.linspace(lat[1],lat[0],res+1)\n",
    "    log_range = np.linspace(log[0],log[1],res+1)\n",
    "    pic = np.zeros((res,res))\n",
    "    pic2 = np.zeros((res,res))\n",
    "    pairs = []\n",
    "    for i in range(res):\n",
    "        # print(i,lat_range[i],lat_range[i+1])\n",
    "        for j in range(res):\n",
    "            sub_df = df[(df['Latitude'] < lat_range[i]) & (df['Latitude'] > lat_range[i+1]) & (df['Longitude'] > log_range[j]) & (df['Longitude'] < log_range[j+1])]\n",
    "            pic[i][j] = len(sub_df)\n",
    "            if len(sub_df) > 0:\n",
    "                pic2[i][j]=1\n",
    "            # pic[i][j] = i*res+j\n",
    "            if len(sub_df) >= 1:\n",
    "                pairs.append([i*res+j,sub_df['ID'].values])\n",
    "            max_value = 0\n",
    "            max_id = 0\n",
    "            for value in sub_df['ID'].values:\n",
    "                # print(value)\n",
    "                if len(sub_df[sub_df['ID'] == value]) > max_value:\n",
    "                    max_id =value\n",
    "            pic[i][j] = max_id\n",
    "    return pic,pairs,pic2\n",
    "# 输出的pic有颜色明暗，pic2为黑白两色"
   ]
  },
  {
   "cell_type": "code",
   "execution_count": 8,
   "metadata": {},
   "outputs": [
    {
     "name": "stdout",
     "output_type": "stream",
     "text": [
      "[[10, array([63])], [14, array([ 3, 23, 42])], [15, array([ 5, 17])], [20, array([47])], [21, array([7])], [22, array([27])], [24, array([21, 26, 41])], [25, array([14, 30, 39, 56])], [26, array([  9,  15,  18,  24,  37,  44, 105, 121])], [27, array([12, 45, 46])], [28, array([ 8, 25, 36])], [32, array([111])], [33, array([64, 75, 99])], [34, array([57])], [35, array([59])], [36, array([13, 40])], [37, array([ 34,  43, 106])], [41, array([61])], [42, array([71])], [43, array([65])], [45, array([82])], [46, array([62])], [48, array([76])], [51, array([51])], [52, array([11])], [53, array([ 70, 122])], [54, array([49, 68])], [57, array([60])], [60, array([84])], [61, array([81])], [62, array([55])], [63, array([66, 72])], [64, array([54, 73])], [66, array([ 32,  35,  50,  94, 107])], [67, array([31])], [68, array([69])], [69, array([79, 95])], [70, array([103])], [71, array([80])], [72, array([96])], [75, array([92, 97])], [76, array([100])], [77, array([33, 53])], [78, array([10, 19])], [79, array([93])], [80, array([109])], [81, array([87])], [84, array([104])], [91, array([85, 89])], [92, array([88])], [94, array([98])]]\n",
      "[[  0.   0.   0.   0.   0.   0.   0.   0.   0.   0.]\n",
      " [ 63.   0.   0.   0.  42.  17.   0.   0.   0.   0.]\n",
      " [ 47.   7.  27.   0.  41.  56. 121.  46.  36.   0.]\n",
      " [  0.   0. 111.  99.  57.  59.  40. 106.   0.   0.]\n",
      " [  0.  61.  71.  65.   0.  82.  62.   0.  76.   0.]\n",
      " [  0.  51.  11. 122.  68.   0.   0.  60.   0.   0.]\n",
      " [ 84.  81.  55.  72.  73.   0. 107.  31.  69.  95.]\n",
      " [103.  80.  96.   0.   0.  97. 100.  53.  19.  93.]\n",
      " [109.  87.   0.   0. 104.   0.   0.   0.   0.   0.]\n",
      " [  0.  89.  88.   0.  98.   0.   0.   0.   0.   0.]]\n"
     ]
    },
    {
     "data": {
      "image/png": "[encoded data removed]",
      "text/plain": [
       "<Figure size 432x288 with 1 Axes>"
      ]
     },
     "metadata": {
      "needs_background": "light"
     },
     "output_type": "display_data"
    }
   ],
   "source": [
    "# 6\n",
    "res = 10\n",
    "pic,pairs,pic2 = draw_lune_heatmap(df,res,lat,log)\n",
    "plt.title('res='+str(res)+' pairs:'+str(len(pairs)))\n",
    "plt.grid(b=False)\n",
    "plt.imshow(pic2)\n",
    "print(pairs)\n",
    "print(pic)"
   ]
  },
  {
   "cell_type": "code",
   "execution_count": 9,
   "metadata": {},
   "outputs": [
    {
     "data": {
      "text/plain": [
       "[[10, array([63])],\n",
       " [14, array([ 3, 23, 42])],\n",
       " [15, array([ 5, 17])],\n",
       " [20, array([47])],\n",
       " [21, array([7])],\n",
       " [22, array([27])],\n",
       " [24, array([21, 26, 41])],\n",
       " [25, array([14, 30, 39, 56])],\n",
       " [26, array([  9,  15,  18,  24,  37,  44, 105, 121])],\n",
       " [27, array([12, 45, 46])],\n",
       " [28, array([ 8, 25, 36])],\n",
       " [32, array([111])],\n",
       " [33, array([64, 75, 99])],\n",
       " [34, array([57])],\n",
       " [35, array([59])],\n",
       " [36, array([13, 40])],\n",
       " [37, array([ 34,  43, 106])],\n",
       " [41, array([61])],\n",
       " [42, array([71])],\n",
       " [43, array([65])],\n",
       " [45, array([82])],\n",
       " [46, array([62])],\n",
       " [48, array([76])],\n",
       " [51, array([51])],\n",
       " [52, array([11])],\n",
       " [53, array([ 70, 122])],\n",
       " [54, array([49, 68])],\n",
       " [57, array([60])],\n",
       " [60, array([84])],\n",
       " [61, array([81])],\n",
       " [62, array([55])],\n",
       " [63, array([66, 72])],\n",
       " [64, array([54, 73])],\n",
       " [66, array([ 32,  35,  50,  94, 107])],\n",
       " [67, array([31])],\n",
       " [68, array([69])],\n",
       " [69, array([79, 95])],\n",
       " [70, array([103])],\n",
       " [71, array([80])],\n",
       " [72, array([96])],\n",
       " [75, array([92, 97])],\n",
       " [76, array([100])],\n",
       " [77, array([33, 53])],\n",
       " [78, array([10, 19])],\n",
       " [79, array([93])],\n",
       " [80, array([109])],\n",
       " [81, array([87])],\n",
       " [84, array([104])],\n",
       " [91, array([85, 89])],\n",
       " [92, array([88])],\n",
       " [94, array([98])]]"
      ]
     },
     "execution_count": 9,
     "metadata": {},
     "output_type": "execute_result"
    }
   ],
   "source": [
    "pairs"
   ]
  },
  {
   "cell_type": "code",
   "execution_count": 10,
   "metadata": {
    "tags": []
   },
   "outputs": [],
   "source": [
    "id_list = []\n",
    "for pair in pairs:\n",
    "    # print(pair[1])\n",
    "    max_length = 0\n",
    "    max_id = 0\n",
    "    for i, id in enumerate(pair[1]):\n",
    "        tmp_df = df_sum[df_sum['Station ID'] == id]\n",
    "        if(len(tmp_df) > max_length):\n",
    "            max_length = len(tmp_df)\n",
    "            max_id = id\n",
    "        # print(id,len(tmp_df))\n",
    "    id_list.append(max_id)\n",
    "    # print(\"------\")\n",
    "    # print(max_id,max_length)\n",
    "    # print(\"______\")\n",
    "id_array = np.array(id_list)"
   ]
  },
  {
   "cell_type": "code",
   "execution_count": 11,
   "metadata": {},
   "outputs": [
    {
     "name": "stdout",
     "output_type": "stream",
     "text": [
      "[  3   5   7   8   9  10  11  12  13  14  15  17  18  19  21  23  24  25\n",
      "  26  27  30  31  32  33  34  35  36  37  39  40  41  42  43  44  45  46\n",
      "  47  49  50  51  53  54  55  56  57  59  60  61  62  63  64  65  66  68\n",
      "  69  70  71  72  73  75  76  79  80  81  82  84  85  87  88  89  92  93\n",
      "  94  95  96  97  98  99 100 103 104 105 106 107 109 111 121 122] 88\n"
     ]
    }
   ],
   "source": [
    "total_id = df_sum['Station ID'].values\n",
    "total_uniq = np.unique(total_id)\n",
    "print(total_uniq,len(total_uniq))"
   ]
  },
  {
   "cell_type": "code",
   "execution_count": 42,
   "metadata": {},
   "outputs": [
    {
     "data": {
      "text/plain": [
       "array([  7,   8,  11,  14,  17,  19,  23,  26,  27,  31,  33,  34,  35,\n",
       "        40,  46,  47,  49,  51,  55,  57,  59,  60,  61,  62,  63,  65,\n",
       "        69,  70,  71,  72,  73,  75,  76,  79,  80,  81,  82,  84,  87,\n",
       "        88,  89,  93,  96,  97,  98, 100, 103, 104, 109, 111, 121])"
      ]
     },
     "execution_count": 42,
     "metadata": {},
     "output_type": "execute_result"
    }
   ],
   "source": [
    "np.sort(id_array)"
   ]
  },
  {
   "cell_type": "code",
   "execution_count": 12,
   "metadata": {},
   "outputs": [
    {
     "data": {
      "text/plain": [
       "51"
      ]
     },
     "execution_count": 12,
     "metadata": {},
     "output_type": "execute_result"
    }
   ],
   "source": [
    "len(id_array)"
   ]
  },
  {
   "cell_type": "code",
   "execution_count": 13,
   "metadata": {},
   "outputs": [],
   "source": [
    "dfs = pd.DataFrame()\n",
    "for id in id_array:\n",
    "    df_tmp = df_sum[df_sum['Station ID'] == id]\n",
    "    dfs = pd.concat([dfs,df_tmp],axis=0)"
   ]
  },
  {
   "cell_type": "code",
   "execution_count": 14,
   "metadata": {},
   "outputs": [
    {
     "data": {
      "text/plain": [
       "21797635"
      ]
     },
     "execution_count": 14,
     "metadata": {},
     "output_type": "execute_result"
    }
   ],
   "source": [
    "len(dfs)"
   ]
  },
  {
   "cell_type": "code",
   "execution_count": 15,
   "metadata": {},
   "outputs": [],
   "source": [
    "df_sub = dfs.drop(['Solar Radiation','Soil Moisture [%]','Watermark [kPa]','Rain Meter [mm]','Wind Speed [m/s]','Wind Direction [°]'],axis=1)"
   ]
  },
  {
   "cell_type": "code",
   "execution_count": 16,
   "metadata": {},
   "outputs": [],
   "source": [
    "df_sub.to_hdf('r_data_files/df_sub.h5',key='df_sub',mode='w')"
   ]
  }
 ],
 "metadata": {
  "interpreter": {
   "hash": "31fe6650c13fc7a10e7b96cf2b84ba6fc987afe9ea0364dd074b2d8269b14d26"
  },
  "kernelspec": {
   "display_name": "Python 3.7.9 64-bit",
   "language": "python",
   "name": "python3"
  },
  "language_info": {
   "codemirror_mode": {
    "name": "ipython",
    "version": 3
   },
   "file_extension": ".py",
   "mimetype": "text/x-python",
   "name": "python",
   "nbconvert_exporter": "python",
   "pygments_lexer": "ipython3",
   "version": "3.7.6"
  },
  "metadata": {
   "interpreter": {
    "hash": "906b79bf097d1f1d9673c7efb6a8c75b3b37c36b1c482a31cb0779974e6343ce"
   }
  },
  "orig_nbformat": 2
 },
 "nbformat": 4,
 "nbformat_minor": 2
}
