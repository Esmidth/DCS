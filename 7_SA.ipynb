{
 "cells": [
  {
   "cell_type": "code",
   "execution_count": 1,
   "metadata": {},
   "outputs": [],
   "source": [
    "# 1\n",
    "%matplotlib inline\n",
    "import numpy as np\n",
    "import pandas as pd\n",
    "import os,sys\n",
    "import utilities as utils\n",
    "import matplotlib.pyplot as plt"
   ]
  },
  {
   "cell_type": "code",
   "execution_count": 2,
   "metadata": {},
   "outputs": [],
   "source": [
    "# 2\n",
    "ori_path = '/home/esmidth/code/DCS_COPY/DCS/Original_Data/Sensorscope/luce_stations/'\n",
    "sub_prefix = 'sensorscope-meteo-'\n",
    "sub_suffix = '.txt'\n",
    "file_list = os.listdir(ori_path)\n",
    "name = [\n",
    "'Station ID',\n",
    "'Year',\n",
    "'Month',\n",
    "'Day',\n",
    "'Hour',\n",
    "'Minute',\n",
    "'Second',\n",
    "'Time since the epoch [s]',\n",
    "'Sequence Number',\n",
    "'Ambient Temperature',\n",
    "'Surface Temperature',\n",
    "'Solar Radiation',\n",
    "'Relative Humidity [%]',\n",
    "'Soil Moisture [%]',\n",
    "'Watermark [kPa]',\n",
    "'Rain Meter [mm]',\n",
    "'Wind Speed [m/s]',\n",
    "'Wind Direction [°]',\n",
    "]"
   ]
  },
  {
   "cell_type": "code",
   "execution_count": 3,
   "metadata": {},
   "outputs": [],
   "source": [
    "#3\n",
    "# if df_sum != None:\n",
    "#     del df_sum\n",
    "df_sum = pd.read_hdf('data_ori.h5','df')"
   ]
  },
  {
   "cell_type": "code",
   "execution_count": null,
   "metadata": {},
   "outputs": [],
   "source": [
    "tmp_values = df_sum[df_sum['Station ID'] == 3]['Station ID'].values\n",
    "print(tmp_values)"
   ]
  },
  {
   "cell_type": "code",
   "execution_count": null,
   "metadata": {},
   "outputs": [],
   "source": [
    "df_sum[df_sum['Station ID'] ==3]"
   ]
  },
  {
   "cell_type": "code",
   "execution_count": null,
   "metadata": {},
   "outputs": [],
   "source": []
  },
  {
   "cell_type": "code",
   "execution_count": null,
   "metadata": {},
   "outputs": [],
   "source": [
    "df_sum.info('deep')"
   ]
  },
  {
   "cell_type": "code",
   "execution_count": null,
   "metadata": {},
   "outputs": [],
   "source": [
    "len(df_sum)"
   ]
  },
  {
   "cell_type": "code",
   "execution_count": null,
   "metadata": {},
   "outputs": [],
   "source": [
    "df_sum"
   ]
  },
  {
   "cell_type": "code",
   "execution_count": 4,
   "metadata": {},
   "outputs": [],
   "source": [
    "# 4\n",
    "lat = (46.51788,46.52227)\n",
    "log = (6.56517,6.5693)\n",
    "\n",
    "loc_file = '/home/esmidth/code/DCS_COPY/DCS/Original_Data/Sensorscope/EPFL_sensor_loc_simple2.xlsx'\n",
    "df = pd.read_excel(loc_file)\n",
    "\n",
    "lat_range = np.linspace(lat[0],lat[1],11)\n",
    "log_range = np.linspace(log[0],log[1],11)\n",
    "# print(lat_range)\n",
    "# print(log_range)"
   ]
  },
  {
   "cell_type": "code",
   "execution_count": null,
   "metadata": {},
   "outputs": [],
   "source": [
    "# 5 \n",
    "def draw_lune_heatmap(df,res,lat=lat,log=log):\n",
    "    # res refers to resolution\n",
    "    lat_range = np.linspace(lat[1],lat[0],res+1)\n",
    "    log_range = np.linspace(log[0],log[1],res+1)\n",
    "    pic = np.zeros((res,res))\n",
    "    pic2 = np.zeros((res,res))\n",
    "    pairs = []\n",
    "    for i in range(res):\n",
    "        # print(i,lat_range[i],lat_range[i+1])\n",
    "        for j in range(res):\n",
    "            sub_df = df[(df['Latitude'] < lat_range[i]) & (df['Latitude'] > lat_range[i+1]) & (df['Longitude'] > log_range[j]) & (df['Longitude'] < log_range[j+1])]\n",
    "            pic[i][j] = len(sub_df)\n",
    "            if len(sub_df) > 0:\n",
    "                pic2[i][j]=1\n",
    "            # pic[i][j] = i*res+j\n",
    "            if len(sub_df) > 1:\n",
    "                pairs.append([i*res+j,sub_df['ID'].values])\n",
    "                #pairs ( offset, [pair])\n",
    "            max_value = 0\n",
    "            max_id = 0\n",
    "            for value in sub_df['ID'].values:\n",
    "                # print(value)\n",
    "                if len(sub_df[sub_df['ID'] == value]) > max_value:\n",
    "                    max_id =value\n",
    "            pic[i][j] = max_id\n",
    "    return pic,pairs,pic2\n",
    "# 输出的pic有颜色明暗，pic2为黑白两色"
   ]
  },
  {
   "cell_type": "code",
   "execution_count": 6,
   "metadata": {},
   "outputs": [
    {
     "output_type": "stream",
     "name": "stdout",
     "text": [
      "[[14, array([ 3, 23, 42])], [15, array([ 5, 17])], [24, array([21, 26, 41])], [25, array([14, 30, 39, 56])], [26, array([  9,  15,  18,  24,  37,  44, 105, 121])], [27, array([12, 45, 46])], [28, array([ 8, 25, 36])], [33, array([64, 75, 99])], [36, array([13, 40])], [37, array([ 34,  43, 106])], [53, array([ 70, 122])], [54, array([49, 68])], [63, array([66, 72])], [64, array([54, 73])], [66, array([ 32,  35,  50,  94, 107])], [69, array([79, 95])], [75, array([92, 97])], [77, array([33, 53])], [78, array([10, 19])], [91, array([85, 89])]]\n[[  0.   0.   0.   0.   0.   0.   0.   0.   0.   0.]\n [ 63.   0.   0.   0.  42.  17.   0.   0.   0.   0.]\n [ 47.   7.  27.   0.  41.  56. 121.  46.  36.   0.]\n [  0.   0. 111.  99.  57.  59.  40. 106.   0.   0.]\n [  0.  61.  71.  65.   0.  82.  62.   0.  76.   0.]\n [  0.  51.  11. 122.  68.   0.   0.  60.   0.   0.]\n [ 84.  81.  55.  72.  73.   0. 107.  31.  69.  95.]\n [103.  80.  96.   0.   0.  97. 100.  53.  19.  93.]\n [109.  87.   0.   0. 104.   0.   0.   0.   0.   0.]\n [  0.  89.  88.   0.  98.   0.   0.   0.   0.   0.]]\n"
     ]
    },
    {
     "output_type": "display_data",
     "data": {
      "text/plain": "<Figure size 432x288 with 1 Axes>",
      "image/svg+xml": "<?xml version=\"1.0\" encoding=\"utf-8\" standalone=\"no\"?>\n<!DOCTYPE svg PUBLIC \"-//W3C//DTD SVG 1.1//EN\"\n  \"http://www.w3.org/Graphics/SVG/1.1/DTD/svg11.dtd\">\n<!-- Created with matplotlib (https://matplotlib.org/) -->\n<svg height=\"263.63625pt\" version=\"1.1\" viewBox=\"0 0 245.2025 263.63625\" width=\"245.2025pt\" xmlns=\"http://www.w3.org/2000/svg\" xmlns:xlink=\"http://www.w3.org/1999/xlink\">\n <metadata>\n  <rdf:RDF xmlns:cc=\"http://creativecommons.org/ns#\" xmlns:dc=\"http://purl.org/dc/elements/1.1/\" xmlns:rdf=\"http://www.w3.org/1999/02/22-rdf-syntax-ns#\">\n   <cc:Work>\n    <dc:type rdf:resource=\"http://purl.org/dc/dcmitype/StillImage\"/>\n    <dc:date>2021-03-19T21:53:43.500368</dc:date>\n    <dc:format>image/svg+xml</dc:format>\n    <dc:creator>\n     <cc:Agent>\n      <dc:title>Matplotlib v3.3.2, https://matplotlib.org/</dc:title>\n     </cc:Agent>\n    </dc:creator>\n   </cc:Work>\n  </rdf:RDF>\n </metadata>\n <defs>\n  <style type=\"text/css\">*{stroke-linecap:butt;stroke-linejoin:round;}</style>\n </defs>\n <g id=\"figure_1\">\n  <g id=\"patch_1\">\n   <path d=\"M 0 263.63625 \nL 245.2025 263.63625 \nL 245.2025 0 \nL 0 0 \nz\n\" style=\"fill:none;\"/>\n  </g>\n  <g id=\"axes_1\">\n   <g id=\"patch_2\">\n    <path d=\"M 20.5625 239.758125 \nL 238.0025 239.758125 \nL 238.0025 22.318125 \nL 20.5625 22.318125 \nz\n\" style=\"fill:#ffffff;\"/>\n   </g>\n   <g clip-path=\"url(#pa0486e3ccd)\">\n    <image height=\"218\" id=\"image6b38056cd4\" transform=\"scale(1 -1)translate(0 -218)\" width=\"218\" x=\"20.5625\" xlink:href=\"data:image/png;base64,\niVBORw0KGgoAAAANSUhEUgAAANoAAADaCAYAAADAHVzbAAADAElEQVR4nO3cwU3DUBBAwRi5Cs4pgCIi0UCapQuqIFUgc6IADvusH2YKsFa2n/a22227H5cBH1+fE48d8f76NvLcqXcwNS9zXs4eAP4DoUFAaBAQGgSEBgGhQUBoEBAaBIQGAaFBQGgQEBoEhAYBoUFAaBAQGgSEBgGhQUBoEBAaBIQGgX2la1WXiwtQrMlGg4DQICA0CAgNAkKDgNAgIDQICA0CQoOA0CAgNAgIDQJCg4DQICA0CAgNAkKDgNAgIDQICA0CQoPA9v24HmcPcbbVLmutdrkMGw0SQoOA0CAgNAgIDQJCg4DQICA0CAgNAkKDgNAgIDQICA0CQoOA0CAgNAgIDQJCg4DQICA0CDjOs6CpY0KO/syx0SAgNAgIDQJCg4DQICA0CAgNAkKDgNAgIDQICA0CQoOA0CAgNAgIDQJCg4DQICA0CAgNAkKDgNAgsLuoxK+V/oWpWafYaBAQGgSEBgGhQUBoEBAaBIQGAaFBQGgQEBoEhAYBoUFAaBAQGgSEBgGhQUBoEBAaBIQGAaFBQGgQ2M8e4JmtdFVq0sR7mHoHU9/MRoOA0CAgNAgIDQJCg4DQICA0CAgNAkKDgNAgIDQICA0CQoOA0CAgNAgIDQJCg4DQICA0CAgNAkKDwHbb7sfZQ/zFahegmDF1rWqKjQYBoUFAaBAQGgSEBgGhQUBoEBAaBIQGAaFBQGgQEBoEhAYBoUFAaBAQGgSEBgGhQUBoEBAaBIQGge37cV3qCtaEqYtKLnatZ+pfsNEgIDQICA0CQoOA0CAgNAgIDQJCg4DQICA0CAgNAkKDgNAgIDQICA0CQoOA0CAgNAgIDQJCg8A+9eCpIyfM8c3m2GgQEBoEhAYBoUFAaBAQGgSEBgGhQUBoEBAaBIQGAaFBQGgQEBoEhAYBoUFAaBAQGgSEBgGhQUBoENhu2/04ewh4djYaBIQGAaFBQGgQEBoEhAYBoUFAaBAQGgSEBgGhQUBoEBAaBIQGAaFBQGgQEBoEhAYBoUFAaBAQGgR+AARsM2kFY14hAAAAAElFTkSuQmCC\" y=\"-21.758125\"/>\n   </g>\n   <g id=\"matplotlib.axis_1\">\n    <g id=\"xtick_1\">\n     <g id=\"line2d_1\">\n      <defs>\n       <path d=\"M 0 0 \nL 0 3.5 \n\" id=\"m5cc9d8d260\" style=\"stroke:#000000;stroke-width:0.8;\"/>\n      </defs>\n      <g>\n       <use style=\"stroke:#000000;stroke-width:0.8;\" x=\"31.4345\" xlink:href=\"#m5cc9d8d260\" y=\"239.758125\"/>\n      </g>\n     </g>\n     <g id=\"text_1\">\n      <!-- 0 -->\n      <g transform=\"translate(28.25325 254.356563)scale(0.1 -0.1)\">\n       <defs>\n        <path d=\"M 31.78125 66.40625 \nQ 24.171875 66.40625 20.328125 58.90625 \nQ 16.5 51.421875 16.5 36.375 \nQ 16.5 21.390625 20.328125 13.890625 \nQ 24.171875 6.390625 31.78125 6.390625 \nQ 39.453125 6.390625 43.28125 13.890625 \nQ 47.125 21.390625 47.125 36.375 \nQ 47.125 51.421875 43.28125 58.90625 \nQ 39.453125 66.40625 31.78125 66.40625 \nz\nM 31.78125 74.21875 \nQ 44.046875 74.21875 50.515625 64.515625 \nQ 56.984375 54.828125 56.984375 36.375 \nQ 56.984375 17.96875 50.515625 8.265625 \nQ 44.046875 -1.421875 31.78125 -1.421875 \nQ 19.53125 -1.421875 13.0625 8.265625 \nQ 6.59375 17.96875 6.59375 36.375 \nQ 6.59375 54.828125 13.0625 64.515625 \nQ 19.53125 74.21875 31.78125 74.21875 \nz\n\" id=\"DejaVuSans-48\"/>\n       </defs>\n       <use xlink:href=\"#DejaVuSans-48\"/>\n      </g>\n     </g>\n    </g>\n    <g id=\"xtick_2\">\n     <g id=\"line2d_2\">\n      <g>\n       <use style=\"stroke:#000000;stroke-width:0.8;\" x=\"74.9225\" xlink:href=\"#m5cc9d8d260\" y=\"239.758125\"/>\n      </g>\n     </g>\n     <g id=\"text_2\">\n      <!-- 2 -->\n      <g transform=\"translate(71.74125 254.356563)scale(0.1 -0.1)\">\n       <defs>\n        <path d=\"M 19.1875 8.296875 \nL 53.609375 8.296875 \nL 53.609375 0 \nL 7.328125 0 \nL 7.328125 8.296875 \nQ 12.9375 14.109375 22.625 23.890625 \nQ 32.328125 33.6875 34.8125 36.53125 \nQ 39.546875 41.84375 41.421875 45.53125 \nQ 43.3125 49.21875 43.3125 52.78125 \nQ 43.3125 58.59375 39.234375 62.25 \nQ 35.15625 65.921875 28.609375 65.921875 \nQ 23.96875 65.921875 18.8125 64.3125 \nQ 13.671875 62.703125 7.8125 59.421875 \nL 7.8125 69.390625 \nQ 13.765625 71.78125 18.9375 73 \nQ 24.125 74.21875 28.421875 74.21875 \nQ 39.75 74.21875 46.484375 68.546875 \nQ 53.21875 62.890625 53.21875 53.421875 \nQ 53.21875 48.921875 51.53125 44.890625 \nQ 49.859375 40.875 45.40625 35.40625 \nQ 44.1875 33.984375 37.640625 27.21875 \nQ 31.109375 20.453125 19.1875 8.296875 \nz\n\" id=\"DejaVuSans-50\"/>\n       </defs>\n       <use xlink:href=\"#DejaVuSans-50\"/>\n      </g>\n     </g>\n    </g>\n    <g id=\"xtick_3\">\n     <g id=\"line2d_3\">\n      <g>\n       <use style=\"stroke:#000000;stroke-width:0.8;\" x=\"118.4105\" xlink:href=\"#m5cc9d8d260\" y=\"239.758125\"/>\n      </g>\n     </g>\n     <g id=\"text_3\">\n      <!-- 4 -->\n      <g transform=\"translate(115.22925 254.356563)scale(0.1 -0.1)\">\n       <defs>\n        <path d=\"M 37.796875 64.3125 \nL 12.890625 25.390625 \nL 37.796875 25.390625 \nz\nM 35.203125 72.90625 \nL 47.609375 72.90625 \nL 47.609375 25.390625 \nL 58.015625 25.390625 \nL 58.015625 17.1875 \nL 47.609375 17.1875 \nL 47.609375 0 \nL 37.796875 0 \nL 37.796875 17.1875 \nL 4.890625 17.1875 \nL 4.890625 26.703125 \nz\n\" id=\"DejaVuSans-52\"/>\n       </defs>\n       <use xlink:href=\"#DejaVuSans-52\"/>\n      </g>\n     </g>\n    </g>\n    <g id=\"xtick_4\">\n     <g id=\"line2d_4\">\n      <g>\n       <use style=\"stroke:#000000;stroke-width:0.8;\" x=\"161.8985\" xlink:href=\"#m5cc9d8d260\" y=\"239.758125\"/>\n      </g>\n     </g>\n     <g id=\"text_4\">\n      <!-- 6 -->\n      <g transform=\"translate(158.71725 254.356563)scale(0.1 -0.1)\">\n       <defs>\n        <path d=\"M 33.015625 40.375 \nQ 26.375 40.375 22.484375 35.828125 \nQ 18.609375 31.296875 18.609375 23.390625 \nQ 18.609375 15.53125 22.484375 10.953125 \nQ 26.375 6.390625 33.015625 6.390625 \nQ 39.65625 6.390625 43.53125 10.953125 \nQ 47.40625 15.53125 47.40625 23.390625 \nQ 47.40625 31.296875 43.53125 35.828125 \nQ 39.65625 40.375 33.015625 40.375 \nz\nM 52.59375 71.296875 \nL 52.59375 62.3125 \nQ 48.875 64.0625 45.09375 64.984375 \nQ 41.3125 65.921875 37.59375 65.921875 \nQ 27.828125 65.921875 22.671875 59.328125 \nQ 17.53125 52.734375 16.796875 39.40625 \nQ 19.671875 43.65625 24.015625 45.921875 \nQ 28.375 48.1875 33.59375 48.1875 \nQ 44.578125 48.1875 50.953125 41.515625 \nQ 57.328125 34.859375 57.328125 23.390625 \nQ 57.328125 12.15625 50.6875 5.359375 \nQ 44.046875 -1.421875 33.015625 -1.421875 \nQ 20.359375 -1.421875 13.671875 8.265625 \nQ 6.984375 17.96875 6.984375 36.375 \nQ 6.984375 53.65625 15.1875 63.9375 \nQ 23.390625 74.21875 37.203125 74.21875 \nQ 40.921875 74.21875 44.703125 73.484375 \nQ 48.484375 72.75 52.59375 71.296875 \nz\n\" id=\"DejaVuSans-54\"/>\n       </defs>\n       <use xlink:href=\"#DejaVuSans-54\"/>\n      </g>\n     </g>\n    </g>\n    <g id=\"xtick_5\">\n     <g id=\"line2d_5\">\n      <g>\n       <use style=\"stroke:#000000;stroke-width:0.8;\" x=\"205.3865\" xlink:href=\"#m5cc9d8d260\" y=\"239.758125\"/>\n      </g>\n     </g>\n     <g id=\"text_5\">\n      <!-- 8 -->\n      <g transform=\"translate(202.20525 254.356563)scale(0.1 -0.1)\">\n       <defs>\n        <path d=\"M 31.78125 34.625 \nQ 24.75 34.625 20.71875 30.859375 \nQ 16.703125 27.09375 16.703125 20.515625 \nQ 16.703125 13.921875 20.71875 10.15625 \nQ 24.75 6.390625 31.78125 6.390625 \nQ 38.8125 6.390625 42.859375 10.171875 \nQ 46.921875 13.96875 46.921875 20.515625 \nQ 46.921875 27.09375 42.890625 30.859375 \nQ 38.875 34.625 31.78125 34.625 \nz\nM 21.921875 38.8125 \nQ 15.578125 40.375 12.03125 44.71875 \nQ 8.5 49.078125 8.5 55.328125 \nQ 8.5 64.0625 14.71875 69.140625 \nQ 20.953125 74.21875 31.78125 74.21875 \nQ 42.671875 74.21875 48.875 69.140625 \nQ 55.078125 64.0625 55.078125 55.328125 \nQ 55.078125 49.078125 51.53125 44.71875 \nQ 48 40.375 41.703125 38.8125 \nQ 48.828125 37.15625 52.796875 32.3125 \nQ 56.78125 27.484375 56.78125 20.515625 \nQ 56.78125 9.90625 50.3125 4.234375 \nQ 43.84375 -1.421875 31.78125 -1.421875 \nQ 19.734375 -1.421875 13.25 4.234375 \nQ 6.78125 9.90625 6.78125 20.515625 \nQ 6.78125 27.484375 10.78125 32.3125 \nQ 14.796875 37.15625 21.921875 38.8125 \nz\nM 18.3125 54.390625 \nQ 18.3125 48.734375 21.84375 45.5625 \nQ 25.390625 42.390625 31.78125 42.390625 \nQ 38.140625 42.390625 41.71875 45.5625 \nQ 45.3125 48.734375 45.3125 54.390625 \nQ 45.3125 60.0625 41.71875 63.234375 \nQ 38.140625 66.40625 31.78125 66.40625 \nQ 25.390625 66.40625 21.84375 63.234375 \nQ 18.3125 60.0625 18.3125 54.390625 \nz\n\" id=\"DejaVuSans-56\"/>\n       </defs>\n       <use xlink:href=\"#DejaVuSans-56\"/>\n      </g>\n     </g>\n    </g>\n   </g>\n   <g id=\"matplotlib.axis_2\">\n    <g id=\"ytick_1\">\n     <g id=\"line2d_6\">\n      <defs>\n       <path d=\"M 0 0 \nL -3.5 0 \n\" id=\"m8d6a5f90fb\" style=\"stroke:#000000;stroke-width:0.8;\"/>\n      </defs>\n      <g>\n       <use style=\"stroke:#000000;stroke-width:0.8;\" x=\"20.5625\" xlink:href=\"#m8d6a5f90fb\" y=\"33.190125\"/>\n      </g>\n     </g>\n     <g id=\"text_6\">\n      <!-- 0 -->\n      <g transform=\"translate(7.2 36.989344)scale(0.1 -0.1)\">\n       <use xlink:href=\"#DejaVuSans-48\"/>\n      </g>\n     </g>\n    </g>\n    <g id=\"ytick_2\">\n     <g id=\"line2d_7\">\n      <g>\n       <use style=\"stroke:#000000;stroke-width:0.8;\" x=\"20.5625\" xlink:href=\"#m8d6a5f90fb\" y=\"76.678125\"/>\n      </g>\n     </g>\n     <g id=\"text_7\">\n      <!-- 2 -->\n      <g transform=\"translate(7.2 80.477344)scale(0.1 -0.1)\">\n       <use xlink:href=\"#DejaVuSans-50\"/>\n      </g>\n     </g>\n    </g>\n    <g id=\"ytick_3\">\n     <g id=\"line2d_8\">\n      <g>\n       <use style=\"stroke:#000000;stroke-width:0.8;\" x=\"20.5625\" xlink:href=\"#m8d6a5f90fb\" y=\"120.166125\"/>\n      </g>\n     </g>\n     <g id=\"text_8\">\n      <!-- 4 -->\n      <g transform=\"translate(7.2 123.965344)scale(0.1 -0.1)\">\n       <use xlink:href=\"#DejaVuSans-52\"/>\n      </g>\n     </g>\n    </g>\n    <g id=\"ytick_4\">\n     <g id=\"line2d_9\">\n      <g>\n       <use style=\"stroke:#000000;stroke-width:0.8;\" x=\"20.5625\" xlink:href=\"#m8d6a5f90fb\" y=\"163.654125\"/>\n      </g>\n     </g>\n     <g id=\"text_9\">\n      <!-- 6 -->\n      <g transform=\"translate(7.2 167.453344)scale(0.1 -0.1)\">\n       <use xlink:href=\"#DejaVuSans-54\"/>\n      </g>\n     </g>\n    </g>\n    <g id=\"ytick_5\">\n     <g id=\"line2d_10\">\n      <g>\n       <use style=\"stroke:#000000;stroke-width:0.8;\" x=\"20.5625\" xlink:href=\"#m8d6a5f90fb\" y=\"207.142125\"/>\n      </g>\n     </g>\n     <g id=\"text_10\">\n      <!-- 8 -->\n      <g transform=\"translate(7.2 210.941344)scale(0.1 -0.1)\">\n       <use xlink:href=\"#DejaVuSans-56\"/>\n      </g>\n     </g>\n    </g>\n   </g>\n   <g id=\"patch_3\">\n    <path d=\"M 20.5625 239.758125 \nL 20.5625 22.318125 \n\" style=\"fill:none;stroke:#000000;stroke-linecap:square;stroke-linejoin:miter;stroke-width:0.8;\"/>\n   </g>\n   <g id=\"patch_4\">\n    <path d=\"M 238.0025 239.758125 \nL 238.0025 22.318125 \n\" style=\"fill:none;stroke:#000000;stroke-linecap:square;stroke-linejoin:miter;stroke-width:0.8;\"/>\n   </g>\n   <g id=\"patch_5\">\n    <path d=\"M 20.5625 239.758125 \nL 238.0025 239.758125 \n\" style=\"fill:none;stroke:#000000;stroke-linecap:square;stroke-linejoin:miter;stroke-width:0.8;\"/>\n   </g>\n   <g id=\"patch_6\">\n    <path d=\"M 20.5625 22.318125 \nL 238.0025 22.318125 \n\" style=\"fill:none;stroke:#000000;stroke-linecap:square;stroke-linejoin:miter;stroke-width:0.8;\"/>\n   </g>\n   <g id=\"text_11\">\n    <!-- res=10 pairs:20 -->\n    <g transform=\"translate(81.1625 16.318125)scale(0.12 -0.12)\">\n     <defs>\n      <path d=\"M 41.109375 46.296875 \nQ 39.59375 47.171875 37.8125 47.578125 \nQ 36.03125 48 33.890625 48 \nQ 26.265625 48 22.1875 43.046875 \nQ 18.109375 38.09375 18.109375 28.8125 \nL 18.109375 0 \nL 9.078125 0 \nL 9.078125 54.6875 \nL 18.109375 54.6875 \nL 18.109375 46.1875 \nQ 20.953125 51.171875 25.484375 53.578125 \nQ 30.03125 56 36.53125 56 \nQ 37.453125 56 38.578125 55.875 \nQ 39.703125 55.765625 41.0625 55.515625 \nz\n\" id=\"DejaVuSans-114\"/>\n      <path d=\"M 56.203125 29.59375 \nL 56.203125 25.203125 \nL 14.890625 25.203125 \nQ 15.484375 15.921875 20.484375 11.0625 \nQ 25.484375 6.203125 34.421875 6.203125 \nQ 39.59375 6.203125 44.453125 7.46875 \nQ 49.3125 8.734375 54.109375 11.28125 \nL 54.109375 2.78125 \nQ 49.265625 0.734375 44.1875 -0.34375 \nQ 39.109375 -1.421875 33.890625 -1.421875 \nQ 20.796875 -1.421875 13.15625 6.1875 \nQ 5.515625 13.8125 5.515625 26.8125 \nQ 5.515625 40.234375 12.765625 48.109375 \nQ 20.015625 56 32.328125 56 \nQ 43.359375 56 49.78125 48.890625 \nQ 56.203125 41.796875 56.203125 29.59375 \nz\nM 47.21875 32.234375 \nQ 47.125 39.59375 43.09375 43.984375 \nQ 39.0625 48.390625 32.421875 48.390625 \nQ 24.90625 48.390625 20.390625 44.140625 \nQ 15.875 39.890625 15.1875 32.171875 \nz\n\" id=\"DejaVuSans-101\"/>\n      <path d=\"M 44.28125 53.078125 \nL 44.28125 44.578125 \nQ 40.484375 46.53125 36.375 47.5 \nQ 32.28125 48.484375 27.875 48.484375 \nQ 21.1875 48.484375 17.84375 46.4375 \nQ 14.5 44.390625 14.5 40.28125 \nQ 14.5 37.15625 16.890625 35.375 \nQ 19.28125 33.59375 26.515625 31.984375 \nL 29.59375 31.296875 \nQ 39.15625 29.25 43.1875 25.515625 \nQ 47.21875 21.78125 47.21875 15.09375 \nQ 47.21875 7.46875 41.1875 3.015625 \nQ 35.15625 -1.421875 24.609375 -1.421875 \nQ 20.21875 -1.421875 15.453125 -0.5625 \nQ 10.6875 0.296875 5.421875 2 \nL 5.421875 11.28125 \nQ 10.40625 8.6875 15.234375 7.390625 \nQ 20.0625 6.109375 24.8125 6.109375 \nQ 31.15625 6.109375 34.5625 8.28125 \nQ 37.984375 10.453125 37.984375 14.40625 \nQ 37.984375 18.0625 35.515625 20.015625 \nQ 33.0625 21.96875 24.703125 23.78125 \nL 21.578125 24.515625 \nQ 13.234375 26.265625 9.515625 29.90625 \nQ 5.8125 33.546875 5.8125 39.890625 \nQ 5.8125 47.609375 11.28125 51.796875 \nQ 16.75 56 26.8125 56 \nQ 31.78125 56 36.171875 55.265625 \nQ 40.578125 54.546875 44.28125 53.078125 \nz\n\" id=\"DejaVuSans-115\"/>\n      <path d=\"M 10.59375 45.40625 \nL 73.1875 45.40625 \nL 73.1875 37.203125 \nL 10.59375 37.203125 \nz\nM 10.59375 25.484375 \nL 73.1875 25.484375 \nL 73.1875 17.1875 \nL 10.59375 17.1875 \nz\n\" id=\"DejaVuSans-61\"/>\n      <path d=\"M 12.40625 8.296875 \nL 28.515625 8.296875 \nL 28.515625 63.921875 \nL 10.984375 60.40625 \nL 10.984375 69.390625 \nL 28.421875 72.90625 \nL 38.28125 72.90625 \nL 38.28125 8.296875 \nL 54.390625 8.296875 \nL 54.390625 0 \nL 12.40625 0 \nz\n\" id=\"DejaVuSans-49\"/>\n      <path id=\"DejaVuSans-32\"/>\n      <path d=\"M 18.109375 8.203125 \nL 18.109375 -20.796875 \nL 9.078125 -20.796875 \nL 9.078125 54.6875 \nL 18.109375 54.6875 \nL 18.109375 46.390625 \nQ 20.953125 51.265625 25.265625 53.625 \nQ 29.59375 56 35.59375 56 \nQ 45.5625 56 51.78125 48.09375 \nQ 58.015625 40.1875 58.015625 27.296875 \nQ 58.015625 14.40625 51.78125 6.484375 \nQ 45.5625 -1.421875 35.59375 -1.421875 \nQ 29.59375 -1.421875 25.265625 0.953125 \nQ 20.953125 3.328125 18.109375 8.203125 \nz\nM 48.6875 27.296875 \nQ 48.6875 37.203125 44.609375 42.84375 \nQ 40.53125 48.484375 33.40625 48.484375 \nQ 26.265625 48.484375 22.1875 42.84375 \nQ 18.109375 37.203125 18.109375 27.296875 \nQ 18.109375 17.390625 22.1875 11.75 \nQ 26.265625 6.109375 33.40625 6.109375 \nQ 40.53125 6.109375 44.609375 11.75 \nQ 48.6875 17.390625 48.6875 27.296875 \nz\n\" id=\"DejaVuSans-112\"/>\n      <path d=\"M 34.28125 27.484375 \nQ 23.390625 27.484375 19.1875 25 \nQ 14.984375 22.515625 14.984375 16.5 \nQ 14.984375 11.71875 18.140625 8.90625 \nQ 21.296875 6.109375 26.703125 6.109375 \nQ 34.1875 6.109375 38.703125 11.40625 \nQ 43.21875 16.703125 43.21875 25.484375 \nL 43.21875 27.484375 \nz\nM 52.203125 31.203125 \nL 52.203125 0 \nL 43.21875 0 \nL 43.21875 8.296875 \nQ 40.140625 3.328125 35.546875 0.953125 \nQ 30.953125 -1.421875 24.3125 -1.421875 \nQ 15.921875 -1.421875 10.953125 3.296875 \nQ 6 8.015625 6 15.921875 \nQ 6 25.140625 12.171875 29.828125 \nQ 18.359375 34.515625 30.609375 34.515625 \nL 43.21875 34.515625 \nL 43.21875 35.40625 \nQ 43.21875 41.609375 39.140625 45 \nQ 35.0625 48.390625 27.6875 48.390625 \nQ 23 48.390625 18.546875 47.265625 \nQ 14.109375 46.140625 10.015625 43.890625 \nL 10.015625 52.203125 \nQ 14.9375 54.109375 19.578125 55.046875 \nQ 24.21875 56 28.609375 56 \nQ 40.484375 56 46.34375 49.84375 \nQ 52.203125 43.703125 52.203125 31.203125 \nz\n\" id=\"DejaVuSans-97\"/>\n      <path d=\"M 9.421875 54.6875 \nL 18.40625 54.6875 \nL 18.40625 0 \nL 9.421875 0 \nz\nM 9.421875 75.984375 \nL 18.40625 75.984375 \nL 18.40625 64.59375 \nL 9.421875 64.59375 \nz\n\" id=\"DejaVuSans-105\"/>\n      <path d=\"M 11.71875 12.40625 \nL 22.015625 12.40625 \nL 22.015625 0 \nL 11.71875 0 \nz\nM 11.71875 51.703125 \nL 22.015625 51.703125 \nL 22.015625 39.3125 \nL 11.71875 39.3125 \nz\n\" id=\"DejaVuSans-58\"/>\n     </defs>\n     <use xlink:href=\"#DejaVuSans-114\"/>\n     <use x=\"38.863281\" xlink:href=\"#DejaVuSans-101\"/>\n     <use x=\"100.386719\" xlink:href=\"#DejaVuSans-115\"/>\n     <use x=\"152.486328\" xlink:href=\"#DejaVuSans-61\"/>\n     <use x=\"236.275391\" xlink:href=\"#DejaVuSans-49\"/>\n     <use x=\"299.898438\" xlink:href=\"#DejaVuSans-48\"/>\n     <use x=\"363.521484\" xlink:href=\"#DejaVuSans-32\"/>\n     <use x=\"395.308594\" xlink:href=\"#DejaVuSans-112\"/>\n     <use x=\"458.785156\" xlink:href=\"#DejaVuSans-97\"/>\n     <use x=\"520.064453\" xlink:href=\"#DejaVuSans-105\"/>\n     <use x=\"547.847656\" xlink:href=\"#DejaVuSans-114\"/>\n     <use x=\"588.960938\" xlink:href=\"#DejaVuSans-115\"/>\n     <use x=\"641.060547\" xlink:href=\"#DejaVuSans-58\"/>\n     <use x=\"674.751953\" xlink:href=\"#DejaVuSans-50\"/>\n     <use x=\"738.375\" xlink:href=\"#DejaVuSans-48\"/>\n    </g>\n   </g>\n  </g>\n </g>\n <defs>\n  <clipPath id=\"pa0486e3ccd\">\n   <rect height=\"217.44\" width=\"217.44\" x=\"20.5625\" y=\"22.318125\"/>\n  </clipPath>\n </defs>\n</svg>\n",
      "image/png": "[encoded data removed]"
     },
     "metadata": {
      "needs_background": "light"
     }
    }
   ],
   "source": [
    "# 6\n",
    "res = 10\n",
    "pic,pairs,pic2 = draw_lune_heatmap(df,res,lat,log)\n",
    "plt.title('res='+str(res)+' pairs:'+str(len(pairs)))\n",
    "plt.grid(b=False)\n",
    "plt.imshow(pic2)\n",
    "print(pairs)\n",
    "print(pic)"
   ]
  },
  {
   "cell_type": "code",
   "execution_count": 8,
   "metadata": {},
   "outputs": [],
   "source": [
    "# dep\n",
    "# 7-1 引入SA\n",
    "sub_prefix = 'sensorscope-meteo-'\n",
    "sub_suffix = '.txt'\n",
    "def concat_squares(num_list):\n",
    "    # df_sum = pd.DataFrame()\n",
    "    max_length = 0\n",
    "    max_num = 0\n",
    "    for i,num in enumerate(num_list):\n",
    "        file = ori_path+sub_prefix+str(num)+sub_suffix\n",
    "        df = pd.read_csv(file,sep=' ',names=name)\n",
    "        # df_sum = pd.concat([df_sum,df],axis=0)\n",
    "        print(file,len(df))\n",
    "        if len(df) > max_length:\n",
    "            max_length = len(df)\n",
    "            # max_df = df\n",
    "            max_num = num\n",
    "    # df_sum['Station ID'] = max_num\n",
    "    return (max_num,num_list)"
   ]
  },
  {
   "cell_type": "code",
   "execution_count": null,
   "metadata": {},
   "outputs": [],
   "source": [
    "for pair in pairs:\n",
    "    print(pair[0],pair[1])"
   ]
  },
  {
   "cell_type": "code",
   "execution_count": 7,
   "metadata": {},
   "outputs": [
    {
     "output_type": "stream",
     "name": "stdout",
     "text": [
      "3 463366\n",
      "23 508496\n",
      "42 476141\n",
      "max id:  23\n",
      "----\n",
      "5 473401\n",
      "17 508058\n",
      "max id:  17\n",
      "----\n",
      "21 516111\n",
      "26 523660\n",
      "41 492508\n",
      "max id:  26\n",
      "----\n",
      "14 507791\n",
      "30 459515\n",
      "39 498798\n",
      "56 348901\n",
      "max id:  14\n",
      "----\n",
      "9 419401\n",
      "15 507981\n",
      "18 510324\n",
      "24 515165\n",
      "37 481248\n",
      "44 502059\n",
      "105 340836\n",
      "121 1268694\n",
      "max id:  121\n",
      "----\n",
      "12 495806\n",
      "45 496420\n",
      "46 509826\n",
      "max id:  46\n",
      "----\n",
      "8 508506\n",
      "25 486527\n",
      "36 484879\n",
      "max id:  8\n",
      "----\n",
      "64 307468\n",
      "75 371510\n",
      "99 254211\n",
      "max id:  75\n",
      "----\n",
      "13 446626\n",
      "40 465524\n",
      "max id:  40\n",
      "----\n",
      "34 515546\n",
      "43 474557\n",
      "106 358605\n",
      "max id:  34\n",
      "----\n",
      "70 477651\n",
      "122 378219\n",
      "max id:  70\n",
      "----\n",
      "49 449340\n",
      "68 368898\n",
      "max id:  49\n",
      "----\n",
      "66 448698\n",
      "72 462363\n",
      "max id:  72\n",
      "----\n",
      "54 447130\n",
      "73 457270\n",
      "max id:  73\n",
      "----\n",
      "32 486101\n",
      "35 520571\n",
      "50 452121\n",
      "94 258488\n",
      "107 367659\n",
      "max id:  35\n",
      "----\n",
      "79 421204\n",
      "95 366746\n",
      "max id:  79\n",
      "----\n",
      "92 441339\n",
      "97 455939\n",
      "max id:  97\n",
      "----\n",
      "33 489204\n",
      "53 481535\n",
      "max id:  33\n",
      "----\n",
      "10 365048\n",
      "19 468463\n",
      "max id:  19\n",
      "----\n",
      "85 446444\n",
      "89 457590\n",
      "max id:  89\n",
      "----\n",
      "[23 17 26 14 121 46 8 75 40 34 70 49 72 73 35 79 97 33 19 89]\n",
      "20\n",
      "ipykernel_launcher:21: VisibleDeprecationWarning: Creating an ndarray from ragged nested sequences (which is a list-or-tuple of lists-or-tuples-or ndarrays with different lengths or shapes) is deprecated. If you meant to do this, you must specify 'dtype=object' when creating the ndarray\n"
     ]
    }
   ],
   "source": [
    "# 7 new\n",
    "pair_max = []\n",
    "# (max_id, pair_items)\n",
    "for pair in pairs:\n",
    "    tmp_dict ={}\n",
    "    for item in pair[1]:\n",
    "        # print(item)\n",
    "        tmp_len = len(df_sum[df_sum['Station ID'] == item])\n",
    "        tmp_dict[item] = tmp_len\n",
    "        print(item,tmp_len)\n",
    "    # print(np.max(tmp_array))\n",
    "    # print(tmp_array == np.max(tmp_array))\n",
    "    # print(tmp_dict.keys())\n",
    "    # print(tmp_dict.items())\n",
    "    tmp = sorted(tmp_dict.items(),key=lambda kv:(kv[1],kv[0]),reverse=True)[0][0]\n",
    "    pair_max.append((tmp,pair[1]))\n",
    "    print('max id: ',tmp)\n",
    "    # print(np.max(tmp_dict.values.items())\n",
    "    # print(sorted(key_value.items(), key = lambda kv:(kv[1], kv[0])))    \n",
    "    print('----')\n",
    "pair_max = np.array(pair_max)\n",
    "print(pair_max.T[0])\n",
    "print(len(pair_max))\n",
    "    "
   ]
  },
  {
   "cell_type": "code",
   "execution_count": 9,
   "metadata": {},
   "outputs": [
    {
     "output_type": "stream",
     "name": "stdout",
     "text": [
      "[ 3 23 42]\n",
      "/home/esmidth/code/DCS_COPY/DCS/Original_Data/Sensorscope/luce_stations/sensorscope-meteo-3.txt 463366\n",
      "/home/esmidth/code/DCS_COPY/DCS/Original_Data/Sensorscope/luce_stations/sensorscope-meteo-23.txt 508496\n",
      "/home/esmidth/code/DCS_COPY/DCS/Original_Data/Sensorscope/luce_stations/sensorscope-meteo-42.txt 476141\n",
      "(23, array([ 3, 23, 42]))\n",
      "[ 5 17]\n",
      "/home/esmidth/code/DCS_COPY/DCS/Original_Data/Sensorscope/luce_stations/sensorscope-meteo-5.txt 473401\n",
      "/home/esmidth/code/DCS_COPY/DCS/Original_Data/Sensorscope/luce_stations/sensorscope-meteo-17.txt 508058\n",
      "(17, array([ 5, 17]))\n",
      "[21 26 41]\n",
      "/home/esmidth/code/DCS_COPY/DCS/Original_Data/Sensorscope/luce_stations/sensorscope-meteo-21.txt 516111\n",
      "/home/esmidth/code/DCS_COPY/DCS/Original_Data/Sensorscope/luce_stations/sensorscope-meteo-26.txt 523660\n",
      "/home/esmidth/code/DCS_COPY/DCS/Original_Data/Sensorscope/luce_stations/sensorscope-meteo-41.txt 492508\n",
      "(26, array([21, 26, 41]))\n",
      "[14 30 39 56]\n",
      "/home/esmidth/code/DCS_COPY/DCS/Original_Data/Sensorscope/luce_stations/sensorscope-meteo-14.txt 507791\n",
      "/home/esmidth/code/DCS_COPY/DCS/Original_Data/Sensorscope/luce_stations/sensorscope-meteo-30.txt 459515\n",
      "/home/esmidth/code/DCS_COPY/DCS/Original_Data/Sensorscope/luce_stations/sensorscope-meteo-39.txt 498798\n",
      "/home/esmidth/code/DCS_COPY/DCS/Original_Data/Sensorscope/luce_stations/sensorscope-meteo-56.txt 348901\n",
      "(14, array([14, 30, 39, 56]))\n",
      "[  9  15  18  24  37  44 105 121]\n",
      "/home/esmidth/code/DCS_COPY/DCS/Original_Data/Sensorscope/luce_stations/sensorscope-meteo-9.txt 419401\n",
      "/home/esmidth/code/DCS_COPY/DCS/Original_Data/Sensorscope/luce_stations/sensorscope-meteo-15.txt 507981\n",
      "/home/esmidth/code/DCS_COPY/DCS/Original_Data/Sensorscope/luce_stations/sensorscope-meteo-18.txt 510324\n",
      "/home/esmidth/code/DCS_COPY/DCS/Original_Data/Sensorscope/luce_stations/sensorscope-meteo-24.txt 515165\n",
      "/home/esmidth/code/DCS_COPY/DCS/Original_Data/Sensorscope/luce_stations/sensorscope-meteo-37.txt 481248\n",
      "/home/esmidth/code/DCS_COPY/DCS/Original_Data/Sensorscope/luce_stations/sensorscope-meteo-44.txt 502059\n",
      "/home/esmidth/code/DCS_COPY/DCS/Original_Data/Sensorscope/luce_stations/sensorscope-meteo-105.txt 340836\n",
      "/home/esmidth/code/DCS_COPY/DCS/Original_Data/Sensorscope/luce_stations/sensorscope-meteo-121.txt 1268694\n",
      "(121, array([  9,  15,  18,  24,  37,  44, 105, 121]))\n",
      "[12 45 46]\n",
      "/home/esmidth/code/DCS_COPY/DCS/Original_Data/Sensorscope/luce_stations/sensorscope-meteo-12.txt 495806\n",
      "/home/esmidth/code/DCS_COPY/DCS/Original_Data/Sensorscope/luce_stations/sensorscope-meteo-45.txt 496420\n",
      "/home/esmidth/code/DCS_COPY/DCS/Original_Data/Sensorscope/luce_stations/sensorscope-meteo-46.txt 509826\n",
      "(46, array([12, 45, 46]))\n",
      "[ 8 25 36]\n",
      "/home/esmidth/code/DCS_COPY/DCS/Original_Data/Sensorscope/luce_stations/sensorscope-meteo-8.txt 508506\n",
      "/home/esmidth/code/DCS_COPY/DCS/Original_Data/Sensorscope/luce_stations/sensorscope-meteo-25.txt 486527\n",
      "/home/esmidth/code/DCS_COPY/DCS/Original_Data/Sensorscope/luce_stations/sensorscope-meteo-36.txt 484879\n",
      "(8, array([ 8, 25, 36]))\n",
      "[64 75 99]\n",
      "/home/esmidth/code/DCS_COPY/DCS/Original_Data/Sensorscope/luce_stations/sensorscope-meteo-64.txt 307468\n",
      "/home/esmidth/code/DCS_COPY/DCS/Original_Data/Sensorscope/luce_stations/sensorscope-meteo-75.txt 371510\n",
      "/home/esmidth/code/DCS_COPY/DCS/Original_Data/Sensorscope/luce_stations/sensorscope-meteo-99.txt 254211\n",
      "(75, array([64, 75, 99]))\n",
      "[13 40]\n",
      "/home/esmidth/code/DCS_COPY/DCS/Original_Data/Sensorscope/luce_stations/sensorscope-meteo-13.txt 446626\n",
      "/home/esmidth/code/DCS_COPY/DCS/Original_Data/Sensorscope/luce_stations/sensorscope-meteo-40.txt 465524\n",
      "(40, array([13, 40]))\n",
      "[ 34  43 106]\n",
      "/home/esmidth/code/DCS_COPY/DCS/Original_Data/Sensorscope/luce_stations/sensorscope-meteo-34.txt 515546\n",
      "/home/esmidth/code/DCS_COPY/DCS/Original_Data/Sensorscope/luce_stations/sensorscope-meteo-43.txt 474557\n",
      "/home/esmidth/code/DCS_COPY/DCS/Original_Data/Sensorscope/luce_stations/sensorscope-meteo-106.txt 358605\n",
      "(34, array([ 34,  43, 106]))\n",
      "[ 70 122]\n",
      "/home/esmidth/code/DCS_COPY/DCS/Original_Data/Sensorscope/luce_stations/sensorscope-meteo-70.txt 477651\n",
      "/home/esmidth/code/DCS_COPY/DCS/Original_Data/Sensorscope/luce_stations/sensorscope-meteo-122.txt 378219\n",
      "(70, array([ 70, 122]))\n",
      "[49 68]\n",
      "/home/esmidth/code/DCS_COPY/DCS/Original_Data/Sensorscope/luce_stations/sensorscope-meteo-49.txt 449340\n",
      "/home/esmidth/code/DCS_COPY/DCS/Original_Data/Sensorscope/luce_stations/sensorscope-meteo-68.txt 368898\n",
      "(49, array([49, 68]))\n",
      "[66 72]\n",
      "/home/esmidth/code/DCS_COPY/DCS/Original_Data/Sensorscope/luce_stations/sensorscope-meteo-66.txt 448698\n",
      "/home/esmidth/code/DCS_COPY/DCS/Original_Data/Sensorscope/luce_stations/sensorscope-meteo-72.txt 462363\n",
      "(72, array([66, 72]))\n",
      "[54 73]\n",
      "/home/esmidth/code/DCS_COPY/DCS/Original_Data/Sensorscope/luce_stations/sensorscope-meteo-54.txt 447130\n",
      "/home/esmidth/code/DCS_COPY/DCS/Original_Data/Sensorscope/luce_stations/sensorscope-meteo-73.txt 457270\n",
      "(73, array([54, 73]))\n",
      "[ 32  35  50  94 107]\n",
      "/home/esmidth/code/DCS_COPY/DCS/Original_Data/Sensorscope/luce_stations/sensorscope-meteo-32.txt 486101\n",
      "/home/esmidth/code/DCS_COPY/DCS/Original_Data/Sensorscope/luce_stations/sensorscope-meteo-35.txt 520571\n",
      "/home/esmidth/code/DCS_COPY/DCS/Original_Data/Sensorscope/luce_stations/sensorscope-meteo-50.txt 452121\n",
      "/home/esmidth/code/DCS_COPY/DCS/Original_Data/Sensorscope/luce_stations/sensorscope-meteo-94.txt 258488\n",
      "/home/esmidth/code/DCS_COPY/DCS/Original_Data/Sensorscope/luce_stations/sensorscope-meteo-107.txt 367659\n",
      "(35, array([ 32,  35,  50,  94, 107]))\n",
      "[79 95]\n",
      "/home/esmidth/code/DCS_COPY/DCS/Original_Data/Sensorscope/luce_stations/sensorscope-meteo-79.txt 421204\n",
      "/home/esmidth/code/DCS_COPY/DCS/Original_Data/Sensorscope/luce_stations/sensorscope-meteo-95.txt 366746\n",
      "(79, array([79, 95]))\n",
      "[92 97]\n",
      "/home/esmidth/code/DCS_COPY/DCS/Original_Data/Sensorscope/luce_stations/sensorscope-meteo-92.txt 441339\n",
      "/home/esmidth/code/DCS_COPY/DCS/Original_Data/Sensorscope/luce_stations/sensorscope-meteo-97.txt 455939\n",
      "(97, array([92, 97]))\n",
      "[33 53]\n",
      "/home/esmidth/code/DCS_COPY/DCS/Original_Data/Sensorscope/luce_stations/sensorscope-meteo-33.txt 489204\n",
      "/home/esmidth/code/DCS_COPY/DCS/Original_Data/Sensorscope/luce_stations/sensorscope-meteo-53.txt 481535\n",
      "(33, array([33, 53]))\n",
      "[10 19]\n",
      "/home/esmidth/code/DCS_COPY/DCS/Original_Data/Sensorscope/luce_stations/sensorscope-meteo-10.txt 365048\n",
      "/home/esmidth/code/DCS_COPY/DCS/Original_Data/Sensorscope/luce_stations/sensorscope-meteo-19.txt 468463\n",
      "(19, array([10, 19]))\n",
      "[85 89]\n",
      "/home/esmidth/code/DCS_COPY/DCS/Original_Data/Sensorscope/luce_stations/sensorscope-meteo-85.txt 446444\n",
      "/home/esmidth/code/DCS_COPY/DCS/Original_Data/Sensorscope/luce_stations/sensorscope-meteo-89.txt 457590\n",
      "(89, array([85, 89]))\n"
     ]
    }
   ],
   "source": [
    "# 8-1\n",
    "num_list = []\n",
    "for pair in pairs:\n",
    "    print(pair[1])\n",
    "    res = concat_squares(pair[1])\n",
    "    # print(np.unique(df['Station ID'].values))\n",
    "    print(res)\n",
    "    num_list.append(res)"
   ]
  },
  {
   "cell_type": "code",
   "execution_count": 10,
   "metadata": {},
   "outputs": [
    {
     "output_type": "execute_result",
     "data": {
      "text/plain": [
       "[(23, array([ 3, 23, 42])),\n",
       " (17, array([ 5, 17])),\n",
       " (26, array([21, 26, 41])),\n",
       " (14, array([14, 30, 39, 56])),\n",
       " (121, array([  9,  15,  18,  24,  37,  44, 105, 121])),\n",
       " (46, array([12, 45, 46])),\n",
       " (8, array([ 8, 25, 36])),\n",
       " (75, array([64, 75, 99])),\n",
       " (40, array([13, 40])),\n",
       " (34, array([ 34,  43, 106])),\n",
       " (70, array([ 70, 122])),\n",
       " (49, array([49, 68])),\n",
       " (72, array([66, 72])),\n",
       " (73, array([54, 73])),\n",
       " (35, array([ 32,  35,  50,  94, 107])),\n",
       " (79, array([79, 95])),\n",
       " (97, array([92, 97])),\n",
       " (33, array([33, 53])),\n",
       " (19, array([10, 19])),\n",
       " (89, array([85, 89]))]"
      ]
     },
     "metadata": {},
     "execution_count": 10
    }
   ],
   "source": [
    "num_list"
   ]
  },
  {
   "cell_type": "code",
   "execution_count": 15,
   "metadata": {},
   "outputs": [
    {
     "output_type": "stream",
     "name": "stdout",
     "text": [
      "3\n23\n42\nmax 23\n----\n5\n17\nmax 17\n----\n21\n26\n41\nmax 26\n----\n14\n30\n39\n56\nmax 14\n----\n9\n15\n18\n24\n37\n44\n105\n121\nmax 121\n----\n12\n45\n46\nmax 46\n----\n8\n25\n36\nmax 8\n----\n64\n75\n99\nmax 75\n----\n13\n40\nmax 40\n----\n34\n43\n106\nmax 34\n----\n70\n122\nmax 70\n----\n49\n68\nmax 49\n----\n66\n72\nmax 72\n----\n54\n73\nmax 73\n----\n32\n35\n50\n94\n107\nmax 35\n----\n79\n95\nmax 79\n----\n92\n97\nmax 97\n----\n33\n53\nmax 33\n----\n10\n19\nmax 19\n----\n85\n89\nmax 89\n----\n"
     ]
    }
   ],
   "source": [
    "for item in pair_max:\n",
    "    for id in item[1]:\n",
    "        print(id)\n",
    "    print('max',item[0])\n",
    "    print('----')"
   ]
  },
  {
   "cell_type": "code",
   "execution_count": 24,
   "metadata": {},
   "outputs": [
    {
     "output_type": "stream",
     "name": "stdout",
     "text": [
      "ori 3 max: 23\n",
      "ori 23 max: 23\n",
      "ori 42 max: 23\n",
      "ori 5 max: 17\n",
      "ori 17 max: 17\n",
      "ori 21 max: 26\n",
      "ori 26 max: 26\n",
      "ori 41 max: 26\n",
      "ori 14 max: 14\n",
      "ori 30 max: 14\n",
      "ori 39 max: 14\n",
      "ori 56 max: 14\n",
      "ori 9 max: 121\n",
      "ori 15 max: 121\n",
      "ori 18 max: 121\n",
      "ori 24 max: 121\n",
      "ori 37 max: 121\n",
      "ori 44 max: 121\n",
      "ori 105 max: 121\n",
      "ori 121 max: 121\n",
      "ori 12 max: 46\n",
      "ori 45 max: 46\n",
      "ori 46 max: 46\n",
      "ori 8 max: 8\n",
      "ori 25 max: 8\n",
      "ori 36 max: 8\n",
      "ori 64 max: 75\n",
      "ori 75 max: 75\n",
      "ori 99 max: 75\n",
      "ori 13 max: 40\n",
      "ori 40 max: 40\n",
      "ori 34 max: 34\n",
      "ori 43 max: 34\n",
      "ori 106 max: 34\n",
      "ori 70 max: 70\n",
      "ori 122 max: 70\n",
      "ori 49 max: 49\n",
      "ori 68 max: 49\n",
      "ori 66 max: 72\n",
      "ori 72 max: 72\n",
      "ori 54 max: 73\n",
      "ori 73 max: 73\n",
      "ori 32 max: 35\n",
      "ori 35 max: 35\n",
      "ori 50 max: 35\n",
      "ori 94 max: 35\n",
      "ori 107 max: 35\n",
      "ori 79 max: 79\n",
      "ori 95 max: 79\n",
      "ori 92 max: 97\n",
      "ori 97 max: 97\n",
      "ori 33 max: 33\n",
      "ori 53 max: 33\n",
      "ori 10 max: 19\n",
      "ori 19 max: 19\n",
      "ori 85 max: 89\n",
      "ori 89 max: 89\n"
     ]
    }
   ],
   "source": [
    "for item in pair_max:\n",
    "    for id in item[1]:\n",
    "        df_sum.loc[df_sum['Station ID'] == id,'Station ID'] = item[0]\n",
    "        print('ori',id,'max:',item[0])"
   ]
  },
  {
   "cell_type": "code",
   "execution_count": 37,
   "metadata": {},
   "outputs": [],
   "source": [
    "total_id_uniq_new = np.unique(df_sum['Station ID'].values)\n",
    "id_record_dict_new = {}\n",
    "for item in total_id_uniq:\n",
    "    id_record_dict_new[item]  = 0\n",
    "\n",
    "for item in total_id_uniq_new:\n",
    "    id_record_dict_new[item] = len(df_sum[df_sum['Station ID'] == item])"
   ]
  },
  {
   "cell_type": "code",
   "execution_count": 39,
   "metadata": {},
   "outputs": [
    {
     "output_type": "execute_result",
     "data": {
      "text/plain": [
       "{3: 0,\n",
       " 5: 0,\n",
       " 7: 131753,\n",
       " 8: 1479912,\n",
       " 9: 0,\n",
       " 10: 0,\n",
       " 11: 474258,\n",
       " 12: 0,\n",
       " 13: 0,\n",
       " 14: 1815005,\n",
       " 15: 0,\n",
       " 17: 981459,\n",
       " 18: 0,\n",
       " 19: 833511,\n",
       " 21: 0,\n",
       " 23: 1448003,\n",
       " 24: 0,\n",
       " 25: 0,\n",
       " 26: 1532279,\n",
       " 27: 122838,\n",
       " 30: 0,\n",
       " 31: 475734,\n",
       " 32: 0,\n",
       " 33: 970739,\n",
       " 34: 1348708,\n",
       " 35: 2084940,\n",
       " 36: 0,\n",
       " 37: 0,\n",
       " 39: 0,\n",
       " 40: 912150,\n",
       " 41: 0,\n",
       " 42: 0,\n",
       " 43: 0,\n",
       " 44: 0,\n",
       " 45: 0,\n",
       " 46: 1502052,\n",
       " 47: 132309,\n",
       " 49: 818238,\n",
       " 50: 0,\n",
       " 51: 463746,\n",
       " 53: 0,\n",
       " 54: 0,\n",
       " 55: 466390,\n",
       " 56: 0,\n",
       " 57: 409707,\n",
       " 59: 275774,\n",
       " 60: 462547,\n",
       " 61: 267775,\n",
       " 62: 325345,\n",
       " 63: 287042,\n",
       " 64: 0,\n",
       " 65: 364818,\n",
       " 66: 0,\n",
       " 68: 0,\n",
       " 69: 494813,\n",
       " 70: 855870,\n",
       " 71: 255942,\n",
       " 72: 911061,\n",
       " 73: 904400,\n",
       " 75: 933189,\n",
       " 76: 427241,\n",
       " 79: 787950,\n",
       " 80: 435960,\n",
       " 81: 388750,\n",
       " 82: 194407,\n",
       " 84: 447777,\n",
       " 85: 0,\n",
       " 87: 462860,\n",
       " 88: 384518,\n",
       " 89: 904034,\n",
       " 92: 0,\n",
       " 93: 471416,\n",
       " 94: 0,\n",
       " 95: 0,\n",
       " 96: 474777,\n",
       " 97: 897278,\n",
       " 98: 347117,\n",
       " 99: 0,\n",
       " 100: 481362,\n",
       " 103: 453399,\n",
       " 104: 455293,\n",
       " 105: 0,\n",
       " 106: 0,\n",
       " 107: 0,\n",
       " 109: 240373,\n",
       " 111: 374388,\n",
       " 121: 4545708,\n",
       " 122: 0}"
      ]
     },
     "metadata": {},
     "execution_count": 39
    }
   ],
   "source": [
    "id_record_dict_new"
   ]
  },
  {
   "cell_type": "code",
   "execution_count": 46,
   "metadata": {},
   "outputs": [
    {
     "output_type": "stream",
     "name": "stdout",
     "text": [
      "id \tbefore \t\tafter\n3 \t 463366 \t 0\n5 \t 473401 \t 0\n7 \t 131753 \t 131753\n8 \t 508506 \t 1479912\n9 \t 419401 \t 0\n10 \t 365048 \t 0\n11 \t 474258 \t 474258\n12 \t 495806 \t 0\n13 \t 446626 \t 0\n14 \t 507791 \t 1815005\n15 \t 507981 \t 0\n17 \t 508058 \t 981459\n18 \t 510324 \t 0\n19 \t 468463 \t 833511\n21 \t 516111 \t 0\n23 \t 508496 \t 1448003\n24 \t 515165 \t 0\n25 \t 486527 \t 0\n26 \t 523660 \t 1532279\n27 \t 122838 \t 122838\n30 \t 459515 \t 0\n31 \t 475734 \t 475734\n32 \t 486101 \t 0\n33 \t 489204 \t 970739\n34 \t 515546 \t 1348708\n35 \t 520571 \t 2084940\n36 \t 484879 \t 0\n37 \t 481248 \t 0\n39 \t 498798 \t 0\n40 \t 465524 \t 912150\n41 \t 492508 \t 0\n42 \t 476141 \t 0\n43 \t 474557 \t 0\n44 \t 502059 \t 0\n45 \t 496420 \t 0\n46 \t 509826 \t 1502052\n47 \t 132309 \t 132309\n49 \t 449340 \t 818238\n50 \t 452121 \t 0\n51 \t 463746 \t 463746\n53 \t 481535 \t 0\n54 \t 447130 \t 0\n55 \t 466390 \t 466390\n56 \t 348901 \t 0\n57 \t 409707 \t 409707\n59 \t 275774 \t 275774\n60 \t 462547 \t 462547\n61 \t 267775 \t 267775\n62 \t 325345 \t 325345\n63 \t 287042 \t 287042\n64 \t 307468 \t 0\n65 \t 364818 \t 364818\n66 \t 448698 \t 0\n68 \t 368898 \t 0\n69 \t 494813 \t 494813\n70 \t 477651 \t 855870\n71 \t 255942 \t 255942\n72 \t 462363 \t 911061\n73 \t 457270 \t 904400\n75 \t 371510 \t 933189\n76 \t 427241 \t 427241\n79 \t 421204 \t 787950\n80 \t 435960 \t 435960\n81 \t 388750 \t 388750\n82 \t 194407 \t 194407\n84 \t 447777 \t 447777\n85 \t 446444 \t 0\n87 \t 462860 \t 462860\n88 \t 384518 \t 384518\n89 \t 457590 \t 904034\n92 \t 441339 \t 0\n93 \t 471416 \t 471416\n94 \t 258488 \t 0\n95 \t 366746 \t 0\n96 \t 474777 \t 474777\n97 \t 455939 \t 897278\n98 \t 347117 \t 347117\n99 \t 254211 \t 0\n100 \t 481362 \t 481362\n103 \t 453399 \t 453399\n104 \t 455293 \t 455293\n105 \t 340836 \t 0\n106 \t 358605 \t 0\n107 \t 367659 \t 0\n109 \t 240373 \t 240373\n111 \t 374388 \t 374388\n121 \t 1268694 \t 4545708\n122 \t 378219 \t 0\n"
     ]
    }
   ],
   "source": [
    "print('id','\\tbefore','\\t\\tafter')\n",
    "for id in total_id_uniq:\n",
    "    print(id,'\\t',id_record_dict[id],'\\t',id_record_dict_new[id])"
   ]
  },
  {
   "cell_type": "code",
   "execution_count": 48,
   "metadata": {},
   "outputs": [
    {
     "output_type": "execute_result",
     "data": {
      "text/plain": [
       "122"
      ]
     },
     "metadata": {},
     "execution_count": 48
    }
   ],
   "source": [
    "np.max(total_id_uniq)"
   ]
  },
  {
   "cell_type": "code",
   "execution_count": 60,
   "metadata": {},
   "outputs": [],
   "source": [
    "indices1 = np.zeros(np.max(total_id_uniq)+1)\n",
    "indices2 = np.zeros(np.max(total_id_uniq)+1)"
   ]
  },
  {
   "cell_type": "code",
   "execution_count": 85,
   "metadata": {},
   "outputs": [
    {
     "output_type": "stream",
     "name": "stdout",
     "text": [
      "0 0.0 0.0\n1 0.0 0.0\n2 0.0 0.0\n3 463366.0 0.0\n4 0.0 0.0\n5 473401.0 0.0\n6 0.0 0.0\n7 131753.0 131753.0\n8 508506.0 1479912.0\n9 419401.0 0.0\n10 365048.0 0.0\n11 474258.0 474258.0\n12 495806.0 0.0\n13 446626.0 0.0\n14 507791.0 1815005.0\n15 507981.0 0.0\n16 0.0 0.0\n17 508058.0 981459.0\n18 510324.0 0.0\n19 468463.0 833511.0\n20 0.0 0.0\n21 516111.0 0.0\n22 0.0 0.0\n23 508496.0 1448003.0\n24 515165.0 0.0\n25 486527.0 0.0\n26 523660.0 1532279.0\n27 122838.0 122838.0\n28 0.0 0.0\n29 0.0 0.0\n30 459515.0 0.0\n31 475734.0 475734.0\n32 486101.0 0.0\n33 489204.0 970739.0\n34 515546.0 1348708.0\n35 520571.0 2084940.0\n36 484879.0 0.0\n37 481248.0 0.0\n38 0.0 0.0\n39 498798.0 0.0\n40 465524.0 912150.0\n41 492508.0 0.0\n42 476141.0 0.0\n43 474557.0 0.0\n44 502059.0 0.0\n45 496420.0 0.0\n46 509826.0 1502052.0\n47 132309.0 132309.0\n48 0.0 0.0\n49 449340.0 818238.0\n50 452121.0 0.0\n51 463746.0 463746.0\n52 0.0 0.0\n53 481535.0 0.0\n54 447130.0 0.0\n55 466390.0 466390.0\n56 348901.0 0.0\n57 409707.0 409707.0\n58 0.0 0.0\n59 275774.0 275774.0\n60 462547.0 462547.0\n61 267775.0 267775.0\n62 325345.0 325345.0\n63 287042.0 287042.0\n64 307468.0 0.0\n65 364818.0 364818.0\n66 448698.0 0.0\n67 0.0 0.0\n68 368898.0 0.0\n69 494813.0 494813.0\n70 477651.0 855870.0\n71 255942.0 255942.0\n72 462363.0 911061.0\n73 457270.0 904400.0\n74 0.0 0.0\n75 371510.0 933189.0\n76 427241.0 427241.0\n77 0.0 0.0\n78 0.0 0.0\n79 421204.0 787950.0\n80 435960.0 435960.0\n81 388750.0 388750.0\n82 194407.0 194407.0\n83 0.0 0.0\n84 447777.0 447777.0\n85 446444.0 0.0\n86 0.0 0.0\n87 462860.0 462860.0\n88 384518.0 384518.0\n89 457590.0 904034.0\n90 0.0 0.0\n91 0.0 0.0\n92 441339.0 0.0\n93 471416.0 471416.0\n94 258488.0 0.0\n95 366746.0 0.0\n96 474777.0 474777.0\n97 455939.0 897278.0\n98 347117.0 347117.0\n99 254211.0 0.0\n100 481362.0 481362.0\n101 0.0 0.0\n102 0.0 0.0\n103 453399.0 453399.0\n104 455293.0 455293.0\n105 340836.0 0.0\n106 358605.0 0.0\n107 367659.0 0.0\n108 0.0 0.0\n109 240373.0 240373.0\n110 0.0 0.0\n111 374388.0 374388.0\n112 0.0 0.0\n113 0.0 0.0\n114 0.0 0.0\n115 0.0 0.0\n116 0.0 0.0\n117 0.0 0.0\n118 0.0 0.0\n119 0.0 0.0\n120 0.0 0.0\n122 378219.0 0.0\n"
     ]
    }
   ],
   "source": [
    "for item in np.linspace(0,122,122,dtype=int):\n",
    "    print(item,indices1[item],indices2[item])"
   ]
  },
  {
   "cell_type": "code",
   "execution_count": 61,
   "metadata": {},
   "outputs": [],
   "source": [
    "for item in total_id_uniq:\n",
    "    indices1[item] = id_record_dict[item]"
   ]
  },
  {
   "cell_type": "code",
   "execution_count": 63,
   "metadata": {},
   "outputs": [],
   "source": [
    "for item in total_id_uniq_new:\n",
    "    indices2[item] = id_record_dict_new[item]"
   ]
  },
  {
   "cell_type": "code",
   "execution_count": 80,
   "metadata": {},
   "outputs": [
    {
     "output_type": "execute_result",
     "data": {
      "text/plain": [
       "array([  0.,   1.,   2.,   3.,   4.,   5.,   6.,   7.,   8.,   9.,  10.,\n",
       "        11.,  12.,  13.,  14.,  15.,  16.,  17.,  18.,  19.,  20.,  21.,\n",
       "        22.,  23.,  24.,  25.,  26.,  27.,  28.,  29.,  30.,  31.,  32.,\n",
       "        33.,  34.,  35.,  36.,  37.,  38.,  39.,  40.,  41.,  42.,  43.,\n",
       "        44.,  45.,  46.,  47.,  48.,  49.,  50.,  51.,  52.,  53.,  54.,\n",
       "        55.,  56.,  57.,  58.,  59.,  60.,  61.,  62.,  63.,  64.,  65.,\n",
       "        66.,  67.,  68.,  69.,  70.,  71.,  72.,  73.,  74.,  75.,  76.,\n",
       "        77.,  78.,  79.,  80.,  81.,  82.,  83.,  84.,  85.,  86.,  87.,\n",
       "        88.,  89.,  90.,  91.,  92.,  93.,  94.,  95.,  96.,  97.,  98.,\n",
       "        99., 100., 101., 102., 103., 104., 105., 106., 107., 108., 109.,\n",
       "       110., 111., 112., 113., 114., 115., 116., 117., 118., 119., 120.,\n",
       "       121., 122.])"
      ]
     },
     "metadata": {},
     "execution_count": 80
    }
   ],
   "source": [
    "np.linspace(0,122,123)"
   ]
  },
  {
   "cell_type": "code",
   "execution_count": 96,
   "metadata": {},
   "outputs": [
    {
     "output_type": "execute_result",
     "data": {
      "text/plain": [
       "<BarContainer object of 123 artists>"
      ]
     },
     "metadata": {},
     "execution_count": 96
    },
    {
     "output_type": "display_data",
     "data": {
      "text/plain": "<Figure size 432x288 with 1 Axes>",
      "image/svg+xml": "<?xml version=\"1.0\" encoding=\"utf-8\" standalone=\"no\"?>\n<!DOCTYPE svg PUBLIC \"-//W3C//DTD SVG 1.1//EN\"\n  \"http://www.w3.org/Graphics/SVG/1.1/DTD/svg11.dtd\">\n<!-- Created with matplotlib (https://matplotlib.org/) -->\n<svg height=\"259.116562pt\" version=\"1.1\" viewBox=\"0 0 362.5625 259.116562\" width=\"362.5625pt\" xmlns=\"http://www.w3.org/2000/svg\" xmlns:xlink=\"http://www.w3.org/1999/xlink\">\n <metadata>\n  <rdf:RDF xmlns:cc=\"http://creativecommons.org/ns#\" xmlns:dc=\"http://purl.org/dc/elements/1.1/\" xmlns:rdf=\"http://www.w3.org/1999/02/22-rdf-syntax-ns#\">\n   <cc:Work>\n    <dc:type rdf:resource=\"http://purl.org/dc/dcmitype/StillImage\"/>\n    <dc:date>2021-03-19T22:47:27.344183</dc:date>\n    <dc:format>image/svg+xml</dc:format>\n    <dc:creator>\n     <cc:Agent>\n      <dc:title>Matplotlib v3.3.2, https://matplotlib.org/</dc:title>\n     </cc:Agent>\n    </dc:creator>\n   </cc:Work>\n  </rdf:RDF>\n </metadata>\n <defs>\n  <style type=\"text/css\">*{stroke-linecap:butt;stroke-linejoin:round;}</style>\n </defs>\n <g id=\"figure_1\">\n  <g id=\"patch_1\">\n   <path d=\"M 0 259.116562 \nL 362.5625 259.116562 \nL 362.5625 0 \nL 0 0 \nz\n\" style=\"fill:none;\"/>\n  </g>\n  <g id=\"axes_1\">\n   <g id=\"patch_2\">\n    <path d=\"M 20.5625 235.238437 \nL 355.3625 235.238437 \nL 355.3625 17.798437 \nL 20.5625 17.798437 \nz\n\" style=\"fill:#ffffff;\"/>\n   </g>\n   <g id=\"patch_3\">\n    <path clip-path=\"url(#p44a2b77f17)\" d=\"M 35.780682 235.238437 \nL 37.763507 235.238437 \nL 37.763507 235.238437 \nL 35.780682 235.238437 \nz\n\" style=\"fill:#1f77b4;\"/>\n   </g>\n   <g id=\"patch_4\">\n    <path clip-path=\"url(#p44a2b77f17)\" d=\"M 38.259213 235.238437 \nL 40.242038 235.238437 \nL 40.242038 235.238437 \nL 38.259213 235.238437 \nz\n\" style=\"fill:#1f77b4;\"/>\n   </g>\n   <g id=\"patch_5\">\n    <path clip-path=\"url(#p44a2b77f17)\" d=\"M 40.737744 235.238437 \nL 42.720569 235.238437 \nL 42.720569 235.238437 \nL 40.737744 235.238437 \nz\n\" style=\"fill:#1f77b4;\"/>\n   </g>\n   <g id=\"patch_6\">\n    <path clip-path=\"url(#p44a2b77f17)\" d=\"M 43.216276 235.238437 \nL 45.199101 235.238437 \nL 45.199101 218.735196 \nL 43.216276 218.735196 \nz\n\" style=\"fill:#1f77b4;\"/>\n   </g>\n   <g id=\"patch_7\">\n    <path clip-path=\"url(#p44a2b77f17)\" d=\"M 45.694807 235.238437 \nL 47.677632 235.238437 \nL 47.677632 235.238437 \nL 45.694807 235.238437 \nz\n\" style=\"fill:#1f77b4;\"/>\n   </g>\n   <g id=\"patch_8\">\n    <path clip-path=\"url(#p44a2b77f17)\" d=\"M 48.173338 235.238437 \nL 50.156163 235.238437 \nL 50.156163 218.37779 \nL 48.173338 218.37779 \nz\n\" style=\"fill:#1f77b4;\"/>\n   </g>\n   <g id=\"patch_9\">\n    <path clip-path=\"url(#p44a2b77f17)\" d=\"M 50.651869 235.238437 \nL 52.634694 235.238437 \nL 52.634694 235.238437 \nL 50.651869 235.238437 \nz\n\" style=\"fill:#1f77b4;\"/>\n   </g>\n   <g id=\"patch_10\">\n    <path clip-path=\"url(#p44a2b77f17)\" d=\"M 53.130401 235.238437 \nL 55.113225 235.238437 \nL 55.113225 230.545923 \nL 53.130401 230.545923 \nz\n\" style=\"fill:#1f77b4;\"/>\n   </g>\n   <g id=\"patch_11\">\n    <path clip-path=\"url(#p44a2b77f17)\" d=\"M 55.608932 235.238437 \nL 57.591757 235.238437 \nL 57.591757 217.12749 \nL 55.608932 217.12749 \nz\n\" style=\"fill:#1f77b4;\"/>\n   </g>\n   <g id=\"patch_12\">\n    <path clip-path=\"url(#p44a2b77f17)\" d=\"M 58.087463 235.238437 \nL 60.070288 235.238437 \nL 60.070288 220.301053 \nL 58.087463 220.301053 \nz\n\" style=\"fill:#1f77b4;\"/>\n   </g>\n   <g id=\"patch_13\">\n    <path clip-path=\"url(#p44a2b77f17)\" d=\"M 60.565994 235.238437 \nL 62.548819 235.238437 \nL 62.548819 222.23689 \nL 60.565994 222.23689 \nz\n\" style=\"fill:#1f77b4;\"/>\n   </g>\n   <g id=\"patch_14\">\n    <path clip-path=\"url(#p44a2b77f17)\" d=\"M 63.044525 235.238437 \nL 65.02735 235.238437 \nL 65.02735 218.347267 \nL 63.044525 218.347267 \nz\n\" style=\"fill:#1f77b4;\"/>\n   </g>\n   <g id=\"patch_15\">\n    <path clip-path=\"url(#p44a2b77f17)\" d=\"M 65.523057 235.238437 \nL 67.505882 235.238437 \nL 67.505882 217.579813 \nL 65.523057 217.579813 \nz\n\" style=\"fill:#1f77b4;\"/>\n   </g>\n   <g id=\"patch_16\">\n    <path clip-path=\"url(#p44a2b77f17)\" d=\"M 68.001588 235.238437 \nL 69.984413 235.238437 \nL 69.984413 219.331408 \nL 68.001588 219.331408 \nz\n\" style=\"fill:#1f77b4;\"/>\n   </g>\n   <g id=\"patch_17\">\n    <path clip-path=\"url(#p44a2b77f17)\" d=\"M 70.480119 235.238437 \nL 72.462944 235.238437 \nL 72.462944 217.152956 \nL 70.480119 217.152956 \nz\n\" style=\"fill:#1f77b4;\"/>\n   </g>\n   <g id=\"patch_18\">\n    <path clip-path=\"url(#p44a2b77f17)\" d=\"M 72.95865 235.238437 \nL 74.941475 235.238437 \nL 74.941475 217.146189 \nL 72.95865 217.146189 \nz\n\" style=\"fill:#1f77b4;\"/>\n   </g>\n   <g id=\"patch_19\">\n    <path clip-path=\"url(#p44a2b77f17)\" d=\"M 75.437182 235.238437 \nL 77.420007 235.238437 \nL 77.420007 235.238437 \nL 75.437182 235.238437 \nz\n\" style=\"fill:#1f77b4;\"/>\n   </g>\n   <g id=\"patch_20\">\n    <path clip-path=\"url(#p44a2b77f17)\" d=\"M 77.915713 235.238437 \nL 79.898538 235.238437 \nL 79.898538 217.143446 \nL 77.915713 217.143446 \nz\n\" style=\"fill:#1f77b4;\"/>\n   </g>\n   <g id=\"patch_21\">\n    <path clip-path=\"url(#p44a2b77f17)\" d=\"M 80.394244 235.238437 \nL 82.377069 235.238437 \nL 82.377069 217.06274 \nL 80.394244 217.06274 \nz\n\" style=\"fill:#1f77b4;\"/>\n   </g>\n   <g id=\"patch_22\">\n    <path clip-path=\"url(#p44a2b77f17)\" d=\"M 82.872775 235.238437 \nL 84.8556 235.238437 \nL 84.8556 218.553661 \nL 82.872775 218.553661 \nz\n\" style=\"fill:#1f77b4;\"/>\n   </g>\n   <g id=\"patch_23\">\n    <path clip-path=\"url(#p44a2b77f17)\" d=\"M 85.351307 235.238437 \nL 87.334132 235.238437 \nL 87.334132 235.238437 \nL 85.351307 235.238437 \nz\n\" style=\"fill:#1f77b4;\"/>\n   </g>\n   <g id=\"patch_24\">\n    <path clip-path=\"url(#p44a2b77f17)\" d=\"M 87.829838 235.238437 \nL 89.812663 235.238437 \nL 89.812663 216.856631 \nL 87.829838 216.856631 \nz\n\" style=\"fill:#1f77b4;\"/>\n   </g>\n   <g id=\"patch_25\">\n    <path clip-path=\"url(#p44a2b77f17)\" d=\"M 90.308369 235.238437 \nL 92.291194 235.238437 \nL 92.291194 235.238437 \nL 90.308369 235.238437 \nz\n\" style=\"fill:#1f77b4;\"/>\n   </g>\n   <g id=\"patch_26\">\n    <path clip-path=\"url(#p44a2b77f17)\" d=\"M 92.7869 235.238437 \nL 94.769725 235.238437 \nL 94.769725 217.127846 \nL 92.7869 217.127846 \nz\n\" style=\"fill:#1f77b4;\"/>\n   </g>\n   <g id=\"patch_27\">\n    <path clip-path=\"url(#p44a2b77f17)\" d=\"M 95.265432 235.238437 \nL 97.248257 235.238437 \nL 97.248257 216.890323 \nL 95.265432 216.890323 \nz\n\" style=\"fill:#1f77b4;\"/>\n   </g>\n   <g id=\"patch_28\">\n    <path clip-path=\"url(#p44a2b77f17)\" d=\"M 97.743963 235.238437 \nL 99.726788 235.238437 \nL 99.726788 217.910294 \nL 97.743963 217.910294 \nz\n\" style=\"fill:#1f77b4;\"/>\n   </g>\n   <g id=\"patch_29\">\n    <path clip-path=\"url(#p44a2b77f17)\" d=\"M 100.222494 235.238437 \nL 102.205319 235.238437 \nL 102.205319 216.587765 \nL 100.222494 216.587765 \nz\n\" style=\"fill:#1f77b4;\"/>\n   </g>\n   <g id=\"patch_30\">\n    <path clip-path=\"url(#p44a2b77f17)\" d=\"M 102.701025 235.238437 \nL 104.68385 235.238437 \nL 104.68385 230.86344 \nL 102.701025 230.86344 \nz\n\" style=\"fill:#1f77b4;\"/>\n   </g>\n   <g id=\"patch_31\">\n    <path clip-path=\"url(#p44a2b77f17)\" d=\"M 105.179557 235.238437 \nL 107.162382 235.238437 \nL 107.162382 235.238437 \nL 105.179557 235.238437 \nz\n\" style=\"fill:#1f77b4;\"/>\n   </g>\n   <g id=\"patch_32\">\n    <path clip-path=\"url(#p44a2b77f17)\" d=\"M 107.658088 235.238437 \nL 109.640913 235.238437 \nL 109.640913 235.238437 \nL 107.658088 235.238437 \nz\n\" style=\"fill:#1f77b4;\"/>\n   </g>\n   <g id=\"patch_33\">\n    <path clip-path=\"url(#p44a2b77f17)\" d=\"M 110.136619 235.238437 \nL 112.119444 235.238437 \nL 112.119444 218.872353 \nL 110.136619 218.872353 \nz\n\" style=\"fill:#1f77b4;\"/>\n   </g>\n   <g id=\"patch_34\">\n    <path clip-path=\"url(#p44a2b77f17)\" d=\"M 112.61515 235.238437 \nL 114.597975 235.238437 \nL 114.597975 218.294698 \nL 112.61515 218.294698 \nz\n\" style=\"fill:#1f77b4;\"/>\n   </g>\n   <g id=\"patch_35\">\n    <path clip-path=\"url(#p44a2b77f17)\" d=\"M 115.093682 235.238437 \nL 117.076507 235.238437 \nL 117.076507 217.925467 \nL 115.093682 217.925467 \nz\n\" style=\"fill:#1f77b4;\"/>\n   </g>\n   <g id=\"patch_36\">\n    <path clip-path=\"url(#p44a2b77f17)\" d=\"M 117.572213 235.238437 \nL 119.555038 235.238437 \nL 119.555038 217.81495 \nL 117.572213 217.81495 \nz\n\" style=\"fill:#1f77b4;\"/>\n   </g>\n   <g id=\"patch_37\">\n    <path clip-path=\"url(#p44a2b77f17)\" d=\"M 120.050744 235.238437 \nL 122.033569 235.238437 \nL 122.033569 216.876754 \nL 120.050744 216.876754 \nz\n\" style=\"fill:#1f77b4;\"/>\n   </g>\n   <g id=\"patch_38\">\n    <path clip-path=\"url(#p44a2b77f17)\" d=\"M 122.529275 235.238437 \nL 124.5121 235.238437 \nL 124.5121 216.697783 \nL 122.529275 216.697783 \nz\n\" style=\"fill:#1f77b4;\"/>\n   </g>\n   <g id=\"patch_39\">\n    <path clip-path=\"url(#p44a2b77f17)\" d=\"M 125.007806 235.238437 \nL 126.990631 235.238437 \nL 126.990631 217.968989 \nL 125.007806 217.968989 \nz\n\" style=\"fill:#1f77b4;\"/>\n   </g>\n   <g id=\"patch_40\">\n    <path clip-path=\"url(#p44a2b77f17)\" d=\"M 127.486338 235.238437 \nL 129.469163 235.238437 \nL 129.469163 218.098311 \nL 127.486338 218.098311 \nz\n\" style=\"fill:#1f77b4;\"/>\n   </g>\n   <g id=\"patch_41\">\n    <path clip-path=\"url(#p44a2b77f17)\" d=\"M 129.964869 235.238437 \nL 131.947694 235.238437 \nL 131.947694 235.238437 \nL 129.964869 235.238437 \nz\n\" style=\"fill:#1f77b4;\"/>\n   </g>\n   <g id=\"patch_42\">\n    <path clip-path=\"url(#p44a2b77f17)\" d=\"M 132.4434 235.238437 \nL 134.426225 235.238437 \nL 134.426225 217.47325 \nL 132.4434 217.47325 \nz\n\" style=\"fill:#1f77b4;\"/>\n   </g>\n   <g id=\"patch_43\">\n    <path clip-path=\"url(#p44a2b77f17)\" d=\"M 134.921931 235.238437 \nL 136.904756 235.238437 \nL 136.904756 218.658337 \nL 134.921931 218.658337 \nz\n\" style=\"fill:#1f77b4;\"/>\n   </g>\n   <g id=\"patch_44\">\n    <path clip-path=\"url(#p44a2b77f17)\" d=\"M 137.400463 235.238437 \nL 139.383288 235.238437 \nL 139.383288 217.697275 \nL 137.400463 217.697275 \nz\n\" style=\"fill:#1f77b4;\"/>\n   </g>\n   <g id=\"patch_45\">\n    <path clip-path=\"url(#p44a2b77f17)\" d=\"M 139.878994 235.238437 \nL 141.861819 235.238437 \nL 141.861819 218.280202 \nL 139.878994 218.280202 \nz\n\" style=\"fill:#1f77b4;\"/>\n   </g>\n   <g id=\"patch_46\">\n    <path clip-path=\"url(#p44a2b77f17)\" d=\"M 142.357525 235.238437 \nL 144.34035 235.238437 \nL 144.34035 218.336618 \nL 142.357525 218.336618 \nz\n\" style=\"fill:#1f77b4;\"/>\n   </g>\n   <g id=\"patch_47\">\n    <path clip-path=\"url(#p44a2b77f17)\" d=\"M 144.836056 235.238437 \nL 146.818881 235.238437 \nL 146.818881 217.357107 \nL 144.836056 217.357107 \nz\n\" style=\"fill:#1f77b4;\"/>\n   </g>\n   <g id=\"patch_48\">\n    <path clip-path=\"url(#p44a2b77f17)\" d=\"M 147.314588 235.238437 \nL 149.297413 235.238437 \nL 149.297413 217.557945 \nL 147.314588 217.557945 \nz\n\" style=\"fill:#1f77b4;\"/>\n   </g>\n   <g id=\"patch_49\">\n    <path clip-path=\"url(#p44a2b77f17)\" d=\"M 149.793119 235.238437 \nL 151.775944 235.238437 \nL 151.775944 217.080477 \nL 149.793119 217.080477 \nz\n\" style=\"fill:#1f77b4;\"/>\n   </g>\n   <g id=\"patch_50\">\n    <path clip-path=\"url(#p44a2b77f17)\" d=\"M 152.27165 235.238437 \nL 154.254475 235.238437 \nL 154.254475 230.526121 \nL 152.27165 230.526121 \nz\n\" style=\"fill:#1f77b4;\"/>\n   </g>\n   <g id=\"patch_51\">\n    <path clip-path=\"url(#p44a2b77f17)\" d=\"M 154.750181 235.238437 \nL 156.733006 235.238437 \nL 156.733006 235.238437 \nL 154.750181 235.238437 \nz\n\" style=\"fill:#1f77b4;\"/>\n   </g>\n   <g id=\"patch_52\">\n    <path clip-path=\"url(#p44a2b77f17)\" d=\"M 157.228713 235.238437 \nL 159.211538 235.238437 \nL 159.211538 219.234746 \nL 157.228713 219.234746 \nz\n\" style=\"fill:#1f77b4;\"/>\n   </g>\n   <g id=\"patch_53\">\n    <path clip-path=\"url(#p44a2b77f17)\" d=\"M 159.707244 235.238437 \nL 161.690069 235.238437 \nL 161.690069 219.135698 \nL 159.707244 219.135698 \nz\n\" style=\"fill:#1f77b4;\"/>\n   </g>\n   <g id=\"patch_54\">\n    <path clip-path=\"url(#p44a2b77f17)\" d=\"M 162.185775 235.238437 \nL 164.1686 235.238437 \nL 164.1686 218.721662 \nL 162.185775 218.721662 \nz\n\" style=\"fill:#1f77b4;\"/>\n   </g>\n   <g id=\"patch_55\">\n    <path clip-path=\"url(#p44a2b77f17)\" d=\"M 164.664306 235.238437 \nL 166.647131 235.238437 \nL 166.647131 235.238437 \nL 164.664306 235.238437 \nz\n\" style=\"fill:#1f77b4;\"/>\n   </g>\n   <g id=\"patch_56\">\n    <path clip-path=\"url(#p44a2b77f17)\" d=\"M 167.142838 235.238437 \nL 169.125663 235.238437 \nL 169.125663 218.088089 \nL 167.142838 218.088089 \nz\n\" style=\"fill:#1f77b4;\"/>\n   </g>\n   <g id=\"patch_57\">\n    <path clip-path=\"url(#p44a2b77f17)\" d=\"M 169.621369 235.238437 \nL 171.604194 235.238437 \nL 171.604194 219.313458 \nL 169.621369 219.313458 \nz\n\" style=\"fill:#1f77b4;\"/>\n   </g>\n   <g id=\"patch_58\">\n    <path clip-path=\"url(#p44a2b77f17)\" d=\"M 172.0999 235.238437 \nL 174.082725 235.238437 \nL 174.082725 218.627493 \nL 172.0999 218.627493 \nz\n\" style=\"fill:#1f77b4;\"/>\n   </g>\n   <g id=\"patch_59\">\n    <path clip-path=\"url(#p44a2b77f17)\" d=\"M 174.578431 235.238437 \nL 176.561256 235.238437 \nL 176.561256 222.811981 \nL 174.578431 222.811981 \nz\n\" style=\"fill:#1f77b4;\"/>\n   </g>\n   <g id=\"patch_60\">\n    <path clip-path=\"url(#p44a2b77f17)\" d=\"M 177.056963 235.238437 \nL 179.039788 235.238437 \nL 179.039788 220.646315 \nL 177.056963 220.646315 \nz\n\" style=\"fill:#1f77b4;\"/>\n   </g>\n   <g id=\"patch_61\">\n    <path clip-path=\"url(#p44a2b77f17)\" d=\"M 179.535494 235.238437 \nL 181.518319 235.238437 \nL 181.518319 235.238437 \nL 179.535494 235.238437 \nz\n\" style=\"fill:#1f77b4;\"/>\n   </g>\n   <g id=\"patch_62\">\n    <path clip-path=\"url(#p44a2b77f17)\" d=\"M 182.014025 235.238437 \nL 183.99685 235.238437 \nL 183.99685 225.416472 \nL 182.014025 225.416472 \nz\n\" style=\"fill:#1f77b4;\"/>\n   </g>\n   <g id=\"patch_63\">\n    <path clip-path=\"url(#p44a2b77f17)\" d=\"M 184.492556 235.238437 \nL 186.475381 235.238437 \nL 186.475381 218.764366 \nL 184.492556 218.764366 \nz\n\" style=\"fill:#1f77b4;\"/>\n   </g>\n   <g id=\"patch_64\">\n    <path clip-path=\"url(#p44a2b77f17)\" d=\"M 186.971088 235.238437 \nL 188.953912 235.238437 \nL 188.953912 225.701364 \nL 186.971088 225.701364 \nz\n\" style=\"fill:#1f77b4;\"/>\n   </g>\n   <g id=\"patch_65\">\n    <path clip-path=\"url(#p44a2b77f17)\" d=\"M 189.449619 235.238437 \nL 191.432444 235.238437 \nL 191.432444 223.650952 \nL 189.449619 223.650952 \nz\n\" style=\"fill:#1f77b4;\"/>\n   </g>\n   <g id=\"patch_66\">\n    <path clip-path=\"url(#p44a2b77f17)\" d=\"M 191.92815 235.238437 \nL 193.910975 235.238437 \nL 193.910975 225.015151 \nL 191.92815 225.015151 \nz\n\" style=\"fill:#1f77b4;\"/>\n   </g>\n   <g id=\"patch_67\">\n    <path clip-path=\"url(#p44a2b77f17)\" d=\"M 194.406681 235.238437 \nL 196.389506 235.238437 \nL 196.389506 224.287659 \nL 194.406681 224.287659 \nz\n\" style=\"fill:#1f77b4;\"/>\n   </g>\n   <g id=\"patch_68\">\n    <path clip-path=\"url(#p44a2b77f17)\" d=\"M 196.885212 235.238437 \nL 198.868037 235.238437 \nL 198.868037 222.245081 \nL 196.885212 222.245081 \nz\n\" style=\"fill:#1f77b4;\"/>\n   </g>\n   <g id=\"patch_69\">\n    <path clip-path=\"url(#p44a2b77f17)\" d=\"M 199.363744 235.238437 \nL 201.346569 235.238437 \nL 201.346569 219.257612 \nL 199.363744 219.257612 \nz\n\" style=\"fill:#1f77b4;\"/>\n   </g>\n   <g id=\"patch_70\">\n    <path clip-path=\"url(#p44a2b77f17)\" d=\"M 201.842275 235.238437 \nL 203.8251 235.238437 \nL 203.8251 235.238437 \nL 201.842275 235.238437 \nz\n\" style=\"fill:#1f77b4;\"/>\n   </g>\n   <g id=\"patch_71\">\n    <path clip-path=\"url(#p44a2b77f17)\" d=\"M 204.320806 235.238437 \nL 206.303631 235.238437 \nL 206.303631 222.099768 \nL 204.320806 222.099768 \nz\n\" style=\"fill:#1f77b4;\"/>\n   </g>\n   <g id=\"patch_72\">\n    <path clip-path=\"url(#p44a2b77f17)\" d=\"M 206.799337 235.238437 \nL 208.782162 235.238437 \nL 208.782162 217.61518 \nL 206.799337 217.61518 \nz\n\" style=\"fill:#1f77b4;\"/>\n   </g>\n   <g id=\"patch_73\">\n    <path clip-path=\"url(#p44a2b77f17)\" d=\"M 209.277869 235.238437 \nL 211.260694 235.238437 \nL 211.260694 218.226422 \nL 209.277869 218.226422 \nz\n\" style=\"fill:#1f77b4;\"/>\n   </g>\n   <g id=\"patch_74\">\n    <path clip-path=\"url(#p44a2b77f17)\" d=\"M 211.7564 235.238437 \nL 213.739225 235.238437 \nL 213.739225 226.122808 \nL 211.7564 226.122808 \nz\n\" style=\"fill:#1f77b4;\"/>\n   </g>\n   <g id=\"patch_75\">\n    <path clip-path=\"url(#p44a2b77f17)\" d=\"M 214.234931 235.238437 \nL 216.217756 235.238437 \nL 216.217756 218.770919 \nL 214.234931 218.770919 \nz\n\" style=\"fill:#1f77b4;\"/>\n   </g>\n   <g id=\"patch_76\">\n    <path clip-path=\"url(#p44a2b77f17)\" d=\"M 216.713462 235.238437 \nL 218.696287 235.238437 \nL 218.696287 218.952311 \nL 216.713462 218.952311 \nz\n\" style=\"fill:#1f77b4;\"/>\n   </g>\n   <g id=\"patch_77\">\n    <path clip-path=\"url(#p44a2b77f17)\" d=\"M 219.191994 235.238437 \nL 221.174819 235.238437 \nL 221.174819 235.238437 \nL 219.191994 235.238437 \nz\n\" style=\"fill:#1f77b4;\"/>\n   </g>\n   <g id=\"patch_78\">\n    <path clip-path=\"url(#p44a2b77f17)\" d=\"M 221.670525 235.238437 \nL 223.65335 235.238437 \nL 223.65335 222.006739 \nL 221.670525 222.006739 \nz\n\" style=\"fill:#1f77b4;\"/>\n   </g>\n   <g id=\"patch_79\">\n    <path clip-path=\"url(#p44a2b77f17)\" d=\"M 224.149056 235.238437 \nL 226.131881 235.238437 \nL 226.131881 220.021824 \nL 224.149056 220.021824 \nz\n\" style=\"fill:#1f77b4;\"/>\n   </g>\n   <g id=\"patch_80\">\n    <path clip-path=\"url(#p44a2b77f17)\" d=\"M 226.627587 235.238437 \nL 228.610412 235.238437 \nL 228.610412 235.238437 \nL 226.627587 235.238437 \nz\n\" style=\"fill:#1f77b4;\"/>\n   </g>\n   <g id=\"patch_81\">\n    <path clip-path=\"url(#p44a2b77f17)\" d=\"M 229.106119 235.238437 \nL 231.088944 235.238437 \nL 231.088944 235.238437 \nL 229.106119 235.238437 \nz\n\" style=\"fill:#1f77b4;\"/>\n   </g>\n   <g id=\"patch_82\">\n    <path clip-path=\"url(#p44a2b77f17)\" d=\"M 231.58465 235.238437 \nL 233.567475 235.238437 \nL 233.567475 220.236838 \nL 231.58465 220.236838 \nz\n\" style=\"fill:#1f77b4;\"/>\n   </g>\n   <g id=\"patch_83\">\n    <path clip-path=\"url(#p44a2b77f17)\" d=\"M 234.063181 235.238437 \nL 236.046006 235.238437 \nL 236.046006 219.711288 \nL 234.063181 219.711288 \nz\n\" style=\"fill:#1f77b4;\"/>\n   </g>\n   <g id=\"patch_84\">\n    <path clip-path=\"url(#p44a2b77f17)\" d=\"M 236.541712 235.238437 \nL 238.524537 235.238437 \nL 238.524537 221.392719 \nL 236.541712 221.392719 \nz\n\" style=\"fill:#1f77b4;\"/>\n   </g>\n   <g id=\"patch_85\">\n    <path clip-path=\"url(#p44a2b77f17)\" d=\"M 239.020244 235.238437 \nL 241.003069 235.238437 \nL 241.003069 228.314439 \nL 239.020244 228.314439 \nz\n\" style=\"fill:#1f77b4;\"/>\n   </g>\n   <g id=\"patch_86\">\n    <path clip-path=\"url(#p44a2b77f17)\" d=\"M 241.498775 235.238437 \nL 243.4816 235.238437 \nL 243.4816 235.238437 \nL 241.498775 235.238437 \nz\n\" style=\"fill:#1f77b4;\"/>\n   </g>\n   <g id=\"patch_87\">\n    <path clip-path=\"url(#p44a2b77f17)\" d=\"M 243.977306 235.238437 \nL 245.960131 235.238437 \nL 245.960131 219.290414 \nL 243.977306 219.290414 \nz\n\" style=\"fill:#1f77b4;\"/>\n   </g>\n   <g id=\"patch_88\">\n    <path clip-path=\"url(#p44a2b77f17)\" d=\"M 246.455837 235.238437 \nL 248.438662 235.238437 \nL 248.438662 219.33789 \nL 246.455837 219.33789 \nz\n\" style=\"fill:#1f77b4;\"/>\n   </g>\n   <g id=\"patch_89\">\n    <path clip-path=\"url(#p44a2b77f17)\" d=\"M 248.934369 235.238437 \nL 250.917194 235.238437 \nL 250.917194 235.238437 \nL 248.934369 235.238437 \nz\n\" style=\"fill:#1f77b4;\"/>\n   </g>\n   <g id=\"patch_90\">\n    <path clip-path=\"url(#p44a2b77f17)\" d=\"M 251.4129 235.238437 \nL 253.395725 235.238437 \nL 253.395725 218.753218 \nL 251.4129 218.753218 \nz\n\" style=\"fill:#1f77b4;\"/>\n   </g>\n   <g id=\"patch_91\">\n    <path clip-path=\"url(#p44a2b77f17)\" d=\"M 253.891431 235.238437 \nL 255.874256 235.238437 \nL 255.874256 221.543446 \nL 253.891431 221.543446 \nz\n\" style=\"fill:#1f77b4;\"/>\n   </g>\n   <g id=\"patch_92\">\n    <path clip-path=\"url(#p44a2b77f17)\" d=\"M 256.369962 235.238437 \nL 258.352787 235.238437 \nL 258.352787 218.940914 \nL 256.369962 218.940914 \nz\n\" style=\"fill:#1f77b4;\"/>\n   </g>\n   <g id=\"patch_93\">\n    <path clip-path=\"url(#p44a2b77f17)\" d=\"M 258.848493 235.238437 \nL 260.831318 235.238437 \nL 260.831318 235.238437 \nL 258.848493 235.238437 \nz\n\" style=\"fill:#1f77b4;\"/>\n   </g>\n   <g id=\"patch_94\">\n    <path clip-path=\"url(#p44a2b77f17)\" d=\"M 261.327025 235.238437 \nL 263.30985 235.238437 \nL 263.30985 235.238437 \nL 261.327025 235.238437 \nz\n\" style=\"fill:#1f77b4;\"/>\n   </g>\n   <g id=\"patch_95\">\n    <path clip-path=\"url(#p44a2b77f17)\" d=\"M 263.805556 235.238437 \nL 265.788381 235.238437 \nL 265.788381 219.51971 \nL 263.805556 219.51971 \nz\n\" style=\"fill:#1f77b4;\"/>\n   </g>\n   <g id=\"patch_96\">\n    <path clip-path=\"url(#p44a2b77f17)\" d=\"M 266.284087 235.238437 \nL 268.266912 235.238437 \nL 268.266912 218.448487 \nL 266.284087 218.448487 \nz\n\" style=\"fill:#1f77b4;\"/>\n   </g>\n   <g id=\"patch_97\">\n    <path clip-path=\"url(#p44a2b77f17)\" d=\"M 268.762618 235.238437 \nL 270.745443 235.238437 \nL 270.745443 226.03213 \nL 268.762618 226.03213 \nz\n\" style=\"fill:#1f77b4;\"/>\n   </g>\n   <g id=\"patch_98\">\n    <path clip-path=\"url(#p44a2b77f17)\" d=\"M 271.24115 235.238437 \nL 273.223975 235.238437 \nL 273.223975 222.176414 \nL 271.24115 222.176414 \nz\n\" style=\"fill:#1f77b4;\"/>\n   </g>\n   <g id=\"patch_99\">\n    <path clip-path=\"url(#p44a2b77f17)\" d=\"M 273.719681 235.238437 \nL 275.702506 235.238437 \nL 275.702506 218.328782 \nL 273.719681 218.328782 \nz\n\" style=\"fill:#1f77b4;\"/>\n   </g>\n   <g id=\"patch_100\">\n    <path clip-path=\"url(#p44a2b77f17)\" d=\"M 276.198212 235.238437 \nL 278.181037 235.238437 \nL 278.181037 218.999716 \nL 276.198212 218.999716 \nz\n\" style=\"fill:#1f77b4;\"/>\n   </g>\n   <g id=\"patch_101\">\n    <path clip-path=\"url(#p44a2b77f17)\" d=\"M 278.676743 235.238437 \nL 280.659568 235.238437 \nL 280.659568 222.87552 \nL 278.676743 222.87552 \nz\n\" style=\"fill:#1f77b4;\"/>\n   </g>\n   <g id=\"patch_102\">\n    <path clip-path=\"url(#p44a2b77f17)\" d=\"M 281.155275 235.238437 \nL 283.1381 235.238437 \nL 283.1381 226.18446 \nL 281.155275 226.18446 \nz\n\" style=\"fill:#1f77b4;\"/>\n   </g>\n   <g id=\"patch_103\">\n    <path clip-path=\"url(#p44a2b77f17)\" d=\"M 283.633806 235.238437 \nL 285.616631 235.238437 \nL 285.616631 218.094251 \nL 283.633806 218.094251 \nz\n\" style=\"fill:#1f77b4;\"/>\n   </g>\n   <g id=\"patch_104\">\n    <path clip-path=\"url(#p44a2b77f17)\" d=\"M 286.112337 235.238437 \nL 288.095162 235.238437 \nL 288.095162 235.238437 \nL 286.112337 235.238437 \nz\n\" style=\"fill:#1f77b4;\"/>\n   </g>\n   <g id=\"patch_105\">\n    <path clip-path=\"url(#p44a2b77f17)\" d=\"M 288.590868 235.238437 \nL 290.573693 235.238437 \nL 290.573693 235.238437 \nL 288.590868 235.238437 \nz\n\" style=\"fill:#1f77b4;\"/>\n   </g>\n   <g id=\"patch_106\">\n    <path clip-path=\"url(#p44a2b77f17)\" d=\"M 291.0694 235.238437 \nL 293.052225 235.238437 \nL 293.052225 219.090181 \nL 291.0694 219.090181 \nz\n\" style=\"fill:#1f77b4;\"/>\n   </g>\n   <g id=\"patch_107\">\n    <path clip-path=\"url(#p44a2b77f17)\" d=\"M 293.547931 235.238437 \nL 295.530756 235.238437 \nL 295.530756 219.022724 \nL 293.547931 219.022724 \nz\n\" style=\"fill:#1f77b4;\"/>\n   </g>\n   <g id=\"patch_108\">\n    <path clip-path=\"url(#p44a2b77f17)\" d=\"M 296.026462 235.238437 \nL 298.009287 235.238437 \nL 298.009287 223.099224 \nL 296.026462 223.099224 \nz\n\" style=\"fill:#1f77b4;\"/>\n   </g>\n   <g id=\"patch_109\">\n    <path clip-path=\"url(#p44a2b77f17)\" d=\"M 298.504993 235.238437 \nL 300.487818 235.238437 \nL 300.487818 222.466364 \nL 298.504993 222.466364 \nz\n\" style=\"fill:#1f77b4;\"/>\n   </g>\n   <g id=\"patch_110\">\n    <path clip-path=\"url(#p44a2b77f17)\" d=\"M 300.983525 235.238437 \nL 302.96635 235.238437 \nL 302.96635 222.143896 \nL 300.983525 222.143896 \nz\n\" style=\"fill:#1f77b4;\"/>\n   </g>\n   <g id=\"patch_111\">\n    <path clip-path=\"url(#p44a2b77f17)\" d=\"M 303.462056 235.238437 \nL 305.444881 235.238437 \nL 305.444881 235.238437 \nL 303.462056 235.238437 \nz\n\" style=\"fill:#1f77b4;\"/>\n   </g>\n   <g id=\"patch_112\">\n    <path clip-path=\"url(#p44a2b77f17)\" d=\"M 305.940587 235.238437 \nL 307.923412 235.238437 \nL 307.923412 226.677314 \nL 305.940587 226.677314 \nz\n\" style=\"fill:#1f77b4;\"/>\n   </g>\n   <g id=\"patch_113\">\n    <path clip-path=\"url(#p44a2b77f17)\" d=\"M 308.419118 235.238437 \nL 310.401943 235.238437 \nL 310.401943 235.238437 \nL 308.419118 235.238437 \nz\n\" style=\"fill:#1f77b4;\"/>\n   </g>\n   <g id=\"patch_114\">\n    <path clip-path=\"url(#p44a2b77f17)\" d=\"M 310.89765 235.238437 \nL 312.880475 235.238437 \nL 312.880475 221.904236 \nL 310.89765 221.904236 \nz\n\" style=\"fill:#1f77b4;\"/>\n   </g>\n   <g id=\"patch_115\">\n    <path clip-path=\"url(#p44a2b77f17)\" d=\"M 313.376181 235.238437 \nL 315.359006 235.238437 \nL 315.359006 235.238437 \nL 313.376181 235.238437 \nz\n\" style=\"fill:#1f77b4;\"/>\n   </g>\n   <g id=\"patch_116\">\n    <path clip-path=\"url(#p44a2b77f17)\" d=\"M 315.854712 235.238437 \nL 317.837537 235.238437 \nL 317.837537 235.238437 \nL 315.854712 235.238437 \nz\n\" style=\"fill:#1f77b4;\"/>\n   </g>\n   <g id=\"patch_117\">\n    <path clip-path=\"url(#p44a2b77f17)\" d=\"M 318.333243 235.238437 \nL 320.316068 235.238437 \nL 320.316068 235.238437 \nL 318.333243 235.238437 \nz\n\" style=\"fill:#1f77b4;\"/>\n   </g>\n   <g id=\"patch_118\">\n    <path clip-path=\"url(#p44a2b77f17)\" d=\"M 320.811775 235.238437 \nL 322.794599 235.238437 \nL 322.794599 235.238437 \nL 320.811775 235.238437 \nz\n\" style=\"fill:#1f77b4;\"/>\n   </g>\n   <g id=\"patch_119\">\n    <path clip-path=\"url(#p44a2b77f17)\" d=\"M 323.290306 235.238437 \nL 325.273131 235.238437 \nL 325.273131 235.238437 \nL 323.290306 235.238437 \nz\n\" style=\"fill:#1f77b4;\"/>\n   </g>\n   <g id=\"patch_120\">\n    <path clip-path=\"url(#p44a2b77f17)\" d=\"M 325.768837 235.238437 \nL 327.751662 235.238437 \nL 327.751662 235.238437 \nL 325.768837 235.238437 \nz\n\" style=\"fill:#1f77b4;\"/>\n   </g>\n   <g id=\"patch_121\">\n    <path clip-path=\"url(#p44a2b77f17)\" d=\"M 328.247368 235.238437 \nL 330.230193 235.238437 \nL 330.230193 235.238437 \nL 328.247368 235.238437 \nz\n\" style=\"fill:#1f77b4;\"/>\n   </g>\n   <g id=\"patch_122\">\n    <path clip-path=\"url(#p44a2b77f17)\" d=\"M 330.725899 235.238437 \nL 332.708724 235.238437 \nL 332.708724 235.238437 \nL 330.725899 235.238437 \nz\n\" style=\"fill:#1f77b4;\"/>\n   </g>\n   <g id=\"patch_123\">\n    <path clip-path=\"url(#p44a2b77f17)\" d=\"M 333.204431 235.238437 \nL 335.187256 235.238437 \nL 335.187256 235.238437 \nL 333.204431 235.238437 \nz\n\" style=\"fill:#1f77b4;\"/>\n   </g>\n   <g id=\"patch_124\">\n    <path clip-path=\"url(#p44a2b77f17)\" d=\"M 335.682962 235.238437 \nL 337.665787 235.238437 \nL 337.665787 190.052638 \nL 335.682962 190.052638 \nz\n\" style=\"fill:#1f77b4;\"/>\n   </g>\n   <g id=\"patch_125\">\n    <path clip-path=\"url(#p44a2b77f17)\" d=\"M 338.161493 235.238437 \nL 340.144318 235.238437 \nL 340.144318 221.767791 \nL 338.161493 221.767791 \nz\n\" style=\"fill:#1f77b4;\"/>\n   </g>\n   <g id=\"patch_126\">\n    <path clip-path=\"url(#p44a2b77f17)\" d=\"M 35.780682 235.238437 \nL 37.763507 235.238437 \nL 37.763507 235.238437 \nL 35.780682 235.238437 \nz\n\" style=\"fill:#ff7f0e;\"/>\n   </g>\n   <g id=\"patch_127\">\n    <path clip-path=\"url(#p44a2b77f17)\" d=\"M 38.259213 235.238437 \nL 40.242038 235.238437 \nL 40.242038 235.238437 \nL 38.259213 235.238437 \nz\n\" style=\"fill:#ff7f0e;\"/>\n   </g>\n   <g id=\"patch_128\">\n    <path clip-path=\"url(#p44a2b77f17)\" d=\"M 40.737744 235.238437 \nL 42.720569 235.238437 \nL 42.720569 235.238437 \nL 40.737744 235.238437 \nz\n\" style=\"fill:#ff7f0e;\"/>\n   </g>\n   <g id=\"patch_129\">\n    <path clip-path=\"url(#p44a2b77f17)\" d=\"M 43.216276 218.735196 \nL 45.199101 218.735196 \nL 45.199101 218.735196 \nL 43.216276 218.735196 \nz\n\" style=\"fill:#ff7f0e;\"/>\n   </g>\n   <g id=\"patch_130\">\n    <path clip-path=\"url(#p44a2b77f17)\" d=\"M 45.694807 235.238437 \nL 47.677632 235.238437 \nL 47.677632 235.238437 \nL 45.694807 235.238437 \nz\n\" style=\"fill:#ff7f0e;\"/>\n   </g>\n   <g id=\"patch_131\">\n    <path clip-path=\"url(#p44a2b77f17)\" d=\"M 48.173338 218.37779 \nL 50.156163 218.37779 \nL 50.156163 218.37779 \nL 48.173338 218.37779 \nz\n\" style=\"fill:#ff7f0e;\"/>\n   </g>\n   <g id=\"patch_132\">\n    <path clip-path=\"url(#p44a2b77f17)\" d=\"M 50.651869 235.238437 \nL 52.634694 235.238437 \nL 52.634694 235.238437 \nL 50.651869 235.238437 \nz\n\" style=\"fill:#ff7f0e;\"/>\n   </g>\n   <g id=\"patch_133\">\n    <path clip-path=\"url(#p44a2b77f17)\" d=\"M 53.130401 230.545923 \nL 55.113225 230.545923 \nL 55.113225 225.853409 \nL 53.130401 225.853409 \nz\n\" style=\"fill:#ff7f0e;\"/>\n   </g>\n   <g id=\"patch_134\">\n    <path clip-path=\"url(#p44a2b77f17)\" d=\"M 55.608932 217.12749 \nL 57.591757 217.12749 \nL 57.591757 164.418951 \nL 55.608932 164.418951 \nz\n\" style=\"fill:#ff7f0e;\"/>\n   </g>\n   <g id=\"patch_135\">\n    <path clip-path=\"url(#p44a2b77f17)\" d=\"M 58.087463 220.301053 \nL 60.070288 220.301053 \nL 60.070288 220.301053 \nL 58.087463 220.301053 \nz\n\" style=\"fill:#ff7f0e;\"/>\n   </g>\n   <g id=\"patch_136\">\n    <path clip-path=\"url(#p44a2b77f17)\" d=\"M 60.565994 222.23689 \nL 62.548819 222.23689 \nL 62.548819 222.23689 \nL 60.565994 222.23689 \nz\n\" style=\"fill:#ff7f0e;\"/>\n   </g>\n   <g id=\"patch_137\">\n    <path clip-path=\"url(#p44a2b77f17)\" d=\"M 63.044525 218.347267 \nL 65.02735 218.347267 \nL 65.02735 201.456096 \nL 63.044525 201.456096 \nz\n\" style=\"fill:#ff7f0e;\"/>\n   </g>\n   <g id=\"patch_138\">\n    <path clip-path=\"url(#p44a2b77f17)\" d=\"M 65.523057 217.579813 \nL 67.505882 217.579813 \nL 67.505882 217.579813 \nL 65.523057 217.579813 \nz\n\" style=\"fill:#ff7f0e;\"/>\n   </g>\n   <g id=\"patch_139\">\n    <path clip-path=\"url(#p44a2b77f17)\" d=\"M 68.001588 219.331408 \nL 69.984413 219.331408 \nL 69.984413 219.331408 \nL 68.001588 219.331408 \nz\n\" style=\"fill:#ff7f0e;\"/>\n   </g>\n   <g id=\"patch_140\">\n    <path clip-path=\"url(#p44a2b77f17)\" d=\"M 70.480119 217.152956 \nL 72.462944 217.152956 \nL 72.462944 152.509746 \nL 70.480119 152.509746 \nz\n\" style=\"fill:#ff7f0e;\"/>\n   </g>\n   <g id=\"patch_141\">\n    <path clip-path=\"url(#p44a2b77f17)\" d=\"M 72.95865 217.146189 \nL 74.941475 217.146189 \nL 74.941475 217.146189 \nL 72.95865 217.146189 \nz\n\" style=\"fill:#ff7f0e;\"/>\n   </g>\n   <g id=\"patch_142\">\n    <path clip-path=\"url(#p44a2b77f17)\" d=\"M 75.437182 235.238437 \nL 77.420007 235.238437 \nL 77.420007 235.238437 \nL 75.437182 235.238437 \nz\n\" style=\"fill:#ff7f0e;\"/>\n   </g>\n   <g id=\"patch_143\">\n    <path clip-path=\"url(#p44a2b77f17)\" d=\"M 77.915713 217.143446 \nL 79.898538 217.143446 \nL 79.898538 182.187807 \nL 77.915713 182.187807 \nz\n\" style=\"fill:#ff7f0e;\"/>\n   </g>\n   <g id=\"patch_144\">\n    <path clip-path=\"url(#p44a2b77f17)\" d=\"M 80.394244 217.06274 \nL 82.377069 217.06274 \nL 82.377069 217.06274 \nL 80.394244 217.06274 \nz\n\" style=\"fill:#ff7f0e;\"/>\n   </g>\n   <g id=\"patch_145\">\n    <path clip-path=\"url(#p44a2b77f17)\" d=\"M 82.872775 218.553661 \nL 84.8556 218.553661 \nL 84.8556 188.867338 \nL 82.872775 188.867338 \nz\n\" style=\"fill:#ff7f0e;\"/>\n   </g>\n   <g id=\"patch_146\">\n    <path clip-path=\"url(#p44a2b77f17)\" d=\"M 85.351307 235.238437 \nL 87.334132 235.238437 \nL 87.334132 235.238437 \nL 85.351307 235.238437 \nz\n\" style=\"fill:#ff7f0e;\"/>\n   </g>\n   <g id=\"patch_147\">\n    <path clip-path=\"url(#p44a2b77f17)\" d=\"M 87.829838 216.856631 \nL 89.812663 216.856631 \nL 89.812663 216.856631 \nL 87.829838 216.856631 \nz\n\" style=\"fill:#ff7f0e;\"/>\n   </g>\n   <g id=\"patch_148\">\n    <path clip-path=\"url(#p44a2b77f17)\" d=\"M 90.308369 235.238437 \nL 92.291194 235.238437 \nL 92.291194 235.238437 \nL 90.308369 235.238437 \nz\n\" style=\"fill:#ff7f0e;\"/>\n   </g>\n   <g id=\"patch_149\">\n    <path clip-path=\"url(#p44a2b77f17)\" d=\"M 92.7869 217.127846 \nL 94.769725 217.127846 \nL 94.769725 165.555778 \nL 92.7869 165.555778 \nz\n\" style=\"fill:#ff7f0e;\"/>\n   </g>\n   <g id=\"patch_150\">\n    <path clip-path=\"url(#p44a2b77f17)\" d=\"M 95.265432 216.890323 \nL 97.248257 216.890323 \nL 97.248257 216.890323 \nL 95.265432 216.890323 \nz\n\" style=\"fill:#ff7f0e;\"/>\n   </g>\n   <g id=\"patch_151\">\n    <path clip-path=\"url(#p44a2b77f17)\" d=\"M 97.743963 217.910294 \nL 99.726788 217.910294 \nL 99.726788 217.910294 \nL 97.743963 217.910294 \nz\n\" style=\"fill:#ff7f0e;\"/>\n   </g>\n   <g id=\"patch_152\">\n    <path clip-path=\"url(#p44a2b77f17)\" d=\"M 100.222494 216.587765 \nL 102.205319 216.587765 \nL 102.205319 162.014124 \nL 100.222494 162.014124 \nz\n\" style=\"fill:#ff7f0e;\"/>\n   </g>\n   <g id=\"patch_153\">\n    <path clip-path=\"url(#p44a2b77f17)\" d=\"M 102.701025 230.86344 \nL 104.68385 230.86344 \nL 104.68385 226.488442 \nL 102.701025 226.488442 \nz\n\" style=\"fill:#ff7f0e;\"/>\n   </g>\n   <g id=\"patch_154\">\n    <path clip-path=\"url(#p44a2b77f17)\" d=\"M 105.179557 235.238437 \nL 107.162382 235.238437 \nL 107.162382 235.238437 \nL 105.179557 235.238437 \nz\n\" style=\"fill:#ff7f0e;\"/>\n   </g>\n   <g id=\"patch_155\">\n    <path clip-path=\"url(#p44a2b77f17)\" d=\"M 107.658088 235.238437 \nL 109.640913 235.238437 \nL 109.640913 235.238437 \nL 107.658088 235.238437 \nz\n\" style=\"fill:#ff7f0e;\"/>\n   </g>\n   <g id=\"patch_156\">\n    <path clip-path=\"url(#p44a2b77f17)\" d=\"M 110.136619 218.872353 \nL 112.119444 218.872353 \nL 112.119444 218.872353 \nL 110.136619 218.872353 \nz\n\" style=\"fill:#ff7f0e;\"/>\n   </g>\n   <g id=\"patch_157\">\n    <path clip-path=\"url(#p44a2b77f17)\" d=\"M 112.61515 218.294698 \nL 114.597975 218.294698 \nL 114.597975 201.350958 \nL 112.61515 201.350958 \nz\n\" style=\"fill:#ff7f0e;\"/>\n   </g>\n   <g id=\"patch_158\">\n    <path clip-path=\"url(#p44a2b77f17)\" d=\"M 115.093682 217.925467 \nL 117.076507 217.925467 \nL 117.076507 217.925467 \nL 115.093682 217.925467 \nz\n\" style=\"fill:#ff7f0e;\"/>\n   </g>\n   <g id=\"patch_159\">\n    <path clip-path=\"url(#p44a2b77f17)\" d=\"M 117.572213 217.81495 \nL 119.555038 217.81495 \nL 119.555038 183.241114 \nL 117.572213 183.241114 \nz\n\" style=\"fill:#ff7f0e;\"/>\n   </g>\n   <g id=\"patch_160\">\n    <path clip-path=\"url(#p44a2b77f17)\" d=\"M 120.050744 216.876754 \nL 122.033569 216.876754 \nL 122.033569 168.841176 \nL 120.050744 168.841176 \nz\n\" style=\"fill:#ff7f0e;\"/>\n   </g>\n   <g id=\"patch_161\">\n    <path clip-path=\"url(#p44a2b77f17)\" d=\"M 122.529275 216.697783 \nL 124.5121 216.697783 \nL 124.5121 142.44057 \nL 122.529275 142.44057 \nz\n\" style=\"fill:#ff7f0e;\"/>\n   </g>\n   <g id=\"patch_162\">\n    <path clip-path=\"url(#p44a2b77f17)\" d=\"M 125.007806 217.968989 \nL 126.990631 217.968989 \nL 126.990631 217.968989 \nL 125.007806 217.968989 \nz\n\" style=\"fill:#ff7f0e;\"/>\n   </g>\n   <g id=\"patch_163\">\n    <path clip-path=\"url(#p44a2b77f17)\" d=\"M 127.486338 218.098311 \nL 129.469163 218.098311 \nL 129.469163 218.098311 \nL 127.486338 218.098311 \nz\n\" style=\"fill:#ff7f0e;\"/>\n   </g>\n   <g id=\"patch_164\">\n    <path clip-path=\"url(#p44a2b77f17)\" d=\"M 129.964869 235.238437 \nL 131.947694 235.238437 \nL 131.947694 235.238437 \nL 129.964869 235.238437 \nz\n\" style=\"fill:#ff7f0e;\"/>\n   </g>\n   <g id=\"patch_165\">\n    <path clip-path=\"url(#p44a2b77f17)\" d=\"M 132.4434 217.47325 \nL 134.426225 217.47325 \nL 134.426225 217.47325 \nL 132.4434 217.47325 \nz\n\" style=\"fill:#ff7f0e;\"/>\n   </g>\n   <g id=\"patch_166\">\n    <path clip-path=\"url(#p44a2b77f17)\" d=\"M 134.921931 218.658337 \nL 136.904756 218.658337 \nL 136.904756 186.171207 \nL 134.921931 186.171207 \nz\n\" style=\"fill:#ff7f0e;\"/>\n   </g>\n   <g id=\"patch_167\">\n    <path clip-path=\"url(#p44a2b77f17)\" d=\"M 137.400463 217.697275 \nL 139.383288 217.697275 \nL 139.383288 217.697275 \nL 137.400463 217.697275 \nz\n\" style=\"fill:#ff7f0e;\"/>\n   </g>\n   <g id=\"patch_168\">\n    <path clip-path=\"url(#p44a2b77f17)\" d=\"M 139.878994 218.280202 \nL 141.861819 218.280202 \nL 141.861819 218.280202 \nL 139.878994 218.280202 \nz\n\" style=\"fill:#ff7f0e;\"/>\n   </g>\n   <g id=\"patch_169\">\n    <path clip-path=\"url(#p44a2b77f17)\" d=\"M 142.357525 218.336618 \nL 144.34035 218.336618 \nL 144.34035 218.336618 \nL 142.357525 218.336618 \nz\n\" style=\"fill:#ff7f0e;\"/>\n   </g>\n   <g id=\"patch_170\">\n    <path clip-path=\"url(#p44a2b77f17)\" d=\"M 144.836056 217.357107 \nL 146.818881 217.357107 \nL 146.818881 217.357107 \nL 144.836056 217.357107 \nz\n\" style=\"fill:#ff7f0e;\"/>\n   </g>\n   <g id=\"patch_171\">\n    <path clip-path=\"url(#p44a2b77f17)\" d=\"M 147.314588 217.557945 \nL 149.297413 217.557945 \nL 149.297413 217.557945 \nL 147.314588 217.557945 \nz\n\" style=\"fill:#ff7f0e;\"/>\n   </g>\n   <g id=\"patch_172\">\n    <path clip-path=\"url(#p44a2b77f17)\" d=\"M 149.793119 217.080477 \nL 151.775944 217.080477 \nL 151.775944 163.5834 \nL 149.793119 163.5834 \nz\n\" style=\"fill:#ff7f0e;\"/>\n   </g>\n   <g id=\"patch_173\">\n    <path clip-path=\"url(#p44a2b77f17)\" d=\"M 152.27165 230.526121 \nL 154.254475 230.526121 \nL 154.254475 225.813804 \nL 152.27165 225.813804 \nz\n\" style=\"fill:#ff7f0e;\"/>\n   </g>\n   <g id=\"patch_174\">\n    <path clip-path=\"url(#p44a2b77f17)\" d=\"M 154.750181 235.238437 \nL 156.733006 235.238437 \nL 156.733006 235.238437 \nL 154.750181 235.238437 \nz\n\" style=\"fill:#ff7f0e;\"/>\n   </g>\n   <g id=\"patch_175\">\n    <path clip-path=\"url(#p44a2b77f17)\" d=\"M 157.228713 219.234746 \nL 159.211538 219.234746 \nL 159.211538 190.092385 \nL 157.228713 190.092385 \nz\n\" style=\"fill:#ff7f0e;\"/>\n   </g>\n   <g id=\"patch_176\">\n    <path clip-path=\"url(#p44a2b77f17)\" d=\"M 159.707244 219.135698 \nL 161.690069 219.135698 \nL 161.690069 219.135698 \nL 159.707244 219.135698 \nz\n\" style=\"fill:#ff7f0e;\"/>\n   </g>\n   <g id=\"patch_177\">\n    <path clip-path=\"url(#p44a2b77f17)\" d=\"M 162.185775 218.721662 \nL 164.1686 218.721662 \nL 164.1686 202.204887 \nL 162.185775 202.204887 \nz\n\" style=\"fill:#ff7f0e;\"/>\n   </g>\n   <g id=\"patch_178\">\n    <path clip-path=\"url(#p44a2b77f17)\" d=\"M 164.664306 235.238437 \nL 166.647131 235.238437 \nL 166.647131 235.238437 \nL 164.664306 235.238437 \nz\n\" style=\"fill:#ff7f0e;\"/>\n   </g>\n   <g id=\"patch_179\">\n    <path clip-path=\"url(#p44a2b77f17)\" d=\"M 167.142838 218.088089 \nL 169.125663 218.088089 \nL 169.125663 218.088089 \nL 167.142838 218.088089 \nz\n\" style=\"fill:#ff7f0e;\"/>\n   </g>\n   <g id=\"patch_180\">\n    <path clip-path=\"url(#p44a2b77f17)\" d=\"M 169.621369 219.313458 \nL 171.604194 219.313458 \nL 171.604194 219.313458 \nL 169.621369 219.313458 \nz\n\" style=\"fill:#ff7f0e;\"/>\n   </g>\n   <g id=\"patch_181\">\n    <path clip-path=\"url(#p44a2b77f17)\" d=\"M 172.0999 218.627493 \nL 174.082725 218.627493 \nL 174.082725 202.016549 \nL 172.0999 202.016549 \nz\n\" style=\"fill:#ff7f0e;\"/>\n   </g>\n   <g id=\"patch_182\">\n    <path clip-path=\"url(#p44a2b77f17)\" d=\"M 174.578431 222.811981 \nL 176.561256 222.811981 \nL 176.561256 222.811981 \nL 174.578431 222.811981 \nz\n\" style=\"fill:#ff7f0e;\"/>\n   </g>\n   <g id=\"patch_183\">\n    <path clip-path=\"url(#p44a2b77f17)\" d=\"M 177.056963 220.646315 \nL 179.039788 220.646315 \nL 179.039788 206.054192 \nL 177.056963 206.054192 \nz\n\" style=\"fill:#ff7f0e;\"/>\n   </g>\n   <g id=\"patch_184\">\n    <path clip-path=\"url(#p44a2b77f17)\" d=\"M 179.535494 235.238437 \nL 181.518319 235.238437 \nL 181.518319 235.238437 \nL 179.535494 235.238437 \nz\n\" style=\"fill:#ff7f0e;\"/>\n   </g>\n   <g id=\"patch_185\">\n    <path clip-path=\"url(#p44a2b77f17)\" d=\"M 182.014025 225.416472 \nL 183.99685 225.416472 \nL 183.99685 215.594507 \nL 182.014025 215.594507 \nz\n\" style=\"fill:#ff7f0e;\"/>\n   </g>\n   <g id=\"patch_186\">\n    <path clip-path=\"url(#p44a2b77f17)\" d=\"M 184.492556 218.764366 \nL 186.475381 218.764366 \nL 186.475381 202.290294 \nL 184.492556 202.290294 \nz\n\" style=\"fill:#ff7f0e;\"/>\n   </g>\n   <g id=\"patch_187\">\n    <path clip-path=\"url(#p44a2b77f17)\" d=\"M 186.971088 225.701364 \nL 188.953912 225.701364 \nL 188.953912 216.164291 \nL 186.971088 216.164291 \nz\n\" style=\"fill:#ff7f0e;\"/>\n   </g>\n   <g id=\"patch_188\">\n    <path clip-path=\"url(#p44a2b77f17)\" d=\"M 189.449619 223.650952 \nL 191.432444 223.650952 \nL 191.432444 212.063466 \nL 189.449619 212.063466 \nz\n\" style=\"fill:#ff7f0e;\"/>\n   </g>\n   <g id=\"patch_189\">\n    <path clip-path=\"url(#p44a2b77f17)\" d=\"M 191.92815 225.015151 \nL 193.910975 225.015151 \nL 193.910975 214.791864 \nL 191.92815 214.791864 \nz\n\" style=\"fill:#ff7f0e;\"/>\n   </g>\n   <g id=\"patch_190\">\n    <path clip-path=\"url(#p44a2b77f17)\" d=\"M 194.406681 224.287659 \nL 196.389506 224.287659 \nL 196.389506 224.287659 \nL 194.406681 224.287659 \nz\n\" style=\"fill:#ff7f0e;\"/>\n   </g>\n   <g id=\"patch_191\">\n    <path clip-path=\"url(#p44a2b77f17)\" d=\"M 196.885212 222.245081 \nL 198.868037 222.245081 \nL 198.868037 209.251725 \nL 196.885212 209.251725 \nz\n\" style=\"fill:#ff7f0e;\"/>\n   </g>\n   <g id=\"patch_192\">\n    <path clip-path=\"url(#p44a2b77f17)\" d=\"M 199.363744 219.257612 \nL 201.346569 219.257612 \nL 201.346569 219.257612 \nL 199.363744 219.257612 \nz\n\" style=\"fill:#ff7f0e;\"/>\n   </g>\n   <g id=\"patch_193\">\n    <path clip-path=\"url(#p44a2b77f17)\" d=\"M 201.842275 235.238437 \nL 203.8251 235.238437 \nL 203.8251 235.238437 \nL 201.842275 235.238437 \nz\n\" style=\"fill:#ff7f0e;\"/>\n   </g>\n   <g id=\"patch_194\">\n    <path clip-path=\"url(#p44a2b77f17)\" d=\"M 204.320806 222.099768 \nL 206.303631 222.099768 \nL 206.303631 222.099768 \nL 204.320806 222.099768 \nz\n\" style=\"fill:#ff7f0e;\"/>\n   </g>\n   <g id=\"patch_195\">\n    <path clip-path=\"url(#p44a2b77f17)\" d=\"M 206.799337 217.61518 \nL 208.782162 217.61518 \nL 208.782162 199.991923 \nL 206.799337 199.991923 \nz\n\" style=\"fill:#ff7f0e;\"/>\n   </g>\n   <g id=\"patch_196\">\n    <path clip-path=\"url(#p44a2b77f17)\" d=\"M 209.277869 218.226422 \nL 211.260694 218.226422 \nL 211.260694 187.74376 \nL 209.277869 187.74376 \nz\n\" style=\"fill:#ff7f0e;\"/>\n   </g>\n   <g id=\"patch_197\">\n    <path clip-path=\"url(#p44a2b77f17)\" d=\"M 211.7564 226.122808 \nL 213.739225 226.122808 \nL 213.739225 217.007179 \nL 211.7564 217.007179 \nz\n\" style=\"fill:#ff7f0e;\"/>\n   </g>\n   <g id=\"patch_198\">\n    <path clip-path=\"url(#p44a2b77f17)\" d=\"M 214.234931 218.770919 \nL 216.217756 218.770919 \nL 216.217756 186.322575 \nL 214.234931 186.322575 \nz\n\" style=\"fill:#ff7f0e;\"/>\n   </g>\n   <g id=\"patch_199\">\n    <path clip-path=\"url(#p44a2b77f17)\" d=\"M 216.713462 218.952311 \nL 218.696287 218.952311 \nL 218.696287 186.741205 \nL 216.713462 186.741205 \nz\n\" style=\"fill:#ff7f0e;\"/>\n   </g>\n   <g id=\"patch_200\">\n    <path clip-path=\"url(#p44a2b77f17)\" d=\"M 219.191994 235.238437 \nL 221.174819 235.238437 \nL 221.174819 235.238437 \nL 219.191994 235.238437 \nz\n\" style=\"fill:#ff7f0e;\"/>\n   </g>\n   <g id=\"patch_201\">\n    <path clip-path=\"url(#p44a2b77f17)\" d=\"M 221.670525 222.006739 \nL 223.65335 222.006739 \nL 223.65335 188.770284 \nL 221.670525 188.770284 \nz\n\" style=\"fill:#ff7f0e;\"/>\n   </g>\n   <g id=\"patch_202\">\n    <path clip-path=\"url(#p44a2b77f17)\" d=\"M 224.149056 220.021824 \nL 226.131881 220.021824 \nL 226.131881 204.805211 \nL 224.149056 204.805211 \nz\n\" style=\"fill:#ff7f0e;\"/>\n   </g>\n   <g id=\"patch_203\">\n    <path clip-path=\"url(#p44a2b77f17)\" d=\"M 226.627587 235.238437 \nL 228.610412 235.238437 \nL 228.610412 235.238437 \nL 226.627587 235.238437 \nz\n\" style=\"fill:#ff7f0e;\"/>\n   </g>\n   <g id=\"patch_204\">\n    <path clip-path=\"url(#p44a2b77f17)\" d=\"M 229.106119 235.238437 \nL 231.088944 235.238437 \nL 231.088944 235.238437 \nL 229.106119 235.238437 \nz\n\" style=\"fill:#ff7f0e;\"/>\n   </g>\n   <g id=\"patch_205\">\n    <path clip-path=\"url(#p44a2b77f17)\" d=\"M 231.58465 220.236838 \nL 233.567475 220.236838 \nL 233.567475 192.173214 \nL 231.58465 192.173214 \nz\n\" style=\"fill:#ff7f0e;\"/>\n   </g>\n   <g id=\"patch_206\">\n    <path clip-path=\"url(#p44a2b77f17)\" d=\"M 234.063181 219.711288 \nL 236.046006 219.711288 \nL 236.046006 204.184139 \nL 234.063181 204.184139 \nz\n\" style=\"fill:#ff7f0e;\"/>\n   </g>\n   <g id=\"patch_207\">\n    <path clip-path=\"url(#p44a2b77f17)\" d=\"M 236.541712 221.392719 \nL 238.524537 221.392719 \nL 238.524537 207.547001 \nL 236.541712 207.547001 \nz\n\" style=\"fill:#ff7f0e;\"/>\n   </g>\n   <g id=\"patch_208\">\n    <path clip-path=\"url(#p44a2b77f17)\" d=\"M 239.020244 228.314439 \nL 241.003069 228.314439 \nL 241.003069 221.39044 \nL 239.020244 221.39044 \nz\n\" style=\"fill:#ff7f0e;\"/>\n   </g>\n   <g id=\"patch_209\">\n    <path clip-path=\"url(#p44a2b77f17)\" d=\"M 241.498775 235.238437 \nL 243.4816 235.238437 \nL 243.4816 235.238437 \nL 241.498775 235.238437 \nz\n\" style=\"fill:#ff7f0e;\"/>\n   </g>\n   <g id=\"patch_210\">\n    <path clip-path=\"url(#p44a2b77f17)\" d=\"M 243.977306 219.290414 \nL 245.960131 219.290414 \nL 245.960131 203.34239 \nL 243.977306 203.34239 \nz\n\" style=\"fill:#ff7f0e;\"/>\n   </g>\n   <g id=\"patch_211\">\n    <path clip-path=\"url(#p44a2b77f17)\" d=\"M 246.455837 219.33789 \nL 248.438662 219.33789 \nL 248.438662 219.33789 \nL 246.455837 219.33789 \nz\n\" style=\"fill:#ff7f0e;\"/>\n   </g>\n   <g id=\"patch_212\">\n    <path clip-path=\"url(#p44a2b77f17)\" d=\"M 248.934369 235.238437 \nL 250.917194 235.238437 \nL 250.917194 235.238437 \nL 248.934369 235.238437 \nz\n\" style=\"fill:#ff7f0e;\"/>\n   </g>\n   <g id=\"patch_213\">\n    <path clip-path=\"url(#p44a2b77f17)\" d=\"M 251.4129 218.753218 \nL 253.395725 218.753218 \nL 253.395725 202.267998 \nL 251.4129 202.267998 \nz\n\" style=\"fill:#ff7f0e;\"/>\n   </g>\n   <g id=\"patch_214\">\n    <path clip-path=\"url(#p44a2b77f17)\" d=\"M 253.891431 221.543446 \nL 255.874256 221.543446 \nL 255.874256 207.848455 \nL 253.891431 207.848455 \nz\n\" style=\"fill:#ff7f0e;\"/>\n   </g>\n   <g id=\"patch_215\">\n    <path clip-path=\"url(#p44a2b77f17)\" d=\"M 256.369962 218.940914 \nL 258.352787 218.940914 \nL 258.352787 186.742844 \nL 256.369962 186.742844 \nz\n\" style=\"fill:#ff7f0e;\"/>\n   </g>\n   <g id=\"patch_216\">\n    <path clip-path=\"url(#p44a2b77f17)\" d=\"M 258.848493 235.238437 \nL 260.831318 235.238437 \nL 260.831318 235.238437 \nL 258.848493 235.238437 \nz\n\" style=\"fill:#ff7f0e;\"/>\n   </g>\n   <g id=\"patch_217\">\n    <path clip-path=\"url(#p44a2b77f17)\" d=\"M 261.327025 235.238437 \nL 263.30985 235.238437 \nL 263.30985 235.238437 \nL 261.327025 235.238437 \nz\n\" style=\"fill:#ff7f0e;\"/>\n   </g>\n   <g id=\"patch_218\">\n    <path clip-path=\"url(#p44a2b77f17)\" d=\"M 263.805556 219.51971 \nL 265.788381 219.51971 \nL 265.788381 219.51971 \nL 263.805556 219.51971 \nz\n\" style=\"fill:#ff7f0e;\"/>\n   </g>\n   <g id=\"patch_219\">\n    <path clip-path=\"url(#p44a2b77f17)\" d=\"M 266.284087 218.448487 \nL 268.266912 218.448487 \nL 268.266912 201.658537 \nL 266.284087 201.658537 \nz\n\" style=\"fill:#ff7f0e;\"/>\n   </g>\n   <g id=\"patch_220\">\n    <path clip-path=\"url(#p44a2b77f17)\" d=\"M 268.762618 226.03213 \nL 270.745443 226.03213 \nL 270.745443 226.03213 \nL 268.762618 226.03213 \nz\n\" style=\"fill:#ff7f0e;\"/>\n   </g>\n   <g id=\"patch_221\">\n    <path clip-path=\"url(#p44a2b77f17)\" d=\"M 271.24115 222.176414 \nL 273.223975 222.176414 \nL 273.223975 222.176414 \nL 271.24115 222.176414 \nz\n\" style=\"fill:#ff7f0e;\"/>\n   </g>\n   <g id=\"patch_222\">\n    <path clip-path=\"url(#p44a2b77f17)\" d=\"M 273.719681 218.328782 \nL 275.702506 218.328782 \nL 275.702506 201.419127 \nL 273.719681 201.419127 \nz\n\" style=\"fill:#ff7f0e;\"/>\n   </g>\n   <g id=\"patch_223\">\n    <path clip-path=\"url(#p44a2b77f17)\" d=\"M 276.198212 218.999716 \nL 278.181037 218.999716 \nL 278.181037 187.042267 \nL 276.198212 187.042267 \nz\n\" style=\"fill:#ff7f0e;\"/>\n   </g>\n   <g id=\"patch_224\">\n    <path clip-path=\"url(#p44a2b77f17)\" d=\"M 278.676743 222.87552 \nL 280.659568 222.87552 \nL 280.659568 210.512603 \nL 278.676743 210.512603 \nz\n\" style=\"fill:#ff7f0e;\"/>\n   </g>\n   <g id=\"patch_225\">\n    <path clip-path=\"url(#p44a2b77f17)\" d=\"M 281.155275 226.18446 \nL 283.1381 226.18446 \nL 283.1381 226.18446 \nL 281.155275 226.18446 \nz\n\" style=\"fill:#ff7f0e;\"/>\n   </g>\n   <g id=\"patch_226\">\n    <path clip-path=\"url(#p44a2b77f17)\" d=\"M 283.633806 218.094251 \nL 285.616631 218.094251 \nL 285.616631 200.950064 \nL 283.633806 200.950064 \nz\n\" style=\"fill:#ff7f0e;\"/>\n   </g>\n   <g id=\"patch_227\">\n    <path clip-path=\"url(#p44a2b77f17)\" d=\"M 286.112337 235.238437 \nL 288.095162 235.238437 \nL 288.095162 235.238437 \nL 286.112337 235.238437 \nz\n\" style=\"fill:#ff7f0e;\"/>\n   </g>\n   <g id=\"patch_228\">\n    <path clip-path=\"url(#p44a2b77f17)\" d=\"M 288.590868 235.238437 \nL 290.573693 235.238437 \nL 290.573693 235.238437 \nL 288.590868 235.238437 \nz\n\" style=\"fill:#ff7f0e;\"/>\n   </g>\n   <g id=\"patch_229\">\n    <path clip-path=\"url(#p44a2b77f17)\" d=\"M 291.0694 219.090181 \nL 293.052225 219.090181 \nL 293.052225 202.941924 \nL 291.0694 202.941924 \nz\n\" style=\"fill:#ff7f0e;\"/>\n   </g>\n   <g id=\"patch_230\">\n    <path clip-path=\"url(#p44a2b77f17)\" d=\"M 293.547931 219.022724 \nL 295.530756 219.022724 \nL 295.530756 202.807011 \nL 293.547931 202.807011 \nz\n\" style=\"fill:#ff7f0e;\"/>\n   </g>\n   <g id=\"patch_231\">\n    <path clip-path=\"url(#p44a2b77f17)\" d=\"M 296.026462 223.099224 \nL 298.009287 223.099224 \nL 298.009287 223.099224 \nL 296.026462 223.099224 \nz\n\" style=\"fill:#ff7f0e;\"/>\n   </g>\n   <g id=\"patch_232\">\n    <path clip-path=\"url(#p44a2b77f17)\" d=\"M 298.504993 222.466364 \nL 300.487818 222.466364 \nL 300.487818 222.466364 \nL 298.504993 222.466364 \nz\n\" style=\"fill:#ff7f0e;\"/>\n   </g>\n   <g id=\"patch_233\">\n    <path clip-path=\"url(#p44a2b77f17)\" d=\"M 300.983525 222.143896 \nL 302.96635 222.143896 \nL 302.96635 222.143896 \nL 300.983525 222.143896 \nz\n\" style=\"fill:#ff7f0e;\"/>\n   </g>\n   <g id=\"patch_234\">\n    <path clip-path=\"url(#p44a2b77f17)\" d=\"M 303.462056 235.238437 \nL 305.444881 235.238437 \nL 305.444881 235.238437 \nL 303.462056 235.238437 \nz\n\" style=\"fill:#ff7f0e;\"/>\n   </g>\n   <g id=\"patch_235\">\n    <path clip-path=\"url(#p44a2b77f17)\" d=\"M 305.940587 226.677314 \nL 307.923412 226.677314 \nL 307.923412 218.11619 \nL 305.940587 218.11619 \nz\n\" style=\"fill:#ff7f0e;\"/>\n   </g>\n   <g id=\"patch_236\">\n    <path clip-path=\"url(#p44a2b77f17)\" d=\"M 308.419118 235.238437 \nL 310.401943 235.238437 \nL 310.401943 235.238437 \nL 308.419118 235.238437 \nz\n\" style=\"fill:#ff7f0e;\"/>\n   </g>\n   <g id=\"patch_237\">\n    <path clip-path=\"url(#p44a2b77f17)\" d=\"M 310.89765 221.904236 \nL 312.880475 221.904236 \nL 312.880475 208.570035 \nL 310.89765 208.570035 \nz\n\" style=\"fill:#ff7f0e;\"/>\n   </g>\n   <g id=\"patch_238\">\n    <path clip-path=\"url(#p44a2b77f17)\" d=\"M 313.376181 235.238437 \nL 315.359006 235.238437 \nL 315.359006 235.238437 \nL 313.376181 235.238437 \nz\n\" style=\"fill:#ff7f0e;\"/>\n   </g>\n   <g id=\"patch_239\">\n    <path clip-path=\"url(#p44a2b77f17)\" d=\"M 315.854712 235.238437 \nL 317.837537 235.238437 \nL 317.837537 235.238437 \nL 315.854712 235.238437 \nz\n\" style=\"fill:#ff7f0e;\"/>\n   </g>\n   <g id=\"patch_240\">\n    <path clip-path=\"url(#p44a2b77f17)\" d=\"M 318.333243 235.238437 \nL 320.316068 235.238437 \nL 320.316068 235.238437 \nL 318.333243 235.238437 \nz\n\" style=\"fill:#ff7f0e;\"/>\n   </g>\n   <g id=\"patch_241\">\n    <path clip-path=\"url(#p44a2b77f17)\" d=\"M 320.811775 235.238437 \nL 322.794599 235.238437 \nL 322.794599 235.238437 \nL 320.811775 235.238437 \nz\n\" style=\"fill:#ff7f0e;\"/>\n   </g>\n   <g id=\"patch_242\">\n    <path clip-path=\"url(#p44a2b77f17)\" d=\"M 323.290306 235.238437 \nL 325.273131 235.238437 \nL 325.273131 235.238437 \nL 323.290306 235.238437 \nz\n\" style=\"fill:#ff7f0e;\"/>\n   </g>\n   <g id=\"patch_243\">\n    <path clip-path=\"url(#p44a2b77f17)\" d=\"M 325.768837 235.238437 \nL 327.751662 235.238437 \nL 327.751662 235.238437 \nL 325.768837 235.238437 \nz\n\" style=\"fill:#ff7f0e;\"/>\n   </g>\n   <g id=\"patch_244\">\n    <path clip-path=\"url(#p44a2b77f17)\" d=\"M 328.247368 235.238437 \nL 330.230193 235.238437 \nL 330.230193 235.238437 \nL 328.247368 235.238437 \nz\n\" style=\"fill:#ff7f0e;\"/>\n   </g>\n   <g id=\"patch_245\">\n    <path clip-path=\"url(#p44a2b77f17)\" d=\"M 330.725899 235.238437 \nL 332.708724 235.238437 \nL 332.708724 235.238437 \nL 330.725899 235.238437 \nz\n\" style=\"fill:#ff7f0e;\"/>\n   </g>\n   <g id=\"patch_246\">\n    <path clip-path=\"url(#p44a2b77f17)\" d=\"M 333.204431 235.238437 \nL 335.187256 235.238437 \nL 335.187256 235.238437 \nL 333.204431 235.238437 \nz\n\" style=\"fill:#ff7f0e;\"/>\n   </g>\n   <g id=\"patch_247\">\n    <path clip-path=\"url(#p44a2b77f17)\" d=\"M 335.682962 190.052638 \nL 337.665787 190.052638 \nL 337.665787 28.152723 \nL 335.682962 28.152723 \nz\n\" style=\"fill:#ff7f0e;\"/>\n   </g>\n   <g id=\"patch_248\">\n    <path clip-path=\"url(#p44a2b77f17)\" d=\"M 338.161493 221.767791 \nL 340.144318 221.767791 \nL 340.144318 221.767791 \nL 338.161493 221.767791 \nz\n\" style=\"fill:#ff7f0e;\"/>\n   </g>\n   <g id=\"matplotlib.axis_1\">\n    <g id=\"xtick_1\">\n     <g id=\"line2d_1\">\n      <defs>\n       <path d=\"M 0 0 \nL 0 3.5 \n\" id=\"m12bfc89ee4\" style=\"stroke:#000000;stroke-width:0.8;\"/>\n      </defs>\n      <g>\n       <use style=\"stroke:#000000;stroke-width:0.8;\" x=\"36.772094\" xlink:href=\"#m12bfc89ee4\" y=\"235.238437\"/>\n      </g>\n     </g>\n     <g id=\"text_1\">\n      <!-- 0 -->\n      <g transform=\"translate(33.590844 249.836875)scale(0.1 -0.1)\">\n       <defs>\n        <path d=\"M 31.78125 66.40625 \nQ 24.171875 66.40625 20.328125 58.90625 \nQ 16.5 51.421875 16.5 36.375 \nQ 16.5 21.390625 20.328125 13.890625 \nQ 24.171875 6.390625 31.78125 6.390625 \nQ 39.453125 6.390625 43.28125 13.890625 \nQ 47.125 21.390625 47.125 36.375 \nQ 47.125 51.421875 43.28125 58.90625 \nQ 39.453125 66.40625 31.78125 66.40625 \nz\nM 31.78125 74.21875 \nQ 44.046875 74.21875 50.515625 64.515625 \nQ 56.984375 54.828125 56.984375 36.375 \nQ 56.984375 17.96875 50.515625 8.265625 \nQ 44.046875 -1.421875 31.78125 -1.421875 \nQ 19.53125 -1.421875 13.0625 8.265625 \nQ 6.59375 17.96875 6.59375 36.375 \nQ 6.59375 54.828125 13.0625 64.515625 \nQ 19.53125 74.21875 31.78125 74.21875 \nz\n\" id=\"DejaVuSans-48\"/>\n       </defs>\n       <use xlink:href=\"#DejaVuSans-48\"/>\n      </g>\n     </g>\n    </g>\n    <g id=\"xtick_2\">\n     <g id=\"line2d_2\">\n      <g>\n       <use style=\"stroke:#000000;stroke-width:0.8;\" x=\"86.342719\" xlink:href=\"#m12bfc89ee4\" y=\"235.238437\"/>\n      </g>\n     </g>\n     <g id=\"text_2\">\n      <!-- 20 -->\n      <g transform=\"translate(79.980219 249.836875)scale(0.1 -0.1)\">\n       <defs>\n        <path d=\"M 19.1875 8.296875 \nL 53.609375 8.296875 \nL 53.609375 0 \nL 7.328125 0 \nL 7.328125 8.296875 \nQ 12.9375 14.109375 22.625 23.890625 \nQ 32.328125 33.6875 34.8125 36.53125 \nQ 39.546875 41.84375 41.421875 45.53125 \nQ 43.3125 49.21875 43.3125 52.78125 \nQ 43.3125 58.59375 39.234375 62.25 \nQ 35.15625 65.921875 28.609375 65.921875 \nQ 23.96875 65.921875 18.8125 64.3125 \nQ 13.671875 62.703125 7.8125 59.421875 \nL 7.8125 69.390625 \nQ 13.765625 71.78125 18.9375 73 \nQ 24.125 74.21875 28.421875 74.21875 \nQ 39.75 74.21875 46.484375 68.546875 \nQ 53.21875 62.890625 53.21875 53.421875 \nQ 53.21875 48.921875 51.53125 44.890625 \nQ 49.859375 40.875 45.40625 35.40625 \nQ 44.1875 33.984375 37.640625 27.21875 \nQ 31.109375 20.453125 19.1875 8.296875 \nz\n\" id=\"DejaVuSans-50\"/>\n       </defs>\n       <use xlink:href=\"#DejaVuSans-50\"/>\n       <use x=\"63.623047\" xlink:href=\"#DejaVuSans-48\"/>\n      </g>\n     </g>\n    </g>\n    <g id=\"xtick_3\">\n     <g id=\"line2d_3\">\n      <g>\n       <use style=\"stroke:#000000;stroke-width:0.8;\" x=\"135.913344\" xlink:href=\"#m12bfc89ee4\" y=\"235.238437\"/>\n      </g>\n     </g>\n     <g id=\"text_3\">\n      <!-- 40 -->\n      <g transform=\"translate(129.550844 249.836875)scale(0.1 -0.1)\">\n       <defs>\n        <path d=\"M 37.796875 64.3125 \nL 12.890625 25.390625 \nL 37.796875 25.390625 \nz\nM 35.203125 72.90625 \nL 47.609375 72.90625 \nL 47.609375 25.390625 \nL 58.015625 25.390625 \nL 58.015625 17.1875 \nL 47.609375 17.1875 \nL 47.609375 0 \nL 37.796875 0 \nL 37.796875 17.1875 \nL 4.890625 17.1875 \nL 4.890625 26.703125 \nz\n\" id=\"DejaVuSans-52\"/>\n       </defs>\n       <use xlink:href=\"#DejaVuSans-52\"/>\n       <use x=\"63.623047\" xlink:href=\"#DejaVuSans-48\"/>\n      </g>\n     </g>\n    </g>\n    <g id=\"xtick_4\">\n     <g id=\"line2d_4\">\n      <g>\n       <use style=\"stroke:#000000;stroke-width:0.8;\" x=\"185.483969\" xlink:href=\"#m12bfc89ee4\" y=\"235.238437\"/>\n      </g>\n     </g>\n     <g id=\"text_4\">\n      <!-- 60 -->\n      <g transform=\"translate(179.121469 249.836875)scale(0.1 -0.1)\">\n       <defs>\n        <path d=\"M 33.015625 40.375 \nQ 26.375 40.375 22.484375 35.828125 \nQ 18.609375 31.296875 18.609375 23.390625 \nQ 18.609375 15.53125 22.484375 10.953125 \nQ 26.375 6.390625 33.015625 6.390625 \nQ 39.65625 6.390625 43.53125 10.953125 \nQ 47.40625 15.53125 47.40625 23.390625 \nQ 47.40625 31.296875 43.53125 35.828125 \nQ 39.65625 40.375 33.015625 40.375 \nz\nM 52.59375 71.296875 \nL 52.59375 62.3125 \nQ 48.875 64.0625 45.09375 64.984375 \nQ 41.3125 65.921875 37.59375 65.921875 \nQ 27.828125 65.921875 22.671875 59.328125 \nQ 17.53125 52.734375 16.796875 39.40625 \nQ 19.671875 43.65625 24.015625 45.921875 \nQ 28.375 48.1875 33.59375 48.1875 \nQ 44.578125 48.1875 50.953125 41.515625 \nQ 57.328125 34.859375 57.328125 23.390625 \nQ 57.328125 12.15625 50.6875 5.359375 \nQ 44.046875 -1.421875 33.015625 -1.421875 \nQ 20.359375 -1.421875 13.671875 8.265625 \nQ 6.984375 17.96875 6.984375 36.375 \nQ 6.984375 53.65625 15.1875 63.9375 \nQ 23.390625 74.21875 37.203125 74.21875 \nQ 40.921875 74.21875 44.703125 73.484375 \nQ 48.484375 72.75 52.59375 71.296875 \nz\n\" id=\"DejaVuSans-54\"/>\n       </defs>\n       <use xlink:href=\"#DejaVuSans-54\"/>\n       <use x=\"63.623047\" xlink:href=\"#DejaVuSans-48\"/>\n      </g>\n     </g>\n    </g>\n    <g id=\"xtick_5\">\n     <g id=\"line2d_5\">\n      <g>\n       <use style=\"stroke:#000000;stroke-width:0.8;\" x=\"235.054594\" xlink:href=\"#m12bfc89ee4\" y=\"235.238437\"/>\n      </g>\n     </g>\n     <g id=\"text_5\">\n      <!-- 80 -->\n      <g transform=\"translate(228.692094 249.836875)scale(0.1 -0.1)\">\n       <defs>\n        <path d=\"M 31.78125 34.625 \nQ 24.75 34.625 20.71875 30.859375 \nQ 16.703125 27.09375 16.703125 20.515625 \nQ 16.703125 13.921875 20.71875 10.15625 \nQ 24.75 6.390625 31.78125 6.390625 \nQ 38.8125 6.390625 42.859375 10.171875 \nQ 46.921875 13.96875 46.921875 20.515625 \nQ 46.921875 27.09375 42.890625 30.859375 \nQ 38.875 34.625 31.78125 34.625 \nz\nM 21.921875 38.8125 \nQ 15.578125 40.375 12.03125 44.71875 \nQ 8.5 49.078125 8.5 55.328125 \nQ 8.5 64.0625 14.71875 69.140625 \nQ 20.953125 74.21875 31.78125 74.21875 \nQ 42.671875 74.21875 48.875 69.140625 \nQ 55.078125 64.0625 55.078125 55.328125 \nQ 55.078125 49.078125 51.53125 44.71875 \nQ 48 40.375 41.703125 38.8125 \nQ 48.828125 37.15625 52.796875 32.3125 \nQ 56.78125 27.484375 56.78125 20.515625 \nQ 56.78125 9.90625 50.3125 4.234375 \nQ 43.84375 -1.421875 31.78125 -1.421875 \nQ 19.734375 -1.421875 13.25 4.234375 \nQ 6.78125 9.90625 6.78125 20.515625 \nQ 6.78125 27.484375 10.78125 32.3125 \nQ 14.796875 37.15625 21.921875 38.8125 \nz\nM 18.3125 54.390625 \nQ 18.3125 48.734375 21.84375 45.5625 \nQ 25.390625 42.390625 31.78125 42.390625 \nQ 38.140625 42.390625 41.71875 45.5625 \nQ 45.3125 48.734375 45.3125 54.390625 \nQ 45.3125 60.0625 41.71875 63.234375 \nQ 38.140625 66.40625 31.78125 66.40625 \nQ 25.390625 66.40625 21.84375 63.234375 \nQ 18.3125 60.0625 18.3125 54.390625 \nz\n\" id=\"DejaVuSans-56\"/>\n       </defs>\n       <use xlink:href=\"#DejaVuSans-56\"/>\n       <use x=\"63.623047\" xlink:href=\"#DejaVuSans-48\"/>\n      </g>\n     </g>\n    </g>\n    <g id=\"xtick_6\">\n     <g id=\"line2d_6\">\n      <g>\n       <use style=\"stroke:#000000;stroke-width:0.8;\" x=\"284.625218\" xlink:href=\"#m12bfc89ee4\" y=\"235.238437\"/>\n      </g>\n     </g>\n     <g id=\"text_6\">\n      <!-- 100 -->\n      <g transform=\"translate(275.081468 249.836875)scale(0.1 -0.1)\">\n       <defs>\n        <path d=\"M 12.40625 8.296875 \nL 28.515625 8.296875 \nL 28.515625 63.921875 \nL 10.984375 60.40625 \nL 10.984375 69.390625 \nL 28.421875 72.90625 \nL 38.28125 72.90625 \nL 38.28125 8.296875 \nL 54.390625 8.296875 \nL 54.390625 0 \nL 12.40625 0 \nz\n\" id=\"DejaVuSans-49\"/>\n       </defs>\n       <use xlink:href=\"#DejaVuSans-49\"/>\n       <use x=\"63.623047\" xlink:href=\"#DejaVuSans-48\"/>\n       <use x=\"127.246094\" xlink:href=\"#DejaVuSans-48\"/>\n      </g>\n     </g>\n    </g>\n    <g id=\"xtick_7\">\n     <g id=\"line2d_7\">\n      <g>\n       <use style=\"stroke:#000000;stroke-width:0.8;\" x=\"334.195843\" xlink:href=\"#m12bfc89ee4\" y=\"235.238437\"/>\n      </g>\n     </g>\n     <g id=\"text_7\">\n      <!-- 120 -->\n      <g transform=\"translate(324.652093 249.836875)scale(0.1 -0.1)\">\n       <use xlink:href=\"#DejaVuSans-49\"/>\n       <use x=\"63.623047\" xlink:href=\"#DejaVuSans-50\"/>\n       <use x=\"127.246094\" xlink:href=\"#DejaVuSans-48\"/>\n      </g>\n     </g>\n    </g>\n   </g>\n   <g id=\"matplotlib.axis_2\">\n    <g id=\"ytick_1\">\n     <g id=\"line2d_8\">\n      <defs>\n       <path d=\"M 0 0 \nL -3.5 0 \n\" id=\"m1be1a0d8ce\" style=\"stroke:#000000;stroke-width:0.8;\"/>\n      </defs>\n      <g>\n       <use style=\"stroke:#000000;stroke-width:0.8;\" x=\"20.5625\" xlink:href=\"#m1be1a0d8ce\" y=\"235.238437\"/>\n      </g>\n     </g>\n     <g id=\"text_8\">\n      <!-- 0 -->\n      <g transform=\"translate(7.2 239.037656)scale(0.1 -0.1)\">\n       <use xlink:href=\"#DejaVuSans-48\"/>\n      </g>\n     </g>\n    </g>\n    <g id=\"ytick_2\">\n     <g id=\"line2d_9\">\n      <g>\n       <use style=\"stroke:#000000;stroke-width:0.8;\" x=\"20.5625\" xlink:href=\"#m1be1a0d8ce\" y=\"199.622442\"/>\n      </g>\n     </g>\n     <g id=\"text_9\">\n      <!-- 1 -->\n      <g transform=\"translate(7.2 203.421661)scale(0.1 -0.1)\">\n       <use xlink:href=\"#DejaVuSans-49\"/>\n      </g>\n     </g>\n    </g>\n    <g id=\"ytick_3\">\n     <g id=\"line2d_10\">\n      <g>\n       <use style=\"stroke:#000000;stroke-width:0.8;\" x=\"20.5625\" xlink:href=\"#m1be1a0d8ce\" y=\"164.006447\"/>\n      </g>\n     </g>\n     <g id=\"text_10\">\n      <!-- 2 -->\n      <g transform=\"translate(7.2 167.805666)scale(0.1 -0.1)\">\n       <use xlink:href=\"#DejaVuSans-50\"/>\n      </g>\n     </g>\n    </g>\n    <g id=\"ytick_4\">\n     <g id=\"line2d_11\">\n      <g>\n       <use style=\"stroke:#000000;stroke-width:0.8;\" x=\"20.5625\" xlink:href=\"#m1be1a0d8ce\" y=\"128.390452\"/>\n      </g>\n     </g>\n     <g id=\"text_11\">\n      <!-- 3 -->\n      <g transform=\"translate(7.2 132.18967)scale(0.1 -0.1)\">\n       <defs>\n        <path d=\"M 40.578125 39.3125 \nQ 47.65625 37.796875 51.625 33 \nQ 55.609375 28.21875 55.609375 21.1875 \nQ 55.609375 10.40625 48.1875 4.484375 \nQ 40.765625 -1.421875 27.09375 -1.421875 \nQ 22.515625 -1.421875 17.65625 -0.515625 \nQ 12.796875 0.390625 7.625 2.203125 \nL 7.625 11.71875 \nQ 11.71875 9.328125 16.59375 8.109375 \nQ 21.484375 6.890625 26.8125 6.890625 \nQ 36.078125 6.890625 40.9375 10.546875 \nQ 45.796875 14.203125 45.796875 21.1875 \nQ 45.796875 27.640625 41.28125 31.265625 \nQ 36.765625 34.90625 28.71875 34.90625 \nL 20.21875 34.90625 \nL 20.21875 43.015625 \nL 29.109375 43.015625 \nQ 36.375 43.015625 40.234375 45.921875 \nQ 44.09375 48.828125 44.09375 54.296875 \nQ 44.09375 59.90625 40.109375 62.90625 \nQ 36.140625 65.921875 28.71875 65.921875 \nQ 24.65625 65.921875 20.015625 65.03125 \nQ 15.375 64.15625 9.8125 62.3125 \nL 9.8125 71.09375 \nQ 15.4375 72.65625 20.34375 73.4375 \nQ 25.25 74.21875 29.59375 74.21875 \nQ 40.828125 74.21875 47.359375 69.109375 \nQ 53.90625 64.015625 53.90625 55.328125 \nQ 53.90625 49.265625 50.4375 45.09375 \nQ 46.96875 40.921875 40.578125 39.3125 \nz\n\" id=\"DejaVuSans-51\"/>\n       </defs>\n       <use xlink:href=\"#DejaVuSans-51\"/>\n      </g>\n     </g>\n    </g>\n    <g id=\"ytick_5\">\n     <g id=\"line2d_12\">\n      <g>\n       <use style=\"stroke:#000000;stroke-width:0.8;\" x=\"20.5625\" xlink:href=\"#m1be1a0d8ce\" y=\"92.774456\"/>\n      </g>\n     </g>\n     <g id=\"text_12\">\n      <!-- 4 -->\n      <g transform=\"translate(7.2 96.573675)scale(0.1 -0.1)\">\n       <use xlink:href=\"#DejaVuSans-52\"/>\n      </g>\n     </g>\n    </g>\n    <g id=\"ytick_6\">\n     <g id=\"line2d_13\">\n      <g>\n       <use style=\"stroke:#000000;stroke-width:0.8;\" x=\"20.5625\" xlink:href=\"#m1be1a0d8ce\" y=\"57.158461\"/>\n      </g>\n     </g>\n     <g id=\"text_13\">\n      <!-- 5 -->\n      <g transform=\"translate(7.2 60.95768)scale(0.1 -0.1)\">\n       <defs>\n        <path d=\"M 10.796875 72.90625 \nL 49.515625 72.90625 \nL 49.515625 64.59375 \nL 19.828125 64.59375 \nL 19.828125 46.734375 \nQ 21.96875 47.46875 24.109375 47.828125 \nQ 26.265625 48.1875 28.421875 48.1875 \nQ 40.625 48.1875 47.75 41.5 \nQ 54.890625 34.8125 54.890625 23.390625 \nQ 54.890625 11.625 47.5625 5.09375 \nQ 40.234375 -1.421875 26.90625 -1.421875 \nQ 22.3125 -1.421875 17.546875 -0.640625 \nQ 12.796875 0.140625 7.71875 1.703125 \nL 7.71875 11.625 \nQ 12.109375 9.234375 16.796875 8.0625 \nQ 21.484375 6.890625 26.703125 6.890625 \nQ 35.15625 6.890625 40.078125 11.328125 \nQ 45.015625 15.765625 45.015625 23.390625 \nQ 45.015625 31 40.078125 35.4375 \nQ 35.15625 39.890625 26.703125 39.890625 \nQ 22.75 39.890625 18.8125 39.015625 \nQ 14.890625 38.140625 10.796875 36.28125 \nz\n\" id=\"DejaVuSans-53\"/>\n       </defs>\n       <use xlink:href=\"#DejaVuSans-53\"/>\n      </g>\n     </g>\n    </g>\n    <g id=\"ytick_7\">\n     <g id=\"line2d_14\">\n      <g>\n       <use style=\"stroke:#000000;stroke-width:0.8;\" x=\"20.5625\" xlink:href=\"#m1be1a0d8ce\" y=\"21.542466\"/>\n      </g>\n     </g>\n     <g id=\"text_14\">\n      <!-- 6 -->\n      <g transform=\"translate(7.2 25.341684)scale(0.1 -0.1)\">\n       <use xlink:href=\"#DejaVuSans-54\"/>\n      </g>\n     </g>\n    </g>\n    <g id=\"text_15\">\n     <!-- 1e6 -->\n     <g transform=\"translate(20.5625 14.798437)scale(0.1 -0.1)\">\n      <defs>\n       <path d=\"M 56.203125 29.59375 \nL 56.203125 25.203125 \nL 14.890625 25.203125 \nQ 15.484375 15.921875 20.484375 11.0625 \nQ 25.484375 6.203125 34.421875 6.203125 \nQ 39.59375 6.203125 44.453125 7.46875 \nQ 49.3125 8.734375 54.109375 11.28125 \nL 54.109375 2.78125 \nQ 49.265625 0.734375 44.1875 -0.34375 \nQ 39.109375 -1.421875 33.890625 -1.421875 \nQ 20.796875 -1.421875 13.15625 6.1875 \nQ 5.515625 13.8125 5.515625 26.8125 \nQ 5.515625 40.234375 12.765625 48.109375 \nQ 20.015625 56 32.328125 56 \nQ 43.359375 56 49.78125 48.890625 \nQ 56.203125 41.796875 56.203125 29.59375 \nz\nM 47.21875 32.234375 \nQ 47.125 39.59375 43.09375 43.984375 \nQ 39.0625 48.390625 32.421875 48.390625 \nQ 24.90625 48.390625 20.390625 44.140625 \nQ 15.875 39.890625 15.1875 32.171875 \nz\n\" id=\"DejaVuSans-101\"/>\n      </defs>\n      <use xlink:href=\"#DejaVuSans-49\"/>\n      <use x=\"63.623047\" xlink:href=\"#DejaVuSans-101\"/>\n      <use x=\"125.146484\" xlink:href=\"#DejaVuSans-54\"/>\n     </g>\n    </g>\n   </g>\n   <g id=\"patch_249\">\n    <path d=\"M 20.5625 235.238437 \nL 20.5625 17.798438 \n\" style=\"fill:none;stroke:#000000;stroke-linecap:square;stroke-linejoin:miter;stroke-width:0.8;\"/>\n   </g>\n   <g id=\"patch_250\">\n    <path d=\"M 355.3625 235.238437 \nL 355.3625 17.798438 \n\" style=\"fill:none;stroke:#000000;stroke-linecap:square;stroke-linejoin:miter;stroke-width:0.8;\"/>\n   </g>\n   <g id=\"patch_251\">\n    <path d=\"M 20.5625 235.238437 \nL 355.3625 235.238437 \n\" style=\"fill:none;stroke:#000000;stroke-linecap:square;stroke-linejoin:miter;stroke-width:0.8;\"/>\n   </g>\n   <g id=\"patch_252\">\n    <path d=\"M 20.5625 17.798437 \nL 355.3625 17.798437 \n\" style=\"fill:none;stroke:#000000;stroke-linecap:square;stroke-linejoin:miter;stroke-width:0.8;\"/>\n   </g>\n  </g>\n </g>\n <defs>\n  <clipPath id=\"p44a2b77f17\">\n   <rect height=\"217.44\" width=\"334.8\" x=\"20.5625\" y=\"17.798437\"/>\n  </clipPath>\n </defs>\n</svg>\n",
      "image/png": "[encoded data removed]"
     },
     "metadata": {
      "needs_background": "light"
     }
    }
   ],
   "source": [
    "# Vital Figure\n",
    "plt.bar(np.linspace(0,122,123,dtype=int),indices1)\n",
    "plt.bar(np.linspace(0,122,123,dtype=int),indices2,bottom=indices1)"
   ]
  },
  {
   "cell_type": "code",
   "execution_count": 99,
   "metadata": {},
   "outputs": [
    {
     "output_type": "stream",
     "name": "stdout",
     "text": [
      "[  0   1   2   3   4   5   6   7   8   9  10  11  12  13  14  15  16  17\n  18  19  20  21  22  23  24  25  26  27  28  29  30  31  32  33  34  35\n  36  37  38  39  40  41  42  43  44  45  46  47  48  49  50  51  52  53\n  54  55  56  57  58  59  60  61  62  63  64  65  66  67  68  69  70  71\n  72  73  74  75  76  77  78  79  80  81  82  83  84  85  86  87  88  89\n  90  91  92  93  94  95  96  97  98  99 100 101 102 103 104 105 106 107\n 108 109 110 111 112 113 114 115 116 117 118 119 120 121 122]\n"
     ]
    }
   ],
   "source": [
    "indices = np.linspace(0,122,123,dtype=int)\n",
    "print(indices)"
   ]
  },
  {
   "cell_type": "code",
   "execution_count": 94,
   "metadata": {},
   "outputs": [
    {
     "output_type": "stream",
     "name": "stdout",
     "text": [
      "[  0   1   2   3   4   5   6   7   8   9  10  11  12  13  14  15  16  17\n  18  19  20  21  22  23  24  25  26  27  28  29  30  31  32  33  34  35\n  36  37  38  39  40  41  42  43  44  45  46  47  48  49  50  51  52  53\n  54  55  56  57  58  59  60  61  62  63  64  65  66  67  68  69  70  71\n  72  73  74  75  76  77  78  79  80  81  82  83  84  85  86  87  88  89\n  90  91  92  93  94  95  96  97  98  99 100 101 102 103 104 105 106 107\n 108 109 110 111 112 113 114 115 116 117 118 119 120 121 123]\n"
     ]
    }
   ],
   "source": [
    "print(indices)"
   ]
  },
  {
   "cell_type": "code",
   "execution_count": 72,
   "metadata": {},
   "outputs": [
    {
     "output_type": "execute_result",
     "data": {
      "text/plain": [
       "[<matplotlib.lines.Line2D at 0x7f6cf82c2690>]"
      ]
     },
     "metadata": {},
     "execution_count": 72
    },
    {
     "output_type": "display_data",
     "data": {
      "text/plain": "<Figure size 432x288 with 1 Axes>",
      "image/svg+xml": "<?xml version=\"1.0\" encoding=\"utf-8\" standalone=\"no\"?>\n<!DOCTYPE svg PUBLIC \"-//W3C//DTD SVG 1.1//EN\"\n  \"http://www.w3.org/Graphics/SVG/1.1/DTD/svg11.dtd\">\n<!-- Created with matplotlib (https://matplotlib.org/) -->\n<svg height=\"259.116562pt\" version=\"1.1\" viewBox=\"0 0 362.5625 259.116562\" width=\"362.5625pt\" xmlns=\"http://www.w3.org/2000/svg\" xmlns:xlink=\"http://www.w3.org/1999/xlink\">\n <metadata>\n  <rdf:RDF xmlns:cc=\"http://creativecommons.org/ns#\" xmlns:dc=\"http://purl.org/dc/elements/1.1/\" xmlns:rdf=\"http://www.w3.org/1999/02/22-rdf-syntax-ns#\">\n   <cc:Work>\n    <dc:type rdf:resource=\"http://purl.org/dc/dcmitype/StillImage\"/>\n    <dc:date>2021-03-19T22:32:54.734442</dc:date>\n    <dc:format>image/svg+xml</dc:format>\n    <dc:creator>\n     <cc:Agent>\n      <dc:title>Matplotlib v3.3.2, https://matplotlib.org/</dc:title>\n     </cc:Agent>\n    </dc:creator>\n   </cc:Work>\n  </rdf:RDF>\n </metadata>\n <defs>\n  <style type=\"text/css\">*{stroke-linecap:butt;stroke-linejoin:round;}</style>\n </defs>\n <g id=\"figure_1\">\n  <g id=\"patch_1\">\n   <path d=\"M 0 259.116562 \nL 362.5625 259.116562 \nL 362.5625 0 \nL 0 0 \nz\n\" style=\"fill:none;\"/>\n  </g>\n  <g id=\"axes_1\">\n   <g id=\"patch_2\">\n    <path d=\"M 20.5625 235.238437 \nL 355.3625 235.238437 \nL 355.3625 17.798437 \nL 20.5625 17.798437 \nz\n\" style=\"fill:#ffffff;\"/>\n   </g>\n   <g id=\"matplotlib.axis_1\">\n    <g id=\"xtick_1\">\n     <g id=\"line2d_1\">\n      <defs>\n       <path d=\"M 0 0 \nL 0 3.5 \n\" id=\"m800185a542\" style=\"stroke:#000000;stroke-width:0.8;\"/>\n      </defs>\n      <g>\n       <use style=\"stroke:#000000;stroke-width:0.8;\" x=\"35.780682\" xlink:href=\"#m800185a542\" y=\"235.238437\"/>\n      </g>\n     </g>\n     <g id=\"text_1\">\n      <!-- 0 -->\n      <g transform=\"translate(32.599432 249.836875)scale(0.1 -0.1)\">\n       <defs>\n        <path d=\"M 31.78125 66.40625 \nQ 24.171875 66.40625 20.328125 58.90625 \nQ 16.5 51.421875 16.5 36.375 \nQ 16.5 21.390625 20.328125 13.890625 \nQ 24.171875 6.390625 31.78125 6.390625 \nQ 39.453125 6.390625 43.28125 13.890625 \nQ 47.125 21.390625 47.125 36.375 \nQ 47.125 51.421875 43.28125 58.90625 \nQ 39.453125 66.40625 31.78125 66.40625 \nz\nM 31.78125 74.21875 \nQ 44.046875 74.21875 50.515625 64.515625 \nQ 56.984375 54.828125 56.984375 36.375 \nQ 56.984375 17.96875 50.515625 8.265625 \nQ 44.046875 -1.421875 31.78125 -1.421875 \nQ 19.53125 -1.421875 13.0625 8.265625 \nQ 6.59375 17.96875 6.59375 36.375 \nQ 6.59375 54.828125 13.0625 64.515625 \nQ 19.53125 74.21875 31.78125 74.21875 \nz\n\" id=\"DejaVuSans-48\"/>\n       </defs>\n       <use xlink:href=\"#DejaVuSans-48\"/>\n      </g>\n     </g>\n    </g>\n    <g id=\"xtick_2\">\n     <g id=\"line2d_2\">\n      <g>\n       <use style=\"stroke:#000000;stroke-width:0.8;\" x=\"85.67636\" xlink:href=\"#m800185a542\" y=\"235.238437\"/>\n      </g>\n     </g>\n     <g id=\"text_2\">\n      <!-- 20 -->\n      <g transform=\"translate(79.31386 249.836875)scale(0.1 -0.1)\">\n       <defs>\n        <path d=\"M 19.1875 8.296875 \nL 53.609375 8.296875 \nL 53.609375 0 \nL 7.328125 0 \nL 7.328125 8.296875 \nQ 12.9375 14.109375 22.625 23.890625 \nQ 32.328125 33.6875 34.8125 36.53125 \nQ 39.546875 41.84375 41.421875 45.53125 \nQ 43.3125 49.21875 43.3125 52.78125 \nQ 43.3125 58.59375 39.234375 62.25 \nQ 35.15625 65.921875 28.609375 65.921875 \nQ 23.96875 65.921875 18.8125 64.3125 \nQ 13.671875 62.703125 7.8125 59.421875 \nL 7.8125 69.390625 \nQ 13.765625 71.78125 18.9375 73 \nQ 24.125 74.21875 28.421875 74.21875 \nQ 39.75 74.21875 46.484375 68.546875 \nQ 53.21875 62.890625 53.21875 53.421875 \nQ 53.21875 48.921875 51.53125 44.890625 \nQ 49.859375 40.875 45.40625 35.40625 \nQ 44.1875 33.984375 37.640625 27.21875 \nQ 31.109375 20.453125 19.1875 8.296875 \nz\n\" id=\"DejaVuSans-50\"/>\n       </defs>\n       <use xlink:href=\"#DejaVuSans-50\"/>\n       <use x=\"63.623047\" xlink:href=\"#DejaVuSans-48\"/>\n      </g>\n     </g>\n    </g>\n    <g id=\"xtick_3\">\n     <g id=\"line2d_3\">\n      <g>\n       <use style=\"stroke:#000000;stroke-width:0.8;\" x=\"135.572038\" xlink:href=\"#m800185a542\" y=\"235.238437\"/>\n      </g>\n     </g>\n     <g id=\"text_3\">\n      <!-- 40 -->\n      <g transform=\"translate(129.209538 249.836875)scale(0.1 -0.1)\">\n       <defs>\n        <path d=\"M 37.796875 64.3125 \nL 12.890625 25.390625 \nL 37.796875 25.390625 \nz\nM 35.203125 72.90625 \nL 47.609375 72.90625 \nL 47.609375 25.390625 \nL 58.015625 25.390625 \nL 58.015625 17.1875 \nL 47.609375 17.1875 \nL 47.609375 0 \nL 37.796875 0 \nL 37.796875 17.1875 \nL 4.890625 17.1875 \nL 4.890625 26.703125 \nz\n\" id=\"DejaVuSans-52\"/>\n       </defs>\n       <use xlink:href=\"#DejaVuSans-52\"/>\n       <use x=\"63.623047\" xlink:href=\"#DejaVuSans-48\"/>\n      </g>\n     </g>\n    </g>\n    <g id=\"xtick_4\">\n     <g id=\"line2d_4\">\n      <g>\n       <use style=\"stroke:#000000;stroke-width:0.8;\" x=\"185.467716\" xlink:href=\"#m800185a542\" y=\"235.238437\"/>\n      </g>\n     </g>\n     <g id=\"text_4\">\n      <!-- 60 -->\n      <g transform=\"translate(179.105216 249.836875)scale(0.1 -0.1)\">\n       <defs>\n        <path d=\"M 33.015625 40.375 \nQ 26.375 40.375 22.484375 35.828125 \nQ 18.609375 31.296875 18.609375 23.390625 \nQ 18.609375 15.53125 22.484375 10.953125 \nQ 26.375 6.390625 33.015625 6.390625 \nQ 39.65625 6.390625 43.53125 10.953125 \nQ 47.40625 15.53125 47.40625 23.390625 \nQ 47.40625 31.296875 43.53125 35.828125 \nQ 39.65625 40.375 33.015625 40.375 \nz\nM 52.59375 71.296875 \nL 52.59375 62.3125 \nQ 48.875 64.0625 45.09375 64.984375 \nQ 41.3125 65.921875 37.59375 65.921875 \nQ 27.828125 65.921875 22.671875 59.328125 \nQ 17.53125 52.734375 16.796875 39.40625 \nQ 19.671875 43.65625 24.015625 45.921875 \nQ 28.375 48.1875 33.59375 48.1875 \nQ 44.578125 48.1875 50.953125 41.515625 \nQ 57.328125 34.859375 57.328125 23.390625 \nQ 57.328125 12.15625 50.6875 5.359375 \nQ 44.046875 -1.421875 33.015625 -1.421875 \nQ 20.359375 -1.421875 13.671875 8.265625 \nQ 6.984375 17.96875 6.984375 36.375 \nQ 6.984375 53.65625 15.1875 63.9375 \nQ 23.390625 74.21875 37.203125 74.21875 \nQ 40.921875 74.21875 44.703125 73.484375 \nQ 48.484375 72.75 52.59375 71.296875 \nz\n\" id=\"DejaVuSans-54\"/>\n       </defs>\n       <use xlink:href=\"#DejaVuSans-54\"/>\n       <use x=\"63.623047\" xlink:href=\"#DejaVuSans-48\"/>\n      </g>\n     </g>\n    </g>\n    <g id=\"xtick_5\">\n     <g id=\"line2d_5\">\n      <g>\n       <use style=\"stroke:#000000;stroke-width:0.8;\" x=\"235.363394\" xlink:href=\"#m800185a542\" y=\"235.238437\"/>\n      </g>\n     </g>\n     <g id=\"text_5\">\n      <!-- 80 -->\n      <g transform=\"translate(229.000894 249.836875)scale(0.1 -0.1)\">\n       <defs>\n        <path d=\"M 31.78125 34.625 \nQ 24.75 34.625 20.71875 30.859375 \nQ 16.703125 27.09375 16.703125 20.515625 \nQ 16.703125 13.921875 20.71875 10.15625 \nQ 24.75 6.390625 31.78125 6.390625 \nQ 38.8125 6.390625 42.859375 10.171875 \nQ 46.921875 13.96875 46.921875 20.515625 \nQ 46.921875 27.09375 42.890625 30.859375 \nQ 38.875 34.625 31.78125 34.625 \nz\nM 21.921875 38.8125 \nQ 15.578125 40.375 12.03125 44.71875 \nQ 8.5 49.078125 8.5 55.328125 \nQ 8.5 64.0625 14.71875 69.140625 \nQ 20.953125 74.21875 31.78125 74.21875 \nQ 42.671875 74.21875 48.875 69.140625 \nQ 55.078125 64.0625 55.078125 55.328125 \nQ 55.078125 49.078125 51.53125 44.71875 \nQ 48 40.375 41.703125 38.8125 \nQ 48.828125 37.15625 52.796875 32.3125 \nQ 56.78125 27.484375 56.78125 20.515625 \nQ 56.78125 9.90625 50.3125 4.234375 \nQ 43.84375 -1.421875 31.78125 -1.421875 \nQ 19.734375 -1.421875 13.25 4.234375 \nQ 6.78125 9.90625 6.78125 20.515625 \nQ 6.78125 27.484375 10.78125 32.3125 \nQ 14.796875 37.15625 21.921875 38.8125 \nz\nM 18.3125 54.390625 \nQ 18.3125 48.734375 21.84375 45.5625 \nQ 25.390625 42.390625 31.78125 42.390625 \nQ 38.140625 42.390625 41.71875 45.5625 \nQ 45.3125 48.734375 45.3125 54.390625 \nQ 45.3125 60.0625 41.71875 63.234375 \nQ 38.140625 66.40625 31.78125 66.40625 \nQ 25.390625 66.40625 21.84375 63.234375 \nQ 18.3125 60.0625 18.3125 54.390625 \nz\n\" id=\"DejaVuSans-56\"/>\n       </defs>\n       <use xlink:href=\"#DejaVuSans-56\"/>\n       <use x=\"63.623047\" xlink:href=\"#DejaVuSans-48\"/>\n      </g>\n     </g>\n    </g>\n    <g id=\"xtick_6\">\n     <g id=\"line2d_6\">\n      <g>\n       <use style=\"stroke:#000000;stroke-width:0.8;\" x=\"285.259072\" xlink:href=\"#m800185a542\" y=\"235.238437\"/>\n      </g>\n     </g>\n     <g id=\"text_6\">\n      <!-- 100 -->\n      <g transform=\"translate(275.715322 249.836875)scale(0.1 -0.1)\">\n       <defs>\n        <path d=\"M 12.40625 8.296875 \nL 28.515625 8.296875 \nL 28.515625 63.921875 \nL 10.984375 60.40625 \nL 10.984375 69.390625 \nL 28.421875 72.90625 \nL 38.28125 72.90625 \nL 38.28125 8.296875 \nL 54.390625 8.296875 \nL 54.390625 0 \nL 12.40625 0 \nz\n\" id=\"DejaVuSans-49\"/>\n       </defs>\n       <use xlink:href=\"#DejaVuSans-49\"/>\n       <use x=\"63.623047\" xlink:href=\"#DejaVuSans-48\"/>\n       <use x=\"127.246094\" xlink:href=\"#DejaVuSans-48\"/>\n      </g>\n     </g>\n    </g>\n    <g id=\"xtick_7\">\n     <g id=\"line2d_7\">\n      <g>\n       <use style=\"stroke:#000000;stroke-width:0.8;\" x=\"335.15475\" xlink:href=\"#m800185a542\" y=\"235.238437\"/>\n      </g>\n     </g>\n     <g id=\"text_7\">\n      <!-- 120 -->\n      <g transform=\"translate(325.611 249.836875)scale(0.1 -0.1)\">\n       <use xlink:href=\"#DejaVuSans-49\"/>\n       <use x=\"63.623047\" xlink:href=\"#DejaVuSans-50\"/>\n       <use x=\"127.246094\" xlink:href=\"#DejaVuSans-48\"/>\n      </g>\n     </g>\n    </g>\n   </g>\n   <g id=\"matplotlib.axis_2\">\n    <g id=\"ytick_1\">\n     <g id=\"line2d_8\">\n      <defs>\n       <path d=\"M 0 0 \nL -3.5 0 \n\" id=\"mb0530f2339\" style=\"stroke:#000000;stroke-width:0.8;\"/>\n      </defs>\n      <g>\n       <use style=\"stroke:#000000;stroke-width:0.8;\" x=\"20.5625\" xlink:href=\"#mb0530f2339\" y=\"225.354801\"/>\n      </g>\n     </g>\n     <g id=\"text_8\">\n      <!-- 0 -->\n      <g transform=\"translate(7.2 229.15402)scale(0.1 -0.1)\">\n       <use xlink:href=\"#DejaVuSans-48\"/>\n      </g>\n     </g>\n    </g>\n    <g id=\"ytick_2\">\n     <g id=\"line2d_9\">\n      <g>\n       <use style=\"stroke:#000000;stroke-width:0.8;\" x=\"20.5625\" xlink:href=\"#mb0530f2339\" y=\"181.869226\"/>\n      </g>\n     </g>\n     <g id=\"text_9\">\n      <!-- 1 -->\n      <g transform=\"translate(7.2 185.668445)scale(0.1 -0.1)\">\n       <use xlink:href=\"#DejaVuSans-49\"/>\n      </g>\n     </g>\n    </g>\n    <g id=\"ytick_3\">\n     <g id=\"line2d_10\">\n      <g>\n       <use style=\"stroke:#000000;stroke-width:0.8;\" x=\"20.5625\" xlink:href=\"#mb0530f2339\" y=\"138.383651\"/>\n      </g>\n     </g>\n     <g id=\"text_10\">\n      <!-- 2 -->\n      <g transform=\"translate(7.2 142.182869)scale(0.1 -0.1)\">\n       <use xlink:href=\"#DejaVuSans-50\"/>\n      </g>\n     </g>\n    </g>\n    <g id=\"ytick_4\">\n     <g id=\"line2d_11\">\n      <g>\n       <use style=\"stroke:#000000;stroke-width:0.8;\" x=\"20.5625\" xlink:href=\"#mb0530f2339\" y=\"94.898075\"/>\n      </g>\n     </g>\n     <g id=\"text_11\">\n      <!-- 3 -->\n      <g transform=\"translate(7.2 98.697294)scale(0.1 -0.1)\">\n       <defs>\n        <path d=\"M 40.578125 39.3125 \nQ 47.65625 37.796875 51.625 33 \nQ 55.609375 28.21875 55.609375 21.1875 \nQ 55.609375 10.40625 48.1875 4.484375 \nQ 40.765625 -1.421875 27.09375 -1.421875 \nQ 22.515625 -1.421875 17.65625 -0.515625 \nQ 12.796875 0.390625 7.625 2.203125 \nL 7.625 11.71875 \nQ 11.71875 9.328125 16.59375 8.109375 \nQ 21.484375 6.890625 26.8125 6.890625 \nQ 36.078125 6.890625 40.9375 10.546875 \nQ 45.796875 14.203125 45.796875 21.1875 \nQ 45.796875 27.640625 41.28125 31.265625 \nQ 36.765625 34.90625 28.71875 34.90625 \nL 20.21875 34.90625 \nL 20.21875 43.015625 \nL 29.109375 43.015625 \nQ 36.375 43.015625 40.234375 45.921875 \nQ 44.09375 48.828125 44.09375 54.296875 \nQ 44.09375 59.90625 40.109375 62.90625 \nQ 36.140625 65.921875 28.71875 65.921875 \nQ 24.65625 65.921875 20.015625 65.03125 \nQ 15.375 64.15625 9.8125 62.3125 \nL 9.8125 71.09375 \nQ 15.4375 72.65625 20.34375 73.4375 \nQ 25.25 74.21875 29.59375 74.21875 \nQ 40.828125 74.21875 47.359375 69.109375 \nQ 53.90625 64.015625 53.90625 55.328125 \nQ 53.90625 49.265625 50.4375 45.09375 \nQ 46.96875 40.921875 40.578125 39.3125 \nz\n\" id=\"DejaVuSans-51\"/>\n       </defs>\n       <use xlink:href=\"#DejaVuSans-51\"/>\n      </g>\n     </g>\n    </g>\n    <g id=\"ytick_5\">\n     <g id=\"line2d_12\">\n      <g>\n       <use style=\"stroke:#000000;stroke-width:0.8;\" x=\"20.5625\" xlink:href=\"#mb0530f2339\" y=\"51.4125\"/>\n      </g>\n     </g>\n     <g id=\"text_12\">\n      <!-- 4 -->\n      <g transform=\"translate(7.2 55.211719)scale(0.1 -0.1)\">\n       <use xlink:href=\"#DejaVuSans-52\"/>\n      </g>\n     </g>\n    </g>\n    <g id=\"text_13\">\n     <!-- 1e6 -->\n     <g transform=\"translate(20.5625 14.798437)scale(0.1 -0.1)\">\n      <defs>\n       <path d=\"M 56.203125 29.59375 \nL 56.203125 25.203125 \nL 14.890625 25.203125 \nQ 15.484375 15.921875 20.484375 11.0625 \nQ 25.484375 6.203125 34.421875 6.203125 \nQ 39.59375 6.203125 44.453125 7.46875 \nQ 49.3125 8.734375 54.109375 11.28125 \nL 54.109375 2.78125 \nQ 49.265625 0.734375 44.1875 -0.34375 \nQ 39.109375 -1.421875 33.890625 -1.421875 \nQ 20.796875 -1.421875 13.15625 6.1875 \nQ 5.515625 13.8125 5.515625 26.8125 \nQ 5.515625 40.234375 12.765625 48.109375 \nQ 20.015625 56 32.328125 56 \nQ 43.359375 56 49.78125 48.890625 \nQ 56.203125 41.796875 56.203125 29.59375 \nz\nM 47.21875 32.234375 \nQ 47.125 39.59375 43.09375 43.984375 \nQ 39.0625 48.390625 32.421875 48.390625 \nQ 24.90625 48.390625 20.390625 44.140625 \nQ 15.875 39.890625 15.1875 32.171875 \nz\n\" id=\"DejaVuSans-101\"/>\n      </defs>\n      <use xlink:href=\"#DejaVuSans-49\"/>\n      <use x=\"63.623047\" xlink:href=\"#DejaVuSans-101\"/>\n      <use x=\"125.146484\" xlink:href=\"#DejaVuSans-54\"/>\n     </g>\n    </g>\n   </g>\n   <g id=\"line2d_13\">\n    <path clip-path=\"url(#p9e54c7aa4c)\" d=\"M 35.780682 225.354801 \nL 38.275466 225.354801 \nL 40.77025 225.354801 \nL 43.265034 205.205064 \nL 45.759817 225.354801 \nL 48.254601 204.768686 \nL 50.749385 225.354801 \nL 53.244169 219.625446 \nL 55.738953 203.242125 \nL 58.233737 207.116907 \nL 60.728521 209.480479 \nL 63.223305 204.731419 \nL 65.718089 203.794392 \nL 68.212873 205.933013 \nL 70.707656 203.273217 \nL 73.20244 203.264955 \nL 75.697224 225.354801 \nL 78.192008 203.261607 \nL 80.686792 203.163068 \nL 83.181576 204.983418 \nL 85.67636 225.354801 \nL 88.171144 202.911417 \nL 90.665928 225.354801 \nL 93.160712 203.24256 \nL 95.655496 202.952555 \nL 98.150279 204.197895 \nL 100.645063 202.583145 \nL 103.139847 220.01312 \nL 105.634631 225.354801 \nL 108.129415 225.354801 \nL 110.624199 205.372527 \nL 113.118983 204.667234 \nL 115.613767 204.21642 \nL 118.108551 204.081484 \nL 120.603335 202.935987 \nL 123.098118 202.717472 \nL 125.592902 204.269559 \nL 128.087686 204.427455 \nL 130.58247 225.354801 \nL 133.077254 203.664283 \nL 135.572038 205.111222 \nL 138.066822 203.937807 \nL 140.561606 204.649536 \nL 143.05639 204.718417 \nL 145.551174 203.522477 \nL 148.045958 203.767692 \nL 150.540741 203.184724 \nL 153.035525 219.601268 \nL 155.530309 225.354801 \nL 158.025093 205.814993 \nL 160.519877 205.694059 \nL 163.014661 205.18854 \nL 165.509445 225.354801 \nL 168.004229 204.414975 \nL 170.499013 205.911096 \nL 172.993797 205.073564 \nL 175.48858 210.18264 \nL 177.983364 207.538457 \nL 180.478148 225.354801 \nL 182.972932 213.36261 \nL 185.467716 205.240679 \nL 187.9625 213.710451 \nL 190.457284 211.206987 \nL 192.952068 212.872615 \nL 195.446852 211.984378 \nL 197.941636 209.490481 \nL 200.43642 205.84291 \nL 202.931203 225.354801 \nL 205.425987 209.313059 \nL 207.920771 203.837573 \nL 210.415555 204.583873 \nL 212.910339 214.225016 \nL 215.405123 205.24868 \nL 217.899907 205.470152 \nL 220.394691 225.354801 \nL 222.889475 209.199475 \nL 225.384259 206.77598 \nL 227.879042 225.354801 \nL 230.373826 225.354801 \nL 232.86861 207.038503 \nL 235.363394 206.39683 \nL 237.858178 208.449784 \nL 240.352962 216.900901 \nL 242.847746 225.354801 \nL 245.34253 205.882961 \nL 247.837314 205.940927 \nL 250.332098 225.354801 \nL 252.826882 205.227068 \nL 255.321665 208.633815 \nL 257.816449 205.456237 \nL 260.311233 225.354801 \nL 262.806017 225.354801 \nL 265.300801 206.162921 \nL 267.795585 204.855005 \nL 270.290369 214.114302 \nL 272.785153 209.40664 \nL 275.279937 204.70885 \nL 277.774721 205.528031 \nL 280.269504 210.260219 \nL 282.764288 214.30029 \nL 285.259072 204.422498 \nL 287.753856 225.354801 \nL 290.24864 225.354801 \nL 292.743424 205.638485 \nL 295.238208 205.556123 \nL 297.732992 210.533352 \nL 300.227776 209.760656 \nL 302.72256 209.366938 \nL 305.217344 225.354801 \nL 307.712127 214.902043 \nL 310.206911 225.354801 \nL 312.701695 209.074324 \nL 315.196479 225.354801 \nL 317.691263 225.354801 \nL 320.186047 225.354801 \nL 322.680831 225.354801 \nL 325.175615 225.354801 \nL 327.670399 225.354801 \nL 330.165183 225.354801 \nL 332.659966 225.354801 \nL 335.15475 225.354801 \nL 337.649534 170.184913 \nL 340.144318 208.90773 \n\" style=\"fill:none;stroke:#1f77b4;stroke-linecap:square;stroke-width:1.5;\"/>\n   </g>\n   <g id=\"line2d_14\">\n    <path clip-path=\"url(#p9e54c7aa4c)\" d=\"M 35.780682 225.354801 \nL 38.275466 225.354801 \nL 40.77025 225.354801 \nL 43.265034 225.354801 \nL 45.759817 225.354801 \nL 48.254601 225.354801 \nL 50.749385 225.354801 \nL 53.244169 219.625446 \nL 55.738953 160.999977 \nL 58.233737 225.354801 \nL 60.728521 225.354801 \nL 63.223305 204.731419 \nL 65.718089 225.354801 \nL 68.212873 225.354801 \nL 70.707656 146.428265 \nL 73.20244 225.354801 \nL 75.697224 225.354801 \nL 78.192008 182.675492 \nL 80.686792 225.354801 \nL 83.181576 189.109096 \nL 85.67636 225.354801 \nL 88.171144 225.354801 \nL 90.665928 225.354801 \nL 93.160712 162.387558 \nL 95.655496 225.354801 \nL 98.150279 225.354801 \nL 100.645063 158.722767 \nL 103.139847 220.01312 \nL 105.634631 225.354801 \nL 108.129415 225.354801 \nL 110.624199 225.354801 \nL 113.118983 204.667234 \nL 115.613767 225.354801 \nL 118.108551 183.141657 \nL 120.603335 166.705458 \nL 123.098118 134.689986 \nL 125.592902 225.354801 \nL 128.087686 225.354801 \nL 130.58247 225.354801 \nL 133.077254 225.354801 \nL 135.572038 185.689434 \nL 138.066822 225.354801 \nL 140.561606 225.354801 \nL 143.05639 225.354801 \nL 145.551174 225.354801 \nL 148.045958 225.354801 \nL 150.540741 160.037206 \nL 153.035525 219.601268 \nL 155.530309 225.354801 \nL 158.025093 189.773251 \nL 160.519877 225.354801 \nL 163.014661 205.18854 \nL 165.509445 225.354801 \nL 168.004229 225.354801 \nL 170.499013 225.354801 \nL 172.993797 205.073564 \nL 175.48858 225.354801 \nL 177.983364 207.538457 \nL 180.478148 225.354801 \nL 182.972932 213.36261 \nL 185.467716 205.240679 \nL 187.9625 213.710451 \nL 190.457284 211.206987 \nL 192.952068 212.872615 \nL 195.446852 225.354801 \nL 197.941636 209.490481 \nL 200.43642 225.354801 \nL 202.931203 225.354801 \nL 205.425987 225.354801 \nL 207.920771 203.837573 \nL 210.415555 188.136802 \nL 212.910339 214.225016 \nL 215.405123 185.736789 \nL 217.899907 186.026447 \nL 220.394691 225.354801 \nL 222.889475 184.774541 \nL 225.384259 206.77598 \nL 227.879042 225.354801 \nL 230.373826 225.354801 \nL 232.86861 191.090342 \nL 235.363394 206.39683 \nL 237.858178 208.449784 \nL 240.352962 216.900901 \nL 242.847746 225.354801 \nL 245.34253 205.882961 \nL 247.837314 225.354801 \nL 250.332098 225.354801 \nL 252.826882 205.227068 \nL 255.321665 208.633815 \nL 257.816449 186.042363 \nL 260.311233 225.354801 \nL 262.806017 225.354801 \nL 265.300801 225.354801 \nL 267.795585 204.855005 \nL 270.290369 225.354801 \nL 272.785153 225.354801 \nL 275.279937 204.70885 \nL 277.774721 186.336151 \nL 280.269504 210.260219 \nL 282.764288 225.354801 \nL 285.259072 204.422498 \nL 287.753856 225.354801 \nL 290.24864 225.354801 \nL 292.743424 205.638485 \nL 295.238208 205.556123 \nL 297.732992 225.354801 \nL 300.227776 225.354801 \nL 302.72256 225.354801 \nL 305.217344 225.354801 \nL 307.712127 214.902043 \nL 310.206911 225.354801 \nL 312.701695 209.074324 \nL 315.196479 225.354801 \nL 317.691263 225.354801 \nL 320.186047 225.354801 \nL 322.680831 225.354801 \nL 325.175615 225.354801 \nL 327.670399 225.354801 \nL 330.165183 225.354801 \nL 332.659966 225.354801 \nL 335.15475 225.354801 \nL 337.649534 27.682074 \nL 340.144318 225.354801 \n\" style=\"fill:none;stroke:#ff7f0e;stroke-linecap:square;stroke-width:1.5;\"/>\n   </g>\n   <g id=\"patch_3\">\n    <path d=\"M 20.5625 235.238437 \nL 20.5625 17.798438 \n\" style=\"fill:none;stroke:#000000;stroke-linecap:square;stroke-linejoin:miter;stroke-width:0.8;\"/>\n   </g>\n   <g id=\"patch_4\">\n    <path d=\"M 355.3625 235.238437 \nL 355.3625 17.798438 \n\" style=\"fill:none;stroke:#000000;stroke-linecap:square;stroke-linejoin:miter;stroke-width:0.8;\"/>\n   </g>\n   <g id=\"patch_5\">\n    <path d=\"M 20.5625 235.238437 \nL 355.3625 235.238437 \n\" style=\"fill:none;stroke:#000000;stroke-linecap:square;stroke-linejoin:miter;stroke-width:0.8;\"/>\n   </g>\n   <g id=\"patch_6\">\n    <path d=\"M 20.5625 17.798437 \nL 355.3625 17.798437 \n\" style=\"fill:none;stroke:#000000;stroke-linecap:square;stroke-linejoin:miter;stroke-width:0.8;\"/>\n   </g>\n  </g>\n </g>\n <defs>\n  <clipPath id=\"p9e54c7aa4c\">\n   <rect height=\"217.44\" width=\"334.8\" x=\"20.5625\" y=\"17.798437\"/>\n  </clipPath>\n </defs>\n</svg>\n",
      "image/png": "[encoded data removed]"
     },
     "metadata": {
      "needs_background": "light"
     }
    }
   ],
   "source": [
    "plt.plot(indices1)\n",
    "plt.plot(indices2)"
   ]
  },
  {
   "cell_type": "code",
   "execution_count": 64,
   "metadata": {},
   "outputs": [
    {
     "output_type": "stream",
     "name": "stdout",
     "text": [
      "[      0.       0.       0.       0.       0.       0.       0.  131753.\n 1479912.       0.       0.  474258.       0.       0. 1815005.       0.\n       0.  981459.       0.  833511.       0.       0.       0. 1448003.\n       0.       0. 1532279.  122838.       0.       0.       0.  475734.\n       0.  970739. 1348708. 2084940.       0.       0.       0.       0.\n  912150.       0.       0.       0.       0.       0. 1502052.  132309.\n       0.  818238.       0.  463746.       0.       0.       0.  466390.\n       0.  409707.       0.  275774.  462547.  267775.  325345.  287042.\n       0.  364818.       0.       0.       0.  494813.  855870.  255942.\n  911061.  904400.       0.  933189.  427241.       0.       0.  787950.\n  435960.  388750.  194407.       0.  447777.       0.       0.  462860.\n  384518.  904034.       0.       0.       0.  471416.       0.       0.\n  474777.  897278.  347117.       0.  481362.       0.       0.  453399.\n  455293.       0.       0.       0.       0.  240373.       0.  374388.\n       0.       0.       0.       0.       0.       0.       0.       0.\n       0. 4545708.       0.]\n"
     ]
    }
   ],
   "source": [
    "print(indices2)"
   ]
  },
  {
   "cell_type": "code",
   "execution_count": 62,
   "metadata": {},
   "outputs": [
    {
     "output_type": "stream",
     "name": "stdout",
     "text": [
      "[      0.       0.       0.  463366.       0.  473401.       0.  131753.\n  508506.  419401.  365048.  474258.  495806.  446626.  507791.  507981.\n       0.  508058.  510324.  468463.       0.  516111.       0.  508496.\n  515165.  486527.  523660.  122838.       0.       0.  459515.  475734.\n  486101.  489204.  515546.  520571.  484879.  481248.       0.  498798.\n  465524.  492508.  476141.  474557.  502059.  496420.  509826.  132309.\n       0.  449340.  452121.  463746.       0.  481535.  447130.  466390.\n  348901.  409707.       0.  275774.  462547.  267775.  325345.  287042.\n  307468.  364818.  448698.       0.  368898.  494813.  477651.  255942.\n  462363.  457270.       0.  371510.  427241.       0.       0.  421204.\n  435960.  388750.  194407.       0.  447777.  446444.       0.  462860.\n  384518.  457590.       0.       0.  441339.  471416.  258488.  366746.\n  474777.  455939.  347117.  254211.  481362.       0.       0.  453399.\n  455293.  340836.  358605.  367659.       0.  240373.       0.  374388.\n       0.       0.       0.       0.       0.       0.       0.       0.\n       0. 1268694.  378219.]\n"
     ]
    }
   ],
   "source": [
    "print(indices1)"
   ]
  },
  {
   "cell_type": "code",
   "execution_count": 50,
   "metadata": {},
   "outputs": [
    {
     "output_type": "execute_result",
     "data": {
      "text/plain": [
       "88"
      ]
     },
     "metadata": {},
     "execution_count": 50
    }
   ],
   "source": [
    "len(total_id_uniq)"
   ]
  },
  {
   "cell_type": "code",
   "execution_count": 47,
   "metadata": {},
   "outputs": [],
   "source": [
    "df_sum.to_hdf('df_sum_new','df_sum')"
   ]
  },
  {
   "cell_type": "code",
   "execution_count": 16,
   "metadata": {},
   "outputs": [
    {
     "output_type": "stream",
     "name": "stdout",
     "text": [
      "3\n23\n42\nmax 23\n-----\n5\n17\nmax 17\n-----\n21\n26\n41\nmax 26\n-----\n14\n30\n39\n56\nmax 14\n-----\n9\n15\n18\n24\n37\n44\n105\n121\nmax 121\n-----\n12\n45\n46\nmax 46\n-----\n8\n25\n36\nmax 8\n-----\n64\n75\n99\nmax 75\n-----\n13\n40\nmax 40\n-----\n34\n43\n106\nmax 34\n-----\n70\n122\nmax 70\n-----\n49\n68\nmax 49\n-----\n66\n72\nmax 72\n-----\n54\n73\nmax 73\n-----\n32\n35\n50\n94\n107\nmax 35\n-----\n79\n95\nmax 79\n-----\n92\n97\nmax 97\n-----\n33\n53\nmax 33\n-----\n10\n19\nmax 19\n-----\n85\n89\nmax 89\n-----\n"
     ]
    }
   ],
   "source": [
    "for item in num_list:\n",
    "    for id in item[1]:\n",
    "        print(id)\n",
    "    print('max',item[0])\n",
    "    print('-----')"
   ]
  },
  {
   "cell_type": "code",
   "execution_count": null,
   "metadata": {},
   "outputs": [],
   "source": [
    "df_sum[df_sum['Station ID'] == id] = 89"
   ]
  },
  {
   "cell_type": "code",
   "execution_count": null,
   "metadata": {},
   "outputs": [],
   "source": [
    "df_sum[df_sum[\"Station ID\"] == 89]"
   ]
  },
  {
   "cell_type": "code",
   "execution_count": null,
   "metadata": {},
   "outputs": [],
   "source": [
    "df_sum.loc[df_sum['Station ID'] == 3,'Station ID'] = 8888"
   ]
  },
  {
   "cell_type": "code",
   "execution_count": null,
   "metadata": {},
   "outputs": [],
   "source": [
    "# 9\n",
    "for item in num_list:\n",
    "    for id in item[1]:\n",
    "        # print(len(df))\n",
    "        df_sum[df_sum['Station ID'] == id]['Station ID'] = item[0]\n",
    "        # print(id,len(df_sum[df_sum['Station ID'] == id]))\n",
    "    print(item[0],item[1])"
   ]
  },
  {
   "cell_type": "code",
   "execution_count": 19,
   "metadata": {},
   "outputs": [
    {
     "output_type": "stream",
     "name": "stdout",
     "text": [
      "[  3   5   7   8   9  10  11  12  13  14  15  17  18  19  21  23  24  25\n  26  27  30  31  32  33  34  35  36  37  39  40  41  42  43  44  45  46\n  47  49  50  51  53  54  55  56  57  59  60  61  62  63  64  65  66  68\n  69  70  71  72  73  75  76  79  80  81  82  84  85  87  88  89  92  93\n  94  95  96  97  98  99 100 103 104 105 106 107 109 111 121 122] 88\n"
     ]
    }
   ],
   "source": [
    "total_id = df_sum['Station ID'].values\n",
    "total_id_uniq = np.unique(total_id)\n",
    "print(total_id_uniq,len(total_id_uniq))"
   ]
  },
  {
   "cell_type": "code",
   "execution_count": 22,
   "metadata": {},
   "outputs": [
    {
     "output_type": "stream",
     "name": "stdout",
     "text": [
      "3 463366\n",
      "5 473401\n",
      "7 131753\n",
      "8 508506\n",
      "9 419401\n",
      "10 365048\n",
      "11 474258\n",
      "12 495806\n",
      "13 446626\n",
      "14 507791\n",
      "15 507981\n",
      "17 508058\n",
      "18 510324\n",
      "19 468463\n",
      "21 516111\n",
      "23 508496\n",
      "24 515165\n",
      "25 486527\n",
      "26 523660\n",
      "27 122838\n",
      "30 459515\n",
      "31 475734\n",
      "32 486101\n",
      "33 489204\n",
      "34 515546\n",
      "35 520571\n",
      "36 484879\n",
      "37 481248\n",
      "39 498798\n",
      "40 465524\n",
      "41 492508\n",
      "42 476141\n",
      "43 474557\n",
      "44 502059\n",
      "45 496420\n",
      "46 509826\n",
      "47 132309\n",
      "49 449340\n",
      "50 452121\n",
      "51 463746\n",
      "53 481535\n",
      "54 447130\n",
      "55 466390\n",
      "56 348901\n",
      "57 409707\n",
      "59 275774\n",
      "60 462547\n",
      "61 267775\n",
      "62 325345\n",
      "63 287042\n",
      "64 307468\n",
      "65 364818\n",
      "66 448698\n",
      "68 368898\n",
      "69 494813\n",
      "70 477651\n",
      "71 255942\n",
      "72 462363\n",
      "73 457270\n",
      "75 371510\n",
      "76 427241\n",
      "79 421204\n",
      "80 435960\n",
      "81 388750\n",
      "82 194407\n",
      "84 447777\n",
      "85 446444\n",
      "87 462860\n",
      "88 384518\n",
      "89 457590\n",
      "92 441339\n",
      "93 471416\n",
      "94 258488\n",
      "95 366746\n",
      "96 474777\n",
      "97 455939\n",
      "98 347117\n",
      "99 254211\n",
      "100 481362\n",
      "103 453399\n",
      "104 455293\n",
      "105 340836\n",
      "106 358605\n",
      "107 367659\n",
      "109 240373\n",
      "111 374388\n",
      "121 1268694\n",
      "122 378219\n"
     ]
    }
   ],
   "source": [
    "# important\n",
    "id_record_dict = {}\n",
    "for id in total_id_uniq:\n",
    "    id_record_dict[id] = len(df_sum[df_sum['Station ID'] == id])\n",
    "    print(id,len(df_sum[df_sum['Station ID'] == id]))"
   ]
  },
  {
   "cell_type": "code",
   "execution_count": 23,
   "metadata": {},
   "outputs": [
    {
     "output_type": "stream",
     "name": "stdout",
     "text": [
      "{3: 463366, 5: 473401, 7: 131753, 8: 508506, 9: 419401, 10: 365048, 11: 474258, 12: 495806, 13: 446626, 14: 507791, 15: 507981, 17: 508058, 18: 510324, 19: 468463, 21: 516111, 23: 508496, 24: 515165, 25: 486527, 26: 523660, 27: 122838, 30: 459515, 31: 475734, 32: 486101, 33: 489204, 34: 515546, 35: 520571, 36: 484879, 37: 481248, 39: 498798, 40: 465524, 41: 492508, 42: 476141, 43: 474557, 44: 502059, 45: 496420, 46: 509826, 47: 132309, 49: 449340, 50: 452121, 51: 463746, 53: 481535, 54: 447130, 55: 466390, 56: 348901, 57: 409707, 59: 275774, 60: 462547, 61: 267775, 62: 325345, 63: 287042, 64: 307468, 65: 364818, 66: 448698, 68: 368898, 69: 494813, 70: 477651, 71: 255942, 72: 462363, 73: 457270, 75: 371510, 76: 427241, 79: 421204, 80: 435960, 81: 388750, 82: 194407, 84: 447777, 85: 446444, 87: 462860, 88: 384518, 89: 457590, 92: 441339, 93: 471416, 94: 258488, 95: 366746, 96: 474777, 97: 455939, 98: 347117, 99: 254211, 100: 481362, 103: 453399, 104: 455293, 105: 340836, 106: 358605, 107: 367659, 109: 240373, 111: 374388, 121: 1268694, 122: 378219}\n"
     ]
    }
   ],
   "source": [
    "print(id_record_dict)"
   ]
  }
 ],
 "metadata": {
  "kernelspec": {
   "display_name": "Python 3",
   "language": "python",
   "name": "python3"
  },
  "language_info": {
   "codemirror_mode": {
    "name": "ipython",
    "version": 3
   },
   "file_extension": ".py",
   "mimetype": "text/x-python",
   "name": "python",
   "nbconvert_exporter": "python",
   "pygments_lexer": "ipython3",
   "version": "3.7.9-final"
  }
 },
 "nbformat": 4,
 "nbformat_minor": 2
}