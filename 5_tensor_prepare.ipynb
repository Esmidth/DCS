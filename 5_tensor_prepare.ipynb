{
 "cells": [
  {
   "cell_type": "code",
   "execution_count": 2,
   "metadata": {},
   "outputs": [],
   "source": [
    "%matplotlib inline\n",
    "import pandas as pd\n",
    "import pickle\n",
    "import numpy as np\n",
    "import matplotlib.pyplot as plt\n",
    "from consts import sensor_day_seconds as day_second\n",
    "from consts import sensor_idd as idd\n",
    "from consts import sensor_idds_uniq as idds_uniq\n",
    "from consts import sensor_idds_uniq_sorted as idds_uniq_sorted\n",
    "from consts import sensor_a_temperature as a_temperature\n",
    "from consts import sensor_s_temperature as s_temperature\n",
    "from consts import sensor_unix_column as unix_column\n",
    "from consts import sensor_idd as idd\n",
    "epoch_length = 30"
   ]
  },
  {
   "cell_type": "code",
   "execution_count": 4,
   "metadata": {},
   "outputs": [],
   "source": [
    "with open('4_tensor.pkl','rb') as f:\n",
    "    tensor_array = pickle.load(f)\n",
    "\n",
    "tensor_array = np.array(tensor_array)"
   ]
  },
  {
   "cell_type": "code",
   "execution_count": 5,
   "metadata": {},
   "outputs": [],
   "source": [
    "with open('4_time_stamp_array.pkl','rb') as f:\n",
    "    time_stamp_array = pickle.load(f)"
   ]
  },
  {
   "cell_type": "code",
   "execution_count": 16,
   "metadata": {},
   "outputs": [],
   "source": [
    "with open('4_indices_na.pkl','rb') as f:\n",
    "    indices = pickle.load(f)"
   ]
  },
  {
   "cell_type": "code",
   "execution_count": 3,
   "metadata": {},
   "outputs": [],
   "source": [
    "with open('4_indices_no_na.pkl','rb') as f:\n",
    "    new_indices = pickle.load(f)"
   ]
  },
  {
   "cell_type": "code",
   "execution_count": 18,
   "metadata": {},
   "outputs": [],
   "source": [
    "tensor_array = tensor_array[new_indices]"
   ]
  },
  {
   "cell_type": "code",
   "execution_count": 10,
   "metadata": {},
   "outputs": [
    {
     "output_type": "execute_result",
     "data": {
      "text/plain": [
       "list"
      ]
     },
     "metadata": {},
     "execution_count": 10
    }
   ],
   "source": [
    "type(tensor_array)"
   ]
  },
  {
   "cell_type": "code",
   "execution_count": 11,
   "metadata": {},
   "outputs": [
    {
     "output_type": "execute_result",
     "data": {
      "text/plain": [
       "29898"
      ]
     },
     "metadata": {},
     "execution_count": 11
    }
   ],
   "source": [
    "len(tensor_array)"
   ]
  },
  {
   "cell_type": "code",
   "execution_count": 12,
   "metadata": {},
   "outputs": [
    {
     "output_type": "execute_result",
     "data": {
      "text/plain": [
       "550080"
      ]
     },
     "metadata": {},
     "execution_count": 12
    }
   ],
   "source": [
    "len(time_stamp_array)"
   ]
  },
  {
   "cell_type": "markdown",
   "metadata": {},
   "source": [
    "## try to save tensor_array to dataloader"
   ]
  },
  {
   "cell_type": "code",
   "execution_count": 19,
   "metadata": {},
   "outputs": [],
   "source": [
    "import torch\n",
    "import torch.utils.data as Data"
   ]
  },
  {
   "cell_type": "code",
   "execution_count": 20,
   "metadata": {},
   "outputs": [],
   "source": [
    "for i,item in enumerate(tensor_array):\n",
    "    if np.isnan(item).any():\n",
    "        print(i)"
   ]
  },
  {
   "cell_type": "code",
   "execution_count": 22,
   "metadata": {},
   "outputs": [
    {
     "output_type": "execute_result",
     "data": {
      "text/plain": [
       "array([[0.225, 0.163, 0.225, 0.287, 0.225, 0.163, 0.225],\n",
       "       [3.163, 3.288, 3.288, 3.163, 3.1  , 3.1  , 2.975],\n",
       "       [2.35 , 2.538, 2.35 , 2.35 , 2.413, 2.538, 2.288],\n",
       "       [1.725, 1.725, 1.663, 1.663, 1.725, 1.788, 1.725],\n",
       "       [0.537, 0.6  , 1.038, 1.038, 0.725, 0.6  , 0.6  ],\n",
       "       [1.1  , 1.1  , 1.163, 1.1  , 1.1  , 1.1  , 1.1  ],\n",
       "       [1.725, 1.475, 1.725, 1.725, 1.85 , 1.725, 1.413],\n",
       "       [1.225, 1.038, 1.163, 1.038, 0.912, 1.038, 1.038],\n",
       "       [1.475, 1.725, 1.663, 1.475, 1.475, 1.35 , 1.288],\n",
       "       [1.1  , 1.288, 1.1  , 1.038, 1.163, 1.225, 1.225],\n",
       "       [7.037, 7.1  , 7.1  , 7.287, 7.1  , 7.1  , 7.1  ],\n",
       "       [3.975, 3.975, 3.788, 4.1  , 3.913, 3.85 , 3.85 ],\n",
       "       [0.975, 1.1  , 1.1  , 1.038, 1.1  , 1.038, 1.038],\n",
       "       [0.787, 0.975, 1.225, 1.1  , 1.038, 0.912, 0.85 ],\n",
       "       [2.35 , 2.35 , 2.288, 2.225, 2.225, 2.1  , 1.975],\n",
       "       [2.975, 2.85 , 2.975, 3.038, 2.913, 2.725, 2.913],\n",
       "       [4.537, 4.537, 4.225, 4.475, 4.225, 4.162, 4.1  ],\n",
       "       [0.725, 0.662, 0.725, 0.725, 0.85 , 0.787, 1.038],\n",
       "       [7.35 , 7.35 , 7.225, 7.35 , 7.225, 7.287, 7.35 ]])"
      ]
     },
     "metadata": {},
     "execution_count": 22
    }
   ],
   "source": [
    "tensor_array[9671]"
   ]
  },
  {
   "cell_type": "code",
   "execution_count": 23,
   "metadata": {},
   "outputs": [],
   "source": [
    "index = torch.tensor(np.linspace(1,len(tensor_array),len(tensor_array),dtype=int))"
   ]
  },
  {
   "cell_type": "code",
   "execution_count": 24,
   "metadata": {},
   "outputs": [],
   "source": [
    "torch_dataset = Data.TensorDataset(torch.tensor(tensor_array,dtype=torch.float32))"
   ]
  },
  {
   "cell_type": "code",
   "execution_count": 25,
   "metadata": {},
   "outputs": [],
   "source": [
    "tmp = int(len(tensor_array)*0.9)\n",
    "ratio = [tmp,len(tensor_array)-tmp]"
   ]
  },
  {
   "cell_type": "code",
   "execution_count": 26,
   "metadata": {},
   "outputs": [],
   "source": [
    "train_db,test_db = Data.random_split(torch.tensor(tensor_array,dtype=torch.float32),ratio)"
   ]
  },
  {
   "cell_type": "code",
   "execution_count": 27,
   "metadata": {},
   "outputs": [],
   "source": [
    "train_loader = Data.DataLoader(\n",
    "    dataset=train_db,\n",
    "    batch_size=500,\n",
    "    shuffle=True,\n",
    "    num_workers=8\n",
    ")"
   ]
  },
  {
   "cell_type": "code",
   "execution_count": 28,
   "metadata": {},
   "outputs": [],
   "source": [
    "test_loader = Data.DataLoader(\n",
    "    dataset=test_db,\n",
    "    batch_size=500,\n",
    "    shuffle=True,\n",
    "    num_workers=8\n",
    ")"
   ]
  },
  {
   "cell_type": "code",
   "execution_count": 29,
   "metadata": {},
   "outputs": [],
   "source": [
    "torch.save(train_loader,'5_train2.pt')"
   ]
  },
  {
   "cell_type": "code",
   "execution_count": 33,
   "metadata": {},
   "outputs": [],
   "source": [
    "torch.save(test_loader,'5_test2.pt')"
   ]
  }
 ],
 "metadata": {
  "kernelspec": {
   "display_name": "Python 3.7.6 64-bit ('ccs_ta': conda)",
   "language": "python",
   "name": "python37664bitccstaconda3a2139a6822448159c7afc22ea6ab768"
  },
  "language_info": {
   "codemirror_mode": {
    "name": "ipython",
    "version": 3
   },
   "file_extension": ".py",
   "mimetype": "text/x-python",
   "name": "python",
   "nbconvert_exporter": "python",
   "pygments_lexer": "ipython3",
   "version": "3.7.6-final"
  }
 },
 "nbformat": 4,
 "nbformat_minor": 4
}