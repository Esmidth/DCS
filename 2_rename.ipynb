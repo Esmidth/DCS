{
 "cells": [
  {
   "cell_type": "markdown",
   "metadata": {},
   "source": [
    "## 将data.h5里的子集分为一个个按天为起点，周期为一周的字df"
   ]
  },
  {
   "cell_type": "code",
   "execution_count": 1,
   "metadata": {},
   "outputs": [],
   "source": [
    "# 1\n",
    "%matplotlib inline\n",
    "import numpy as np\n",
    "import pandas as pd\n",
    "import os,sys\n",
    "import utilities\n",
    "import matplotlib.pyplot as plt\n",
    "from consts import sensor_lat as lat\n",
    "from consts import sensor_log as log\n",
    "from consts import valid_sensor_res_10 as valid_sensor_list\n",
    "from numpy import array\n",
    "import time"
   ]
  },
  {
   "cell_type": "code",
   "execution_count": 4,
   "metadata": {},
   "outputs": [],
   "source": [
    "# 2\n",
    "df = pd.read_hdf('data.h5','df_sub')\n",
    "unix_column = 'Time since the epoch [s]'\n",
    "idd = 'Station ID'"
   ]
  },
  {
   "cell_type": "code",
   "execution_count": 2,
   "metadata": {},
   "outputs": [],
   "source": [
    "# 2-1\n",
    "df = pd.read_hdf('df_sub_new.h5','df_sub')\n",
    "unix_column = 'Time since the epoch [s]'\n",
    "idd = 'Station ID'"
   ]
  },
  {
   "cell_type": "code",
   "execution_count": 5,
   "metadata": {
    "tags": []
   },
   "outputs": [
    {
     "name": "stdout",
     "output_type": "stream",
     "text": [
      "1162393768 \t 2006-11-1:\t 0.040220022201538086 \n",
      "1162480168 \t 2006-11-2:\t 0.03516030311584473 \n",
      "1162566568 \t 2006-11-3:\t 0.03796076774597168 \n",
      "1162652968 \t 2006-11-4:\t 0.04011201858520508 \n",
      "1162739368 \t 2006-11-5:\t 0.03630375862121582 \n",
      "1162825768 \t 2006-11-6:\t 0.03423953056335449 \n",
      "1162912168 \t 2006-11-7:\t 0.036407470703125 \n",
      "1162998568 \t 2006-11-8:\t 0.03659963607788086 \n",
      "1163084968 \t 2006-11-9:\t 0.03734230995178223 \n",
      "1163171368 \t 2006-11-10:\t 0.03698849678039551 \n",
      "1163257768 \t 2006-11-11:\t 0.042229652404785156 \n",
      "1163344168 \t 2006-11-12:\t 0.038942575454711914 \n",
      "1163430568 \t 2006-11-13:\t 0.04026150703430176 \n",
      "1163516968 \t 2006-11-14:\t 0.04016757011413574 \n",
      "1163603368 \t 2006-11-15:\t 0.03970789909362793 \n",
      "1163689768 \t 2006-11-16:\t 0.040009260177612305 \n",
      "1163776168 \t 2006-11-17:\t 0.0374293327331543 \n",
      "1163862568 \t 2006-11-18:\t 0.03222823143005371 \n",
      "1163948968 \t 2006-11-19:\t 0.03720664978027344 \n",
      "1164035368 \t 2006-11-20:\t 0.03917288780212402 \n",
      "1164121768 \t 2006-11-21:\t 0.03887200355529785 \n",
      "1164208168 \t 2006-11-22:\t 0.04113888740539551 \n",
      "1164294568 \t 2006-11-23:\t 0.042035579681396484 \n",
      "1164380968 \t 2006-11-24:\t 0.04105544090270996 \n",
      "1164467368 \t 2006-11-25:\t 0.040663719177246094 \n",
      "1164553768 \t 2006-11-26:\t 0.0415956974029541 \n",
      "1164640168 \t 2006-11-27:\t 0.043235063552856445 \n",
      "1164726568 \t 2006-11-28:\t 0.0412142276763916 \n",
      "1164812968 \t 2006-11-29:\t 0.037967681884765625 \n",
      "1164899368 \t 2006-11-30:\t 0.04508566856384277 \n",
      "1164985768 \t 2006-12-1:\t 0.04342985153198242 \n",
      "1165072168 \t 2006-12-2:\t 0.04379677772521973 \n",
      "1165158568 \t 2006-12-3:\t 0.04306221008300781 \n",
      "1165244968 \t 2006-12-4:\t 0.04553866386413574 \n",
      "1165331368 \t 2006-12-5:\t 0.04336118698120117 \n",
      "1165417768 \t 2006-12-6:\t 0.04043459892272949 \n",
      "1165504168 \t 2006-12-7:\t 0.0463414192199707 \n",
      "1165590568 \t 2006-12-8:\t 0.045217275619506836 \n",
      "1165676968 \t 2006-12-9:\t 0.042093515396118164 \n",
      "1165763368 \t 2006-12-10:\t 0.0440363883972168 \n",
      "1165849768 \t 2006-12-11:\t 0.040305376052856445 \n",
      "1165936168 \t 2006-12-12:\t 0.04297518730163574 \n",
      "1166022568 \t 2006-12-13:\t 0.04212498664855957 \n",
      "1166108968 \t 2006-12-14:\t 0.04155778884887695 \n",
      "1166195368 \t 2006-12-15:\t 0.04689335823059082 \n",
      "1166281768 \t 2006-12-16:\t 0.04168534278869629 \n",
      "1166368168 \t 2006-12-17:\t 0.04589986801147461 \n",
      "1166454568 \t 2006-12-18:\t 0.045664310455322266 \n",
      "1166540968 \t 2006-12-19:\t 0.04570627212524414 \n",
      "1166627368 \t 2006-12-20:\t 0.04759931564331055 \n",
      "1166713768 \t 2006-12-21:\t 0.04230141639709473 \n",
      "1166800168 \t 2006-12-22:\t 0.0471956729888916 \n",
      "1166886568 \t 2006-12-23:\t 0.04430651664733887 \n",
      "1166972968 \t 2006-12-24:\t 0.04941678047180176 \n",
      "1167059368 \t 2006-12-25:\t 0.04346966743469238 \n",
      "1167145768 \t 2006-12-26:\t 0.043547868728637695 \n",
      "1167232168 \t 2006-12-27:\t 0.04368472099304199 \n",
      "1167318568 \t 2006-12-28:\t 0.04231548309326172 \n",
      "1167404968 \t 2006-12-29:\t 0.04365086555480957 \n",
      "1167491368 \t 2006-12-30:\t 0.042626380920410156 \n",
      "1167577768 \t 2006-12-31:\t 0.043753862380981445 \n",
      "1167664168 \t 2007-1-1:\t 0.03984713554382324 \n",
      "1167750568 \t 2007-1-2:\t 0.041390180587768555 \n",
      "1167836968 \t 2007-1-3:\t 0.04581856727600098 \n",
      "1167923368 \t 2007-1-4:\t 0.046030282974243164 \n",
      "1168009768 \t 2007-1-5:\t 0.04479718208312988 \n",
      "1168096168 \t 2007-1-6:\t 0.044681549072265625 \n",
      "1168182568 \t 2007-1-7:\t 0.04414033889770508 \n",
      "1168268968 \t 2007-1-8:\t 0.045264482498168945 \n",
      "1168355368 \t 2007-1-9:\t 0.04639077186584473 \n",
      "1168441768 \t 2007-1-10:\t 0.0466914176940918 \n",
      "1168528168 \t 2007-1-11:\t 0.047170162200927734 \n",
      "1168614568 \t 2007-1-12:\t 0.04853940010070801 \n",
      "1168700968 \t 2007-1-13:\t 0.0479738712310791 \n",
      "1168787368 \t 2007-1-14:\t 0.04705643653869629 \n",
      "1168873768 \t 2007-1-15:\t 0.04774308204650879 \n",
      "1168960168 \t 2007-1-16:\t 0.04646897315979004 \n",
      "1169046568 \t 2007-1-17:\t 0.042138099670410156 \n",
      "1169132968 \t 2007-1-18:\t 0.04721546173095703 \n",
      "1169219368 \t 2007-1-19:\t 0.04696798324584961 \n",
      "1169305768 \t 2007-1-20:\t 0.04523062705993652 \n",
      "1169392168 \t 2007-1-21:\t 0.04430747032165527 \n",
      "1169478568 \t 2007-1-22:\t 0.03548431396484375 \n",
      "1169564968 \t 2007-1-23:\t 0.04559922218322754 \n",
      "1169651368 \t 2007-1-24:\t 0.04320049285888672 \n",
      "1169737768 \t 2007-1-25:\t 0.04402971267700195 \n",
      "1169824168 \t 2007-1-26:\t 0.04615044593811035 \n",
      "1169910568 \t 2007-1-27:\t 0.04511547088623047 \n",
      "1169996968 \t 2007-1-28:\t 0.04503464698791504 \n",
      "1170083368 \t 2007-1-29:\t 0.04604148864746094 \n",
      "1170169768 \t 2007-1-30:\t 0.047995805740356445 \n",
      "1170256168 \t 2007-1-31:\t 0.04522991180419922 \n",
      "1170342568 \t 2007-2-1:\t 0.04447531700134277 \n",
      "1170428968 \t 2007-2-2:\t 0.04521822929382324 \n",
      "1170515368 \t 2007-2-3:\t 0.046328067779541016 \n",
      "1170601768 \t 2007-2-4:\t 0.04922914505004883 \n",
      "1170688168 \t 2007-2-5:\t 0.04873061180114746 \n",
      "1170774568 \t 2007-2-6:\t 0.04836297035217285 \n",
      "1170860968 \t 2007-2-7:\t 0.0490877628326416 \n",
      "1170947368 \t 2007-2-8:\t 0.05014348030090332 \n",
      "1171033768 \t 2007-2-9:\t 0.04621529579162598 \n",
      "1171120168 \t 2007-2-10:\t 0.04781317710876465 \n",
      "1171206568 \t 2007-2-11:\t 0.04562997817993164 \n",
      "1171292968 \t 2007-2-12:\t 0.04573464393615723 \n",
      "1171379368 \t 2007-2-13:\t 0.04627251625061035 \n",
      "1171465768 \t 2007-2-14:\t 0.046595096588134766 \n",
      "1171552168 \t 2007-2-15:\t 0.04602503776550293 \n",
      "1171638568 \t 2007-2-16:\t 0.04965353012084961 \n",
      "1171724968 \t 2007-2-17:\t 0.04346442222595215 \n",
      "1171811368 \t 2007-2-18:\t 0.04344439506530762 \n",
      "1171897768 \t 2007-2-19:\t 0.04320096969604492 \n",
      "1171984168 \t 2007-2-20:\t 0.045282840728759766 \n",
      "1172070568 \t 2007-2-21:\t 0.038971900939941406 \n",
      "1172156968 \t 2007-2-22:\t 0.04595518112182617 \n",
      "1172243368 \t 2007-2-23:\t 0.03660154342651367 \n",
      "1172329768 \t 2007-2-24:\t 0.03369927406311035 \n",
      "1172416168 \t 2007-2-25:\t 0.04321479797363281 \n",
      "1172502568 \t 2007-2-26:\t 0.04498457908630371 \n",
      "1172588968 \t 2007-2-27:\t 0.044619083404541016 \n",
      "1172675368 \t 2007-2-28:\t 0.04628348350524902 \n",
      "1172761768 \t 2007-3-1:\t 0.04368448257446289 \n",
      "1172848168 \t 2007-3-2:\t 0.04613661766052246 \n",
      "1172934568 \t 2007-3-3:\t 0.04345703125 \n",
      "1173020968 \t 2007-3-4:\t 0.04493236541748047 \n",
      "1173107368 \t 2007-3-5:\t 0.042989492416381836 \n",
      "1173193768 \t 2007-3-6:\t 0.043702125549316406 \n",
      "1173280168 \t 2007-3-7:\t 0.036836862564086914 \n",
      "1173366568 \t 2007-3-8:\t 0.049135446548461914 \n",
      "1173452968 \t 2007-3-9:\t 0.04352211952209473 \n",
      "1173539368 \t 2007-3-10:\t 0.04277849197387695 \n",
      "1173625768 \t 2007-3-11:\t 0.045981645584106445 \n",
      "1173712168 \t 2007-3-12:\t 0.047119855880737305 \n",
      "1173798568 \t 2007-3-13:\t 0.04780292510986328 \n",
      "1173884968 \t 2007-3-14:\t 0.04814028739929199 \n",
      "1173971368 \t 2007-3-15:\t 0.0487518310546875 \n",
      "1174057768 \t 2007-3-16:\t 0.045903682708740234 \n",
      "1174144168 \t 2007-3-17:\t 0.044611215591430664 \n",
      "1174230568 \t 2007-3-18:\t 0.0427854061126709 \n",
      "1174316968 \t 2007-3-19:\t 0.0455629825592041 \n",
      "1174403368 \t 2007-3-20:\t 0.044461727142333984 \n",
      "1174489768 \t 2007-3-21:\t 0.0441436767578125 \n",
      "1174576168 \t 2007-3-22:\t 0.04540753364562988 \n",
      "1174662568 \t 2007-3-23:\t 0.04338669776916504 \n",
      "1174748968 \t 2007-3-24:\t 0.0426638126373291 \n",
      "1174835368 \t 2007-3-25:\t 0.046880245208740234 \n",
      "1174921768 \t 2007-3-26:\t 0.04772639274597168 \n",
      "1175008168 \t 2007-3-27:\t 0.046840667724609375 \n",
      "1175094568 \t 2007-3-28:\t 0.05101728439331055 \n",
      "1175180968 \t 2007-3-29:\t 0.04538559913635254 \n",
      "1175267368 \t 2007-3-30:\t 0.04285407066345215 \n",
      "1175353768 \t 2007-3-31:\t 0.04410052299499512 \n",
      "1175440168 \t 2007-4-1:\t 0.046785831451416016 \n",
      "1175526568 \t 2007-4-2:\t 0.044564247131347656 \n",
      "1175612968 \t 2007-4-3:\t 0.04506659507751465 \n",
      "1175699368 \t 2007-4-4:\t 0.044547080993652344 \n",
      "1175785768 \t 2007-4-5:\t 0.04411435127258301 \n",
      "1175872168 \t 2007-4-6:\t 0.04320263862609863 \n",
      "1175958568 \t 2007-4-7:\t 0.04512524604797363 \n",
      "1176044968 \t 2007-4-8:\t 0.04459953308105469 \n",
      "1176131368 \t 2007-4-9:\t 0.04636526107788086 \n",
      "1176217768 \t 2007-4-10:\t 0.04471874237060547 \n",
      "1176304168 \t 2007-4-11:\t 0.04514431953430176 \n",
      "1176390568 \t 2007-4-12:\t 0.045392513275146484 \n",
      "1176476968 \t 2007-4-13:\t 0.04784512519836426 \n",
      "1176563368 \t 2007-4-14:\t 0.04409027099609375 \n",
      "1176649768 \t 2007-4-15:\t 0.04631972312927246 \n",
      "1176736168 \t 2007-4-16:\t 0.04453468322753906 \n",
      "1176822568 \t 2007-4-17:\t 0.04715538024902344 \n",
      "1176908968 \t 2007-4-18:\t 0.0427241325378418 \n",
      "1176995368 \t 2007-4-19:\t 0.04488396644592285 \n",
      "1177081768 \t 2007-4-20:\t 0.04737424850463867 \n",
      "1177168168 \t 2007-4-21:\t 0.04348635673522949 \n",
      "1177254568 \t 2007-4-22:\t 0.043604135513305664 \n",
      "1177340968 \t 2007-4-23:\t 0.04515385627746582 \n",
      "1177427368 \t 2007-4-24:\t 0.045182228088378906 \n",
      "1177513768 \t 2007-4-25:\t 0.0446474552154541 \n",
      "1177600168 \t 2007-4-26:\t 0.04357123374938965 \n",
      "1177686568 \t 2007-4-27:\t 0.036936283111572266 \n",
      "1177772968 \t 2007-4-28:\t 0.03305459022521973 \n",
      "1177859368 \t 2007-4-29:\t 0.037689924240112305 \n",
      "1177945768 \t 2007-4-30:\t 0.0447697639465332 \n",
      "1178032168 \t 2007-5-1:\t 0.04523324966430664 \n",
      "1178118568 \t 2007-5-2:\t 0.04290962219238281 \n",
      "1178204968 \t 2007-5-3:\t 0.0459442138671875 \n",
      "1178291368 \t 2007-5-4:\t 0.04648327827453613 \n",
      "1178377768 \t 2007-5-5:\t 0.04296112060546875 \n",
      "1178464168 \t 2007-5-6:\t 0.04518747329711914 \n",
      "1178550568 \t 2007-5-7:\t 0.046337127685546875 \n",
      "1178636968 \t 2007-5-8:\t 0.044718265533447266 \n",
      "1178723368 \t 2007-5-9:\t 0.0369570255279541 \n",
      "1178809768 \t 2007-5-10:\t 0.03323221206665039 \n"
     ]
    }
   ],
   "source": [
    "# 3\n",
    "#day_second\n",
    "output_list =[]\n",
    "day_second = 86400\n",
    "week_second = 7*day_second\n",
    "start_list = np.arange(1162393768,1178747998+day_second,day_second)\n",
    "epoch_length = 1800\n",
    "for start_point in start_list:\n",
    "    start_time = time.time()\n",
    "    sub_df = df[(df[unix_column] > start_point) & (df[unix_column] < start_point + day_second)]\n",
    "    sub_df.to_hdf('day2.h5',key=str(start_point),mode='a')\n",
    "    now = time.gmtime(start_point)\n",
    "    print(\"{0} \\t {1}-{2}-{3}:\\t {4} \".format(start_point,now.tm_year,now.tm_mon,now.tm_mday,time.time()-start_time))"
   ]
  },
  {
   "cell_type": "code",
   "execution_count": 3,
   "metadata": {},
   "outputs": [
    {
     "name": "stderr",
     "output_type": "stream",
     "text": [
      "/home/esmidth/.pyenv/versions/miniconda3-4.7.12/envs/ccs_ta/lib/python3.7/site-packages/tables/path.py:155: NaturalNameWarning: object name is not a valid Python identifier: '1162393768'; it does not match the pattern ``^[a-zA-Z_][a-zA-Z0-9_]*$``; you will not be able to use natural naming to access this object; using ``getattr()`` will still work, though\n",
      "  check_attribute_name(name)\n",
      "/home/esmidth/.pyenv/versions/miniconda3-4.7.12/envs/ccs_ta/lib/python3.7/site-packages/tables/path.py:155: NaturalNameWarning: object name is not a valid Python identifier: '1162480168'; it does not match the pattern ``^[a-zA-Z_][a-zA-Z0-9_]*$``; you will not be able to use natural naming to access this object; using ``getattr()`` will still work, though\n",
      "  check_attribute_name(name)\n",
      "/home/esmidth/.pyenv/versions/miniconda3-4.7.12/envs/ccs_ta/lib/python3.7/site-packages/tables/path.py:155: NaturalNameWarning: object name is not a valid Python identifier: '1162566568'; it does not match the pattern ``^[a-zA-Z_][a-zA-Z0-9_]*$``; you will not be able to use natural naming to access this object; using ``getattr()`` will still work, though\n",
      "  check_attribute_name(name)\n",
      "/home/esmidth/.pyenv/versions/miniconda3-4.7.12/envs/ccs_ta/lib/python3.7/site-packages/tables/path.py:155: NaturalNameWarning: object name is not a valid Python identifier: '1162652968'; it does not match the pattern ``^[a-zA-Z_][a-zA-Z0-9_]*$``; you will not be able to use natural naming to access this object; using ``getattr()`` will still work, though\n",
      "  check_attribute_name(name)\n"
     ]
    },
    {
     "name": "stdout",
     "output_type": "stream",
     "text": [
      "1162393768 \t 2006-11-1:\t 0.06640410423278809 \n",
      "1162480168 \t 2006-11-2:\t 0.06470608711242676 \n",
      "1162566568 \t 2006-11-3:\t 0.05804109573364258 \n",
      "1162652968 \t 2006-11-4:\t 0.05748558044433594 \n"
     ]
    },
    {
     "name": "stderr",
     "output_type": "stream",
     "text": [
      "/home/esmidth/.pyenv/versions/miniconda3-4.7.12/envs/ccs_ta/lib/python3.7/site-packages/tables/path.py:155: NaturalNameWarning: object name is not a valid Python identifier: '1162739368'; it does not match the pattern ``^[a-zA-Z_][a-zA-Z0-9_]*$``; you will not be able to use natural naming to access this object; using ``getattr()`` will still work, though\n",
      "  check_attribute_name(name)\n",
      "/home/esmidth/.pyenv/versions/miniconda3-4.7.12/envs/ccs_ta/lib/python3.7/site-packages/tables/path.py:155: NaturalNameWarning: object name is not a valid Python identifier: '1162825768'; it does not match the pattern ``^[a-zA-Z_][a-zA-Z0-9_]*$``; you will not be able to use natural naming to access this object; using ``getattr()`` will still work, though\n",
      "  check_attribute_name(name)\n",
      "/home/esmidth/.pyenv/versions/miniconda3-4.7.12/envs/ccs_ta/lib/python3.7/site-packages/tables/path.py:155: NaturalNameWarning: object name is not a valid Python identifier: '1162912168'; it does not match the pattern ``^[a-zA-Z_][a-zA-Z0-9_]*$``; you will not be able to use natural naming to access this object; using ``getattr()`` will still work, though\n",
      "  check_attribute_name(name)\n",
      "/home/esmidth/.pyenv/versions/miniconda3-4.7.12/envs/ccs_ta/lib/python3.7/site-packages/tables/path.py:155: NaturalNameWarning: object name is not a valid Python identifier: '1162998568'; it does not match the pattern ``^[a-zA-Z_][a-zA-Z0-9_]*$``; you will not be able to use natural naming to access this object; using ``getattr()`` will still work, though\n",
      "  check_attribute_name(name)\n"
     ]
    },
    {
     "name": "stdout",
     "output_type": "stream",
     "text": [
      "1162739368 \t 2006-11-5:\t 0.056878089904785156 \n",
      "1162825768 \t 2006-11-6:\t 0.05431652069091797 \n",
      "1162912168 \t 2006-11-7:\t 0.0571138858795166 \n",
      "1162998568 \t 2006-11-8:\t 0.05834317207336426 \n"
     ]
    },
    {
     "name": "stderr",
     "output_type": "stream",
     "text": [
      "/home/esmidth/.pyenv/versions/miniconda3-4.7.12/envs/ccs_ta/lib/python3.7/site-packages/tables/path.py:155: NaturalNameWarning: object name is not a valid Python identifier: '1163084968'; it does not match the pattern ``^[a-zA-Z_][a-zA-Z0-9_]*$``; you will not be able to use natural naming to access this object; using ``getattr()`` will still work, though\n",
      "  check_attribute_name(name)\n",
      "/home/esmidth/.pyenv/versions/miniconda3-4.7.12/envs/ccs_ta/lib/python3.7/site-packages/tables/path.py:155: NaturalNameWarning: object name is not a valid Python identifier: '1163171368'; it does not match the pattern ``^[a-zA-Z_][a-zA-Z0-9_]*$``; you will not be able to use natural naming to access this object; using ``getattr()`` will still work, though\n",
      "  check_attribute_name(name)\n",
      "/home/esmidth/.pyenv/versions/miniconda3-4.7.12/envs/ccs_ta/lib/python3.7/site-packages/tables/path.py:155: NaturalNameWarning: object name is not a valid Python identifier: '1163257768'; it does not match the pattern ``^[a-zA-Z_][a-zA-Z0-9_]*$``; you will not be able to use natural naming to access this object; using ``getattr()`` will still work, though\n",
      "  check_attribute_name(name)\n",
      "/home/esmidth/.pyenv/versions/miniconda3-4.7.12/envs/ccs_ta/lib/python3.7/site-packages/tables/path.py:155: NaturalNameWarning: object name is not a valid Python identifier: '1163344168'; it does not match the pattern ``^[a-zA-Z_][a-zA-Z0-9_]*$``; you will not be able to use natural naming to access this object; using ``getattr()`` will still work, though\n",
      "  check_attribute_name(name)\n"
     ]
    },
    {
     "name": "stdout",
     "output_type": "stream",
     "text": [
      "1163084968 \t 2006-11-9:\t 0.05987381935119629 \n",
      "1163171368 \t 2006-11-10:\t 0.06271219253540039 \n",
      "1163257768 \t 2006-11-11:\t 0.06009507179260254 \n",
      "1163344168 \t 2006-11-12:\t 0.05873465538024902 \n"
     ]
    },
    {
     "name": "stderr",
     "output_type": "stream",
     "text": [
      "/home/esmidth/.pyenv/versions/miniconda3-4.7.12/envs/ccs_ta/lib/python3.7/site-packages/tables/path.py:155: NaturalNameWarning: object name is not a valid Python identifier: '1163430568'; it does not match the pattern ``^[a-zA-Z_][a-zA-Z0-9_]*$``; you will not be able to use natural naming to access this object; using ``getattr()`` will still work, though\n",
      "  check_attribute_name(name)\n",
      "/home/esmidth/.pyenv/versions/miniconda3-4.7.12/envs/ccs_ta/lib/python3.7/site-packages/tables/path.py:155: NaturalNameWarning: object name is not a valid Python identifier: '1163516968'; it does not match the pattern ``^[a-zA-Z_][a-zA-Z0-9_]*$``; you will not be able to use natural naming to access this object; using ``getattr()`` will still work, though\n",
      "  check_attribute_name(name)\n",
      "/home/esmidth/.pyenv/versions/miniconda3-4.7.12/envs/ccs_ta/lib/python3.7/site-packages/tables/path.py:155: NaturalNameWarning: object name is not a valid Python identifier: '1163603368'; it does not match the pattern ``^[a-zA-Z_][a-zA-Z0-9_]*$``; you will not be able to use natural naming to access this object; using ``getattr()`` will still work, though\n",
      "  check_attribute_name(name)\n",
      "/home/esmidth/.pyenv/versions/miniconda3-4.7.12/envs/ccs_ta/lib/python3.7/site-packages/tables/path.py:155: NaturalNameWarning: object name is not a valid Python identifier: '1163689768'; it does not match the pattern ``^[a-zA-Z_][a-zA-Z0-9_]*$``; you will not be able to use natural naming to access this object; using ``getattr()`` will still work, though\n",
      "  check_attribute_name(name)\n"
     ]
    },
    {
     "name": "stdout",
     "output_type": "stream",
     "text": [
      "1163430568 \t 2006-11-13:\t 0.058251142501831055 \n",
      "1163516968 \t 2006-11-14:\t 0.06054067611694336 \n",
      "1163603368 \t 2006-11-15:\t 0.06273198127746582 \n",
      "1163689768 \t 2006-11-16:\t 0.06090903282165527 \n"
     ]
    },
    {
     "name": "stderr",
     "output_type": "stream",
     "text": [
      "/home/esmidth/.pyenv/versions/miniconda3-4.7.12/envs/ccs_ta/lib/python3.7/site-packages/tables/path.py:155: NaturalNameWarning: object name is not a valid Python identifier: '1163776168'; it does not match the pattern ``^[a-zA-Z_][a-zA-Z0-9_]*$``; you will not be able to use natural naming to access this object; using ``getattr()`` will still work, though\n",
      "  check_attribute_name(name)\n",
      "/home/esmidth/.pyenv/versions/miniconda3-4.7.12/envs/ccs_ta/lib/python3.7/site-packages/tables/path.py:155: NaturalNameWarning: object name is not a valid Python identifier: '1163862568'; it does not match the pattern ``^[a-zA-Z_][a-zA-Z0-9_]*$``; you will not be able to use natural naming to access this object; using ``getattr()`` will still work, though\n",
      "  check_attribute_name(name)\n",
      "/home/esmidth/.pyenv/versions/miniconda3-4.7.12/envs/ccs_ta/lib/python3.7/site-packages/tables/path.py:155: NaturalNameWarning: object name is not a valid Python identifier: '1163948968'; it does not match the pattern ``^[a-zA-Z_][a-zA-Z0-9_]*$``; you will not be able to use natural naming to access this object; using ``getattr()`` will still work, though\n",
      "  check_attribute_name(name)\n",
      "/home/esmidth/.pyenv/versions/miniconda3-4.7.12/envs/ccs_ta/lib/python3.7/site-packages/tables/path.py:155: NaturalNameWarning: object name is not a valid Python identifier: '1164035368'; it does not match the pattern ``^[a-zA-Z_][a-zA-Z0-9_]*$``; you will not be able to use natural naming to access this object; using ``getattr()`` will still work, though\n",
      "  check_attribute_name(name)\n"
     ]
    },
    {
     "name": "stdout",
     "output_type": "stream",
     "text": [
      "1163776168 \t 2006-11-17:\t 0.05955910682678223 \n",
      "1163862568 \t 2006-11-18:\t 0.047295570373535156 \n",
      "1163948968 \t 2006-11-19:\t 0.05979609489440918 \n",
      "1164035368 \t 2006-11-20:\t 0.058431386947631836 \n"
     ]
    },
    {
     "name": "stderr",
     "output_type": "stream",
     "text": [
      "/home/esmidth/.pyenv/versions/miniconda3-4.7.12/envs/ccs_ta/lib/python3.7/site-packages/tables/path.py:155: NaturalNameWarning: object name is not a valid Python identifier: '1164121768'; it does not match the pattern ``^[a-zA-Z_][a-zA-Z0-9_]*$``; you will not be able to use natural naming to access this object; using ``getattr()`` will still work, though\n",
      "  check_attribute_name(name)\n",
      "/home/esmidth/.pyenv/versions/miniconda3-4.7.12/envs/ccs_ta/lib/python3.7/site-packages/tables/path.py:155: NaturalNameWarning: object name is not a valid Python identifier: '1164208168'; it does not match the pattern ``^[a-zA-Z_][a-zA-Z0-9_]*$``; you will not be able to use natural naming to access this object; using ``getattr()`` will still work, though\n",
      "  check_attribute_name(name)\n",
      "/home/esmidth/.pyenv/versions/miniconda3-4.7.12/envs/ccs_ta/lib/python3.7/site-packages/tables/path.py:155: NaturalNameWarning: object name is not a valid Python identifier: '1164294568'; it does not match the pattern ``^[a-zA-Z_][a-zA-Z0-9_]*$``; you will not be able to use natural naming to access this object; using ``getattr()`` will still work, though\n",
      "  check_attribute_name(name)\n",
      "/home/esmidth/.pyenv/versions/miniconda3-4.7.12/envs/ccs_ta/lib/python3.7/site-packages/tables/path.py:155: NaturalNameWarning: object name is not a valid Python identifier: '1164380968'; it does not match the pattern ``^[a-zA-Z_][a-zA-Z0-9_]*$``; you will not be able to use natural naming to access this object; using ``getattr()`` will still work, though\n",
      "  check_attribute_name(name)\n"
     ]
    },
    {
     "name": "stdout",
     "output_type": "stream",
     "text": [
      "1164121768 \t 2006-11-21:\t 0.06277155876159668 \n",
      "1164208168 \t 2006-11-22:\t 0.06298041343688965 \n",
      "1164294568 \t 2006-11-23:\t 0.06467556953430176 \n",
      "1164380968 \t 2006-11-24:\t 0.06728100776672363 \n"
     ]
    },
    {
     "name": "stderr",
     "output_type": "stream",
     "text": [
      "/home/esmidth/.pyenv/versions/miniconda3-4.7.12/envs/ccs_ta/lib/python3.7/site-packages/tables/path.py:155: NaturalNameWarning: object name is not a valid Python identifier: '1164467368'; it does not match the pattern ``^[a-zA-Z_][a-zA-Z0-9_]*$``; you will not be able to use natural naming to access this object; using ``getattr()`` will still work, though\n",
      "  check_attribute_name(name)\n",
      "/home/esmidth/.pyenv/versions/miniconda3-4.7.12/envs/ccs_ta/lib/python3.7/site-packages/tables/path.py:155: NaturalNameWarning: object name is not a valid Python identifier: '1164553768'; it does not match the pattern ``^[a-zA-Z_][a-zA-Z0-9_]*$``; you will not be able to use natural naming to access this object; using ``getattr()`` will still work, though\n",
      "  check_attribute_name(name)\n",
      "/home/esmidth/.pyenv/versions/miniconda3-4.7.12/envs/ccs_ta/lib/python3.7/site-packages/tables/path.py:155: NaturalNameWarning: object name is not a valid Python identifier: '1164640168'; it does not match the pattern ``^[a-zA-Z_][a-zA-Z0-9_]*$``; you will not be able to use natural naming to access this object; using ``getattr()`` will still work, though\n",
      "  check_attribute_name(name)\n",
      "/home/esmidth/.pyenv/versions/miniconda3-4.7.12/envs/ccs_ta/lib/python3.7/site-packages/tables/path.py:155: NaturalNameWarning: object name is not a valid Python identifier: '1164726568'; it does not match the pattern ``^[a-zA-Z_][a-zA-Z0-9_]*$``; you will not be able to use natural naming to access this object; using ``getattr()`` will still work, though\n",
      "  check_attribute_name(name)\n"
     ]
    },
    {
     "name": "stdout",
     "output_type": "stream",
     "text": [
      "1164467368 \t 2006-11-25:\t 0.06560730934143066 \n",
      "1164553768 \t 2006-11-26:\t 0.06334090232849121 \n",
      "1164640168 \t 2006-11-27:\t 0.06215023994445801 \n",
      "1164726568 \t 2006-11-28:\t 0.0660562515258789 \n"
     ]
    },
    {
     "name": "stderr",
     "output_type": "stream",
     "text": [
      "/home/esmidth/.pyenv/versions/miniconda3-4.7.12/envs/ccs_ta/lib/python3.7/site-packages/tables/path.py:155: NaturalNameWarning: object name is not a valid Python identifier: '1164812968'; it does not match the pattern ``^[a-zA-Z_][a-zA-Z0-9_]*$``; you will not be able to use natural naming to access this object; using ``getattr()`` will still work, though\n",
      "  check_attribute_name(name)\n",
      "/home/esmidth/.pyenv/versions/miniconda3-4.7.12/envs/ccs_ta/lib/python3.7/site-packages/tables/path.py:155: NaturalNameWarning: object name is not a valid Python identifier: '1164899368'; it does not match the pattern ``^[a-zA-Z_][a-zA-Z0-9_]*$``; you will not be able to use natural naming to access this object; using ``getattr()`` will still work, though\n",
      "  check_attribute_name(name)\n",
      "/home/esmidth/.pyenv/versions/miniconda3-4.7.12/envs/ccs_ta/lib/python3.7/site-packages/tables/path.py:155: NaturalNameWarning: object name is not a valid Python identifier: '1164985768'; it does not match the pattern ``^[a-zA-Z_][a-zA-Z0-9_]*$``; you will not be able to use natural naming to access this object; using ``getattr()`` will still work, though\n",
      "  check_attribute_name(name)\n",
      "/home/esmidth/.pyenv/versions/miniconda3-4.7.12/envs/ccs_ta/lib/python3.7/site-packages/tables/path.py:155: NaturalNameWarning: object name is not a valid Python identifier: '1165072168'; it does not match the pattern ``^[a-zA-Z_][a-zA-Z0-9_]*$``; you will not be able to use natural naming to access this object; using ``getattr()`` will still work, though\n",
      "  check_attribute_name(name)\n"
     ]
    },
    {
     "name": "stdout",
     "output_type": "stream",
     "text": [
      "1164812968 \t 2006-11-29:\t 0.060027122497558594 \n",
      "1164899368 \t 2006-11-30:\t 0.06572127342224121 \n",
      "1164985768 \t 2006-12-1:\t 0.06481003761291504 \n",
      "1165072168 \t 2006-12-2:\t 0.06622886657714844 \n"
     ]
    },
    {
     "name": "stderr",
     "output_type": "stream",
     "text": [
      "/home/esmidth/.pyenv/versions/miniconda3-4.7.12/envs/ccs_ta/lib/python3.7/site-packages/tables/path.py:155: NaturalNameWarning: object name is not a valid Python identifier: '1165158568'; it does not match the pattern ``^[a-zA-Z_][a-zA-Z0-9_]*$``; you will not be able to use natural naming to access this object; using ``getattr()`` will still work, though\n",
      "  check_attribute_name(name)\n",
      "/home/esmidth/.pyenv/versions/miniconda3-4.7.12/envs/ccs_ta/lib/python3.7/site-packages/tables/path.py:155: NaturalNameWarning: object name is not a valid Python identifier: '1165244968'; it does not match the pattern ``^[a-zA-Z_][a-zA-Z0-9_]*$``; you will not be able to use natural naming to access this object; using ``getattr()`` will still work, though\n",
      "  check_attribute_name(name)\n",
      "/home/esmidth/.pyenv/versions/miniconda3-4.7.12/envs/ccs_ta/lib/python3.7/site-packages/tables/path.py:155: NaturalNameWarning: object name is not a valid Python identifier: '1165331368'; it does not match the pattern ``^[a-zA-Z_][a-zA-Z0-9_]*$``; you will not be able to use natural naming to access this object; using ``getattr()`` will still work, though\n",
      "  check_attribute_name(name)\n",
      "/home/esmidth/.pyenv/versions/miniconda3-4.7.12/envs/ccs_ta/lib/python3.7/site-packages/tables/path.py:155: NaturalNameWarning: object name is not a valid Python identifier: '1165417768'; it does not match the pattern ``^[a-zA-Z_][a-zA-Z0-9_]*$``; you will not be able to use natural naming to access this object; using ``getattr()`` will still work, though\n",
      "  check_attribute_name(name)\n"
     ]
    },
    {
     "name": "stdout",
     "output_type": "stream",
     "text": [
      "1165158568 \t 2006-12-3:\t 0.06415677070617676 \n",
      "1165244968 \t 2006-12-4:\t 0.06395125389099121 \n",
      "1165331368 \t 2006-12-5:\t 0.06474184989929199 \n",
      "1165417768 \t 2006-12-6:\t 0.06337928771972656 \n"
     ]
    },
    {
     "name": "stderr",
     "output_type": "stream",
     "text": [
      "/home/esmidth/.pyenv/versions/miniconda3-4.7.12/envs/ccs_ta/lib/python3.7/site-packages/tables/path.py:155: NaturalNameWarning: object name is not a valid Python identifier: '1165504168'; it does not match the pattern ``^[a-zA-Z_][a-zA-Z0-9_]*$``; you will not be able to use natural naming to access this object; using ``getattr()`` will still work, though\n",
      "  check_attribute_name(name)\n",
      "/home/esmidth/.pyenv/versions/miniconda3-4.7.12/envs/ccs_ta/lib/python3.7/site-packages/tables/path.py:155: NaturalNameWarning: object name is not a valid Python identifier: '1165590568'; it does not match the pattern ``^[a-zA-Z_][a-zA-Z0-9_]*$``; you will not be able to use natural naming to access this object; using ``getattr()`` will still work, though\n",
      "  check_attribute_name(name)\n",
      "/home/esmidth/.pyenv/versions/miniconda3-4.7.12/envs/ccs_ta/lib/python3.7/site-packages/tables/path.py:155: NaturalNameWarning: object name is not a valid Python identifier: '1165676968'; it does not match the pattern ``^[a-zA-Z_][a-zA-Z0-9_]*$``; you will not be able to use natural naming to access this object; using ``getattr()`` will still work, though\n",
      "  check_attribute_name(name)\n",
      "/home/esmidth/.pyenv/versions/miniconda3-4.7.12/envs/ccs_ta/lib/python3.7/site-packages/tables/path.py:155: NaturalNameWarning: object name is not a valid Python identifier: '1165763368'; it does not match the pattern ``^[a-zA-Z_][a-zA-Z0-9_]*$``; you will not be able to use natural naming to access this object; using ``getattr()`` will still work, though\n",
      "  check_attribute_name(name)\n"
     ]
    },
    {
     "name": "stdout",
     "output_type": "stream",
     "text": [
      "1165504168 \t 2006-12-7:\t 0.06702804565429688 \n",
      "1165590568 \t 2006-12-8:\t 0.06380128860473633 \n",
      "1165676968 \t 2006-12-9:\t 0.06171107292175293 \n",
      "1165763368 \t 2006-12-10:\t 0.06385517120361328 \n"
     ]
    },
    {
     "name": "stderr",
     "output_type": "stream",
     "text": [
      "/home/esmidth/.pyenv/versions/miniconda3-4.7.12/envs/ccs_ta/lib/python3.7/site-packages/tables/path.py:155: NaturalNameWarning: object name is not a valid Python identifier: '1165849768'; it does not match the pattern ``^[a-zA-Z_][a-zA-Z0-9_]*$``; you will not be able to use natural naming to access this object; using ``getattr()`` will still work, though\n",
      "  check_attribute_name(name)\n",
      "/home/esmidth/.pyenv/versions/miniconda3-4.7.12/envs/ccs_ta/lib/python3.7/site-packages/tables/path.py:155: NaturalNameWarning: object name is not a valid Python identifier: '1165936168'; it does not match the pattern ``^[a-zA-Z_][a-zA-Z0-9_]*$``; you will not be able to use natural naming to access this object; using ``getattr()`` will still work, though\n",
      "  check_attribute_name(name)\n",
      "/home/esmidth/.pyenv/versions/miniconda3-4.7.12/envs/ccs_ta/lib/python3.7/site-packages/tables/path.py:155: NaturalNameWarning: object name is not a valid Python identifier: '1166022568'; it does not match the pattern ``^[a-zA-Z_][a-zA-Z0-9_]*$``; you will not be able to use natural naming to access this object; using ``getattr()`` will still work, though\n",
      "  check_attribute_name(name)\n",
      "/home/esmidth/.pyenv/versions/miniconda3-4.7.12/envs/ccs_ta/lib/python3.7/site-packages/tables/path.py:155: NaturalNameWarning: object name is not a valid Python identifier: '1166108968'; it does not match the pattern ``^[a-zA-Z_][a-zA-Z0-9_]*$``; you will not be able to use natural naming to access this object; using ``getattr()`` will still work, though\n",
      "  check_attribute_name(name)\n"
     ]
    },
    {
     "name": "stdout",
     "output_type": "stream",
     "text": [
      "1165849768 \t 2006-12-11:\t 0.06466794013977051 \n",
      "1165936168 \t 2006-12-12:\t 0.06660246849060059 \n",
      "1166022568 \t 2006-12-13:\t 0.06582069396972656 \n",
      "1166108968 \t 2006-12-14:\t 0.0685262680053711 \n",
      "1166195368 \t 2006-12-15:\t 0.06755757331848145 \n",
      "1166281768 \t 2006-12-16:\t 0.06784391403198242 \n",
      "1166368168 \t 2006-12-17:\t 0.06561779975891113 \n"
     ]
    },
    {
     "name": "stderr",
     "output_type": "stream",
     "text": [
      "/home/esmidth/.pyenv/versions/miniconda3-4.7.12/envs/ccs_ta/lib/python3.7/site-packages/tables/path.py:155: NaturalNameWarning: object name is not a valid Python identifier: '1166195368'; it does not match the pattern ``^[a-zA-Z_][a-zA-Z0-9_]*$``; you will not be able to use natural naming to access this object; using ``getattr()`` will still work, though\n",
      "  check_attribute_name(name)\n",
      "/home/esmidth/.pyenv/versions/miniconda3-4.7.12/envs/ccs_ta/lib/python3.7/site-packages/tables/path.py:155: NaturalNameWarning: object name is not a valid Python identifier: '1166281768'; it does not match the pattern ``^[a-zA-Z_][a-zA-Z0-9_]*$``; you will not be able to use natural naming to access this object; using ``getattr()`` will still work, though\n",
      "  check_attribute_name(name)\n",
      "/home/esmidth/.pyenv/versions/miniconda3-4.7.12/envs/ccs_ta/lib/python3.7/site-packages/tables/path.py:155: NaturalNameWarning: object name is not a valid Python identifier: '1166368168'; it does not match the pattern ``^[a-zA-Z_][a-zA-Z0-9_]*$``; you will not be able to use natural naming to access this object; using ``getattr()`` will still work, though\n",
      "  check_attribute_name(name)\n",
      "/home/esmidth/.pyenv/versions/miniconda3-4.7.12/envs/ccs_ta/lib/python3.7/site-packages/tables/path.py:155: NaturalNameWarning: object name is not a valid Python identifier: '1166454568'; it does not match the pattern ``^[a-zA-Z_][a-zA-Z0-9_]*$``; you will not be able to use natural naming to access this object; using ``getattr()`` will still work, though\n",
      "  check_attribute_name(name)\n"
     ]
    },
    {
     "name": "stdout",
     "output_type": "stream",
     "text": [
      "1166454568 \t 2006-12-18:\t 0.06832218170166016 \n",
      "1166540968 \t 2006-12-19:\t 0.06612229347229004 \n",
      "1166627368 \t 2006-12-20:\t 0.06595611572265625 \n"
     ]
    },
    {
     "name": "stderr",
     "output_type": "stream",
     "text": [
      "/home/esmidth/.pyenv/versions/miniconda3-4.7.12/envs/ccs_ta/lib/python3.7/site-packages/tables/path.py:155: NaturalNameWarning: object name is not a valid Python identifier: '1166540968'; it does not match the pattern ``^[a-zA-Z_][a-zA-Z0-9_]*$``; you will not be able to use natural naming to access this object; using ``getattr()`` will still work, though\n",
      "  check_attribute_name(name)\n",
      "/home/esmidth/.pyenv/versions/miniconda3-4.7.12/envs/ccs_ta/lib/python3.7/site-packages/tables/path.py:155: NaturalNameWarning: object name is not a valid Python identifier: '1166627368'; it does not match the pattern ``^[a-zA-Z_][a-zA-Z0-9_]*$``; you will not be able to use natural naming to access this object; using ``getattr()`` will still work, though\n",
      "  check_attribute_name(name)\n",
      "/home/esmidth/.pyenv/versions/miniconda3-4.7.12/envs/ccs_ta/lib/python3.7/site-packages/tables/path.py:155: NaturalNameWarning: object name is not a valid Python identifier: '1166713768'; it does not match the pattern ``^[a-zA-Z_][a-zA-Z0-9_]*$``; you will not be able to use natural naming to access this object; using ``getattr()`` will still work, though\n",
      "  check_attribute_name(name)\n"
     ]
    },
    {
     "name": "stdout",
     "output_type": "stream",
     "text": [
      "1166713768 \t 2006-12-21:\t 0.07206559181213379 \n",
      "1166800168 \t 2006-12-22:\t 0.07150912284851074 \n",
      "1166886568 \t 2006-12-23:\t 0.07329511642456055 \n"
     ]
    },
    {
     "name": "stderr",
     "output_type": "stream",
     "text": [
      "/home/esmidth/.pyenv/versions/miniconda3-4.7.12/envs/ccs_ta/lib/python3.7/site-packages/tables/path.py:155: NaturalNameWarning: object name is not a valid Python identifier: '1166800168'; it does not match the pattern ``^[a-zA-Z_][a-zA-Z0-9_]*$``; you will not be able to use natural naming to access this object; using ``getattr()`` will still work, though\n",
      "  check_attribute_name(name)\n",
      "/home/esmidth/.pyenv/versions/miniconda3-4.7.12/envs/ccs_ta/lib/python3.7/site-packages/tables/path.py:155: NaturalNameWarning: object name is not a valid Python identifier: '1166886568'; it does not match the pattern ``^[a-zA-Z_][a-zA-Z0-9_]*$``; you will not be able to use natural naming to access this object; using ``getattr()`` will still work, though\n",
      "  check_attribute_name(name)\n",
      "/home/esmidth/.pyenv/versions/miniconda3-4.7.12/envs/ccs_ta/lib/python3.7/site-packages/tables/path.py:155: NaturalNameWarning: object name is not a valid Python identifier: '1166972968'; it does not match the pattern ``^[a-zA-Z_][a-zA-Z0-9_]*$``; you will not be able to use natural naming to access this object; using ``getattr()`` will still work, though\n",
      "  check_attribute_name(name)\n"
     ]
    },
    {
     "name": "stdout",
     "output_type": "stream",
     "text": [
      "1166972968 \t 2006-12-24:\t 0.07234716415405273 \n",
      "1167059368 \t 2006-12-25:\t 0.07045531272888184 \n",
      "1167145768 \t 2006-12-26:\t 0.07263875007629395 \n"
     ]
    },
    {
     "name": "stderr",
     "output_type": "stream",
     "text": [
      "/home/esmidth/.pyenv/versions/miniconda3-4.7.12/envs/ccs_ta/lib/python3.7/site-packages/tables/path.py:155: NaturalNameWarning: object name is not a valid Python identifier: '1167059368'; it does not match the pattern ``^[a-zA-Z_][a-zA-Z0-9_]*$``; you will not be able to use natural naming to access this object; using ``getattr()`` will still work, though\n",
      "  check_attribute_name(name)\n",
      "/home/esmidth/.pyenv/versions/miniconda3-4.7.12/envs/ccs_ta/lib/python3.7/site-packages/tables/path.py:155: NaturalNameWarning: object name is not a valid Python identifier: '1167145768'; it does not match the pattern ``^[a-zA-Z_][a-zA-Z0-9_]*$``; you will not be able to use natural naming to access this object; using ``getattr()`` will still work, though\n",
      "  check_attribute_name(name)\n",
      "/home/esmidth/.pyenv/versions/miniconda3-4.7.12/envs/ccs_ta/lib/python3.7/site-packages/tables/path.py:155: NaturalNameWarning: object name is not a valid Python identifier: '1167232168'; it does not match the pattern ``^[a-zA-Z_][a-zA-Z0-9_]*$``; you will not be able to use natural naming to access this object; using ``getattr()`` will still work, though\n",
      "  check_attribute_name(name)\n"
     ]
    },
    {
     "name": "stdout",
     "output_type": "stream",
     "text": [
      "1167232168 \t 2006-12-27:\t 0.07415890693664551 \n",
      "1167318568 \t 2006-12-28:\t 0.0729978084564209 \n",
      "1167404968 \t 2006-12-29:\t 0.0722048282623291 \n"
     ]
    },
    {
     "name": "stderr",
     "output_type": "stream",
     "text": [
      "/home/esmidth/.pyenv/versions/miniconda3-4.7.12/envs/ccs_ta/lib/python3.7/site-packages/tables/path.py:155: NaturalNameWarning: object name is not a valid Python identifier: '1167318568'; it does not match the pattern ``^[a-zA-Z_][a-zA-Z0-9_]*$``; you will not be able to use natural naming to access this object; using ``getattr()`` will still work, though\n",
      "  check_attribute_name(name)\n",
      "/home/esmidth/.pyenv/versions/miniconda3-4.7.12/envs/ccs_ta/lib/python3.7/site-packages/tables/path.py:155: NaturalNameWarning: object name is not a valid Python identifier: '1167404968'; it does not match the pattern ``^[a-zA-Z_][a-zA-Z0-9_]*$``; you will not be able to use natural naming to access this object; using ``getattr()`` will still work, though\n",
      "  check_attribute_name(name)\n",
      "/home/esmidth/.pyenv/versions/miniconda3-4.7.12/envs/ccs_ta/lib/python3.7/site-packages/tables/path.py:155: NaturalNameWarning: object name is not a valid Python identifier: '1167491368'; it does not match the pattern ``^[a-zA-Z_][a-zA-Z0-9_]*$``; you will not be able to use natural naming to access this object; using ``getattr()`` will still work, though\n",
      "  check_attribute_name(name)\n"
     ]
    },
    {
     "name": "stdout",
     "output_type": "stream",
     "text": [
      "1167491368 \t 2006-12-30:\t 0.06525158882141113 \n",
      "1167577768 \t 2006-12-31:\t 0.07179474830627441 \n",
      "1167664168 \t 2007-1-1:\t 0.06366086006164551 \n"
     ]
    },
    {
     "name": "stderr",
     "output_type": "stream",
     "text": [
      "/home/esmidth/.pyenv/versions/miniconda3-4.7.12/envs/ccs_ta/lib/python3.7/site-packages/tables/path.py:155: NaturalNameWarning: object name is not a valid Python identifier: '1167577768'; it does not match the pattern ``^[a-zA-Z_][a-zA-Z0-9_]*$``; you will not be able to use natural naming to access this object; using ``getattr()`` will still work, though\n",
      "  check_attribute_name(name)\n",
      "/home/esmidth/.pyenv/versions/miniconda3-4.7.12/envs/ccs_ta/lib/python3.7/site-packages/tables/path.py:155: NaturalNameWarning: object name is not a valid Python identifier: '1167664168'; it does not match the pattern ``^[a-zA-Z_][a-zA-Z0-9_]*$``; you will not be able to use natural naming to access this object; using ``getattr()`` will still work, though\n",
      "  check_attribute_name(name)\n",
      "/home/esmidth/.pyenv/versions/miniconda3-4.7.12/envs/ccs_ta/lib/python3.7/site-packages/tables/path.py:155: NaturalNameWarning: object name is not a valid Python identifier: '1167750568'; it does not match the pattern ``^[a-zA-Z_][a-zA-Z0-9_]*$``; you will not be able to use natural naming to access this object; using ``getattr()`` will still work, though\n",
      "  check_attribute_name(name)\n",
      "/home/esmidth/.pyenv/versions/miniconda3-4.7.12/envs/ccs_ta/lib/python3.7/site-packages/tables/path.py:155: NaturalNameWarning: object name is not a valid Python identifier: '1167836968'; it does not match the pattern ``^[a-zA-Z_][a-zA-Z0-9_]*$``; you will not be able to use natural naming to access this object; using ``getattr()`` will still work, though\n",
      "  check_attribute_name(name)\n"
     ]
    },
    {
     "name": "stdout",
     "output_type": "stream",
     "text": [
      "1167750568 \t 2007-1-2:\t 0.06772923469543457 \n",
      "1167836968 \t 2007-1-3:\t 0.06901264190673828 \n",
      "1167923368 \t 2007-1-4:\t 0.06393074989318848 \n",
      "1168009768 \t 2007-1-5:\t 0.0670623779296875 \n"
     ]
    },
    {
     "name": "stderr",
     "output_type": "stream",
     "text": [
      "/home/esmidth/.pyenv/versions/miniconda3-4.7.12/envs/ccs_ta/lib/python3.7/site-packages/tables/path.py:155: NaturalNameWarning: object name is not a valid Python identifier: '1167923368'; it does not match the pattern ``^[a-zA-Z_][a-zA-Z0-9_]*$``; you will not be able to use natural naming to access this object; using ``getattr()`` will still work, though\n",
      "  check_attribute_name(name)\n",
      "/home/esmidth/.pyenv/versions/miniconda3-4.7.12/envs/ccs_ta/lib/python3.7/site-packages/tables/path.py:155: NaturalNameWarning: object name is not a valid Python identifier: '1168009768'; it does not match the pattern ``^[a-zA-Z_][a-zA-Z0-9_]*$``; you will not be able to use natural naming to access this object; using ``getattr()`` will still work, though\n",
      "  check_attribute_name(name)\n",
      "/home/esmidth/.pyenv/versions/miniconda3-4.7.12/envs/ccs_ta/lib/python3.7/site-packages/tables/path.py:155: NaturalNameWarning: object name is not a valid Python identifier: '1168096168'; it does not match the pattern ``^[a-zA-Z_][a-zA-Z0-9_]*$``; you will not be able to use natural naming to access this object; using ``getattr()`` will still work, though\n",
      "  check_attribute_name(name)\n",
      "/home/esmidth/.pyenv/versions/miniconda3-4.7.12/envs/ccs_ta/lib/python3.7/site-packages/tables/path.py:155: NaturalNameWarning: object name is not a valid Python identifier: '1168182568'; it does not match the pattern ``^[a-zA-Z_][a-zA-Z0-9_]*$``; you will not be able to use natural naming to access this object; using ``getattr()`` will still work, though\n",
      "  check_attribute_name(name)\n"
     ]
    },
    {
     "name": "stdout",
     "output_type": "stream",
     "text": [
      "1168096168 \t 2007-1-6:\t 0.0647735595703125 \n",
      "1168182568 \t 2007-1-7:\t 0.07408785820007324 \n",
      "1168268968 \t 2007-1-8:\t 0.061142921447753906 \n"
     ]
    },
    {
     "name": "stderr",
     "output_type": "stream",
     "text": [
      "/home/esmidth/.pyenv/versions/miniconda3-4.7.12/envs/ccs_ta/lib/python3.7/site-packages/tables/path.py:155: NaturalNameWarning: object name is not a valid Python identifier: '1168268968'; it does not match the pattern ``^[a-zA-Z_][a-zA-Z0-9_]*$``; you will not be able to use natural naming to access this object; using ``getattr()`` will still work, though\n",
      "  check_attribute_name(name)\n",
      "/home/esmidth/.pyenv/versions/miniconda3-4.7.12/envs/ccs_ta/lib/python3.7/site-packages/tables/path.py:155: NaturalNameWarning: object name is not a valid Python identifier: '1168355368'; it does not match the pattern ``^[a-zA-Z_][a-zA-Z0-9_]*$``; you will not be able to use natural naming to access this object; using ``getattr()`` will still work, though\n",
      "  check_attribute_name(name)\n",
      "/home/esmidth/.pyenv/versions/miniconda3-4.7.12/envs/ccs_ta/lib/python3.7/site-packages/tables/path.py:155: NaturalNameWarning: object name is not a valid Python identifier: '1168441768'; it does not match the pattern ``^[a-zA-Z_][a-zA-Z0-9_]*$``; you will not be able to use natural naming to access this object; using ``getattr()`` will still work, though\n",
      "  check_attribute_name(name)\n",
      "/home/esmidth/.pyenv/versions/miniconda3-4.7.12/envs/ccs_ta/lib/python3.7/site-packages/tables/path.py:155: NaturalNameWarning: object name is not a valid Python identifier: '1168528168'; it does not match the pattern ``^[a-zA-Z_][a-zA-Z0-9_]*$``; you will not be able to use natural naming to access this object; using ``getattr()`` will still work, though\n",
      "  check_attribute_name(name)\n"
     ]
    },
    {
     "name": "stdout",
     "output_type": "stream",
     "text": [
      "1168355368 \t 2007-1-9:\t 0.07009220123291016 \n",
      "1168441768 \t 2007-1-10:\t 0.06818699836730957 \n",
      "1168528168 \t 2007-1-11:\t 0.06601977348327637 \n",
      "1168614568 \t 2007-1-12:\t 0.06601285934448242 \n"
     ]
    },
    {
     "name": "stderr",
     "output_type": "stream",
     "text": [
      "/home/esmidth/.pyenv/versions/miniconda3-4.7.12/envs/ccs_ta/lib/python3.7/site-packages/tables/path.py:155: NaturalNameWarning: object name is not a valid Python identifier: '1168614568'; it does not match the pattern ``^[a-zA-Z_][a-zA-Z0-9_]*$``; you will not be able to use natural naming to access this object; using ``getattr()`` will still work, though\n",
      "  check_attribute_name(name)\n",
      "/home/esmidth/.pyenv/versions/miniconda3-4.7.12/envs/ccs_ta/lib/python3.7/site-packages/tables/path.py:155: NaturalNameWarning: object name is not a valid Python identifier: '1168700968'; it does not match the pattern ``^[a-zA-Z_][a-zA-Z0-9_]*$``; you will not be able to use natural naming to access this object; using ``getattr()`` will still work, though\n",
      "  check_attribute_name(name)\n",
      "/home/esmidth/.pyenv/versions/miniconda3-4.7.12/envs/ccs_ta/lib/python3.7/site-packages/tables/path.py:155: NaturalNameWarning: object name is not a valid Python identifier: '1168787368'; it does not match the pattern ``^[a-zA-Z_][a-zA-Z0-9_]*$``; you will not be able to use natural naming to access this object; using ``getattr()`` will still work, though\n",
      "  check_attribute_name(name)\n",
      "/home/esmidth/.pyenv/versions/miniconda3-4.7.12/envs/ccs_ta/lib/python3.7/site-packages/tables/path.py:155: NaturalNameWarning: object name is not a valid Python identifier: '1168873768'; it does not match the pattern ``^[a-zA-Z_][a-zA-Z0-9_]*$``; you will not be able to use natural naming to access this object; using ``getattr()`` will still work, though\n",
      "  check_attribute_name(name)\n"
     ]
    },
    {
     "name": "stdout",
     "output_type": "stream",
     "text": [
      "1168700968 \t 2007-1-13:\t 0.06717991828918457 \n",
      "1168787368 \t 2007-1-14:\t 0.06588077545166016 \n",
      "1168873768 \t 2007-1-15:\t 0.07276749610900879 \n"
     ]
    },
    {
     "name": "stderr",
     "output_type": "stream",
     "text": [
      "/home/esmidth/.pyenv/versions/miniconda3-4.7.12/envs/ccs_ta/lib/python3.7/site-packages/tables/path.py:155: NaturalNameWarning: object name is not a valid Python identifier: '1168960168'; it does not match the pattern ``^[a-zA-Z_][a-zA-Z0-9_]*$``; you will not be able to use natural naming to access this object; using ``getattr()`` will still work, though\n",
      "  check_attribute_name(name)\n",
      "/home/esmidth/.pyenv/versions/miniconda3-4.7.12/envs/ccs_ta/lib/python3.7/site-packages/tables/path.py:155: NaturalNameWarning: object name is not a valid Python identifier: '1169046568'; it does not match the pattern ``^[a-zA-Z_][a-zA-Z0-9_]*$``; you will not be able to use natural naming to access this object; using ``getattr()`` will still work, though\n",
      "  check_attribute_name(name)\n",
      "/home/esmidth/.pyenv/versions/miniconda3-4.7.12/envs/ccs_ta/lib/python3.7/site-packages/tables/path.py:155: NaturalNameWarning: object name is not a valid Python identifier: '1169132968'; it does not match the pattern ``^[a-zA-Z_][a-zA-Z0-9_]*$``; you will not be able to use natural naming to access this object; using ``getattr()`` will still work, though\n",
      "  check_attribute_name(name)\n",
      "/home/esmidth/.pyenv/versions/miniconda3-4.7.12/envs/ccs_ta/lib/python3.7/site-packages/tables/path.py:155: NaturalNameWarning: object name is not a valid Python identifier: '1169219368'; it does not match the pattern ``^[a-zA-Z_][a-zA-Z0-9_]*$``; you will not be able to use natural naming to access this object; using ``getattr()`` will still work, though\n",
      "  check_attribute_name(name)\n"
     ]
    },
    {
     "name": "stdout",
     "output_type": "stream",
     "text": [
      "1168960168 \t 2007-1-16:\t 0.0755150318145752 \n",
      "1169046568 \t 2007-1-17:\t 0.06443524360656738 \n",
      "1169132968 \t 2007-1-18:\t 0.06708812713623047 \n",
      "1169219368 \t 2007-1-19:\t 0.06546163558959961 \n"
     ]
    },
    {
     "name": "stderr",
     "output_type": "stream",
     "text": [
      "/home/esmidth/.pyenv/versions/miniconda3-4.7.12/envs/ccs_ta/lib/python3.7/site-packages/tables/path.py:155: NaturalNameWarning: object name is not a valid Python identifier: '1169305768'; it does not match the pattern ``^[a-zA-Z_][a-zA-Z0-9_]*$``; you will not be able to use natural naming to access this object; using ``getattr()`` will still work, though\n",
      "  check_attribute_name(name)\n",
      "/home/esmidth/.pyenv/versions/miniconda3-4.7.12/envs/ccs_ta/lib/python3.7/site-packages/tables/path.py:155: NaturalNameWarning: object name is not a valid Python identifier: '1169392168'; it does not match the pattern ``^[a-zA-Z_][a-zA-Z0-9_]*$``; you will not be able to use natural naming to access this object; using ``getattr()`` will still work, though\n",
      "  check_attribute_name(name)\n",
      "/home/esmidth/.pyenv/versions/miniconda3-4.7.12/envs/ccs_ta/lib/python3.7/site-packages/tables/path.py:155: NaturalNameWarning: object name is not a valid Python identifier: '1169478568'; it does not match the pattern ``^[a-zA-Z_][a-zA-Z0-9_]*$``; you will not be able to use natural naming to access this object; using ``getattr()`` will still work, though\n",
      "  check_attribute_name(name)\n",
      "/home/esmidth/.pyenv/versions/miniconda3-4.7.12/envs/ccs_ta/lib/python3.7/site-packages/tables/path.py:155: NaturalNameWarning: object name is not a valid Python identifier: '1169564968'; it does not match the pattern ``^[a-zA-Z_][a-zA-Z0-9_]*$``; you will not be able to use natural naming to access this object; using ``getattr()`` will still work, though\n",
      "  check_attribute_name(name)\n"
     ]
    },
    {
     "name": "stdout",
     "output_type": "stream",
     "text": [
      "1169305768 \t 2007-1-20:\t 0.0645747184753418 \n",
      "1169392168 \t 2007-1-21:\t 0.06484127044677734 \n",
      "1169478568 \t 2007-1-22:\t 0.05093550682067871 \n",
      "1169564968 \t 2007-1-23:\t 0.06981372833251953 \n"
     ]
    },
    {
     "name": "stderr",
     "output_type": "stream",
     "text": [
      "/home/esmidth/.pyenv/versions/miniconda3-4.7.12/envs/ccs_ta/lib/python3.7/site-packages/tables/path.py:155: NaturalNameWarning: object name is not a valid Python identifier: '1169651368'; it does not match the pattern ``^[a-zA-Z_][a-zA-Z0-9_]*$``; you will not be able to use natural naming to access this object; using ``getattr()`` will still work, though\n",
      "  check_attribute_name(name)\n",
      "/home/esmidth/.pyenv/versions/miniconda3-4.7.12/envs/ccs_ta/lib/python3.7/site-packages/tables/path.py:155: NaturalNameWarning: object name is not a valid Python identifier: '1169737768'; it does not match the pattern ``^[a-zA-Z_][a-zA-Z0-9_]*$``; you will not be able to use natural naming to access this object; using ``getattr()`` will still work, though\n",
      "  check_attribute_name(name)\n",
      "/home/esmidth/.pyenv/versions/miniconda3-4.7.12/envs/ccs_ta/lib/python3.7/site-packages/tables/path.py:155: NaturalNameWarning: object name is not a valid Python identifier: '1169824168'; it does not match the pattern ``^[a-zA-Z_][a-zA-Z0-9_]*$``; you will not be able to use natural naming to access this object; using ``getattr()`` will still work, though\n",
      "  check_attribute_name(name)\n",
      "/home/esmidth/.pyenv/versions/miniconda3-4.7.12/envs/ccs_ta/lib/python3.7/site-packages/tables/path.py:155: NaturalNameWarning: object name is not a valid Python identifier: '1169910568'; it does not match the pattern ``^[a-zA-Z_][a-zA-Z0-9_]*$``; you will not be able to use natural naming to access this object; using ``getattr()`` will still work, though\n",
      "  check_attribute_name(name)\n"
     ]
    },
    {
     "name": "stdout",
     "output_type": "stream",
     "text": [
      "1169651368 \t 2007-1-24:\t 0.06688618659973145 \n",
      "1169737768 \t 2007-1-25:\t 0.06986474990844727 \n",
      "1169824168 \t 2007-1-26:\t 0.06585693359375 \n",
      "1169910568 \t 2007-1-27:\t 0.06595849990844727 \n",
      "1169996968 \t 2007-1-28:\t 0.06964540481567383 \n",
      "1170083368 \t 2007-1-29:\t 0.06568598747253418 \n"
     ]
    },
    {
     "name": "stderr",
     "output_type": "stream",
     "text": [
      "/home/esmidth/.pyenv/versions/miniconda3-4.7.12/envs/ccs_ta/lib/python3.7/site-packages/tables/path.py:155: NaturalNameWarning: object name is not a valid Python identifier: '1169996968'; it does not match the pattern ``^[a-zA-Z_][a-zA-Z0-9_]*$``; you will not be able to use natural naming to access this object; using ``getattr()`` will still work, though\n",
      "  check_attribute_name(name)\n",
      "/home/esmidth/.pyenv/versions/miniconda3-4.7.12/envs/ccs_ta/lib/python3.7/site-packages/tables/path.py:155: NaturalNameWarning: object name is not a valid Python identifier: '1170083368'; it does not match the pattern ``^[a-zA-Z_][a-zA-Z0-9_]*$``; you will not be able to use natural naming to access this object; using ``getattr()`` will still work, though\n",
      "  check_attribute_name(name)\n",
      "/home/esmidth/.pyenv/versions/miniconda3-4.7.12/envs/ccs_ta/lib/python3.7/site-packages/tables/path.py:155: NaturalNameWarning: object name is not a valid Python identifier: '1170169768'; it does not match the pattern ``^[a-zA-Z_][a-zA-Z0-9_]*$``; you will not be able to use natural naming to access this object; using ``getattr()`` will still work, though\n",
      "  check_attribute_name(name)\n",
      "/home/esmidth/.pyenv/versions/miniconda3-4.7.12/envs/ccs_ta/lib/python3.7/site-packages/tables/path.py:155: NaturalNameWarning: object name is not a valid Python identifier: '1170256168'; it does not match the pattern ``^[a-zA-Z_][a-zA-Z0-9_]*$``; you will not be able to use natural naming to access this object; using ``getattr()`` will still work, though\n",
      "  check_attribute_name(name)\n"
     ]
    },
    {
     "name": "stdout",
     "output_type": "stream",
     "text": [
      "1170169768 \t 2007-1-30:\t 0.07220745086669922 \n",
      "1170256168 \t 2007-1-31:\t 0.06586623191833496 \n",
      "1170342568 \t 2007-2-1:\t 0.07057309150695801 \n"
     ]
    },
    {
     "name": "stderr",
     "output_type": "stream",
     "text": [
      "/home/esmidth/.pyenv/versions/miniconda3-4.7.12/envs/ccs_ta/lib/python3.7/site-packages/tables/path.py:155: NaturalNameWarning: object name is not a valid Python identifier: '1170342568'; it does not match the pattern ``^[a-zA-Z_][a-zA-Z0-9_]*$``; you will not be able to use natural naming to access this object; using ``getattr()`` will still work, though\n",
      "  check_attribute_name(name)\n",
      "/home/esmidth/.pyenv/versions/miniconda3-4.7.12/envs/ccs_ta/lib/python3.7/site-packages/tables/path.py:155: NaturalNameWarning: object name is not a valid Python identifier: '1170428968'; it does not match the pattern ``^[a-zA-Z_][a-zA-Z0-9_]*$``; you will not be able to use natural naming to access this object; using ``getattr()`` will still work, though\n",
      "  check_attribute_name(name)\n",
      "/home/esmidth/.pyenv/versions/miniconda3-4.7.12/envs/ccs_ta/lib/python3.7/site-packages/tables/path.py:155: NaturalNameWarning: object name is not a valid Python identifier: '1170515368'; it does not match the pattern ``^[a-zA-Z_][a-zA-Z0-9_]*$``; you will not be able to use natural naming to access this object; using ``getattr()`` will still work, though\n",
      "  check_attribute_name(name)\n"
     ]
    },
    {
     "name": "stdout",
     "output_type": "stream",
     "text": [
      "1170428968 \t 2007-2-2:\t 0.0696864128112793 \n",
      "1170515368 \t 2007-2-3:\t 0.0716395378112793 \n",
      "1170601768 \t 2007-2-4:\t 0.07081198692321777 \n"
     ]
    },
    {
     "name": "stderr",
     "output_type": "stream",
     "text": [
      "/home/esmidth/.pyenv/versions/miniconda3-4.7.12/envs/ccs_ta/lib/python3.7/site-packages/tables/path.py:155: NaturalNameWarning: object name is not a valid Python identifier: '1170601768'; it does not match the pattern ``^[a-zA-Z_][a-zA-Z0-9_]*$``; you will not be able to use natural naming to access this object; using ``getattr()`` will still work, though\n",
      "  check_attribute_name(name)\n",
      "/home/esmidth/.pyenv/versions/miniconda3-4.7.12/envs/ccs_ta/lib/python3.7/site-packages/tables/path.py:155: NaturalNameWarning: object name is not a valid Python identifier: '1170688168'; it does not match the pattern ``^[a-zA-Z_][a-zA-Z0-9_]*$``; you will not be able to use natural naming to access this object; using ``getattr()`` will still work, though\n",
      "  check_attribute_name(name)\n",
      "/home/esmidth/.pyenv/versions/miniconda3-4.7.12/envs/ccs_ta/lib/python3.7/site-packages/tables/path.py:155: NaturalNameWarning: object name is not a valid Python identifier: '1170774568'; it does not match the pattern ``^[a-zA-Z_][a-zA-Z0-9_]*$``; you will not be able to use natural naming to access this object; using ``getattr()`` will still work, though\n",
      "  check_attribute_name(name)\n",
      "/home/esmidth/.pyenv/versions/miniconda3-4.7.12/envs/ccs_ta/lib/python3.7/site-packages/tables/path.py:155: NaturalNameWarning: object name is not a valid Python identifier: '1170860968'; it does not match the pattern ``^[a-zA-Z_][a-zA-Z0-9_]*$``; you will not be able to use natural naming to access this object; using ``getattr()`` will still work, though\n",
      "  check_attribute_name(name)\n"
     ]
    },
    {
     "name": "stdout",
     "output_type": "stream",
     "text": [
      "1170688168 \t 2007-2-5:\t 0.06558680534362793 \n",
      "1170774568 \t 2007-2-6:\t 0.06828451156616211 \n",
      "1170860968 \t 2007-2-7:\t 0.06855487823486328 \n"
     ]
    },
    {
     "name": "stderr",
     "output_type": "stream",
     "text": [
      "/home/esmidth/.pyenv/versions/miniconda3-4.7.12/envs/ccs_ta/lib/python3.7/site-packages/tables/path.py:155: NaturalNameWarning: object name is not a valid Python identifier: '1170947368'; it does not match the pattern ``^[a-zA-Z_][a-zA-Z0-9_]*$``; you will not be able to use natural naming to access this object; using ``getattr()`` will still work, though\n",
      "  check_attribute_name(name)\n",
      "/home/esmidth/.pyenv/versions/miniconda3-4.7.12/envs/ccs_ta/lib/python3.7/site-packages/tables/path.py:155: NaturalNameWarning: object name is not a valid Python identifier: '1171033768'; it does not match the pattern ``^[a-zA-Z_][a-zA-Z0-9_]*$``; you will not be able to use natural naming to access this object; using ``getattr()`` will still work, though\n",
      "  check_attribute_name(name)\n",
      "/home/esmidth/.pyenv/versions/miniconda3-4.7.12/envs/ccs_ta/lib/python3.7/site-packages/tables/path.py:155: NaturalNameWarning: object name is not a valid Python identifier: '1171120168'; it does not match the pattern ``^[a-zA-Z_][a-zA-Z0-9_]*$``; you will not be able to use natural naming to access this object; using ``getattr()`` will still work, though\n",
      "  check_attribute_name(name)\n"
     ]
    },
    {
     "name": "stdout",
     "output_type": "stream",
     "text": [
      "1170947368 \t 2007-2-8:\t 0.0737309455871582 \n",
      "1171033768 \t 2007-2-9:\t 0.06662511825561523 \n",
      "1171120168 \t 2007-2-10:\t 0.07198596000671387 \n"
     ]
    },
    {
     "name": "stderr",
     "output_type": "stream",
     "text": [
      "/home/esmidth/.pyenv/versions/miniconda3-4.7.12/envs/ccs_ta/lib/python3.7/site-packages/tables/path.py:155: NaturalNameWarning: object name is not a valid Python identifier: '1171206568'; it does not match the pattern ``^[a-zA-Z_][a-zA-Z0-9_]*$``; you will not be able to use natural naming to access this object; using ``getattr()`` will still work, though\n",
      "  check_attribute_name(name)\n",
      "/home/esmidth/.pyenv/versions/miniconda3-4.7.12/envs/ccs_ta/lib/python3.7/site-packages/tables/path.py:155: NaturalNameWarning: object name is not a valid Python identifier: '1171292968'; it does not match the pattern ``^[a-zA-Z_][a-zA-Z0-9_]*$``; you will not be able to use natural naming to access this object; using ``getattr()`` will still work, though\n",
      "  check_attribute_name(name)\n",
      "/home/esmidth/.pyenv/versions/miniconda3-4.7.12/envs/ccs_ta/lib/python3.7/site-packages/tables/path.py:155: NaturalNameWarning: object name is not a valid Python identifier: '1171379368'; it does not match the pattern ``^[a-zA-Z_][a-zA-Z0-9_]*$``; you will not be able to use natural naming to access this object; using ``getattr()`` will still work, though\n",
      "  check_attribute_name(name)\n",
      "/home/esmidth/.pyenv/versions/miniconda3-4.7.12/envs/ccs_ta/lib/python3.7/site-packages/tables/path.py:155: NaturalNameWarning: object name is not a valid Python identifier: '1171465768'; it does not match the pattern ``^[a-zA-Z_][a-zA-Z0-9_]*$``; you will not be able to use natural naming to access this object; using ``getattr()`` will still work, though\n",
      "  check_attribute_name(name)\n"
     ]
    },
    {
     "name": "stdout",
     "output_type": "stream",
     "text": [
      "1171206568 \t 2007-2-11:\t 0.06452631950378418 \n",
      "1171292968 \t 2007-2-12:\t 0.067291259765625 \n",
      "1171379368 \t 2007-2-13:\t 0.06518173217773438 \n",
      "1171465768 \t 2007-2-14:\t 0.06944131851196289 \n",
      "1171552168 \t 2007-2-15:\t 0.06503987312316895 \n",
      "1171638568 \t 2007-2-16:\t 0.06908154487609863 \n"
     ]
    },
    {
     "name": "stderr",
     "output_type": "stream",
     "text": [
      "/home/esmidth/.pyenv/versions/miniconda3-4.7.12/envs/ccs_ta/lib/python3.7/site-packages/tables/path.py:155: NaturalNameWarning: object name is not a valid Python identifier: '1171552168'; it does not match the pattern ``^[a-zA-Z_][a-zA-Z0-9_]*$``; you will not be able to use natural naming to access this object; using ``getattr()`` will still work, though\n",
      "  check_attribute_name(name)\n",
      "/home/esmidth/.pyenv/versions/miniconda3-4.7.12/envs/ccs_ta/lib/python3.7/site-packages/tables/path.py:155: NaturalNameWarning: object name is not a valid Python identifier: '1171638568'; it does not match the pattern ``^[a-zA-Z_][a-zA-Z0-9_]*$``; you will not be able to use natural naming to access this object; using ``getattr()`` will still work, though\n",
      "  check_attribute_name(name)\n",
      "/home/esmidth/.pyenv/versions/miniconda3-4.7.12/envs/ccs_ta/lib/python3.7/site-packages/tables/path.py:155: NaturalNameWarning: object name is not a valid Python identifier: '1171724968'; it does not match the pattern ``^[a-zA-Z_][a-zA-Z0-9_]*$``; you will not be able to use natural naming to access this object; using ``getattr()`` will still work, though\n",
      "  check_attribute_name(name)\n"
     ]
    },
    {
     "name": "stdout",
     "output_type": "stream",
     "text": [
      "1171724968 \t 2007-2-17:\t 0.07115030288696289 \n",
      "1171811368 \t 2007-2-18:\t 0.066497802734375 \n",
      "1171897768 \t 2007-2-19:\t 0.06874895095825195 \n"
     ]
    },
    {
     "name": "stderr",
     "output_type": "stream",
     "text": [
      "/home/esmidth/.pyenv/versions/miniconda3-4.7.12/envs/ccs_ta/lib/python3.7/site-packages/tables/path.py:155: NaturalNameWarning: object name is not a valid Python identifier: '1171811368'; it does not match the pattern ``^[a-zA-Z_][a-zA-Z0-9_]*$``; you will not be able to use natural naming to access this object; using ``getattr()`` will still work, though\n",
      "  check_attribute_name(name)\n",
      "/home/esmidth/.pyenv/versions/miniconda3-4.7.12/envs/ccs_ta/lib/python3.7/site-packages/tables/path.py:155: NaturalNameWarning: object name is not a valid Python identifier: '1171897768'; it does not match the pattern ``^[a-zA-Z_][a-zA-Z0-9_]*$``; you will not be able to use natural naming to access this object; using ``getattr()`` will still work, though\n",
      "  check_attribute_name(name)\n",
      "/home/esmidth/.pyenv/versions/miniconda3-4.7.12/envs/ccs_ta/lib/python3.7/site-packages/tables/path.py:155: NaturalNameWarning: object name is not a valid Python identifier: '1171984168'; it does not match the pattern ``^[a-zA-Z_][a-zA-Z0-9_]*$``; you will not be able to use natural naming to access this object; using ``getattr()`` will still work, though\n",
      "  check_attribute_name(name)\n"
     ]
    },
    {
     "name": "stdout",
     "output_type": "stream",
     "text": [
      "1171984168 \t 2007-2-20:\t 0.0673670768737793 \n",
      "1172070568 \t 2007-2-21:\t 0.06457090377807617 \n",
      "1172156968 \t 2007-2-22:\t 0.07360959053039551 \n",
      "1172243368 \t 2007-2-23:\t 0.05879640579223633 \n"
     ]
    },
    {
     "name": "stderr",
     "output_type": "stream",
     "text": [
      "/home/esmidth/.pyenv/versions/miniconda3-4.7.12/envs/ccs_ta/lib/python3.7/site-packages/tables/path.py:155: NaturalNameWarning: object name is not a valid Python identifier: '1172070568'; it does not match the pattern ``^[a-zA-Z_][a-zA-Z0-9_]*$``; you will not be able to use natural naming to access this object; using ``getattr()`` will still work, though\n",
      "  check_attribute_name(name)\n",
      "/home/esmidth/.pyenv/versions/miniconda3-4.7.12/envs/ccs_ta/lib/python3.7/site-packages/tables/path.py:155: NaturalNameWarning: object name is not a valid Python identifier: '1172156968'; it does not match the pattern ``^[a-zA-Z_][a-zA-Z0-9_]*$``; you will not be able to use natural naming to access this object; using ``getattr()`` will still work, though\n",
      "  check_attribute_name(name)\n",
      "/home/esmidth/.pyenv/versions/miniconda3-4.7.12/envs/ccs_ta/lib/python3.7/site-packages/tables/path.py:155: NaturalNameWarning: object name is not a valid Python identifier: '1172243368'; it does not match the pattern ``^[a-zA-Z_][a-zA-Z0-9_]*$``; you will not be able to use natural naming to access this object; using ``getattr()`` will still work, though\n",
      "  check_attribute_name(name)\n",
      "/home/esmidth/.pyenv/versions/miniconda3-4.7.12/envs/ccs_ta/lib/python3.7/site-packages/tables/path.py:155: NaturalNameWarning: object name is not a valid Python identifier: '1172329768'; it does not match the pattern ``^[a-zA-Z_][a-zA-Z0-9_]*$``; you will not be able to use natural naming to access this object; using ``getattr()`` will still work, though\n",
      "  check_attribute_name(name)\n"
     ]
    },
    {
     "name": "stdout",
     "output_type": "stream",
     "text": [
      "1172329768 \t 2007-2-24:\t 0.049332380294799805 \n",
      "1172416168 \t 2007-2-25:\t 0.06503796577453613 \n",
      "1172502568 \t 2007-2-26:\t 0.07196640968322754 \n"
     ]
    },
    {
     "name": "stderr",
     "output_type": "stream",
     "text": [
      "/home/esmidth/.pyenv/versions/miniconda3-4.7.12/envs/ccs_ta/lib/python3.7/site-packages/tables/path.py:155: NaturalNameWarning: object name is not a valid Python identifier: '1172416168'; it does not match the pattern ``^[a-zA-Z_][a-zA-Z0-9_]*$``; you will not be able to use natural naming to access this object; using ``getattr()`` will still work, though\n",
      "  check_attribute_name(name)\n",
      "/home/esmidth/.pyenv/versions/miniconda3-4.7.12/envs/ccs_ta/lib/python3.7/site-packages/tables/path.py:155: NaturalNameWarning: object name is not a valid Python identifier: '1172502568'; it does not match the pattern ``^[a-zA-Z_][a-zA-Z0-9_]*$``; you will not be able to use natural naming to access this object; using ``getattr()`` will still work, though\n",
      "  check_attribute_name(name)\n",
      "/home/esmidth/.pyenv/versions/miniconda3-4.7.12/envs/ccs_ta/lib/python3.7/site-packages/tables/path.py:155: NaturalNameWarning: object name is not a valid Python identifier: '1172588968'; it does not match the pattern ``^[a-zA-Z_][a-zA-Z0-9_]*$``; you will not be able to use natural naming to access this object; using ``getattr()`` will still work, though\n",
      "  check_attribute_name(name)\n"
     ]
    },
    {
     "name": "stdout",
     "output_type": "stream",
     "text": [
      "1172588968 \t 2007-2-27:\t 0.07223844528198242 \n",
      "1172675368 \t 2007-2-28:\t 0.07491183280944824 \n",
      "1172761768 \t 2007-3-1:\t 0.06733822822570801 \n"
     ]
    },
    {
     "name": "stderr",
     "output_type": "stream",
     "text": [
      "/home/esmidth/.pyenv/versions/miniconda3-4.7.12/envs/ccs_ta/lib/python3.7/site-packages/tables/path.py:155: NaturalNameWarning: object name is not a valid Python identifier: '1172675368'; it does not match the pattern ``^[a-zA-Z_][a-zA-Z0-9_]*$``; you will not be able to use natural naming to access this object; using ``getattr()`` will still work, though\n",
      "  check_attribute_name(name)\n",
      "/home/esmidth/.pyenv/versions/miniconda3-4.7.12/envs/ccs_ta/lib/python3.7/site-packages/tables/path.py:155: NaturalNameWarning: object name is not a valid Python identifier: '1172761768'; it does not match the pattern ``^[a-zA-Z_][a-zA-Z0-9_]*$``; you will not be able to use natural naming to access this object; using ``getattr()`` will still work, though\n",
      "  check_attribute_name(name)\n",
      "/home/esmidth/.pyenv/versions/miniconda3-4.7.12/envs/ccs_ta/lib/python3.7/site-packages/tables/path.py:155: NaturalNameWarning: object name is not a valid Python identifier: '1172848168'; it does not match the pattern ``^[a-zA-Z_][a-zA-Z0-9_]*$``; you will not be able to use natural naming to access this object; using ``getattr()`` will still work, though\n",
      "  check_attribute_name(name)\n"
     ]
    },
    {
     "name": "stdout",
     "output_type": "stream",
     "text": [
      "1172848168 \t 2007-3-2:\t 0.07224631309509277 \n",
      "1172934568 \t 2007-3-3:\t 0.06692171096801758 \n",
      "1173020968 \t 2007-3-4:\t 0.07203793525695801 \n"
     ]
    },
    {
     "name": "stderr",
     "output_type": "stream",
     "text": [
      "/home/esmidth/.pyenv/versions/miniconda3-4.7.12/envs/ccs_ta/lib/python3.7/site-packages/tables/path.py:155: NaturalNameWarning: object name is not a valid Python identifier: '1172934568'; it does not match the pattern ``^[a-zA-Z_][a-zA-Z0-9_]*$``; you will not be able to use natural naming to access this object; using ``getattr()`` will still work, though\n",
      "  check_attribute_name(name)\n",
      "/home/esmidth/.pyenv/versions/miniconda3-4.7.12/envs/ccs_ta/lib/python3.7/site-packages/tables/path.py:155: NaturalNameWarning: object name is not a valid Python identifier: '1173020968'; it does not match the pattern ``^[a-zA-Z_][a-zA-Z0-9_]*$``; you will not be able to use natural naming to access this object; using ``getattr()`` will still work, though\n",
      "  check_attribute_name(name)\n",
      "/home/esmidth/.pyenv/versions/miniconda3-4.7.12/envs/ccs_ta/lib/python3.7/site-packages/tables/path.py:155: NaturalNameWarning: object name is not a valid Python identifier: '1173107368'; it does not match the pattern ``^[a-zA-Z_][a-zA-Z0-9_]*$``; you will not be able to use natural naming to access this object; using ``getattr()`` will still work, though\n",
      "  check_attribute_name(name)\n"
     ]
    },
    {
     "name": "stdout",
     "output_type": "stream",
     "text": [
      "1173107368 \t 2007-3-5:\t 0.06679391860961914 \n",
      "1173193768 \t 2007-3-6:\t 0.07317757606506348 \n",
      "1173280168 \t 2007-3-7:\t 0.05420875549316406 \n",
      "1173366568 \t 2007-3-8:\t 0.0681910514831543 \n"
     ]
    },
    {
     "name": "stderr",
     "output_type": "stream",
     "text": [
      "/home/esmidth/.pyenv/versions/miniconda3-4.7.12/envs/ccs_ta/lib/python3.7/site-packages/tables/path.py:155: NaturalNameWarning: object name is not a valid Python identifier: '1173193768'; it does not match the pattern ``^[a-zA-Z_][a-zA-Z0-9_]*$``; you will not be able to use natural naming to access this object; using ``getattr()`` will still work, though\n",
      "  check_attribute_name(name)\n",
      "/home/esmidth/.pyenv/versions/miniconda3-4.7.12/envs/ccs_ta/lib/python3.7/site-packages/tables/path.py:155: NaturalNameWarning: object name is not a valid Python identifier: '1173280168'; it does not match the pattern ``^[a-zA-Z_][a-zA-Z0-9_]*$``; you will not be able to use natural naming to access this object; using ``getattr()`` will still work, though\n",
      "  check_attribute_name(name)\n",
      "/home/esmidth/.pyenv/versions/miniconda3-4.7.12/envs/ccs_ta/lib/python3.7/site-packages/tables/path.py:155: NaturalNameWarning: object name is not a valid Python identifier: '1173366568'; it does not match the pattern ``^[a-zA-Z_][a-zA-Z0-9_]*$``; you will not be able to use natural naming to access this object; using ``getattr()`` will still work, though\n",
      "  check_attribute_name(name)\n",
      "/home/esmidth/.pyenv/versions/miniconda3-4.7.12/envs/ccs_ta/lib/python3.7/site-packages/tables/path.py:155: NaturalNameWarning: object name is not a valid Python identifier: '1173452968'; it does not match the pattern ``^[a-zA-Z_][a-zA-Z0-9_]*$``; you will not be able to use natural naming to access this object; using ``getattr()`` will still work, though\n",
      "  check_attribute_name(name)\n"
     ]
    },
    {
     "name": "stdout",
     "output_type": "stream",
     "text": [
      "1173452968 \t 2007-3-9:\t 0.06937742233276367 \n",
      "1173539368 \t 2007-3-10:\t 0.07130599021911621 \n",
      "1173625768 \t 2007-3-11:\t 0.07026791572570801 \n"
     ]
    },
    {
     "name": "stderr",
     "output_type": "stream",
     "text": [
      "/home/esmidth/.pyenv/versions/miniconda3-4.7.12/envs/ccs_ta/lib/python3.7/site-packages/tables/path.py:155: NaturalNameWarning: object name is not a valid Python identifier: '1173539368'; it does not match the pattern ``^[a-zA-Z_][a-zA-Z0-9_]*$``; you will not be able to use natural naming to access this object; using ``getattr()`` will still work, though\n",
      "  check_attribute_name(name)\n",
      "/home/esmidth/.pyenv/versions/miniconda3-4.7.12/envs/ccs_ta/lib/python3.7/site-packages/tables/path.py:155: NaturalNameWarning: object name is not a valid Python identifier: '1173625768'; it does not match the pattern ``^[a-zA-Z_][a-zA-Z0-9_]*$``; you will not be able to use natural naming to access this object; using ``getattr()`` will still work, though\n",
      "  check_attribute_name(name)\n",
      "/home/esmidth/.pyenv/versions/miniconda3-4.7.12/envs/ccs_ta/lib/python3.7/site-packages/tables/path.py:155: NaturalNameWarning: object name is not a valid Python identifier: '1173712168'; it does not match the pattern ``^[a-zA-Z_][a-zA-Z0-9_]*$``; you will not be able to use natural naming to access this object; using ``getattr()`` will still work, though\n",
      "  check_attribute_name(name)\n"
     ]
    },
    {
     "name": "stdout",
     "output_type": "stream",
     "text": [
      "1173712168 \t 2007-3-12:\t 0.06585001945495605 \n",
      "1173798568 \t 2007-3-13:\t 0.07069921493530273 \n",
      "1173884968 \t 2007-3-14:\t 0.06952977180480957 \n"
     ]
    },
    {
     "name": "stderr",
     "output_type": "stream",
     "text": [
      "/home/esmidth/.pyenv/versions/miniconda3-4.7.12/envs/ccs_ta/lib/python3.7/site-packages/tables/path.py:155: NaturalNameWarning: object name is not a valid Python identifier: '1173798568'; it does not match the pattern ``^[a-zA-Z_][a-zA-Z0-9_]*$``; you will not be able to use natural naming to access this object; using ``getattr()`` will still work, though\n",
      "  check_attribute_name(name)\n",
      "/home/esmidth/.pyenv/versions/miniconda3-4.7.12/envs/ccs_ta/lib/python3.7/site-packages/tables/path.py:155: NaturalNameWarning: object name is not a valid Python identifier: '1173884968'; it does not match the pattern ``^[a-zA-Z_][a-zA-Z0-9_]*$``; you will not be able to use natural naming to access this object; using ``getattr()`` will still work, though\n",
      "  check_attribute_name(name)\n",
      "/home/esmidth/.pyenv/versions/miniconda3-4.7.12/envs/ccs_ta/lib/python3.7/site-packages/tables/path.py:155: NaturalNameWarning: object name is not a valid Python identifier: '1173971368'; it does not match the pattern ``^[a-zA-Z_][a-zA-Z0-9_]*$``; you will not be able to use natural naming to access this object; using ``getattr()`` will still work, though\n",
      "  check_attribute_name(name)\n",
      "/home/esmidth/.pyenv/versions/miniconda3-4.7.12/envs/ccs_ta/lib/python3.7/site-packages/tables/path.py:155: NaturalNameWarning: object name is not a valid Python identifier: '1174057768'; it does not match the pattern ``^[a-zA-Z_][a-zA-Z0-9_]*$``; you will not be able to use natural naming to access this object; using ``getattr()`` will still work, though\n",
      "  check_attribute_name(name)\n"
     ]
    },
    {
     "name": "stdout",
     "output_type": "stream",
     "text": [
      "1173971368 \t 2007-3-15:\t 0.06586360931396484 \n",
      "1174057768 \t 2007-3-16:\t 0.0698843002319336 \n",
      "1174144168 \t 2007-3-17:\t 0.06561279296875 \n"
     ]
    },
    {
     "name": "stderr",
     "output_type": "stream",
     "text": [
      "/home/esmidth/.pyenv/versions/miniconda3-4.7.12/envs/ccs_ta/lib/python3.7/site-packages/tables/path.py:155: NaturalNameWarning: object name is not a valid Python identifier: '1174144168'; it does not match the pattern ``^[a-zA-Z_][a-zA-Z0-9_]*$``; you will not be able to use natural naming to access this object; using ``getattr()`` will still work, though\n",
      "  check_attribute_name(name)\n",
      "/home/esmidth/.pyenv/versions/miniconda3-4.7.12/envs/ccs_ta/lib/python3.7/site-packages/tables/path.py:155: NaturalNameWarning: object name is not a valid Python identifier: '1174230568'; it does not match the pattern ``^[a-zA-Z_][a-zA-Z0-9_]*$``; you will not be able to use natural naming to access this object; using ``getattr()`` will still work, though\n",
      "  check_attribute_name(name)\n",
      "/home/esmidth/.pyenv/versions/miniconda3-4.7.12/envs/ccs_ta/lib/python3.7/site-packages/tables/path.py:155: NaturalNameWarning: object name is not a valid Python identifier: '1174316968'; it does not match the pattern ``^[a-zA-Z_][a-zA-Z0-9_]*$``; you will not be able to use natural naming to access this object; using ``getattr()`` will still work, though\n",
      "  check_attribute_name(name)\n"
     ]
    },
    {
     "name": "stdout",
     "output_type": "stream",
     "text": [
      "1174230568 \t 2007-3-18:\t 0.06985974311828613 \n",
      "1174316968 \t 2007-3-19:\t 0.06898808479309082 \n",
      "1174403368 \t 2007-3-20:\t 0.07435846328735352 \n"
     ]
    },
    {
     "name": "stderr",
     "output_type": "stream",
     "text": [
      "/home/esmidth/.pyenv/versions/miniconda3-4.7.12/envs/ccs_ta/lib/python3.7/site-packages/tables/path.py:155: NaturalNameWarning: object name is not a valid Python identifier: '1174403368'; it does not match the pattern ``^[a-zA-Z_][a-zA-Z0-9_]*$``; you will not be able to use natural naming to access this object; using ``getattr()`` will still work, though\n",
      "  check_attribute_name(name)\n",
      "/home/esmidth/.pyenv/versions/miniconda3-4.7.12/envs/ccs_ta/lib/python3.7/site-packages/tables/path.py:155: NaturalNameWarning: object name is not a valid Python identifier: '1174489768'; it does not match the pattern ``^[a-zA-Z_][a-zA-Z0-9_]*$``; you will not be able to use natural naming to access this object; using ``getattr()`` will still work, though\n",
      "  check_attribute_name(name)\n",
      "/home/esmidth/.pyenv/versions/miniconda3-4.7.12/envs/ccs_ta/lib/python3.7/site-packages/tables/path.py:155: NaturalNameWarning: object name is not a valid Python identifier: '1174576168'; it does not match the pattern ``^[a-zA-Z_][a-zA-Z0-9_]*$``; you will not be able to use natural naming to access this object; using ``getattr()`` will still work, though\n",
      "  check_attribute_name(name)\n"
     ]
    },
    {
     "name": "stdout",
     "output_type": "stream",
     "text": [
      "1174489768 \t 2007-3-21:\t 0.07319402694702148 \n",
      "1174576168 \t 2007-3-22:\t 0.07079219818115234 \n",
      "1174662568 \t 2007-3-23:\t 0.06843376159667969 \n"
     ]
    },
    {
     "name": "stderr",
     "output_type": "stream",
     "text": [
      "/home/esmidth/.pyenv/versions/miniconda3-4.7.12/envs/ccs_ta/lib/python3.7/site-packages/tables/path.py:155: NaturalNameWarning: object name is not a valid Python identifier: '1174662568'; it does not match the pattern ``^[a-zA-Z_][a-zA-Z0-9_]*$``; you will not be able to use natural naming to access this object; using ``getattr()`` will still work, though\n",
      "  check_attribute_name(name)\n",
      "/home/esmidth/.pyenv/versions/miniconda3-4.7.12/envs/ccs_ta/lib/python3.7/site-packages/tables/path.py:155: NaturalNameWarning: object name is not a valid Python identifier: '1174748968'; it does not match the pattern ``^[a-zA-Z_][a-zA-Z0-9_]*$``; you will not be able to use natural naming to access this object; using ``getattr()`` will still work, though\n",
      "  check_attribute_name(name)\n",
      "/home/esmidth/.pyenv/versions/miniconda3-4.7.12/envs/ccs_ta/lib/python3.7/site-packages/tables/path.py:155: NaturalNameWarning: object name is not a valid Python identifier: '1174835368'; it does not match the pattern ``^[a-zA-Z_][a-zA-Z0-9_]*$``; you will not be able to use natural naming to access this object; using ``getattr()`` will still work, though\n",
      "  check_attribute_name(name)\n"
     ]
    },
    {
     "name": "stdout",
     "output_type": "stream",
     "text": [
      "1174748968 \t 2007-3-24:\t 0.07278633117675781 \n",
      "1174835368 \t 2007-3-25:\t 0.06866097450256348 \n",
      "1174921768 \t 2007-3-26:\t 0.06883859634399414 \n"
     ]
    },
    {
     "name": "stderr",
     "output_type": "stream",
     "text": [
      "/home/esmidth/.pyenv/versions/miniconda3-4.7.12/envs/ccs_ta/lib/python3.7/site-packages/tables/path.py:155: NaturalNameWarning: object name is not a valid Python identifier: '1174921768'; it does not match the pattern ``^[a-zA-Z_][a-zA-Z0-9_]*$``; you will not be able to use natural naming to access this object; using ``getattr()`` will still work, though\n",
      "  check_attribute_name(name)\n",
      "/home/esmidth/.pyenv/versions/miniconda3-4.7.12/envs/ccs_ta/lib/python3.7/site-packages/tables/path.py:155: NaturalNameWarning: object name is not a valid Python identifier: '1175008168'; it does not match the pattern ``^[a-zA-Z_][a-zA-Z0-9_]*$``; you will not be able to use natural naming to access this object; using ``getattr()`` will still work, though\n",
      "  check_attribute_name(name)\n",
      "/home/esmidth/.pyenv/versions/miniconda3-4.7.12/envs/ccs_ta/lib/python3.7/site-packages/tables/path.py:155: NaturalNameWarning: object name is not a valid Python identifier: '1175094568'; it does not match the pattern ``^[a-zA-Z_][a-zA-Z0-9_]*$``; you will not be able to use natural naming to access this object; using ``getattr()`` will still work, though\n",
      "  check_attribute_name(name)\n",
      "/home/esmidth/.pyenv/versions/miniconda3-4.7.12/envs/ccs_ta/lib/python3.7/site-packages/tables/path.py:155: NaturalNameWarning: object name is not a valid Python identifier: '1175180968'; it does not match the pattern ``^[a-zA-Z_][a-zA-Z0-9_]*$``; you will not be able to use natural naming to access this object; using ``getattr()`` will still work, though\n",
      "  check_attribute_name(name)\n"
     ]
    },
    {
     "name": "stdout",
     "output_type": "stream",
     "text": [
      "1175008168 \t 2007-3-27:\t 0.06606554985046387 \n",
      "1175094568 \t 2007-3-28:\t 0.06893205642700195 \n",
      "1175180968 \t 2007-3-29:\t 0.06564879417419434 \n",
      "1175267368 \t 2007-3-30:\t 0.0655360221862793 \n"
     ]
    },
    {
     "name": "stderr",
     "output_type": "stream",
     "text": [
      "/home/esmidth/.pyenv/versions/miniconda3-4.7.12/envs/ccs_ta/lib/python3.7/site-packages/tables/path.py:155: NaturalNameWarning: object name is not a valid Python identifier: '1175267368'; it does not match the pattern ``^[a-zA-Z_][a-zA-Z0-9_]*$``; you will not be able to use natural naming to access this object; using ``getattr()`` will still work, though\n",
      "  check_attribute_name(name)\n",
      "/home/esmidth/.pyenv/versions/miniconda3-4.7.12/envs/ccs_ta/lib/python3.7/site-packages/tables/path.py:155: NaturalNameWarning: object name is not a valid Python identifier: '1175353768'; it does not match the pattern ``^[a-zA-Z_][a-zA-Z0-9_]*$``; you will not be able to use natural naming to access this object; using ``getattr()`` will still work, though\n",
      "  check_attribute_name(name)\n",
      "/home/esmidth/.pyenv/versions/miniconda3-4.7.12/envs/ccs_ta/lib/python3.7/site-packages/tables/path.py:155: NaturalNameWarning: object name is not a valid Python identifier: '1175440168'; it does not match the pattern ``^[a-zA-Z_][a-zA-Z0-9_]*$``; you will not be able to use natural naming to access this object; using ``getattr()`` will still work, though\n",
      "  check_attribute_name(name)\n",
      "/home/esmidth/.pyenv/versions/miniconda3-4.7.12/envs/ccs_ta/lib/python3.7/site-packages/tables/path.py:155: NaturalNameWarning: object name is not a valid Python identifier: '1175526568'; it does not match the pattern ``^[a-zA-Z_][a-zA-Z0-9_]*$``; you will not be able to use natural naming to access this object; using ``getattr()`` will still work, though\n",
      "  check_attribute_name(name)\n"
     ]
    },
    {
     "name": "stdout",
     "output_type": "stream",
     "text": [
      "1175353768 \t 2007-3-31:\t 0.06639552116394043 \n",
      "1175440168 \t 2007-4-1:\t 0.06758332252502441 \n",
      "1175526568 \t 2007-4-2:\t 0.0706026554107666 \n"
     ]
    },
    {
     "name": "stderr",
     "output_type": "stream",
     "text": [
      "/home/esmidth/.pyenv/versions/miniconda3-4.7.12/envs/ccs_ta/lib/python3.7/site-packages/tables/path.py:155: NaturalNameWarning: object name is not a valid Python identifier: '1175612968'; it does not match the pattern ``^[a-zA-Z_][a-zA-Z0-9_]*$``; you will not be able to use natural naming to access this object; using ``getattr()`` will still work, though\n",
      "  check_attribute_name(name)\n",
      "/home/esmidth/.pyenv/versions/miniconda3-4.7.12/envs/ccs_ta/lib/python3.7/site-packages/tables/path.py:155: NaturalNameWarning: object name is not a valid Python identifier: '1175699368'; it does not match the pattern ``^[a-zA-Z_][a-zA-Z0-9_]*$``; you will not be able to use natural naming to access this object; using ``getattr()`` will still work, though\n",
      "  check_attribute_name(name)\n",
      "/home/esmidth/.pyenv/versions/miniconda3-4.7.12/envs/ccs_ta/lib/python3.7/site-packages/tables/path.py:155: NaturalNameWarning: object name is not a valid Python identifier: '1175785768'; it does not match the pattern ``^[a-zA-Z_][a-zA-Z0-9_]*$``; you will not be able to use natural naming to access this object; using ``getattr()`` will still work, though\n",
      "  check_attribute_name(name)\n"
     ]
    },
    {
     "name": "stdout",
     "output_type": "stream",
     "text": [
      "1175612968 \t 2007-4-3:\t 0.07135987281799316 \n",
      "1175699368 \t 2007-4-4:\t 0.07052397727966309 \n",
      "1175785768 \t 2007-4-5:\t 0.0688636302947998 \n"
     ]
    },
    {
     "name": "stderr",
     "output_type": "stream",
     "text": [
      "/home/esmidth/.pyenv/versions/miniconda3-4.7.12/envs/ccs_ta/lib/python3.7/site-packages/tables/path.py:155: NaturalNameWarning: object name is not a valid Python identifier: '1175872168'; it does not match the pattern ``^[a-zA-Z_][a-zA-Z0-9_]*$``; you will not be able to use natural naming to access this object; using ``getattr()`` will still work, though\n",
      "  check_attribute_name(name)\n",
      "/home/esmidth/.pyenv/versions/miniconda3-4.7.12/envs/ccs_ta/lib/python3.7/site-packages/tables/path.py:155: NaturalNameWarning: object name is not a valid Python identifier: '1175958568'; it does not match the pattern ``^[a-zA-Z_][a-zA-Z0-9_]*$``; you will not be able to use natural naming to access this object; using ``getattr()`` will still work, though\n",
      "  check_attribute_name(name)\n",
      "/home/esmidth/.pyenv/versions/miniconda3-4.7.12/envs/ccs_ta/lib/python3.7/site-packages/tables/path.py:155: NaturalNameWarning: object name is not a valid Python identifier: '1176044968'; it does not match the pattern ``^[a-zA-Z_][a-zA-Z0-9_]*$``; you will not be able to use natural naming to access this object; using ``getattr()`` will still work, though\n",
      "  check_attribute_name(name)\n"
     ]
    },
    {
     "name": "stdout",
     "output_type": "stream",
     "text": [
      "1175872168 \t 2007-4-6:\t 0.06742620468139648 \n",
      "1175958568 \t 2007-4-7:\t 0.07092809677124023 \n",
      "1176044968 \t 2007-4-8:\t 0.06619501113891602 \n"
     ]
    },
    {
     "name": "stderr",
     "output_type": "stream",
     "text": [
      "/home/esmidth/.pyenv/versions/miniconda3-4.7.12/envs/ccs_ta/lib/python3.7/site-packages/tables/path.py:155: NaturalNameWarning: object name is not a valid Python identifier: '1176131368'; it does not match the pattern ``^[a-zA-Z_][a-zA-Z0-9_]*$``; you will not be able to use natural naming to access this object; using ``getattr()`` will still work, though\n",
      "  check_attribute_name(name)\n",
      "/home/esmidth/.pyenv/versions/miniconda3-4.7.12/envs/ccs_ta/lib/python3.7/site-packages/tables/path.py:155: NaturalNameWarning: object name is not a valid Python identifier: '1176217768'; it does not match the pattern ``^[a-zA-Z_][a-zA-Z0-9_]*$``; you will not be able to use natural naming to access this object; using ``getattr()`` will still work, though\n",
      "  check_attribute_name(name)\n",
      "/home/esmidth/.pyenv/versions/miniconda3-4.7.12/envs/ccs_ta/lib/python3.7/site-packages/tables/path.py:155: NaturalNameWarning: object name is not a valid Python identifier: '1176304168'; it does not match the pattern ``^[a-zA-Z_][a-zA-Z0-9_]*$``; you will not be able to use natural naming to access this object; using ``getattr()`` will still work, though\n",
      "  check_attribute_name(name)\n",
      "/home/esmidth/.pyenv/versions/miniconda3-4.7.12/envs/ccs_ta/lib/python3.7/site-packages/tables/path.py:155: NaturalNameWarning: object name is not a valid Python identifier: '1176390568'; it does not match the pattern ``^[a-zA-Z_][a-zA-Z0-9_]*$``; you will not be able to use natural naming to access this object; using ``getattr()`` will still work, though\n",
      "  check_attribute_name(name)\n"
     ]
    },
    {
     "name": "stdout",
     "output_type": "stream",
     "text": [
      "1176131368 \t 2007-4-9:\t 0.07010722160339355 \n",
      "1176217768 \t 2007-4-10:\t 0.06718134880065918 \n",
      "1176304168 \t 2007-4-11:\t 0.06872296333312988 \n",
      "1176390568 \t 2007-4-12:\t 0.06666827201843262 \n",
      "1176476968 \t 2007-4-13:\t 0.06849837303161621 \n",
      "1176563368 \t 2007-4-14:\t 0.06658744812011719 \n"
     ]
    },
    {
     "name": "stderr",
     "output_type": "stream",
     "text": [
      "/home/esmidth/.pyenv/versions/miniconda3-4.7.12/envs/ccs_ta/lib/python3.7/site-packages/tables/path.py:155: NaturalNameWarning: object name is not a valid Python identifier: '1176476968'; it does not match the pattern ``^[a-zA-Z_][a-zA-Z0-9_]*$``; you will not be able to use natural naming to access this object; using ``getattr()`` will still work, though\n",
      "  check_attribute_name(name)\n",
      "/home/esmidth/.pyenv/versions/miniconda3-4.7.12/envs/ccs_ta/lib/python3.7/site-packages/tables/path.py:155: NaturalNameWarning: object name is not a valid Python identifier: '1176563368'; it does not match the pattern ``^[a-zA-Z_][a-zA-Z0-9_]*$``; you will not be able to use natural naming to access this object; using ``getattr()`` will still work, though\n",
      "  check_attribute_name(name)\n",
      "/home/esmidth/.pyenv/versions/miniconda3-4.7.12/envs/ccs_ta/lib/python3.7/site-packages/tables/path.py:155: NaturalNameWarning: object name is not a valid Python identifier: '1176649768'; it does not match the pattern ``^[a-zA-Z_][a-zA-Z0-9_]*$``; you will not be able to use natural naming to access this object; using ``getattr()`` will still work, though\n",
      "  check_attribute_name(name)\n",
      "/home/esmidth/.pyenv/versions/miniconda3-4.7.12/envs/ccs_ta/lib/python3.7/site-packages/tables/path.py:155: NaturalNameWarning: object name is not a valid Python identifier: '1176736168'; it does not match the pattern ``^[a-zA-Z_][a-zA-Z0-9_]*$``; you will not be able to use natural naming to access this object; using ``getattr()`` will still work, though\n",
      "  check_attribute_name(name)\n"
     ]
    },
    {
     "name": "stdout",
     "output_type": "stream",
     "text": [
      "1176649768 \t 2007-4-15:\t 0.06996750831604004 \n",
      "1176736168 \t 2007-4-16:\t 0.06585144996643066 \n",
      "1176822568 \t 2007-4-17:\t 0.06814718246459961 \n"
     ]
    },
    {
     "name": "stderr",
     "output_type": "stream",
     "text": [
      "/home/esmidth/.pyenv/versions/miniconda3-4.7.12/envs/ccs_ta/lib/python3.7/site-packages/tables/path.py:155: NaturalNameWarning: object name is not a valid Python identifier: '1176822568'; it does not match the pattern ``^[a-zA-Z_][a-zA-Z0-9_]*$``; you will not be able to use natural naming to access this object; using ``getattr()`` will still work, though\n",
      "  check_attribute_name(name)\n",
      "/home/esmidth/.pyenv/versions/miniconda3-4.7.12/envs/ccs_ta/lib/python3.7/site-packages/tables/path.py:155: NaturalNameWarning: object name is not a valid Python identifier: '1176908968'; it does not match the pattern ``^[a-zA-Z_][a-zA-Z0-9_]*$``; you will not be able to use natural naming to access this object; using ``getattr()`` will still work, though\n",
      "  check_attribute_name(name)\n",
      "/home/esmidth/.pyenv/versions/miniconda3-4.7.12/envs/ccs_ta/lib/python3.7/site-packages/tables/path.py:155: NaturalNameWarning: object name is not a valid Python identifier: '1176995368'; it does not match the pattern ``^[a-zA-Z_][a-zA-Z0-9_]*$``; you will not be able to use natural naming to access this object; using ``getattr()`` will still work, though\n",
      "  check_attribute_name(name)\n"
     ]
    },
    {
     "name": "stdout",
     "output_type": "stream",
     "text": [
      "1176908968 \t 2007-4-18:\t 0.07221102714538574 \n",
      "1176995368 \t 2007-4-19:\t 0.06555366516113281 \n",
      "1177081768 \t 2007-4-20:\t 0.06892991065979004 \n",
      "1177168168 \t 2007-4-21:\t 0.06517529487609863 \n"
     ]
    },
    {
     "name": "stderr",
     "output_type": "stream",
     "text": [
      "/home/esmidth/.pyenv/versions/miniconda3-4.7.12/envs/ccs_ta/lib/python3.7/site-packages/tables/path.py:155: NaturalNameWarning: object name is not a valid Python identifier: '1177081768'; it does not match the pattern ``^[a-zA-Z_][a-zA-Z0-9_]*$``; you will not be able to use natural naming to access this object; using ``getattr()`` will still work, though\n",
      "  check_attribute_name(name)\n",
      "/home/esmidth/.pyenv/versions/miniconda3-4.7.12/envs/ccs_ta/lib/python3.7/site-packages/tables/path.py:155: NaturalNameWarning: object name is not a valid Python identifier: '1177168168'; it does not match the pattern ``^[a-zA-Z_][a-zA-Z0-9_]*$``; you will not be able to use natural naming to access this object; using ``getattr()`` will still work, though\n",
      "  check_attribute_name(name)\n",
      "/home/esmidth/.pyenv/versions/miniconda3-4.7.12/envs/ccs_ta/lib/python3.7/site-packages/tables/path.py:155: NaturalNameWarning: object name is not a valid Python identifier: '1177254568'; it does not match the pattern ``^[a-zA-Z_][a-zA-Z0-9_]*$``; you will not be able to use natural naming to access this object; using ``getattr()`` will still work, though\n",
      "  check_attribute_name(name)\n",
      "/home/esmidth/.pyenv/versions/miniconda3-4.7.12/envs/ccs_ta/lib/python3.7/site-packages/tables/path.py:155: NaturalNameWarning: object name is not a valid Python identifier: '1177340968'; it does not match the pattern ``^[a-zA-Z_][a-zA-Z0-9_]*$``; you will not be able to use natural naming to access this object; using ``getattr()`` will still work, though\n",
      "  check_attribute_name(name)\n"
     ]
    },
    {
     "name": "stdout",
     "output_type": "stream",
     "text": [
      "1177254568 \t 2007-4-22:\t 0.07083439826965332 \n",
      "1177340968 \t 2007-4-23:\t 0.06810498237609863 \n",
      "1177427368 \t 2007-4-24:\t 0.06996488571166992 \n"
     ]
    },
    {
     "name": "stderr",
     "output_type": "stream",
     "text": [
      "/home/esmidth/.pyenv/versions/miniconda3-4.7.12/envs/ccs_ta/lib/python3.7/site-packages/tables/path.py:155: NaturalNameWarning: object name is not a valid Python identifier: '1177427368'; it does not match the pattern ``^[a-zA-Z_][a-zA-Z0-9_]*$``; you will not be able to use natural naming to access this object; using ``getattr()`` will still work, though\n",
      "  check_attribute_name(name)\n",
      "/home/esmidth/.pyenv/versions/miniconda3-4.7.12/envs/ccs_ta/lib/python3.7/site-packages/tables/path.py:155: NaturalNameWarning: object name is not a valid Python identifier: '1177513768'; it does not match the pattern ``^[a-zA-Z_][a-zA-Z0-9_]*$``; you will not be able to use natural naming to access this object; using ``getattr()`` will still work, though\n",
      "  check_attribute_name(name)\n",
      "/home/esmidth/.pyenv/versions/miniconda3-4.7.12/envs/ccs_ta/lib/python3.7/site-packages/tables/path.py:155: NaturalNameWarning: object name is not a valid Python identifier: '1177600168'; it does not match the pattern ``^[a-zA-Z_][a-zA-Z0-9_]*$``; you will not be able to use natural naming to access this object; using ``getattr()`` will still work, though\n",
      "  check_attribute_name(name)\n",
      "/home/esmidth/.pyenv/versions/miniconda3-4.7.12/envs/ccs_ta/lib/python3.7/site-packages/tables/path.py:155: NaturalNameWarning: object name is not a valid Python identifier: '1177686568'; it does not match the pattern ``^[a-zA-Z_][a-zA-Z0-9_]*$``; you will not be able to use natural naming to access this object; using ``getattr()`` will still work, though\n",
      "  check_attribute_name(name)\n"
     ]
    },
    {
     "name": "stdout",
     "output_type": "stream",
     "text": [
      "1177513768 \t 2007-4-25:\t 0.0657346248626709 \n",
      "1177600168 \t 2007-4-26:\t 0.06955766677856445 \n",
      "1177686568 \t 2007-4-27:\t 0.05639171600341797 \n",
      "1177772968 \t 2007-4-28:\t 0.049860239028930664 \n"
     ]
    },
    {
     "name": "stderr",
     "output_type": "stream",
     "text": [
      "/home/esmidth/.pyenv/versions/miniconda3-4.7.12/envs/ccs_ta/lib/python3.7/site-packages/tables/path.py:155: NaturalNameWarning: object name is not a valid Python identifier: '1177772968'; it does not match the pattern ``^[a-zA-Z_][a-zA-Z0-9_]*$``; you will not be able to use natural naming to access this object; using ``getattr()`` will still work, though\n",
      "  check_attribute_name(name)\n",
      "/home/esmidth/.pyenv/versions/miniconda3-4.7.12/envs/ccs_ta/lib/python3.7/site-packages/tables/path.py:155: NaturalNameWarning: object name is not a valid Python identifier: '1177859368'; it does not match the pattern ``^[a-zA-Z_][a-zA-Z0-9_]*$``; you will not be able to use natural naming to access this object; using ``getattr()`` will still work, though\n",
      "  check_attribute_name(name)\n",
      "/home/esmidth/.pyenv/versions/miniconda3-4.7.12/envs/ccs_ta/lib/python3.7/site-packages/tables/path.py:155: NaturalNameWarning: object name is not a valid Python identifier: '1177945768'; it does not match the pattern ``^[a-zA-Z_][a-zA-Z0-9_]*$``; you will not be able to use natural naming to access this object; using ``getattr()`` will still work, though\n",
      "  check_attribute_name(name)\n",
      "/home/esmidth/.pyenv/versions/miniconda3-4.7.12/envs/ccs_ta/lib/python3.7/site-packages/tables/path.py:155: NaturalNameWarning: object name is not a valid Python identifier: '1178032168'; it does not match the pattern ``^[a-zA-Z_][a-zA-Z0-9_]*$``; you will not be able to use natural naming to access this object; using ``getattr()`` will still work, though\n",
      "  check_attribute_name(name)\n"
     ]
    },
    {
     "name": "stdout",
     "output_type": "stream",
     "text": [
      "1177859368 \t 2007-4-29:\t 0.05362963676452637 \n",
      "1177945768 \t 2007-4-30:\t 0.06284332275390625 \n",
      "1178032168 \t 2007-5-1:\t 0.06502127647399902 \n",
      "1178118568 \t 2007-5-2:\t 0.07115006446838379 \n"
     ]
    },
    {
     "name": "stderr",
     "output_type": "stream",
     "text": [
      "/home/esmidth/.pyenv/versions/miniconda3-4.7.12/envs/ccs_ta/lib/python3.7/site-packages/tables/path.py:155: NaturalNameWarning: object name is not a valid Python identifier: '1178118568'; it does not match the pattern ``^[a-zA-Z_][a-zA-Z0-9_]*$``; you will not be able to use natural naming to access this object; using ``getattr()`` will still work, though\n",
      "  check_attribute_name(name)\n",
      "/home/esmidth/.pyenv/versions/miniconda3-4.7.12/envs/ccs_ta/lib/python3.7/site-packages/tables/path.py:155: NaturalNameWarning: object name is not a valid Python identifier: '1178204968'; it does not match the pattern ``^[a-zA-Z_][a-zA-Z0-9_]*$``; you will not be able to use natural naming to access this object; using ``getattr()`` will still work, though\n",
      "  check_attribute_name(name)\n",
      "/home/esmidth/.pyenv/versions/miniconda3-4.7.12/envs/ccs_ta/lib/python3.7/site-packages/tables/path.py:155: NaturalNameWarning: object name is not a valid Python identifier: '1178291368'; it does not match the pattern ``^[a-zA-Z_][a-zA-Z0-9_]*$``; you will not be able to use natural naming to access this object; using ``getattr()`` will still work, though\n",
      "  check_attribute_name(name)\n",
      "/home/esmidth/.pyenv/versions/miniconda3-4.7.12/envs/ccs_ta/lib/python3.7/site-packages/tables/path.py:155: NaturalNameWarning: object name is not a valid Python identifier: '1178377768'; it does not match the pattern ``^[a-zA-Z_][a-zA-Z0-9_]*$``; you will not be able to use natural naming to access this object; using ``getattr()`` will still work, though\n",
      "  check_attribute_name(name)\n"
     ]
    },
    {
     "name": "stdout",
     "output_type": "stream",
     "text": [
      "1178204968 \t 2007-5-3:\t 0.06469297409057617 \n",
      "1178291368 \t 2007-5-4:\t 0.06760716438293457 \n",
      "1178377768 \t 2007-5-5:\t 0.06466317176818848 \n"
     ]
    },
    {
     "name": "stderr",
     "output_type": "stream",
     "text": [
      "/home/esmidth/.pyenv/versions/miniconda3-4.7.12/envs/ccs_ta/lib/python3.7/site-packages/tables/path.py:155: NaturalNameWarning: object name is not a valid Python identifier: '1178464168'; it does not match the pattern ``^[a-zA-Z_][a-zA-Z0-9_]*$``; you will not be able to use natural naming to access this object; using ``getattr()`` will still work, though\n",
      "  check_attribute_name(name)\n",
      "/home/esmidth/.pyenv/versions/miniconda3-4.7.12/envs/ccs_ta/lib/python3.7/site-packages/tables/path.py:155: NaturalNameWarning: object name is not a valid Python identifier: '1178550568'; it does not match the pattern ``^[a-zA-Z_][a-zA-Z0-9_]*$``; you will not be able to use natural naming to access this object; using ``getattr()`` will still work, though\n",
      "  check_attribute_name(name)\n",
      "/home/esmidth/.pyenv/versions/miniconda3-4.7.12/envs/ccs_ta/lib/python3.7/site-packages/tables/path.py:155: NaturalNameWarning: object name is not a valid Python identifier: '1178636968'; it does not match the pattern ``^[a-zA-Z_][a-zA-Z0-9_]*$``; you will not be able to use natural naming to access this object; using ``getattr()`` will still work, though\n",
      "  check_attribute_name(name)\n",
      "/home/esmidth/.pyenv/versions/miniconda3-4.7.12/envs/ccs_ta/lib/python3.7/site-packages/tables/path.py:155: NaturalNameWarning: object name is not a valid Python identifier: '1178723368'; it does not match the pattern ``^[a-zA-Z_][a-zA-Z0-9_]*$``; you will not be able to use natural naming to access this object; using ``getattr()`` will still work, though\n",
      "  check_attribute_name(name)\n"
     ]
    },
    {
     "name": "stdout",
     "output_type": "stream",
     "text": [
      "1178464168 \t 2007-5-6:\t 0.0695805549621582 \n",
      "1178550568 \t 2007-5-7:\t 0.06734013557434082 \n",
      "1178636968 \t 2007-5-8:\t 0.06847119331359863 \n",
      "1178723368 \t 2007-5-9:\t 0.05321860313415527 \n",
      "1178809768 \t 2007-5-10:\t 0.04945707321166992 \n"
     ]
    },
    {
     "name": "stderr",
     "output_type": "stream",
     "text": [
      "/home/esmidth/.pyenv/versions/miniconda3-4.7.12/envs/ccs_ta/lib/python3.7/site-packages/tables/path.py:155: NaturalNameWarning: object name is not a valid Python identifier: '1178809768'; it does not match the pattern ``^[a-zA-Z_][a-zA-Z0-9_]*$``; you will not be able to use natural naming to access this object; using ``getattr()`` will still work, though\n",
      "  check_attribute_name(name)\n"
     ]
    }
   ],
   "source": [
    "# 3-1\n",
    "#day_second\n",
    "output_list =[]\n",
    "day_second = 86400\n",
    "week_second = 7*day_second\n",
    "start_list = np.arange(1162393768,1178747998+day_second,day_second)\n",
    "epoch_length = 1800\n",
    "for start_point in start_list:\n",
    "    start_time = time.time()\n",
    "    sub_df = df[(df[unix_column] > start_point) & (df[unix_column] < start_point + day_second)]\n",
    "    sub_df.to_hdf('day2_sa.h5',key=str(start_point),mode='a')\n",
    "    now = time.gmtime(start_point)\n",
    "    print(\"{0} \\t {1}-{2}-{3}:\\t {4} \".format(start_point,now.tm_year,now.tm_mon,now.tm_mday,time.time()-start_time))"
   ]
  },
  {
   "cell_type": "code",
   "execution_count": 4,
   "metadata": {},
   "outputs": [],
   "source": [
    "del df"
   ]
  }
 ],
 "metadata": {
  "file_extension": ".py",
  "kernelspec": {
   "display_name": "Python 3",
   "language": "python",
   "name": "python3"
  },
  "language_info": {
   "codemirror_mode": {
    "name": "ipython",
    "version": 3
   },
   "file_extension": ".py",
   "mimetype": "text/x-python",
   "name": "python",
   "nbconvert_exporter": "python",
   "pygments_lexer": "ipython3",
   "version": "3.7.9-final"
  },
  "mimetype": "text/x-python",
  "name": "python",
  "npconvert_exporter": "python",
  "pygments_lexer": "ipython3",
  "version": 3
 },
 "nbformat": 4,
 "nbformat_minor": 2
}